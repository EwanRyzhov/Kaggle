{
 "cells": [
  {
   "cell_type": "markdown",
   "id": "158289d8",
   "metadata": {},
   "source": [
    "# Матчинг товаров с помощью библиотеки FAISS"
   ]
  },
  {
   "cell_type": "markdown",
   "id": "cc88f59a",
   "metadata": {},
   "source": [
    "Матчинг — это процесс поиска и сопоставления объектов внутри датасета (т. е. поиска match'ей). Он позволяет решать различные задачи — например, сворачивать одинаковые предложения в одну карточку товара на маркетплесах, строить систему рекомендаций и др.\n",
    "\n",
    "В данном проекте мы будем искать матчи для товаров из запроса среди товаров, уже имеющихся в базе. В нашем распоряжении имеются следующие данные:\n",
    "\n",
    "- `base.csv` — векторное представление товаров;\n",
    "- `train.csv` — обучающая выборка: векторное представление товаров из запроса (query) и таргет, указывающий какой товар их базы является матчем;\n",
    "- `test.csv` — тестовая выборка: векторное представление товаров из запроса, для которых нужно найти матч в base.\n",
    "\n",
    "\n",
    "Для решения задачи матчинга мы применим векторный поиск с помощью библиотеки FAISS. FAISS — Facebook AI Research Similarity Search – это разработка команды Facebook AI Research для быстрого поиска ближайших соседей и кластеризации в векторном пространстве."
   ]
  },
  {
   "cell_type": "markdown",
   "id": "94762ce5",
   "metadata": {},
   "source": [
    "### Импорт библиотек"
   ]
  },
  {
   "cell_type": "code",
   "execution_count": 1,
   "id": "f74301fa",
   "metadata": {},
   "outputs": [],
   "source": [
    "import pandas as pd\n",
    "import numpy as np\n",
    "import matplotlib.pyplot as plt\n",
    "import seaborn as sns\n",
    "import faiss\n",
    "\n",
    "\n",
    "from sklearn.preprocessing import StandardScaler\n",
    "from faiss import normalize_L2\n",
    "from catboost import CatBoostClassifier\n",
    "\n",
    "from tqdm import tqdm\n",
    "import gc\n",
    "\n",
    "import warnings\n",
    "warnings.filterwarnings(\"ignore\")\n",
    "\n",
    "plt.style.use('ggplot') # устанавливаем стиль графиков\n",
    "plt.rcParams[\"figure.figsize\"] = (20,20)"
   ]
  },
  {
   "cell_type": "markdown",
   "id": "eb41d03f",
   "metadata": {},
   "source": [
    "## Загрузка и обзор данных"
   ]
  },
  {
   "cell_type": "markdown",
   "id": "54fd4349",
   "metadata": {},
   "source": [
    "### Загрузка"
   ]
  },
  {
   "cell_type": "code",
   "execution_count": 2,
   "id": "55907e61",
   "metadata": {},
   "outputs": [],
   "source": [
    "base = pd.read_csv('base.csv')\n",
    "train = pd.read_csv('train.csv')\n",
    "test = pd.read_csv('test.csv')"
   ]
  },
  {
   "cell_type": "markdown",
   "id": "561f6107",
   "metadata": {},
   "source": [
    "Первым делом рассмотрим объемный датасет с информацией (в векторном виде) обо всех товарах."
   ]
  },
  {
   "cell_type": "code",
   "execution_count": 3,
   "id": "59505919",
   "metadata": {
    "scrolled": true
   },
   "outputs": [
    {
     "name": "stdout",
     "output_type": "stream",
     "text": [
      "<class 'pandas.core.frame.DataFrame'>\n",
      "RangeIndex: 2918139 entries, 0 to 2918138\n",
      "Data columns (total 73 columns):\n",
      " #   Column  Dtype  \n",
      "---  ------  -----  \n",
      " 0   Id      object \n",
      " 1   0       float64\n",
      " 2   1       float64\n",
      " 3   2       float64\n",
      " 4   3       float64\n",
      " 5   4       float64\n",
      " 6   5       float64\n",
      " 7   6       float64\n",
      " 8   7       float64\n",
      " 9   8       float64\n",
      " 10  9       float64\n",
      " 11  10      float64\n",
      " 12  11      float64\n",
      " 13  12      float64\n",
      " 14  13      float64\n",
      " 15  14      float64\n",
      " 16  15      float64\n",
      " 17  16      float64\n",
      " 18  17      float64\n",
      " 19  18      float64\n",
      " 20  19      float64\n",
      " 21  20      float64\n",
      " 22  21      float64\n",
      " 23  22      float64\n",
      " 24  23      float64\n",
      " 25  24      float64\n",
      " 26  25      float64\n",
      " 27  26      float64\n",
      " 28  27      float64\n",
      " 29  28      float64\n",
      " 30  29      float64\n",
      " 31  30      float64\n",
      " 32  31      float64\n",
      " 33  32      float64\n",
      " 34  33      float64\n",
      " 35  34      float64\n",
      " 36  35      float64\n",
      " 37  36      float64\n",
      " 38  37      float64\n",
      " 39  38      float64\n",
      " 40  39      float64\n",
      " 41  40      float64\n",
      " 42  41      float64\n",
      " 43  42      float64\n",
      " 44  43      float64\n",
      " 45  44      float64\n",
      " 46  45      float64\n",
      " 47  46      float64\n",
      " 48  47      float64\n",
      " 49  48      float64\n",
      " 50  49      float64\n",
      " 51  50      float64\n",
      " 52  51      float64\n",
      " 53  52      float64\n",
      " 54  53      float64\n",
      " 55  54      float64\n",
      " 56  55      float64\n",
      " 57  56      float64\n",
      " 58  57      float64\n",
      " 59  58      float64\n",
      " 60  59      float64\n",
      " 61  60      float64\n",
      " 62  61      float64\n",
      " 63  62      float64\n",
      " 64  63      float64\n",
      " 65  64      float64\n",
      " 66  65      float64\n",
      " 67  66      float64\n",
      " 68  67      float64\n",
      " 69  68      float64\n",
      " 70  69      float64\n",
      " 71  70      float64\n",
      " 72  71      float64\n",
      "dtypes: float64(72), object(1)\n",
      "memory usage: 1.6+ GB\n"
     ]
    }
   ],
   "source": [
    "base.info()"
   ]
  },
  {
   "cell_type": "code",
   "execution_count": 4,
   "id": "c20b5298",
   "metadata": {},
   "outputs": [
    {
     "data": {
      "image/png": "[encoded data removed]",
      "text/plain": [
       "<Figure size 1440x1440 with 72 Axes>"
      ]
     },
     "metadata": {},
     "output_type": "display_data"
    }
   ],
   "source": [
    "base.hist(bins=100);"
   ]
  },
  {
   "cell_type": "code",
   "execution_count": 5,
   "id": "4417fc49",
   "metadata": {},
   "outputs": [
    {
     "data": {
      "text/plain": [
       "(2918139, 73)"
      ]
     },
     "execution_count": 5,
     "metadata": {},
     "output_type": "execute_result"
    }
   ],
   "source": [
    "base.shape"
   ]
  },
  {
   "cell_type": "markdown",
   "id": "7e132532",
   "metadata": {},
   "source": [
    "И так, в нашем распоряжении данные о почти 3 млн товарах. Товары \"размещены\" в 72 мерном пространстве — первый признак представляет собой `Id` товара. Все векторные признаки имеют тип данных `float64`, и в настоящий момент датасет потребляет 1.6 Гб памяти."
   ]
  },
  {
   "cell_type": "markdown",
   "id": "b36c0c67",
   "metadata": {},
   "source": [
    "На графике распределения признаков видно:  \n",
    "- есть признаки, которые распределены нормально и которые распределены ненормально;\n",
    "- средние значения и отклонения у нормально распределённых признаков разные (необходима нормализация);\n",
    "- средние значения у ненормально распределённых признаков также отличаются => возможно, тоже стоит использовать StandardScaler;\n",
    "- у некоторых ненормально распределённых признаков есть значения, встречающиеся чаще других."
   ]
  },
  {
   "cell_type": "code",
   "execution_count": 6,
   "id": "6316dfac",
   "metadata": {},
   "outputs": [
    {
     "data": {
      "text/html": [
       "<div>\n",
       "<style scoped>\n",
       "    .dataframe tbody tr th:only-of-type {\n",
       "        vertical-align: middle;\n",
       "    }\n",
       "\n",
       "    .dataframe tbody tr th {\n",
       "        vertical-align: top;\n",
       "    }\n",
       "\n",
       "    .dataframe thead th {\n",
       "        text-align: right;\n",
       "    }\n",
       "</style>\n",
       "<table border=\"1\" class=\"dataframe\">\n",
       "  <thead>\n",
       "    <tr style=\"text-align: right;\">\n",
       "      <th></th>\n",
       "      <th>Id</th>\n",
       "      <th>0</th>\n",
       "      <th>1</th>\n",
       "      <th>2</th>\n",
       "      <th>3</th>\n",
       "      <th>4</th>\n",
       "      <th>5</th>\n",
       "      <th>6</th>\n",
       "      <th>7</th>\n",
       "      <th>8</th>\n",
       "      <th>...</th>\n",
       "      <th>62</th>\n",
       "      <th>63</th>\n",
       "      <th>64</th>\n",
       "      <th>65</th>\n",
       "      <th>66</th>\n",
       "      <th>67</th>\n",
       "      <th>68</th>\n",
       "      <th>69</th>\n",
       "      <th>70</th>\n",
       "      <th>71</th>\n",
       "    </tr>\n",
       "  </thead>\n",
       "  <tbody>\n",
       "    <tr>\n",
       "      <th>0</th>\n",
       "      <td>0-base</td>\n",
       "      <td>-115.083890</td>\n",
       "      <td>11.152912</td>\n",
       "      <td>-64.426760</td>\n",
       "      <td>-118.88089</td>\n",
       "      <td>216.482440</td>\n",
       "      <td>-104.698060</td>\n",
       "      <td>-469.070588</td>\n",
       "      <td>44.348083</td>\n",
       "      <td>120.915344</td>\n",
       "      <td>...</td>\n",
       "      <td>-42.808693</td>\n",
       "      <td>38.800827</td>\n",
       "      <td>-151.76218</td>\n",
       "      <td>-74.389090</td>\n",
       "      <td>63.66634</td>\n",
       "      <td>-4.703861</td>\n",
       "      <td>92.933610</td>\n",
       "      <td>115.269190</td>\n",
       "      <td>-112.756640</td>\n",
       "      <td>-60.830353</td>\n",
       "    </tr>\n",
       "    <tr>\n",
       "      <th>1</th>\n",
       "      <td>1-base</td>\n",
       "      <td>-34.562202</td>\n",
       "      <td>13.332763</td>\n",
       "      <td>-69.787610</td>\n",
       "      <td>-166.53348</td>\n",
       "      <td>57.680607</td>\n",
       "      <td>-86.098370</td>\n",
       "      <td>-85.076666</td>\n",
       "      <td>-35.637436</td>\n",
       "      <td>119.718636</td>\n",
       "      <td>...</td>\n",
       "      <td>-117.767525</td>\n",
       "      <td>41.100000</td>\n",
       "      <td>-157.82940</td>\n",
       "      <td>-94.446806</td>\n",
       "      <td>68.20211</td>\n",
       "      <td>24.346846</td>\n",
       "      <td>179.937930</td>\n",
       "      <td>116.834000</td>\n",
       "      <td>-84.888941</td>\n",
       "      <td>-59.524610</td>\n",
       "    </tr>\n",
       "    <tr>\n",
       "      <th>2</th>\n",
       "      <td>2-base</td>\n",
       "      <td>-54.233746</td>\n",
       "      <td>6.379371</td>\n",
       "      <td>-29.210136</td>\n",
       "      <td>-133.41383</td>\n",
       "      <td>150.895830</td>\n",
       "      <td>-99.435326</td>\n",
       "      <td>52.554795</td>\n",
       "      <td>62.381706</td>\n",
       "      <td>128.951450</td>\n",
       "      <td>...</td>\n",
       "      <td>-76.397800</td>\n",
       "      <td>46.011803</td>\n",
       "      <td>-207.14442</td>\n",
       "      <td>127.325570</td>\n",
       "      <td>65.56618</td>\n",
       "      <td>66.325680</td>\n",
       "      <td>81.073490</td>\n",
       "      <td>116.594154</td>\n",
       "      <td>-1074.464888</td>\n",
       "      <td>-32.527206</td>\n",
       "    </tr>\n",
       "    <tr>\n",
       "      <th>3</th>\n",
       "      <td>3-base</td>\n",
       "      <td>-87.520130</td>\n",
       "      <td>4.037884</td>\n",
       "      <td>-87.803030</td>\n",
       "      <td>-185.06763</td>\n",
       "      <td>76.369540</td>\n",
       "      <td>-58.985165</td>\n",
       "      <td>-383.182845</td>\n",
       "      <td>-33.611237</td>\n",
       "      <td>122.031910</td>\n",
       "      <td>...</td>\n",
       "      <td>-70.647940</td>\n",
       "      <td>-6.358921</td>\n",
       "      <td>-147.20105</td>\n",
       "      <td>-37.692750</td>\n",
       "      <td>66.20289</td>\n",
       "      <td>-20.566910</td>\n",
       "      <td>137.206940</td>\n",
       "      <td>117.474100</td>\n",
       "      <td>-1074.464888</td>\n",
       "      <td>-72.915490</td>\n",
       "    </tr>\n",
       "    <tr>\n",
       "      <th>4</th>\n",
       "      <td>4-base</td>\n",
       "      <td>-72.743850</td>\n",
       "      <td>6.522049</td>\n",
       "      <td>43.671265</td>\n",
       "      <td>-140.60803</td>\n",
       "      <td>5.820023</td>\n",
       "      <td>-112.074080</td>\n",
       "      <td>-397.711282</td>\n",
       "      <td>45.182500</td>\n",
       "      <td>122.167180</td>\n",
       "      <td>...</td>\n",
       "      <td>-57.199104</td>\n",
       "      <td>56.642403</td>\n",
       "      <td>-159.35184</td>\n",
       "      <td>85.944724</td>\n",
       "      <td>66.76632</td>\n",
       "      <td>-2.505783</td>\n",
       "      <td>65.315285</td>\n",
       "      <td>135.051590</td>\n",
       "      <td>-1074.464888</td>\n",
       "      <td>0.319401</td>\n",
       "    </tr>\n",
       "  </tbody>\n",
       "</table>\n",
       "<p>5 rows × 73 columns</p>\n",
       "</div>"
      ],
      "text/plain": [
       "       Id           0          1          2          3           4  \\\n",
       "0  0-base -115.083890  11.152912 -64.426760 -118.88089  216.482440   \n",
       "1  1-base  -34.562202  13.332763 -69.787610 -166.53348   57.680607   \n",
       "2  2-base  -54.233746   6.379371 -29.210136 -133.41383  150.895830   \n",
       "3  3-base  -87.520130   4.037884 -87.803030 -185.06763   76.369540   \n",
       "4  4-base  -72.743850   6.522049  43.671265 -140.60803    5.820023   \n",
       "\n",
       "            5           6          7           8  ...          62         63  \\\n",
       "0 -104.698060 -469.070588  44.348083  120.915344  ...  -42.808693  38.800827   \n",
       "1  -86.098370  -85.076666 -35.637436  119.718636  ... -117.767525  41.100000   \n",
       "2  -99.435326   52.554795  62.381706  128.951450  ...  -76.397800  46.011803   \n",
       "3  -58.985165 -383.182845 -33.611237  122.031910  ...  -70.647940  -6.358921   \n",
       "4 -112.074080 -397.711282  45.182500  122.167180  ...  -57.199104  56.642403   \n",
       "\n",
       "          64          65        66         67          68          69  \\\n",
       "0 -151.76218  -74.389090  63.66634  -4.703861   92.933610  115.269190   \n",
       "1 -157.82940  -94.446806  68.20211  24.346846  179.937930  116.834000   \n",
       "2 -207.14442  127.325570  65.56618  66.325680   81.073490  116.594154   \n",
       "3 -147.20105  -37.692750  66.20289 -20.566910  137.206940  117.474100   \n",
       "4 -159.35184   85.944724  66.76632  -2.505783   65.315285  135.051590   \n",
       "\n",
       "            70         71  \n",
       "0  -112.756640 -60.830353  \n",
       "1   -84.888941 -59.524610  \n",
       "2 -1074.464888 -32.527206  \n",
       "3 -1074.464888 -72.915490  \n",
       "4 -1074.464888   0.319401  \n",
       "\n",
       "[5 rows x 73 columns]"
      ]
     },
     "execution_count": 6,
     "metadata": {},
     "output_type": "execute_result"
    }
   ],
   "source": [
    "base.head()"
   ]
  },
  {
   "cell_type": "code",
   "execution_count": 7,
   "id": "aa95d2d3",
   "metadata": {},
   "outputs": [
    {
     "data": {
      "text/html": [
       "<div>\n",
       "<style scoped>\n",
       "    .dataframe tbody tr th:only-of-type {\n",
       "        vertical-align: middle;\n",
       "    }\n",
       "\n",
       "    .dataframe tbody tr th {\n",
       "        vertical-align: top;\n",
       "    }\n",
       "\n",
       "    .dataframe thead th {\n",
       "        text-align: right;\n",
       "    }\n",
       "</style>\n",
       "<table border=\"1\" class=\"dataframe\">\n",
       "  <thead>\n",
       "    <tr style=\"text-align: right;\">\n",
       "      <th></th>\n",
       "      <th>Id</th>\n",
       "      <th>0</th>\n",
       "      <th>1</th>\n",
       "      <th>2</th>\n",
       "      <th>3</th>\n",
       "      <th>4</th>\n",
       "      <th>5</th>\n",
       "      <th>6</th>\n",
       "      <th>7</th>\n",
       "      <th>8</th>\n",
       "      <th>...</th>\n",
       "      <th>62</th>\n",
       "      <th>63</th>\n",
       "      <th>64</th>\n",
       "      <th>65</th>\n",
       "      <th>66</th>\n",
       "      <th>67</th>\n",
       "      <th>68</th>\n",
       "      <th>69</th>\n",
       "      <th>70</th>\n",
       "      <th>71</th>\n",
       "    </tr>\n",
       "  </thead>\n",
       "  <tbody>\n",
       "    <tr>\n",
       "      <th>2800712</th>\n",
       "      <td>4480175-base</td>\n",
       "      <td>-83.905320</td>\n",
       "      <td>-7.224893</td>\n",
       "      <td>-19.648012</td>\n",
       "      <td>-132.98322</td>\n",
       "      <td>58.289580</td>\n",
       "      <td>-29.693604</td>\n",
       "      <td>-390.349910</td>\n",
       "      <td>59.334120</td>\n",
       "      <td>121.539246</td>\n",
       "      <td>...</td>\n",
       "      <td>-63.074790</td>\n",
       "      <td>53.565674</td>\n",
       "      <td>-139.95525</td>\n",
       "      <td>-0.296099</td>\n",
       "      <td>71.006996</td>\n",
       "      <td>-15.498171</td>\n",
       "      <td>36.405876</td>\n",
       "      <td>87.75858</td>\n",
       "      <td>-424.749461</td>\n",
       "      <td>-77.253180</td>\n",
       "    </tr>\n",
       "    <tr>\n",
       "      <th>1893021</th>\n",
       "      <td>2649267-base</td>\n",
       "      <td>-85.270730</td>\n",
       "      <td>8.912687</td>\n",
       "      <td>-41.225410</td>\n",
       "      <td>-129.55391</td>\n",
       "      <td>26.064468</td>\n",
       "      <td>-91.007780</td>\n",
       "      <td>-164.634559</td>\n",
       "      <td>27.182236</td>\n",
       "      <td>125.416630</td>\n",
       "      <td>...</td>\n",
       "      <td>-69.010060</td>\n",
       "      <td>24.680843</td>\n",
       "      <td>-186.42297</td>\n",
       "      <td>-75.379067</td>\n",
       "      <td>66.412800</td>\n",
       "      <td>75.985460</td>\n",
       "      <td>6.105866</td>\n",
       "      <td>121.42791</td>\n",
       "      <td>-235.918280</td>\n",
       "      <td>-91.243240</td>\n",
       "    </tr>\n",
       "    <tr>\n",
       "      <th>194232</th>\n",
       "      <td>202571-base</td>\n",
       "      <td>-78.556990</td>\n",
       "      <td>1.843463</td>\n",
       "      <td>-52.975636</td>\n",
       "      <td>-125.17652</td>\n",
       "      <td>176.810290</td>\n",
       "      <td>-32.497460</td>\n",
       "      <td>-275.285665</td>\n",
       "      <td>-13.718817</td>\n",
       "      <td>125.982350</td>\n",
       "      <td>...</td>\n",
       "      <td>-19.821045</td>\n",
       "      <td>50.977592</td>\n",
       "      <td>-135.23440</td>\n",
       "      <td>-43.222156</td>\n",
       "      <td>66.553910</td>\n",
       "      <td>32.507244</td>\n",
       "      <td>71.613090</td>\n",
       "      <td>107.00803</td>\n",
       "      <td>-861.984518</td>\n",
       "      <td>-1.730206</td>\n",
       "    </tr>\n",
       "    <tr>\n",
       "      <th>282603</th>\n",
       "      <td>299993-base</td>\n",
       "      <td>-75.292816</td>\n",
       "      <td>8.980313</td>\n",
       "      <td>-49.574635</td>\n",
       "      <td>-155.93169</td>\n",
       "      <td>127.526560</td>\n",
       "      <td>-67.319626</td>\n",
       "      <td>-530.124724</td>\n",
       "      <td>-4.232470</td>\n",
       "      <td>115.145424</td>\n",
       "      <td>...</td>\n",
       "      <td>-130.376300</td>\n",
       "      <td>31.225882</td>\n",
       "      <td>-168.01405</td>\n",
       "      <td>146.852109</td>\n",
       "      <td>67.215100</td>\n",
       "      <td>227.838960</td>\n",
       "      <td>78.614310</td>\n",
       "      <td>132.64496</td>\n",
       "      <td>-1206.160895</td>\n",
       "      <td>-14.927624</td>\n",
       "    </tr>\n",
       "    <tr>\n",
       "      <th>666085</th>\n",
       "      <td>761340-base</td>\n",
       "      <td>-97.933740</td>\n",
       "      <td>0.514164</td>\n",
       "      <td>-87.975235</td>\n",
       "      <td>-167.97838</td>\n",
       "      <td>161.821370</td>\n",
       "      <td>-14.249622</td>\n",
       "      <td>-159.022611</td>\n",
       "      <td>77.359430</td>\n",
       "      <td>119.846820</td>\n",
       "      <td>...</td>\n",
       "      <td>-93.900870</td>\n",
       "      <td>33.330383</td>\n",
       "      <td>-189.78130</td>\n",
       "      <td>171.000546</td>\n",
       "      <td>67.533750</td>\n",
       "      <td>23.135483</td>\n",
       "      <td>54.996883</td>\n",
       "      <td>141.07500</td>\n",
       "      <td>-71.520089</td>\n",
       "      <td>-43.828472</td>\n",
       "    </tr>\n",
       "  </tbody>\n",
       "</table>\n",
       "<p>5 rows × 73 columns</p>\n",
       "</div>"
      ],
      "text/plain": [
       "                   Id          0         1          2          3           4  \\\n",
       "2800712  4480175-base -83.905320 -7.224893 -19.648012 -132.98322   58.289580   \n",
       "1893021  2649267-base -85.270730  8.912687 -41.225410 -129.55391   26.064468   \n",
       "194232    202571-base -78.556990  1.843463 -52.975636 -125.17652  176.810290   \n",
       "282603    299993-base -75.292816  8.980313 -49.574635 -155.93169  127.526560   \n",
       "666085    761340-base -97.933740  0.514164 -87.975235 -167.97838  161.821370   \n",
       "\n",
       "                 5           6          7           8  ...          62  \\\n",
       "2800712 -29.693604 -390.349910  59.334120  121.539246  ...  -63.074790   \n",
       "1893021 -91.007780 -164.634559  27.182236  125.416630  ...  -69.010060   \n",
       "194232  -32.497460 -275.285665 -13.718817  125.982350  ...  -19.821045   \n",
       "282603  -67.319626 -530.124724  -4.232470  115.145424  ... -130.376300   \n",
       "666085  -14.249622 -159.022611  77.359430  119.846820  ...  -93.900870   \n",
       "\n",
       "                63         64          65         66          67         68  \\\n",
       "2800712  53.565674 -139.95525   -0.296099  71.006996  -15.498171  36.405876   \n",
       "1893021  24.680843 -186.42297  -75.379067  66.412800   75.985460   6.105866   \n",
       "194232   50.977592 -135.23440  -43.222156  66.553910   32.507244  71.613090   \n",
       "282603   31.225882 -168.01405  146.852109  67.215100  227.838960  78.614310   \n",
       "666085   33.330383 -189.78130  171.000546  67.533750   23.135483  54.996883   \n",
       "\n",
       "                69           70         71  \n",
       "2800712   87.75858  -424.749461 -77.253180  \n",
       "1893021  121.42791  -235.918280 -91.243240  \n",
       "194232   107.00803  -861.984518  -1.730206  \n",
       "282603   132.64496 -1206.160895 -14.927624  \n",
       "666085   141.07500   -71.520089 -43.828472  \n",
       "\n",
       "[5 rows x 73 columns]"
      ]
     },
     "execution_count": 7,
     "metadata": {},
     "output_type": "execute_result"
    }
   ],
   "source": [
    "base.sample(5)"
   ]
  },
  {
   "cell_type": "markdown",
   "id": "e2cbd302",
   "metadata": {},
   "source": [
    "При взгляде на первые строки могло показаться, что индекс совпадает с числовым суффиксом товара, однако, выборка 5 случайных объектов позволяет определить, что это не так."
   ]
  },
  {
   "cell_type": "markdown",
   "id": "b251454d",
   "metadata": {},
   "source": [
    "### Нормализация данных"
   ]
  },
  {
   "cell_type": "code",
   "execution_count": 8,
   "id": "20d66578",
   "metadata": {},
   "outputs": [],
   "source": [
    "# отделим нормально и ненормально распределенные признаки\n",
    "# отделим первый признак с индексом\n",
    "\n",
    "not_normed = ['6', '21', '25', '33', '44', '59', '65', '70']\n",
    "normed = [col for col in base.columns[1:] if col not in not_normed]"
   ]
  },
  {
   "cell_type": "code",
   "execution_count": 9,
   "id": "31f03524",
   "metadata": {},
   "outputs": [],
   "source": [
    "# ко всем колонкам кроме Id применяем StandardScaler\n",
    "\n",
    "scaler = StandardScaler()\n",
    "\n",
    "base_scaled = pd.DataFrame(scaler.fit_transform(base[normed + not_normed]),\n",
    "                           columns=normed + not_normed)\n",
    "base_scaled = pd.concat([base[['Id']], base_scaled], axis=1)"
   ]
  },
  {
   "cell_type": "code",
   "execution_count": 10,
   "id": "24bdfd54",
   "metadata": {},
   "outputs": [],
   "source": [
    "# применяем нормализацию ко всем датасетам\n",
    "\n",
    "train_scaled = pd.DataFrame(scaler.transform(train[normed + not_normed]),\n",
    "                            columns=normed + not_normed)\n",
    "train_scaled = pd.concat([train[['Id', 'Target']], train_scaled], axis=1)\n",
    "\n",
    "\n",
    "\n",
    "test_scaled = pd.DataFrame(scaler.transform(test[normed + not_normed]),\n",
    "                           columns=normed + not_normed)\n",
    "test_scaled = pd.concat([test[['Id']], test_scaled], axis=1)"
   ]
  },
  {
   "cell_type": "markdown",
   "id": "7f476ac3",
   "metadata": {},
   "source": [
    "### Признаки с \"ненормальным\" распределением"
   ]
  },
  {
   "cell_type": "markdown",
   "id": "53d154ce",
   "metadata": {},
   "source": [
    "Осталось немного подумать над признаками с неномральным распределением. Вероятно, за ними скрываются категориальные признаки. Посмотрим на совпадение этих признаков у товаров и их матчей с помощью размеченного датасета train."
   ]
  },
  {
   "cell_type": "code",
   "execution_count": 11,
   "id": "a0236e04",
   "metadata": {},
   "outputs": [],
   "source": [
    "train_analyze = train_scaled[['Id', 'Target'] + not_normed]\n",
    "train_analyze = pd.merge(train_analyze,\n",
    "                         base_scaled[['Id'] + not_normed].rename(columns={'Id': 'Target'}),\n",
    "                         on='Target',\n",
    "                         suffixes=('_query', '_base'))\n",
    "\n",
    "# добавим флаги равенства\n",
    "for col in not_normed:\n",
    "    train_analyze[col] = (train_analyze[f'{col}_query'] == train_analyze[f'{col}_base']).astype(int)\n",
    "    \n",
    "train_analyze = train_analyze[['Id', 'Target'] + not_normed]"
   ]
  },
  {
   "cell_type": "code",
   "execution_count": 12,
   "id": "ff285ee9",
   "metadata": {},
   "outputs": [
    {
     "data": {
      "text/html": [
       "<div>\n",
       "<style scoped>\n",
       "    .dataframe tbody tr th:only-of-type {\n",
       "        vertical-align: middle;\n",
       "    }\n",
       "\n",
       "    .dataframe tbody tr th {\n",
       "        vertical-align: top;\n",
       "    }\n",
       "\n",
       "    .dataframe thead th {\n",
       "        text-align: right;\n",
       "    }\n",
       "</style>\n",
       "<table border=\"1\" class=\"dataframe\">\n",
       "  <thead>\n",
       "    <tr style=\"text-align: right;\">\n",
       "      <th></th>\n",
       "      <th>Id</th>\n",
       "      <th>Target</th>\n",
       "      <th>6</th>\n",
       "      <th>21</th>\n",
       "      <th>25</th>\n",
       "      <th>33</th>\n",
       "      <th>44</th>\n",
       "      <th>59</th>\n",
       "      <th>65</th>\n",
       "      <th>70</th>\n",
       "    </tr>\n",
       "  </thead>\n",
       "  <tbody>\n",
       "    <tr>\n",
       "      <th>0</th>\n",
       "      <td>0-query</td>\n",
       "      <td>675816-base</td>\n",
       "      <td>1</td>\n",
       "      <td>0</td>\n",
       "      <td>1</td>\n",
       "      <td>0</td>\n",
       "      <td>0</td>\n",
       "      <td>0</td>\n",
       "      <td>0</td>\n",
       "      <td>1</td>\n",
       "    </tr>\n",
       "    <tr>\n",
       "      <th>1</th>\n",
       "      <td>1-query</td>\n",
       "      <td>366656-base</td>\n",
       "      <td>0</td>\n",
       "      <td>0</td>\n",
       "      <td>1</td>\n",
       "      <td>0</td>\n",
       "      <td>1</td>\n",
       "      <td>0</td>\n",
       "      <td>0</td>\n",
       "      <td>0</td>\n",
       "    </tr>\n",
       "    <tr>\n",
       "      <th>2</th>\n",
       "      <td>2-query</td>\n",
       "      <td>1447819-base</td>\n",
       "      <td>1</td>\n",
       "      <td>0</td>\n",
       "      <td>1</td>\n",
       "      <td>0</td>\n",
       "      <td>1</td>\n",
       "      <td>0</td>\n",
       "      <td>0</td>\n",
       "      <td>1</td>\n",
       "    </tr>\n",
       "    <tr>\n",
       "      <th>3</th>\n",
       "      <td>3-query</td>\n",
       "      <td>1472602-base</td>\n",
       "      <td>1</td>\n",
       "      <td>1</td>\n",
       "      <td>1</td>\n",
       "      <td>0</td>\n",
       "      <td>1</td>\n",
       "      <td>0</td>\n",
       "      <td>0</td>\n",
       "      <td>0</td>\n",
       "    </tr>\n",
       "    <tr>\n",
       "      <th>4</th>\n",
       "      <td>4-query</td>\n",
       "      <td>717819-base</td>\n",
       "      <td>1</td>\n",
       "      <td>1</td>\n",
       "      <td>1</td>\n",
       "      <td>0</td>\n",
       "      <td>1</td>\n",
       "      <td>0</td>\n",
       "      <td>1</td>\n",
       "      <td>1</td>\n",
       "    </tr>\n",
       "  </tbody>\n",
       "</table>\n",
       "</div>"
      ],
      "text/plain": [
       "        Id        Target  6  21  25  33  44  59  65  70\n",
       "0  0-query   675816-base  1   0   1   0   0   0   0   1\n",
       "1  1-query   366656-base  0   0   1   0   1   0   0   0\n",
       "2  2-query  1447819-base  1   0   1   0   1   0   0   1\n",
       "3  3-query  1472602-base  1   1   1   0   1   0   0   0\n",
       "4  4-query   717819-base  1   1   1   0   1   0   1   1"
      ]
     },
     "execution_count": 12,
     "metadata": {},
     "output_type": "execute_result"
    }
   ],
   "source": [
    "train_analyze.head()"
   ]
  },
  {
   "cell_type": "code",
   "execution_count": 13,
   "id": "9edc3c72",
   "metadata": {},
   "outputs": [
    {
     "name": "stdout",
     "output_type": "stream",
     "text": [
      "6 0.64986\n",
      "21 0.56723\n",
      "25 0.79395\n",
      "33 0.0\n",
      "44 0.64752\n",
      "59 0.0\n",
      "65 0.29132\n",
      "70 0.71878\n"
     ]
    }
   ],
   "source": [
    "for col in not_normed:\n",
    "    print(col, train_analyze[col].sum() / train_analyze.shape[0])"
   ]
  },
  {
   "cell_type": "markdown",
   "id": "4aaab1cd",
   "metadata": {},
   "source": [
    "`6`, `25`, `44` и `70` признаки у товаров из запроса и их матчей совпадают достаточно часто, но 100% корреляции очевидно нет."
   ]
  },
  {
   "cell_type": "markdown",
   "id": "65b0a246",
   "metadata": {},
   "source": [
    "### Понижение размерности"
   ]
  },
  {
   "cell_type": "markdown",
   "id": "adcfbecf",
   "metadata": {},
   "source": [
    "#### base_scaled"
   ]
  },
  {
   "cell_type": "code",
   "execution_count": 14,
   "id": "9713a109",
   "metadata": {},
   "outputs": [],
   "source": [
    "base_scaled_obj = base_scaled.select_dtypes(include=['object'])"
   ]
  },
  {
   "cell_type": "code",
   "execution_count": 15,
   "id": "4f11975b",
   "metadata": {},
   "outputs": [],
   "source": [
    "base_scaled_num = base_scaled.select_dtypes(include=['float64']).astype('float32')"
   ]
  },
  {
   "cell_type": "code",
   "execution_count": 16,
   "id": "4a53b7e5",
   "metadata": {},
   "outputs": [],
   "source": [
    "base_scaled = pd.concat([base_scaled_obj[['Id']], base_scaled_num], axis=1)"
   ]
  },
  {
   "cell_type": "code",
   "execution_count": 17,
   "id": "36836bbd",
   "metadata": {},
   "outputs": [
    {
     "data": {
      "text/plain": [
       "703484"
      ]
     },
     "execution_count": 17,
     "metadata": {},
     "output_type": "execute_result"
    }
   ],
   "source": [
    "gc.collect()"
   ]
  },
  {
   "cell_type": "markdown",
   "id": "8cdd3576",
   "metadata": {},
   "source": [
    "#### train_scaled"
   ]
  },
  {
   "cell_type": "code",
   "execution_count": 18,
   "id": "acfa4bb1",
   "metadata": {
    "scrolled": true
   },
   "outputs": [
    {
     "data": {
      "text/html": [
       "<div>\n",
       "<style scoped>\n",
       "    .dataframe tbody tr th:only-of-type {\n",
       "        vertical-align: middle;\n",
       "    }\n",
       "\n",
       "    .dataframe tbody tr th {\n",
       "        vertical-align: top;\n",
       "    }\n",
       "\n",
       "    .dataframe thead th {\n",
       "        text-align: right;\n",
       "    }\n",
       "</style>\n",
       "<table border=\"1\" class=\"dataframe\">\n",
       "  <thead>\n",
       "    <tr style=\"text-align: right;\">\n",
       "      <th></th>\n",
       "      <th>Id</th>\n",
       "      <th>Target</th>\n",
       "      <th>0</th>\n",
       "      <th>1</th>\n",
       "      <th>2</th>\n",
       "      <th>3</th>\n",
       "      <th>4</th>\n",
       "      <th>5</th>\n",
       "      <th>7</th>\n",
       "      <th>8</th>\n",
       "      <th>...</th>\n",
       "      <th>69</th>\n",
       "      <th>71</th>\n",
       "      <th>6</th>\n",
       "      <th>21</th>\n",
       "      <th>25</th>\n",
       "      <th>33</th>\n",
       "      <th>44</th>\n",
       "      <th>59</th>\n",
       "      <th>65</th>\n",
       "      <th>70</th>\n",
       "    </tr>\n",
       "  </thead>\n",
       "  <tbody>\n",
       "    <tr>\n",
       "      <th>0</th>\n",
       "      <td>0-query</td>\n",
       "      <td>675816-base</td>\n",
       "      <td>1.299519</td>\n",
       "      <td>1.996888</td>\n",
       "      <td>0.063774</td>\n",
       "      <td>-1.879671</td>\n",
       "      <td>1.644100</td>\n",
       "      <td>-0.537626</td>\n",
       "      <td>0.279598</td>\n",
       "      <td>-2.296794</td>\n",
       "      <td>...</td>\n",
       "      <td>0.906575</td>\n",
       "      <td>0.522963</td>\n",
       "      <td>0.165148</td>\n",
       "      <td>-0.897816</td>\n",
       "      <td>0.421591</td>\n",
       "      <td>0.959996</td>\n",
       "      <td>0.533131</td>\n",
       "      <td>1.640425</td>\n",
       "      <td>-1.173481</td>\n",
       "      <td>0.995267</td>\n",
       "    </tr>\n",
       "    <tr>\n",
       "      <th>1</th>\n",
       "      <td>1-query</td>\n",
       "      <td>366656-base</td>\n",
       "      <td>-0.062146</td>\n",
       "      <td>-0.257159</td>\n",
       "      <td>0.324249</td>\n",
       "      <td>-1.543245</td>\n",
       "      <td>0.204684</td>\n",
       "      <td>-0.419328</td>\n",
       "      <td>-1.538329</td>\n",
       "      <td>0.193777</td>\n",
       "      <td>...</td>\n",
       "      <td>0.709459</td>\n",
       "      <td>-0.083491</td>\n",
       "      <td>1.095696</td>\n",
       "      <td>-2.261146</td>\n",
       "      <td>0.421591</td>\n",
       "      <td>1.273264</td>\n",
       "      <td>1.428186</td>\n",
       "      <td>-0.672895</td>\n",
       "      <td>-0.159574</td>\n",
       "      <td>-0.611690</td>\n",
       "    </tr>\n",
       "    <tr>\n",
       "      <th>2</th>\n",
       "      <td>2-query</td>\n",
       "      <td>1447819-base</td>\n",
       "      <td>1.456328</td>\n",
       "      <td>-0.855696</td>\n",
       "      <td>-1.851792</td>\n",
       "      <td>-1.701553</td>\n",
       "      <td>1.700433</td>\n",
       "      <td>0.750504</td>\n",
       "      <td>-0.791080</td>\n",
       "      <td>0.328335</td>\n",
       "      <td>...</td>\n",
       "      <td>0.300576</td>\n",
       "      <td>0.604677</td>\n",
       "      <td>1.543015</td>\n",
       "      <td>0.624318</td>\n",
       "      <td>0.421591</td>\n",
       "      <td>-1.781359</td>\n",
       "      <td>0.650926</td>\n",
       "      <td>0.726148</td>\n",
       "      <td>0.687136</td>\n",
       "      <td>-0.713847</td>\n",
       "    </tr>\n",
       "    <tr>\n",
       "      <th>3</th>\n",
       "      <td>3-query</td>\n",
       "      <td>1472602-base</td>\n",
       "      <td>1.543467</td>\n",
       "      <td>0.203199</td>\n",
       "      <td>-1.833235</td>\n",
       "      <td>1.291201</td>\n",
       "      <td>-0.359536</td>\n",
       "      <td>-1.322073</td>\n",
       "      <td>0.916179</td>\n",
       "      <td>0.050167</td>\n",
       "      <td>...</td>\n",
       "      <td>0.128028</td>\n",
       "      <td>0.668019</td>\n",
       "      <td>-1.409605</td>\n",
       "      <td>0.624318</td>\n",
       "      <td>0.421591</td>\n",
       "      <td>-1.781359</td>\n",
       "      <td>0.610954</td>\n",
       "      <td>-0.300219</td>\n",
       "      <td>0.806859</td>\n",
       "      <td>-0.713847</td>\n",
       "    </tr>\n",
       "    <tr>\n",
       "      <th>4</th>\n",
       "      <td>4-query</td>\n",
       "      <td>717819-base</td>\n",
       "      <td>0.265046</td>\n",
       "      <td>1.284537</td>\n",
       "      <td>-0.370748</td>\n",
       "      <td>-0.021041</td>\n",
       "      <td>-1.169187</td>\n",
       "      <td>1.977993</td>\n",
       "      <td>0.399148</td>\n",
       "      <td>0.355099</td>\n",
       "      <td>...</td>\n",
       "      <td>-1.090276</td>\n",
       "      <td>0.638160</td>\n",
       "      <td>0.261015</td>\n",
       "      <td>0.624318</td>\n",
       "      <td>0.421591</td>\n",
       "      <td>-0.868174</td>\n",
       "      <td>-0.904568</td>\n",
       "      <td>0.535832</td>\n",
       "      <td>-1.331745</td>\n",
       "      <td>-0.713847</td>\n",
       "    </tr>\n",
       "  </tbody>\n",
       "</table>\n",
       "<p>5 rows × 74 columns</p>\n",
       "</div>"
      ],
      "text/plain": [
       "        Id        Target         0         1         2         3         4  \\\n",
       "0  0-query   675816-base  1.299519  1.996888  0.063774 -1.879671  1.644100   \n",
       "1  1-query   366656-base -0.062146 -0.257159  0.324249 -1.543245  0.204684   \n",
       "2  2-query  1447819-base  1.456328 -0.855696 -1.851792 -1.701553  1.700433   \n",
       "3  3-query  1472602-base  1.543467  0.203199 -1.833235  1.291201 -0.359536   \n",
       "4  4-query   717819-base  0.265046  1.284537 -0.370748 -0.021041 -1.169187   \n",
       "\n",
       "          5         7         8  ...        69        71         6        21  \\\n",
       "0 -0.537626  0.279598 -2.296794  ...  0.906575  0.522963  0.165148 -0.897816   \n",
       "1 -0.419328 -1.538329  0.193777  ...  0.709459 -0.083491  1.095696 -2.261146   \n",
       "2  0.750504 -0.791080  0.328335  ...  0.300576  0.604677  1.543015  0.624318   \n",
       "3 -1.322073  0.916179  0.050167  ...  0.128028  0.668019 -1.409605  0.624318   \n",
       "4  1.977993  0.399148  0.355099  ... -1.090276  0.638160  0.261015  0.624318   \n",
       "\n",
       "         25        33        44        59        65        70  \n",
       "0  0.421591  0.959996  0.533131  1.640425 -1.173481  0.995267  \n",
       "1  0.421591  1.273264  1.428186 -0.672895 -0.159574 -0.611690  \n",
       "2  0.421591 -1.781359  0.650926  0.726148  0.687136 -0.713847  \n",
       "3  0.421591 -1.781359  0.610954 -0.300219  0.806859 -0.713847  \n",
       "4  0.421591 -0.868174 -0.904568  0.535832 -1.331745 -0.713847  \n",
       "\n",
       "[5 rows x 74 columns]"
      ]
     },
     "execution_count": 18,
     "metadata": {},
     "output_type": "execute_result"
    }
   ],
   "source": [
    "train_scaled.head()"
   ]
  },
  {
   "cell_type": "code",
   "execution_count": 20,
   "id": "6cb00e6f",
   "metadata": {},
   "outputs": [
    {
     "data": {
      "text/html": [
       "<div>\n",
       "<style scoped>\n",
       "    .dataframe tbody tr th:only-of-type {\n",
       "        vertical-align: middle;\n",
       "    }\n",
       "\n",
       "    .dataframe tbody tr th {\n",
       "        vertical-align: top;\n",
       "    }\n",
       "\n",
       "    .dataframe thead th {\n",
       "        text-align: right;\n",
       "    }\n",
       "</style>\n",
       "<table border=\"1\" class=\"dataframe\">\n",
       "  <thead>\n",
       "    <tr style=\"text-align: right;\">\n",
       "      <th></th>\n",
       "      <th>Id</th>\n",
       "      <th>Target</th>\n",
       "    </tr>\n",
       "  </thead>\n",
       "  <tbody>\n",
       "    <tr>\n",
       "      <th>0</th>\n",
       "      <td>0-query</td>\n",
       "      <td>675816-base</td>\n",
       "    </tr>\n",
       "    <tr>\n",
       "      <th>1</th>\n",
       "      <td>1-query</td>\n",
       "      <td>366656-base</td>\n",
       "    </tr>\n",
       "    <tr>\n",
       "      <th>2</th>\n",
       "      <td>2-query</td>\n",
       "      <td>1447819-base</td>\n",
       "    </tr>\n",
       "    <tr>\n",
       "      <th>3</th>\n",
       "      <td>3-query</td>\n",
       "      <td>1472602-base</td>\n",
       "    </tr>\n",
       "    <tr>\n",
       "      <th>4</th>\n",
       "      <td>4-query</td>\n",
       "      <td>717819-base</td>\n",
       "    </tr>\n",
       "    <tr>\n",
       "      <th>...</th>\n",
       "      <td>...</td>\n",
       "      <td>...</td>\n",
       "    </tr>\n",
       "    <tr>\n",
       "      <th>99995</th>\n",
       "      <td>99995-query</td>\n",
       "      <td>811868-base</td>\n",
       "    </tr>\n",
       "    <tr>\n",
       "      <th>99996</th>\n",
       "      <td>99996-query</td>\n",
       "      <td>1460772-base</td>\n",
       "    </tr>\n",
       "    <tr>\n",
       "      <th>99997</th>\n",
       "      <td>99997-query</td>\n",
       "      <td>2366140-base</td>\n",
       "    </tr>\n",
       "    <tr>\n",
       "      <th>99998</th>\n",
       "      <td>99998-query</td>\n",
       "      <td>9252-base</td>\n",
       "    </tr>\n",
       "    <tr>\n",
       "      <th>99999</th>\n",
       "      <td>99999-query</td>\n",
       "      <td>2769109-base</td>\n",
       "    </tr>\n",
       "  </tbody>\n",
       "</table>\n",
       "<p>100000 rows × 2 columns</p>\n",
       "</div>"
      ],
      "text/plain": [
       "                Id        Target\n",
       "0          0-query   675816-base\n",
       "1          1-query   366656-base\n",
       "2          2-query  1447819-base\n",
       "3          3-query  1472602-base\n",
       "4          4-query   717819-base\n",
       "...            ...           ...\n",
       "99995  99995-query   811868-base\n",
       "99996  99996-query  1460772-base\n",
       "99997  99997-query  2366140-base\n",
       "99998  99998-query     9252-base\n",
       "99999  99999-query  2769109-base\n",
       "\n",
       "[100000 rows x 2 columns]"
      ]
     },
     "execution_count": 20,
     "metadata": {},
     "output_type": "execute_result"
    }
   ],
   "source": [
    "train_scaled.select_dtypes(include=['object'])"
   ]
  },
  {
   "cell_type": "code",
   "execution_count": 21,
   "id": "a3a08921",
   "metadata": {},
   "outputs": [
    {
     "data": {
      "text/plain": [
       "60"
      ]
     },
     "execution_count": 21,
     "metadata": {},
     "output_type": "execute_result"
    }
   ],
   "source": [
    "train_scaled_obj = train_scaled.select_dtypes(include=['object'])\n",
    "train_scaled_num = train_scaled.select_dtypes(include=['float64']).astype('float32')\n",
    "train_scaled = pd.concat([train_scaled_obj, train_scaled_num], axis=1)\n",
    "\n",
    "\n",
    "gc.collect()"
   ]
  },
  {
   "cell_type": "markdown",
   "id": "8e61205c",
   "metadata": {},
   "source": [
    "#### test_scaled"
   ]
  },
  {
   "cell_type": "code",
   "execution_count": 26,
   "id": "0e1be273",
   "metadata": {},
   "outputs": [
    {
     "data": {
      "text/plain": [
       "30"
      ]
     },
     "execution_count": 26,
     "metadata": {},
     "output_type": "execute_result"
    }
   ],
   "source": [
    "test_scaled_obj = test_scaled.select_dtypes(include=['object'])\n",
    "test_scaled_num = test_scaled.select_dtypes(include=['float64']).astype('float32')\n",
    "test_scaled = pd.concat([test_scaled_obj, test_scaled_num], axis=1)\n",
    "\n",
    "\n",
    "gc.collect()"
   ]
  },
  {
   "cell_type": "markdown",
   "id": "f483d26f",
   "metadata": {},
   "source": [
    "## Векторный поиск с Faiss"
   ]
  },
  {
   "cell_type": "markdown",
   "id": "c559f875",
   "metadata": {},
   "source": [
    "Для поиска матчей воспользуемся Inverted File index из FAISS. Количество кластеров определим как квадратный корень из `base`."
   ]
  },
  {
   "cell_type": "code",
   "execution_count": 28,
   "id": "dcec5191",
   "metadata": {},
   "outputs": [],
   "source": [
    "# сохраним словарь с айдишниками base\n",
    "id_base_dict = dict(base_scaled['Id'])"
   ]
  },
  {
   "cell_type": "markdown",
   "id": "76b54c81",
   "metadata": {},
   "source": [
    "### Поиск по расстоянию L2"
   ]
  },
  {
   "cell_type": "code",
   "execution_count": 29,
   "id": "fa8194d6",
   "metadata": {},
   "outputs": [],
   "source": [
    "base_dict = pd.DataFrame(base_scaled['Id'], index = base_scaled.index) # делаем новый датафрейм с индексом и ID\n",
    "base_dict.to_csv(\"base_dict.csv\", index=False)                         # сохраним словарь в csv,\n",
    "                                                                       # в случае проблем с памятью переменную можно будет удалить\n",
    "                                                                       # а потом прочитать заново"
   ]
  },
  {
   "cell_type": "code",
   "execution_count": 30,
   "id": "8fc219b9",
   "metadata": {},
   "outputs": [],
   "source": [
    "n_clusters = np.sqrt(len(base)).round()"
   ]
  },
  {
   "cell_type": "code",
   "execution_count": 31,
   "id": "741961c3",
   "metadata": {},
   "outputs": [
    {
     "data": {
      "text/plain": [
       "1708.0"
      ]
     },
     "execution_count": 31,
     "metadata": {},
     "output_type": "execute_result"
    }
   ],
   "source": [
    "n_clusters"
   ]
  },
  {
   "cell_type": "code",
   "execution_count": 32,
   "id": "17070d74",
   "metadata": {},
   "outputs": [],
   "source": [
    "dim = 72  # размерность пространства\n",
    "k = 1708  # количество центров\n",
    "quantiser = faiss.IndexFlatL2(dim) \n",
    "index = faiss.IndexIVFFlat(quantiser, dim, k)"
   ]
  },
  {
   "cell_type": "code",
   "execution_count": 35,
   "id": "29888d12",
   "metadata": {},
   "outputs": [],
   "source": [
    "base_scaled_i = base_scaled.drop(columns=['Id'])"
   ]
  },
  {
   "cell_type": "code",
   "execution_count": 36,
   "id": "10b3cac5",
   "metadata": {
    "scrolled": false
   },
   "outputs": [
    {
     "name": "stdout",
     "output_type": "stream",
     "text": [
      "True\n",
      "0\n",
      "2918139\n",
      "Wall time: 1min 4s\n"
     ]
    }
   ],
   "source": [
    "%%time\n",
    "\n",
    "index = faiss.index_factory(dim, 'IVF1708,Flat')\n",
    "index.train(base_scaled_i)\n",
    "\n",
    "print(index.is_trained)  \n",
    "print(index.ntotal)   \n",
    "index.add(base_scaled_i)\n",
    "print(index.ntotal)"
   ]
  },
  {
   "cell_type": "code",
   "execution_count": 41,
   "id": "ddb1b417",
   "metadata": {},
   "outputs": [],
   "source": [
    "test_scaled_i = test_scaled.drop(columns=['Id'])"
   ]
  },
  {
   "cell_type": "code",
   "execution_count": 43,
   "id": "aa30e926",
   "metadata": {},
   "outputs": [
    {
     "name": "stdout",
     "output_type": "stream",
     "text": [
      "Wall time: 5min 35s\n"
     ]
    }
   ],
   "source": [
    "%%time\n",
    "topn = 100 # количество ближайших товаров-векторов, которые могут оказаться матчем\n",
    "index.nprobe = 100  # Проходим по топ-100 центроид для поиска top-n ближайших соседей\n",
    "D, I = index.search(test_scaled_i, topn)"
   ]
  },
  {
   "cell_type": "code",
   "execution_count": 44,
   "id": "2f437d54",
   "metadata": {
    "scrolled": true
   },
   "outputs": [
    {
     "data": {
      "text/plain": [
       "(100000, 100)"
      ]
     },
     "execution_count": 44,
     "metadata": {},
     "output_type": "execute_result"
    }
   ],
   "source": [
    "I.shape"
   ]
  },
  {
   "cell_type": "code",
   "execution_count": 45,
   "id": "b5054be7",
   "metadata": {
    "scrolled": true
   },
   "outputs": [
    {
     "data": {
      "text/plain": [
       "array([[2192372, 2177660,  342838, ...,  896536,  406458,  201875],\n",
       "       [ 157966,   11829,  847800, ...,  154717,   63166,  421028],\n",
       "       [ 431806,  148400,  451870, ..., 2648564, 2012223,  927592],\n",
       "       ...,\n",
       "       [1392746,  349609,  699739, ...,  182570, 1663612, 1660192],\n",
       "       [ 319526, 2820290, 2253420, ...,  968369, 2415330, 2244741],\n",
       "       [2888788, 2505458,  330927, ...,  686206, 1879223,  483919]],\n",
       "      dtype=int64)"
      ]
     },
     "execution_count": 45,
     "metadata": {},
     "output_type": "execute_result"
    }
   ],
   "source": [
    "I"
   ]
  },
  {
   "cell_type": "code",
   "execution_count": 48,
   "id": "e80df436",
   "metadata": {},
   "outputs": [],
   "source": [
    "test_dict = pd.DataFrame(test_scaled['Id'], index = test_scaled.index) # делаем новый датафрейм с индексом и ID"
   ]
  },
  {
   "cell_type": "code",
   "execution_count": 49,
   "id": "286e7aed",
   "metadata": {},
   "outputs": [],
   "source": [
    "predicted_list = []\n",
    "for candidates in I:\n",
    "    predicted_list.append(' '.join([id_base_dict[candidate] for candidate in candidates]))\n",
    "    \n",
    "#формируем ответ\n",
    "answer = test_dict[['Id']]\n",
    "answer['Predicted'] = predicted_list\n",
    "\n",
    "answer.to_csv('submission_scaled_100.csv', index=False)"
   ]
  },
  {
   "cell_type": "markdown",
   "id": "2ab2a389",
   "metadata": {},
   "source": [
    "Текущий сабмит дает метрику recall@10 0.69 (проверка внешняя путем отпарвки сабмита), и дальшейшее улучшение работы связано с использованием тренировочных данных для переранжирования ближайших векторов, найженных с помощью Faiss.\n"
   ]
  }
 ],
 "metadata": {
  "kernelspec": {
   "display_name": "Python 3",
   "language": "python",
   "name": "python3"
  },
  "language_info": {
   "codemirror_mode": {
    "name": "ipython",
    "version": 3
   },
   "file_extension": ".py",
   "mimetype": "text/x-python",
   "name": "python",
   "nbconvert_exporter": "python",
   "pygments_lexer": "ipython3",
   "version": "3.8.8"
  },
  "toc": {
   "base_numbering": 1,
   "nav_menu": {},
   "number_sections": true,
   "sideBar": true,
   "skip_h1_title": true,
   "title_cell": "Table of Contents",
   "title_sidebar": "Contents",
   "toc_cell": false,
   "toc_position": {},
   "toc_section_display": true,
   "toc_window_display": false
  }
 },
 "nbformat": 4,
 "nbformat_minor": 5
}
