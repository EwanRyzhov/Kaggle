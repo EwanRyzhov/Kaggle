{
 "cells": [
  {
   "cell_type": "markdown",
   "id": "c6a592a8",
   "metadata": {},
   "source": [
    "# Uplift-моделирование"
   ]
  },
  {
   "cell_type": "markdown",
   "id": "e9fbd20d",
   "metadata": {},
   "source": [
    "В нашем распоряжении имеются данные о коммуникациях с покупателями (СМС-рассылка) и фактах покупки. Задача — построение предиктивной модели, которая поможет определить группу потребителей, которая наиболее подвержена влиянию и совершит покупку при коммуникации — т.е. uplift-моделирование."
   ]
  },
  {
   "cell_type": "markdown",
   "id": "78f9af2f",
   "metadata": {},
   "source": [
    "Существует несколько традиционных подходов к выбору группы для коммуникации [[1]](https://habr.com/ru/company/ru_mts/blog/485980/):\n",
    "- **Look-alike модель** — в это случае оценивается вероятность целевого действия на основе схожести покупателей по каким-то признакам, т.е. модель будет искать тех клиентов, которые похожи на тех, кто совершил целевое действие. В качестве обучающей выборки используются известные позитивные объекты и случайные негативные объекты;\n",
    "- **Response модель** — оценивается вероятность целевого действия при условиях коммуникации В качестве обучающего набора данных здесь берутся датасеты с информацией о позитивных действиях после совершения некоторого взаимодействия с клиентов (реальные позитивные и негативные наблюдения после коммуникации);\n",
    "- **Uplift модель** — оценивается **чистый** эффект от коммуникации. В этом случае модель пытается определить только тех клиентов, которым для совершения целевого действия необходимо воздействие."
   ]
  },
  {
   "cell_type": "markdown",
   "id": "a3aa1e13",
   "metadata": {},
   "source": [
    "$$ Uplift = P_{целевого-действия-при-коммуникации} - P_{целевого-действия-без-коммуникации} $$"
   ]
  },
  {
   "cell_type": "markdown",
   "id": "9c2ca1e7",
   "metadata": {},
   "source": [
    "В данном проекте мы будем использовать последний подход. Обычно он применяется, когда целевое действие выполняется клиентами с достаточно большой вероятностью без каких-либо коммуникаций — например, предлагается популярный продукт. Проблема оценки воздействия в том, что мы не можем одновременно совершить коммуникацию (например, послать смс) и не совершить коммуникацию (не послать смс)."
   ]
  },
  {
   "cell_type": "markdown",
   "id": "04a99102",
   "metadata": {},
   "source": [
    "## Импорт библиотек"
   ]
  },
  {
   "cell_type": "code",
   "execution_count": 1,
   "id": "4181d81a",
   "metadata": {},
   "outputs": [],
   "source": [
    "import pandas as pd\n",
    "import numpy as np\n",
    "import seaborn as sns\n",
    "import matplotlib.pyplot as plt\n",
    "\n",
    "\n",
    "from sklearn.model_selection import train_test_split\n",
    "from sklearn.model_selection import GridSearchCV, cross_validate, cross_val_score, StratifiedKFold, learning_curve\n",
    "\n",
    "from sklearn.preprocessing import LabelEncoder, StandardScaler\n",
    "\n",
    "from feature_engine.encoding import OneHotEncoder\n",
    "\n",
    "from sklearn.metrics import roc_auc_score, confusion_matrix, classification_report\n",
    "\n",
    "\n",
    "# модели\n",
    "from sklearn.ensemble import RandomForestClassifier\n",
    "from catboost import CatBoostClassifier\n",
    "from lightgbm import LGBMClassifier"
   ]
  },
  {
   "cell_type": "markdown",
   "id": "09632549",
   "metadata": {},
   "source": [
    "<span style=\"color:orange\">Комментарий к ноутбуку:\n",
    "Данный ноутбук можно считать скорее неудачным — выбранный в конце сабмит показал отвратительный скор на тестовой выборке. Тем не менее, поиск инсайтов для генерации фич, преобразование датасетов и примененный подход позволяют рассматривать его в качестве \"вступления\" к решению задачи аплифта</span>"
   ]
  },
  {
   "cell_type": "markdown",
   "id": "6f8e5b21",
   "metadata": {},
   "source": [
    "## Обзор данных"
   ]
  },
  {
   "cell_type": "markdown",
   "id": "51add553",
   "metadata": {},
   "source": [
    "Исхожные данные предоставлены в нескольких файлах:\n",
    "- client2.csv — информация о клиентах;\n",
    "- products.csv — информация о продуктах;\n",
    "- train_purchases.csv — история покупок клиентов из тренировочного набора;\n",
    "- test_purchases.csv — история покупок клиентов из теста;\n",
    "- train.csv — тренировочные данные с указанием treatment_flg — была ли совершена коммуникация, purchased — была ли совершена покупка\n",
    "- test.csv — тестовые данные.\n",
    "\n",
    "Для тестовых данных необходимо предсказать вероятность того, что клиент купит только при коммуникации."
   ]
  },
  {
   "cell_type": "markdown",
   "id": "d4f2b503",
   "metadata": {},
   "source": [
    "### Загрузка данных"
   ]
  },
  {
   "cell_type": "code",
   "execution_count": 2,
   "id": "c557e5ec",
   "metadata": {},
   "outputs": [],
   "source": [
    "# оффлайн\n",
    "try:\n",
    "    clients = pd.read_csv('clients2.csv')\n",
    "    products = pd.read_csv('products.csv')\n",
    "    train_purchases = pd.read_csv('train_purch.csv')\n",
    "    train_data = pd.read_csv('train.csv')\n",
    "    test_purchases = pd.read_csv('test_purch.csv')\n",
    "    test_data = pd.read_csv('test.csv')\n",
    "\n",
    "# на kaggle\n",
    "except Exception():\n",
    "    clients = pd.read_csv('/kaggle/input/uplift-shift-23/x5-uplift-valid/data/clients2.csv')\n",
    "    products = pd.read_csv('/kaggle/input/uplift-shift-23/x5-uplift-valid/data/products.csv')\n",
    "    train_purchases = pd.read_csv('/kaggle/input/uplift-shift-23/x5-uplift-valid/train_purch/train_purch.csv.csv')\n",
    "    train_data = pd.read_csv('/kaggle/input/uplift-shift-23/x5-uplift-valid/data/train.csv')\n",
    "    test_purchases = pd.read_csv('/kaggle/input/uplift-shift-23/x5-uplift-valid/test_purch/test_purch.csv')\n",
    "    test_data = pd.read_csv('/kaggle/input/uplift-shift-23/x5-uplift-valid/data/test.csv')\n",
    "    \n",
    "    "
   ]
  },
  {
   "cell_type": "markdown",
   "id": "f616a85b",
   "metadata": {},
   "source": [
    "### Обзор данных clients"
   ]
  },
  {
   "cell_type": "code",
   "execution_count": 3,
   "id": "09edf2db",
   "metadata": {},
   "outputs": [
    {
     "name": "stdout",
     "output_type": "stream",
     "text": [
      "<class 'pandas.core.frame.DataFrame'>\n",
      "RangeIndex: 200039 entries, 0 to 200038\n",
      "Data columns (total 6 columns):\n",
      " #   Column             Non-Null Count   Dtype  \n",
      "---  ------             --------------   -----  \n",
      " 0   client_id          200039 non-null  object \n",
      " 1   client_id.1        0 non-null       float64\n",
      " 2   first_issue_date   200039 non-null  object \n",
      " 3   first_redeem_date  182493 non-null  object \n",
      " 4   age                200039 non-null  int64  \n",
      " 5   gender             200039 non-null  object \n",
      "dtypes: float64(1), int64(1), object(4)\n",
      "memory usage: 9.2+ MB\n"
     ]
    }
   ],
   "source": [
    "clients.info()"
   ]
  },
  {
   "cell_type": "code",
   "execution_count": 4,
   "id": "e283eded",
   "metadata": {},
   "outputs": [
    {
     "data": {
      "text/html": [
       "<div>\n",
       "<style scoped>\n",
       "    .dataframe tbody tr th:only-of-type {\n",
       "        vertical-align: middle;\n",
       "    }\n",
       "\n",
       "    .dataframe tbody tr th {\n",
       "        vertical-align: top;\n",
       "    }\n",
       "\n",
       "    .dataframe thead th {\n",
       "        text-align: right;\n",
       "    }\n",
       "</style>\n",
       "<table border=\"1\" class=\"dataframe\">\n",
       "  <thead>\n",
       "    <tr style=\"text-align: right;\">\n",
       "      <th></th>\n",
       "      <th>client_id</th>\n",
       "      <th>client_id.1</th>\n",
       "      <th>first_issue_date</th>\n",
       "      <th>first_redeem_date</th>\n",
       "      <th>age</th>\n",
       "      <th>gender</th>\n",
       "    </tr>\n",
       "  </thead>\n",
       "  <tbody>\n",
       "    <tr>\n",
       "      <th>0</th>\n",
       "      <td>000012768d</td>\n",
       "      <td>NaN</td>\n",
       "      <td>2017-08-05 15:40:48</td>\n",
       "      <td>2018-01-04 19:30:07</td>\n",
       "      <td>45</td>\n",
       "      <td>U</td>\n",
       "    </tr>\n",
       "    <tr>\n",
       "      <th>1</th>\n",
       "      <td>000036f903</td>\n",
       "      <td>NaN</td>\n",
       "      <td>2017-04-10 13:54:23</td>\n",
       "      <td>2017-04-23 12:37:56</td>\n",
       "      <td>72</td>\n",
       "      <td>F</td>\n",
       "    </tr>\n",
       "    <tr>\n",
       "      <th>2</th>\n",
       "      <td>00010925a5</td>\n",
       "      <td>NaN</td>\n",
       "      <td>2018-07-24 16:21:29</td>\n",
       "      <td>2018-09-14 16:12:49</td>\n",
       "      <td>83</td>\n",
       "      <td>U</td>\n",
       "    </tr>\n",
       "    <tr>\n",
       "      <th>3</th>\n",
       "      <td>0001f552b0</td>\n",
       "      <td>NaN</td>\n",
       "      <td>2017-06-30 19:20:38</td>\n",
       "      <td>2018-08-28 12:59:45</td>\n",
       "      <td>33</td>\n",
       "      <td>F</td>\n",
       "    </tr>\n",
       "    <tr>\n",
       "      <th>4</th>\n",
       "      <td>00020e7b18</td>\n",
       "      <td>NaN</td>\n",
       "      <td>2017-11-27 11:41:45</td>\n",
       "      <td>2018-01-10 17:50:05</td>\n",
       "      <td>73</td>\n",
       "      <td>U</td>\n",
       "    </tr>\n",
       "  </tbody>\n",
       "</table>\n",
       "</div>"
      ],
      "text/plain": [
       "    client_id  client_id.1     first_issue_date    first_redeem_date  age  \\\n",
       "0  000012768d          NaN  2017-08-05 15:40:48  2018-01-04 19:30:07   45   \n",
       "1  000036f903          NaN  2017-04-10 13:54:23  2017-04-23 12:37:56   72   \n",
       "2  00010925a5          NaN  2018-07-24 16:21:29  2018-09-14 16:12:49   83   \n",
       "3  0001f552b0          NaN  2017-06-30 19:20:38  2018-08-28 12:59:45   33   \n",
       "4  00020e7b18          NaN  2017-11-27 11:41:45  2018-01-10 17:50:05   73   \n",
       "\n",
       "  gender  \n",
       "0      U  \n",
       "1      F  \n",
       "2      U  \n",
       "3      F  \n",
       "4      U  "
      ]
     },
     "execution_count": 4,
     "metadata": {},
     "output_type": "execute_result"
    }
   ],
   "source": [
    "clients.head()"
   ]
  },
  {
   "cell_type": "code",
   "execution_count": 5,
   "id": "042be9e3",
   "metadata": {},
   "outputs": [
    {
     "data": {
      "text/html": [
       "<div>\n",
       "<style scoped>\n",
       "    .dataframe tbody tr th:only-of-type {\n",
       "        vertical-align: middle;\n",
       "    }\n",
       "\n",
       "    .dataframe tbody tr th {\n",
       "        vertical-align: top;\n",
       "    }\n",
       "\n",
       "    .dataframe thead th {\n",
       "        text-align: right;\n",
       "    }\n",
       "</style>\n",
       "<table border=\"1\" class=\"dataframe\">\n",
       "  <thead>\n",
       "    <tr style=\"text-align: right;\">\n",
       "      <th></th>\n",
       "      <th>client_id.1</th>\n",
       "      <th>age</th>\n",
       "    </tr>\n",
       "  </thead>\n",
       "  <tbody>\n",
       "    <tr>\n",
       "      <th>count</th>\n",
       "      <td>0.0</td>\n",
       "      <td>200039.000000</td>\n",
       "    </tr>\n",
       "    <tr>\n",
       "      <th>mean</th>\n",
       "      <td>NaN</td>\n",
       "      <td>46.417329</td>\n",
       "    </tr>\n",
       "    <tr>\n",
       "      <th>std</th>\n",
       "      <td>NaN</td>\n",
       "      <td>49.532475</td>\n",
       "    </tr>\n",
       "    <tr>\n",
       "      <th>min</th>\n",
       "      <td>NaN</td>\n",
       "      <td>-7491.000000</td>\n",
       "    </tr>\n",
       "    <tr>\n",
       "      <th>25%</th>\n",
       "      <td>NaN</td>\n",
       "      <td>34.000000</td>\n",
       "    </tr>\n",
       "    <tr>\n",
       "      <th>50%</th>\n",
       "      <td>NaN</td>\n",
       "      <td>45.000000</td>\n",
       "    </tr>\n",
       "    <tr>\n",
       "      <th>75%</th>\n",
       "      <td>NaN</td>\n",
       "      <td>59.000000</td>\n",
       "    </tr>\n",
       "    <tr>\n",
       "      <th>max</th>\n",
       "      <td>NaN</td>\n",
       "      <td>1852.000000</td>\n",
       "    </tr>\n",
       "  </tbody>\n",
       "</table>\n",
       "</div>"
      ],
      "text/plain": [
       "       client_id.1            age\n",
       "count          0.0  200039.000000\n",
       "mean           NaN      46.417329\n",
       "std            NaN      49.532475\n",
       "min            NaN   -7491.000000\n",
       "25%            NaN      34.000000\n",
       "50%            NaN      45.000000\n",
       "75%            NaN      59.000000\n",
       "max            NaN    1852.000000"
      ]
     },
     "execution_count": 5,
     "metadata": {},
     "output_type": "execute_result"
    }
   ],
   "source": [
    "clients.describe()"
   ]
  },
  {
   "cell_type": "markdown",
   "id": "46554b6b",
   "metadata": {},
   "source": [
    "В нашем распоряжении имеются данные о 200 000 клиентах компании — их обезличенный идентификатор `client_id`, дата регистрации (или выпуска карты) `first_issue_date`, дата первого выкупа `first_redeem_date`. Прежде чем перейти к анализу, удалим столбец-признак `client_id.1` выгруженный с ошибкой."
   ]
  },
  {
   "cell_type": "code",
   "execution_count": 6,
   "id": "e1365024",
   "metadata": {},
   "outputs": [],
   "source": [
    "clients = clients.drop(columns='client_id.1')"
   ]
  },
  {
   "cell_type": "code",
   "execution_count": 7,
   "id": "ea40c458",
   "metadata": {},
   "outputs": [
    {
     "data": {
      "text/html": [
       "<div>\n",
       "<style scoped>\n",
       "    .dataframe tbody tr th:only-of-type {\n",
       "        vertical-align: middle;\n",
       "    }\n",
       "\n",
       "    .dataframe tbody tr th {\n",
       "        vertical-align: top;\n",
       "    }\n",
       "\n",
       "    .dataframe thead th {\n",
       "        text-align: right;\n",
       "    }\n",
       "</style>\n",
       "<table border=\"1\" class=\"dataframe\">\n",
       "  <thead>\n",
       "    <tr style=\"text-align: right;\">\n",
       "      <th></th>\n",
       "      <th>client_id</th>\n",
       "      <th>first_issue_date</th>\n",
       "      <th>first_redeem_date</th>\n",
       "      <th>age</th>\n",
       "      <th>gender</th>\n",
       "    </tr>\n",
       "  </thead>\n",
       "  <tbody>\n",
       "    <tr>\n",
       "      <th>0</th>\n",
       "      <td>000012768d</td>\n",
       "      <td>2017-08-05 15:40:48</td>\n",
       "      <td>2018-01-04 19:30:07</td>\n",
       "      <td>45</td>\n",
       "      <td>U</td>\n",
       "    </tr>\n",
       "    <tr>\n",
       "      <th>1</th>\n",
       "      <td>000036f903</td>\n",
       "      <td>2017-04-10 13:54:23</td>\n",
       "      <td>2017-04-23 12:37:56</td>\n",
       "      <td>72</td>\n",
       "      <td>F</td>\n",
       "    </tr>\n",
       "    <tr>\n",
       "      <th>2</th>\n",
       "      <td>00010925a5</td>\n",
       "      <td>2018-07-24 16:21:29</td>\n",
       "      <td>2018-09-14 16:12:49</td>\n",
       "      <td>83</td>\n",
       "      <td>U</td>\n",
       "    </tr>\n",
       "    <tr>\n",
       "      <th>3</th>\n",
       "      <td>0001f552b0</td>\n",
       "      <td>2017-06-30 19:20:38</td>\n",
       "      <td>2018-08-28 12:59:45</td>\n",
       "      <td>33</td>\n",
       "      <td>F</td>\n",
       "    </tr>\n",
       "    <tr>\n",
       "      <th>4</th>\n",
       "      <td>00020e7b18</td>\n",
       "      <td>2017-11-27 11:41:45</td>\n",
       "      <td>2018-01-10 17:50:05</td>\n",
       "      <td>73</td>\n",
       "      <td>U</td>\n",
       "    </tr>\n",
       "  </tbody>\n",
       "</table>\n",
       "</div>"
      ],
      "text/plain": [
       "    client_id     first_issue_date    first_redeem_date  age gender\n",
       "0  000012768d  2017-08-05 15:40:48  2018-01-04 19:30:07   45      U\n",
       "1  000036f903  2017-04-10 13:54:23  2017-04-23 12:37:56   72      F\n",
       "2  00010925a5  2018-07-24 16:21:29  2018-09-14 16:12:49   83      U\n",
       "3  0001f552b0  2017-06-30 19:20:38  2018-08-28 12:59:45   33      F\n",
       "4  00020e7b18  2017-11-27 11:41:45  2018-01-10 17:50:05   73      U"
      ]
     },
     "execution_count": 7,
     "metadata": {},
     "output_type": "execute_result"
    }
   ],
   "source": [
    "clients.head()"
   ]
  },
  {
   "cell_type": "markdown",
   "id": "fbcbbfdc",
   "metadata": {},
   "source": [
    "Агреггированные данные (метод `describe`) показали наличие в столбце `age` аномальных значений — минимальное значение является отрицательным, а максимальное — превышает тысячу лет. Посмотрим на количество выбросов, приняв за границу нижнюю границу \"нормальности\" 7 лет (дееспособность для мелких бытовых сделок), а за верхнюю — 100 лет."
   ]
  },
  {
   "cell_type": "code",
   "execution_count": 8,
   "id": "e1c7fd9e",
   "metadata": {
    "scrolled": true
   },
   "outputs": [
    {
     "data": {
      "text/html": [
       "<div>\n",
       "<style scoped>\n",
       "    .dataframe tbody tr th:only-of-type {\n",
       "        vertical-align: middle;\n",
       "    }\n",
       "\n",
       "    .dataframe tbody tr th {\n",
       "        vertical-align: top;\n",
       "    }\n",
       "\n",
       "    .dataframe thead th {\n",
       "        text-align: right;\n",
       "    }\n",
       "</style>\n",
       "<table border=\"1\" class=\"dataframe\">\n",
       "  <thead>\n",
       "    <tr style=\"text-align: right;\">\n",
       "      <th></th>\n",
       "      <th>client_id</th>\n",
       "      <th>first_issue_date</th>\n",
       "      <th>first_redeem_date</th>\n",
       "      <th>age</th>\n",
       "      <th>gender</th>\n",
       "    </tr>\n",
       "  </thead>\n",
       "  <tbody>\n",
       "    <tr>\n",
       "      <th>5</th>\n",
       "      <td>000220a0a7</td>\n",
       "      <td>2017-12-09 17:26:20</td>\n",
       "      <td>2018-10-04 14:59:29</td>\n",
       "      <td>115</td>\n",
       "      <td>M</td>\n",
       "    </tr>\n",
       "    <tr>\n",
       "      <th>47</th>\n",
       "      <td>000d599743</td>\n",
       "      <td>2018-08-29 09:08:39</td>\n",
       "      <td>NaN</td>\n",
       "      <td>959</td>\n",
       "      <td>U</td>\n",
       "    </tr>\n",
       "    <tr>\n",
       "      <th>882</th>\n",
       "      <td>0130b696fe</td>\n",
       "      <td>2018-07-29 21:25:26</td>\n",
       "      <td>2018-09-27 21:24:14</td>\n",
       "      <td>119</td>\n",
       "      <td>M</td>\n",
       "    </tr>\n",
       "    <tr>\n",
       "      <th>1179</th>\n",
       "      <td>018eab4dfe</td>\n",
       "      <td>2017-09-02 12:06:14</td>\n",
       "      <td>2018-06-11 10:50:37</td>\n",
       "      <td>108</td>\n",
       "      <td>U</td>\n",
       "    </tr>\n",
       "    <tr>\n",
       "      <th>1265</th>\n",
       "      <td>01a8fcf7e6</td>\n",
       "      <td>2017-06-15 13:45:33</td>\n",
       "      <td>2017-10-06 12:20:46</td>\n",
       "      <td>119</td>\n",
       "      <td>U</td>\n",
       "    </tr>\n",
       "    <tr>\n",
       "      <th>...</th>\n",
       "      <td>...</td>\n",
       "      <td>...</td>\n",
       "      <td>...</td>\n",
       "      <td>...</td>\n",
       "      <td>...</td>\n",
       "    </tr>\n",
       "    <tr>\n",
       "      <th>198928</th>\n",
       "      <td>fe9c17328e</td>\n",
       "      <td>2018-05-19 14:43:23</td>\n",
       "      <td>2018-09-25 18:24:33</td>\n",
       "      <td>931</td>\n",
       "      <td>U</td>\n",
       "    </tr>\n",
       "    <tr>\n",
       "      <th>199064</th>\n",
       "      <td>fec39b0d96</td>\n",
       "      <td>2018-11-15 11:03:26</td>\n",
       "      <td>2018-12-26 12:03:37</td>\n",
       "      <td>1</td>\n",
       "      <td>U</td>\n",
       "    </tr>\n",
       "    <tr>\n",
       "      <th>199500</th>\n",
       "      <td>ff4fadac9f</td>\n",
       "      <td>2017-04-12 16:37:40</td>\n",
       "      <td>2018-12-05 18:41:35</td>\n",
       "      <td>115</td>\n",
       "      <td>M</td>\n",
       "    </tr>\n",
       "    <tr>\n",
       "      <th>199557</th>\n",
       "      <td>ff6614ddd4</td>\n",
       "      <td>2018-12-02 22:41:58</td>\n",
       "      <td>2019-02-08 13:47:56</td>\n",
       "      <td>119</td>\n",
       "      <td>U</td>\n",
       "    </tr>\n",
       "    <tr>\n",
       "      <th>199579</th>\n",
       "      <td>ff6aa78c28</td>\n",
       "      <td>2017-08-17 14:00:37</td>\n",
       "      <td>NaN</td>\n",
       "      <td>119</td>\n",
       "      <td>U</td>\n",
       "    </tr>\n",
       "  </tbody>\n",
       "</table>\n",
       "<p>659 rows × 5 columns</p>\n",
       "</div>"
      ],
      "text/plain": [
       "         client_id     first_issue_date    first_redeem_date  age gender\n",
       "5       000220a0a7  2017-12-09 17:26:20  2018-10-04 14:59:29  115      M\n",
       "47      000d599743  2018-08-29 09:08:39                  NaN  959      U\n",
       "882     0130b696fe  2018-07-29 21:25:26  2018-09-27 21:24:14  119      M\n",
       "1179    018eab4dfe  2017-09-02 12:06:14  2018-06-11 10:50:37  108      U\n",
       "1265    01a8fcf7e6  2017-06-15 13:45:33  2017-10-06 12:20:46  119      U\n",
       "...            ...                  ...                  ...  ...    ...\n",
       "198928  fe9c17328e  2018-05-19 14:43:23  2018-09-25 18:24:33  931      U\n",
       "199064  fec39b0d96  2018-11-15 11:03:26  2018-12-26 12:03:37    1      U\n",
       "199500  ff4fadac9f  2017-04-12 16:37:40  2018-12-05 18:41:35  115      M\n",
       "199557  ff6614ddd4  2018-12-02 22:41:58  2019-02-08 13:47:56  119      U\n",
       "199579  ff6aa78c28  2017-08-17 14:00:37                  NaN  119      U\n",
       "\n",
       "[659 rows x 5 columns]"
      ]
     },
     "execution_count": 8,
     "metadata": {},
     "output_type": "execute_result"
    }
   ],
   "source": [
    "clients[(clients['age']<7) | (clients['age']>100)]"
   ]
  },
  {
   "cell_type": "markdown",
   "id": "45fd5c07",
   "metadata": {},
   "source": [
    "653 объекта с аномальными значениями — около 0.3% процента всего датасета. Удалим данные выбросы и посмотрим на распределение по возрасту после очистки данных."
   ]
  },
  {
   "cell_type": "code",
   "execution_count": 9,
   "id": "0a1e6fa8",
   "metadata": {},
   "outputs": [
    {
     "data": {
      "image/png": "[encoded data removed]",
      "text/plain": [
       "<Figure size 1080x576 with 2 Axes>"
      ]
     },
     "metadata": {
      "needs_background": "light"
     },
     "output_type": "display_data"
    }
   ],
   "source": [
    "clients = clients[(clients['age']>6) & (clients['age'] < 100)]\n",
    "\n",
    "\n",
    "fig = plt.figure(figsize = (15,8))\n",
    "ax_1 = fig.add_subplot(1,2,1)\n",
    "ax_2 = fig.add_subplot(1,2,2)\n",
    "\n",
    "hist_1 = sns.histplot(data = clients, palette = \"RdYlBu\", ax=ax_1)\n",
    "ax_1.set_title('Распределение по возрасту, без группировки')\n",
    "ax_1.set_xlabel('Возраст')\n",
    "ax_1.set_ylabel('Количество')\n",
    "\n",
    "hist_2 = sns.histplot(data = clients, palette = \"RdYlBu\", bins = 10, ax=ax_2)\n",
    "ax_2.set_title('Распределение по возрасту по группам')\n",
    "ax_2.set_xlabel('Возраст')\n",
    "ax_2.set_ylabel('Количество')\n",
    "\n",
    "plt.show()"
   ]
  },
  {
   "cell_type": "code",
   "execution_count": 10,
   "id": "d0643a41",
   "metadata": {},
   "outputs": [
    {
     "data": {
      "text/html": [
       "<div>\n",
       "<style scoped>\n",
       "    .dataframe tbody tr th:only-of-type {\n",
       "        vertical-align: middle;\n",
       "    }\n",
       "\n",
       "    .dataframe tbody tr th {\n",
       "        vertical-align: top;\n",
       "    }\n",
       "\n",
       "    .dataframe thead th {\n",
       "        text-align: right;\n",
       "    }\n",
       "</style>\n",
       "<table border=\"1\" class=\"dataframe\">\n",
       "  <thead>\n",
       "    <tr style=\"text-align: right;\">\n",
       "      <th></th>\n",
       "      <th>age</th>\n",
       "    </tr>\n",
       "  </thead>\n",
       "  <tbody>\n",
       "    <tr>\n",
       "      <th>count</th>\n",
       "      <td>199378.000000</td>\n",
       "    </tr>\n",
       "    <tr>\n",
       "      <th>mean</th>\n",
       "      <td>46.381191</td>\n",
       "    </tr>\n",
       "    <tr>\n",
       "      <th>std</th>\n",
       "      <td>15.909418</td>\n",
       "    </tr>\n",
       "    <tr>\n",
       "      <th>min</th>\n",
       "      <td>7.000000</td>\n",
       "    </tr>\n",
       "    <tr>\n",
       "      <th>25%</th>\n",
       "      <td>34.000000</td>\n",
       "    </tr>\n",
       "    <tr>\n",
       "      <th>50%</th>\n",
       "      <td>45.000000</td>\n",
       "    </tr>\n",
       "    <tr>\n",
       "      <th>75%</th>\n",
       "      <td>59.000000</td>\n",
       "    </tr>\n",
       "    <tr>\n",
       "      <th>max</th>\n",
       "      <td>98.000000</td>\n",
       "    </tr>\n",
       "  </tbody>\n",
       "</table>\n",
       "</div>"
      ],
      "text/plain": [
       "                 age\n",
       "count  199378.000000\n",
       "mean       46.381191\n",
       "std        15.909418\n",
       "min         7.000000\n",
       "25%        34.000000\n",
       "50%        45.000000\n",
       "75%        59.000000\n",
       "max        98.000000"
      ]
     },
     "execution_count": 10,
     "metadata": {},
     "output_type": "execute_result"
    }
   ],
   "source": [
    "clients.describe()"
   ]
  },
  {
   "cell_type": "markdown",
   "id": "7859d8ce",
   "metadata": {},
   "source": [
    "Медианное значение возраста — 45 лет, среднее — 46.38 . Однако, на графиках распределения видно, что в датасете преобладают две возрастные группы — от 30 до 40 и от 55 до 65 лет, которые в среднем и дают значение 46,3"
   ]
  },
  {
   "cell_type": "markdown",
   "id": "e6e04cda",
   "metadata": {},
   "source": [
    "### Обзор данных products"
   ]
  },
  {
   "cell_type": "markdown",
   "id": "f15df997",
   "metadata": {},
   "source": [
    "В products.csv сохранены данные от товарах. "
   ]
  },
  {
   "cell_type": "code",
   "execution_count": 11,
   "id": "0c630270",
   "metadata": {},
   "outputs": [
    {
     "data": {
      "text/html": [
       "<div>\n",
       "<style scoped>\n",
       "    .dataframe tbody tr th:only-of-type {\n",
       "        vertical-align: middle;\n",
       "    }\n",
       "\n",
       "    .dataframe tbody tr th {\n",
       "        vertical-align: top;\n",
       "    }\n",
       "\n",
       "    .dataframe thead th {\n",
       "        text-align: right;\n",
       "    }\n",
       "</style>\n",
       "<table border=\"1\" class=\"dataframe\">\n",
       "  <thead>\n",
       "    <tr style=\"text-align: right;\">\n",
       "      <th></th>\n",
       "      <th>product_id</th>\n",
       "      <th>level_1</th>\n",
       "      <th>level_2</th>\n",
       "      <th>level_3</th>\n",
       "      <th>level_4</th>\n",
       "      <th>segment_id</th>\n",
       "      <th>brand_id</th>\n",
       "      <th>vendor_id</th>\n",
       "      <th>netto</th>\n",
       "      <th>is_own_trademark</th>\n",
       "      <th>is_alcohol</th>\n",
       "    </tr>\n",
       "  </thead>\n",
       "  <tbody>\n",
       "    <tr>\n",
       "      <th>0</th>\n",
       "      <td>0003020d3c</td>\n",
       "      <td>c3d3a8e8c6</td>\n",
       "      <td>c2a3ea8d5e</td>\n",
       "      <td>b7cda0ec0c</td>\n",
       "      <td>6376f2a852</td>\n",
       "      <td>123.0</td>\n",
       "      <td>394a54a7c1</td>\n",
       "      <td>9eaff48661</td>\n",
       "      <td>0.400</td>\n",
       "      <td>0</td>\n",
       "      <td>0</td>\n",
       "    </tr>\n",
       "    <tr>\n",
       "      <th>1</th>\n",
       "      <td>0003870676</td>\n",
       "      <td>e344ab2e71</td>\n",
       "      <td>52f13dac0c</td>\n",
       "      <td>d3cfe81323</td>\n",
       "      <td>6dc544533f</td>\n",
       "      <td>105.0</td>\n",
       "      <td>acd3dd483f</td>\n",
       "      <td>10486c3cf0</td>\n",
       "      <td>0.680</td>\n",
       "      <td>0</td>\n",
       "      <td>0</td>\n",
       "    </tr>\n",
       "    <tr>\n",
       "      <th>2</th>\n",
       "      <td>0003ceaf69</td>\n",
       "      <td>c3d3a8e8c6</td>\n",
       "      <td>f2333c90fb</td>\n",
       "      <td>419bc5b424</td>\n",
       "      <td>f6148afbc0</td>\n",
       "      <td>271.0</td>\n",
       "      <td>f597581079</td>\n",
       "      <td>764e660dda</td>\n",
       "      <td>0.500</td>\n",
       "      <td>0</td>\n",
       "      <td>0</td>\n",
       "    </tr>\n",
       "    <tr>\n",
       "      <th>3</th>\n",
       "      <td>000701e093</td>\n",
       "      <td>ec62ce61e3</td>\n",
       "      <td>4202626fcb</td>\n",
       "      <td>88a515c084</td>\n",
       "      <td>48cf3d488f</td>\n",
       "      <td>172.0</td>\n",
       "      <td>54a90fe769</td>\n",
       "      <td>03c2d70bad</td>\n",
       "      <td>0.112</td>\n",
       "      <td>0</td>\n",
       "      <td>0</td>\n",
       "    </tr>\n",
       "    <tr>\n",
       "      <th>4</th>\n",
       "      <td>0007149564</td>\n",
       "      <td>e344ab2e71</td>\n",
       "      <td>52f13dac0c</td>\n",
       "      <td>d3cfe81323</td>\n",
       "      <td>6dc544533f</td>\n",
       "      <td>105.0</td>\n",
       "      <td>63417fe1f3</td>\n",
       "      <td>f329130198</td>\n",
       "      <td>0.600</td>\n",
       "      <td>0</td>\n",
       "      <td>0</td>\n",
       "    </tr>\n",
       "  </tbody>\n",
       "</table>\n",
       "</div>"
      ],
      "text/plain": [
       "   product_id     level_1     level_2     level_3     level_4  segment_id  \\\n",
       "0  0003020d3c  c3d3a8e8c6  c2a3ea8d5e  b7cda0ec0c  6376f2a852       123.0   \n",
       "1  0003870676  e344ab2e71  52f13dac0c  d3cfe81323  6dc544533f       105.0   \n",
       "2  0003ceaf69  c3d3a8e8c6  f2333c90fb  419bc5b424  f6148afbc0       271.0   \n",
       "3  000701e093  ec62ce61e3  4202626fcb  88a515c084  48cf3d488f       172.0   \n",
       "4  0007149564  e344ab2e71  52f13dac0c  d3cfe81323  6dc544533f       105.0   \n",
       "\n",
       "     brand_id   vendor_id  netto  is_own_trademark  is_alcohol  \n",
       "0  394a54a7c1  9eaff48661  0.400                 0           0  \n",
       "1  acd3dd483f  10486c3cf0  0.680                 0           0  \n",
       "2  f597581079  764e660dda  0.500                 0           0  \n",
       "3  54a90fe769  03c2d70bad  0.112                 0           0  \n",
       "4  63417fe1f3  f329130198  0.600                 0           0  "
      ]
     },
     "execution_count": 11,
     "metadata": {},
     "output_type": "execute_result"
    }
   ],
   "source": [
    "products.head()"
   ]
  },
  {
   "cell_type": "code",
   "execution_count": 12,
   "id": "65c60ae8",
   "metadata": {},
   "outputs": [
    {
     "name": "stdout",
     "output_type": "stream",
     "text": [
      "<class 'pandas.core.frame.DataFrame'>\n",
      "RangeIndex: 43038 entries, 0 to 43037\n",
      "Data columns (total 11 columns):\n",
      " #   Column            Non-Null Count  Dtype  \n",
      "---  ------            --------------  -----  \n",
      " 0   product_id        43038 non-null  object \n",
      " 1   level_1           43035 non-null  object \n",
      " 2   level_2           43035 non-null  object \n",
      " 3   level_3           43035 non-null  object \n",
      " 4   level_4           43035 non-null  object \n",
      " 5   segment_id        41466 non-null  float64\n",
      " 6   brand_id          37838 non-null  object \n",
      " 7   vendor_id         43004 non-null  object \n",
      " 8   netto             43035 non-null  float64\n",
      " 9   is_own_trademark  43038 non-null  int64  \n",
      " 10  is_alcohol        43038 non-null  int64  \n",
      "dtypes: float64(2), int64(2), object(7)\n",
      "memory usage: 3.6+ MB\n"
     ]
    }
   ],
   "source": [
    "products.info()"
   ]
  },
  {
   "cell_type": "markdown",
   "id": "09e7cdaf",
   "metadata": {},
   "source": [
    "В таблице — данные о 43038 товарах. По почти всем им имеются данных о некоторых \"уровнях\", сегментах к которым они принадлежат, производителе, вендоре, нетто-весе и информация, является ли данный товар собственной торговой маркой (далее СТМ) и алкоголем."
   ]
  },
  {
   "cell_type": "markdown",
   "id": "f87f036c",
   "metadata": {},
   "source": [
    "Попробуем проанализировать данные о \"уровнях\" — для этого посмотрим на уникальные значения в признаках — являются ли они уникальными для каждого товара (как product_id) или имеются общие значения для разных товаров."
   ]
  },
  {
   "cell_type": "code",
   "execution_count": 13,
   "id": "53b39861",
   "metadata": {},
   "outputs": [
    {
     "data": {
      "text/plain": [
       "e344ab2e71    22183\n",
       "c3d3a8e8c6    16573\n",
       "ec62ce61e3     4279\n",
       "Name: level_1, dtype: int64"
      ]
     },
     "execution_count": 13,
     "metadata": {},
     "output_type": "execute_result"
    }
   ],
   "source": [
    "products['level_1'].value_counts()"
   ]
  },
  {
   "cell_type": "markdown",
   "id": "e4545dc7",
   "metadata": {},
   "source": [
    "Всего три значения — сложные кодированные значения можно заменить категориями."
   ]
  },
  {
   "cell_type": "code",
   "execution_count": 14,
   "id": "f02ec4a0",
   "metadata": {},
   "outputs": [
    {
     "data": {
      "text/plain": [
       "52f13dac0c    8891\n",
       "ad2b2e17d2    6631\n",
       "f2333c90fb    3310\n",
       "ed2ad1797c    3257\n",
       "703f4b6eb0    2396\n",
       "749c619457    2393\n",
       "14d373dff5    2377\n",
       "c2a3ea8d5e    2209\n",
       "1d2939ba1d    1717\n",
       "f93982269d    1343\n",
       "4202626fcb    1124\n",
       "de6f3b925a     910\n",
       "be86806c6b     757\n",
       "6b4ae3f25d     570\n",
       "a49a930a49     540\n",
       "d283080a93     523\n",
       "70ac384d6a     502\n",
       "825fe699ab     441\n",
       "034aca0659     383\n",
       "f980df59e1     331\n",
       "36bd2cad67     285\n",
       "63852cb2ab     261\n",
       "428e08386e     245\n",
       "91fb12a54a     242\n",
       "fb3d79909e     225\n",
       "6f624f4be0     206\n",
       "e8705574ff     174\n",
       "b0c4967fce     125\n",
       "93073a7304     114\n",
       "79666b6e44     100\n",
       "8a277809e5      87\n",
       "3f9010c11e      74\n",
       "fb84f08028      69\n",
       "c6e84cdac8      56\n",
       "26ae5a7da8      39\n",
       "c3d6b407d9      36\n",
       "a75f1bad01      18\n",
       "35642addd4      17\n",
       "3ef03403a0      17\n",
       "a2963967ff      16\n",
       "2ede06c1ee      14\n",
       "15e7af62dd      10\n",
       "Name: level_2, dtype: int64"
      ]
     },
     "execution_count": 14,
     "metadata": {},
     "output_type": "execute_result"
    }
   ],
   "source": [
    "products['level_2'].value_counts()"
   ]
  },
  {
   "cell_type": "code",
   "execution_count": 15,
   "id": "cb8c4065",
   "metadata": {},
   "outputs": [
    {
     "data": {
      "text/plain": [
       "42"
      ]
     },
     "execution_count": 15,
     "metadata": {},
     "output_type": "execute_result"
    }
   ],
   "source": [
    "len(products['level_2'].value_counts())"
   ]
  },
  {
   "cell_type": "markdown",
   "id": "d94b2d06",
   "metadata": {},
   "source": [
    "По второму \"уровню\" товары сегментированы уже на 42 группы."
   ]
  },
  {
   "cell_type": "code",
   "execution_count": 16,
   "id": "479dafda",
   "metadata": {},
   "outputs": [
    {
     "data": {
      "text/plain": [
       "ca69ed9de2    3737\n",
       "419bc5b424    2729\n",
       "0f84eb7480    2571\n",
       "38816369ce    2324\n",
       "6b55683dad    1862\n",
       "              ... \n",
       "d26b025821       1\n",
       "b62e37b39d       1\n",
       "cf7a66aa8b       1\n",
       "475f86c453       1\n",
       "c0a411f3b8       1\n",
       "Name: level_3, Length: 201, dtype: int64"
      ]
     },
     "execution_count": 16,
     "metadata": {},
     "output_type": "execute_result"
    }
   ],
   "source": [
    "products['level_3'].value_counts()"
   ]
  },
  {
   "cell_type": "markdown",
   "id": "bfea94eb",
   "metadata": {},
   "source": [
    "По третьему — на 201 группу."
   ]
  },
  {
   "cell_type": "code",
   "execution_count": 17,
   "id": "96bf17df",
   "metadata": {},
   "outputs": [
    {
     "data": {
      "text/plain": [
       "420c3b3f0b    2500\n",
       "4d4b7e1f16    2077\n",
       "3a074a6620    1485\n",
       "6dc544533f    1313\n",
       "b4b0e4c470     784\n",
       "              ... \n",
       "48aaaf19eb       1\n",
       "6eae515849       1\n",
       "1ed02fb53a       1\n",
       "f4584a44cc       1\n",
       "b94bdd1be8       1\n",
       "Name: level_4, Length: 790, dtype: int64"
      ]
     },
     "execution_count": 17,
     "metadata": {},
     "output_type": "execute_result"
    }
   ],
   "source": [
    "products['level_4'].value_counts()"
   ]
  },
  {
   "cell_type": "markdown",
   "id": "b01f3364",
   "metadata": {},
   "source": [
    "На четвертом \"уровне\" выделено уже 790 групп товаров. Посмотрим выборочно на какую-нибудь группу."
   ]
  },
  {
   "cell_type": "code",
   "execution_count": 18,
   "id": "86c49340",
   "metadata": {
    "scrolled": true
   },
   "outputs": [
    {
     "data": {
      "text/html": [
       "<div>\n",
       "<style scoped>\n",
       "    .dataframe tbody tr th:only-of-type {\n",
       "        vertical-align: middle;\n",
       "    }\n",
       "\n",
       "    .dataframe tbody tr th {\n",
       "        vertical-align: top;\n",
       "    }\n",
       "\n",
       "    .dataframe thead th {\n",
       "        text-align: right;\n",
       "    }\n",
       "</style>\n",
       "<table border=\"1\" class=\"dataframe\">\n",
       "  <thead>\n",
       "    <tr style=\"text-align: right;\">\n",
       "      <th></th>\n",
       "      <th>product_id</th>\n",
       "      <th>level_1</th>\n",
       "      <th>level_2</th>\n",
       "      <th>level_3</th>\n",
       "      <th>level_4</th>\n",
       "      <th>segment_id</th>\n",
       "      <th>brand_id</th>\n",
       "      <th>vendor_id</th>\n",
       "      <th>netto</th>\n",
       "      <th>is_own_trademark</th>\n",
       "      <th>is_alcohol</th>\n",
       "    </tr>\n",
       "  </thead>\n",
       "  <tbody>\n",
       "    <tr>\n",
       "      <th>3</th>\n",
       "      <td>000701e093</td>\n",
       "      <td>ec62ce61e3</td>\n",
       "      <td>4202626fcb</td>\n",
       "      <td>88a515c084</td>\n",
       "      <td>48cf3d488f</td>\n",
       "      <td>172.0</td>\n",
       "      <td>54a90fe769</td>\n",
       "      <td>03c2d70bad</td>\n",
       "      <td>0.112</td>\n",
       "      <td>0</td>\n",
       "      <td>0</td>\n",
       "    </tr>\n",
       "    <tr>\n",
       "      <th>13</th>\n",
       "      <td>0016914eaa</td>\n",
       "      <td>ec62ce61e3</td>\n",
       "      <td>8a277809e5</td>\n",
       "      <td>d605ac2b79</td>\n",
       "      <td>fbbd117fd7</td>\n",
       "      <td>102.0</td>\n",
       "      <td>0d6f137fb6</td>\n",
       "      <td>8ad28e1ef9</td>\n",
       "      <td>0.023</td>\n",
       "      <td>0</td>\n",
       "      <td>0</td>\n",
       "    </tr>\n",
       "    <tr>\n",
       "      <th>51</th>\n",
       "      <td>0043d0725f</td>\n",
       "      <td>ec62ce61e3</td>\n",
       "      <td>a49a930a49</td>\n",
       "      <td>08efd6b20e</td>\n",
       "      <td>69c2604ded</td>\n",
       "      <td>35.0</td>\n",
       "      <td>0d6f137fb6</td>\n",
       "      <td>f3e7cd2a2a</td>\n",
       "      <td>0.214</td>\n",
       "      <td>0</td>\n",
       "      <td>0</td>\n",
       "    </tr>\n",
       "    <tr>\n",
       "      <th>62</th>\n",
       "      <td>005b7e7c92</td>\n",
       "      <td>ec62ce61e3</td>\n",
       "      <td>be86806c6b</td>\n",
       "      <td>58f4db5467</td>\n",
       "      <td>39459b730f</td>\n",
       "      <td>45.0</td>\n",
       "      <td>NaN</td>\n",
       "      <td>c63add1307</td>\n",
       "      <td>0.020</td>\n",
       "      <td>0</td>\n",
       "      <td>0</td>\n",
       "    </tr>\n",
       "    <tr>\n",
       "      <th>65</th>\n",
       "      <td>0063bcd598</td>\n",
       "      <td>ec62ce61e3</td>\n",
       "      <td>c6e84cdac8</td>\n",
       "      <td>1eccbc65f5</td>\n",
       "      <td>89906089c7</td>\n",
       "      <td>80.0</td>\n",
       "      <td>767e3af396</td>\n",
       "      <td>056b1621ca</td>\n",
       "      <td>0.129</td>\n",
       "      <td>0</td>\n",
       "      <td>0</td>\n",
       "    </tr>\n",
       "    <tr>\n",
       "      <th>69</th>\n",
       "      <td>00678eb1df</td>\n",
       "      <td>ec62ce61e3</td>\n",
       "      <td>a49a930a49</td>\n",
       "      <td>d1dc20357f</td>\n",
       "      <td>e83e5f0a95</td>\n",
       "      <td>NaN</td>\n",
       "      <td>NaN</td>\n",
       "      <td>01f7c589b1</td>\n",
       "      <td>0.038</td>\n",
       "      <td>0</td>\n",
       "      <td>0</td>\n",
       "    </tr>\n",
       "    <tr>\n",
       "      <th>70</th>\n",
       "      <td>0067d95477</td>\n",
       "      <td>ec62ce61e3</td>\n",
       "      <td>4202626fcb</td>\n",
       "      <td>a8db01db9c</td>\n",
       "      <td>8ad4eec70f</td>\n",
       "      <td>260.0</td>\n",
       "      <td>8642da17ad</td>\n",
       "      <td>43acd80c1a</td>\n",
       "      <td>0.020</td>\n",
       "      <td>1</td>\n",
       "      <td>0</td>\n",
       "    </tr>\n",
       "    <tr>\n",
       "      <th>97</th>\n",
       "      <td>009caf4750</td>\n",
       "      <td>ec62ce61e3</td>\n",
       "      <td>93073a7304</td>\n",
       "      <td>b30f37e434</td>\n",
       "      <td>33756a6077</td>\n",
       "      <td>260.0</td>\n",
       "      <td>4da2dc345f</td>\n",
       "      <td>1962dd9523</td>\n",
       "      <td>0.250</td>\n",
       "      <td>0</td>\n",
       "      <td>0</td>\n",
       "    </tr>\n",
       "    <tr>\n",
       "      <th>98</th>\n",
       "      <td>009dd67cb8</td>\n",
       "      <td>ec62ce61e3</td>\n",
       "      <td>4202626fcb</td>\n",
       "      <td>88a515c084</td>\n",
       "      <td>48cf3d488f</td>\n",
       "      <td>172.0</td>\n",
       "      <td>10a37e42c7</td>\n",
       "      <td>31be4d3c13</td>\n",
       "      <td>0.113</td>\n",
       "      <td>0</td>\n",
       "      <td>0</td>\n",
       "    </tr>\n",
       "    <tr>\n",
       "      <th>122</th>\n",
       "      <td>00c935c63f</td>\n",
       "      <td>ec62ce61e3</td>\n",
       "      <td>36bd2cad67</td>\n",
       "      <td>edbe75f28a</td>\n",
       "      <td>22aaba47b2</td>\n",
       "      <td>75.0</td>\n",
       "      <td>0d6f137fb6</td>\n",
       "      <td>2d5c53ab8a</td>\n",
       "      <td>0.069</td>\n",
       "      <td>0</td>\n",
       "      <td>0</td>\n",
       "    </tr>\n",
       "    <tr>\n",
       "      <th>128</th>\n",
       "      <td>00d45396a6</td>\n",
       "      <td>ec62ce61e3</td>\n",
       "      <td>4202626fcb</td>\n",
       "      <td>a8db01db9c</td>\n",
       "      <td>9d5c6c6b11</td>\n",
       "      <td>260.0</td>\n",
       "      <td>0d6f137fb6</td>\n",
       "      <td>83f98e6dc3</td>\n",
       "      <td>0.045</td>\n",
       "      <td>0</td>\n",
       "      <td>0</td>\n",
       "    </tr>\n",
       "    <tr>\n",
       "      <th>132</th>\n",
       "      <td>00de557bd5</td>\n",
       "      <td>ec62ce61e3</td>\n",
       "      <td>e8705574ff</td>\n",
       "      <td>bec682d61b</td>\n",
       "      <td>bf1622c3ae</td>\n",
       "      <td>148.0</td>\n",
       "      <td>0608bd1f40</td>\n",
       "      <td>ef3b92f068</td>\n",
       "      <td>0.030</td>\n",
       "      <td>0</td>\n",
       "      <td>0</td>\n",
       "    </tr>\n",
       "    <tr>\n",
       "      <th>133</th>\n",
       "      <td>00de7e4339</td>\n",
       "      <td>ec62ce61e3</td>\n",
       "      <td>6b4ae3f25d</td>\n",
       "      <td>83f17acdfd</td>\n",
       "      <td>45e2127ec0</td>\n",
       "      <td>NaN</td>\n",
       "      <td>585124a4e4</td>\n",
       "      <td>6afe337e49</td>\n",
       "      <td>0.111</td>\n",
       "      <td>0</td>\n",
       "      <td>0</td>\n",
       "    </tr>\n",
       "    <tr>\n",
       "      <th>137</th>\n",
       "      <td>00e66616ed</td>\n",
       "      <td>ec62ce61e3</td>\n",
       "      <td>4202626fcb</td>\n",
       "      <td>1f80eae8c9</td>\n",
       "      <td>f3cd0698fa</td>\n",
       "      <td>118.0</td>\n",
       "      <td>NaN</td>\n",
       "      <td>83f98e6dc3</td>\n",
       "      <td>0.059</td>\n",
       "      <td>0</td>\n",
       "      <td>0</td>\n",
       "    </tr>\n",
       "    <tr>\n",
       "      <th>169</th>\n",
       "      <td>011e106198</td>\n",
       "      <td>ec62ce61e3</td>\n",
       "      <td>be86806c6b</td>\n",
       "      <td>58f4db5467</td>\n",
       "      <td>0216d905a3</td>\n",
       "      <td>45.0</td>\n",
       "      <td>0d6f137fb6</td>\n",
       "      <td>2273ca5604</td>\n",
       "      <td>0.289</td>\n",
       "      <td>0</td>\n",
       "      <td>0</td>\n",
       "    </tr>\n",
       "  </tbody>\n",
       "</table>\n",
       "</div>"
      ],
      "text/plain": [
       "     product_id     level_1     level_2     level_3     level_4  segment_id  \\\n",
       "3    000701e093  ec62ce61e3  4202626fcb  88a515c084  48cf3d488f       172.0   \n",
       "13   0016914eaa  ec62ce61e3  8a277809e5  d605ac2b79  fbbd117fd7       102.0   \n",
       "51   0043d0725f  ec62ce61e3  a49a930a49  08efd6b20e  69c2604ded        35.0   \n",
       "62   005b7e7c92  ec62ce61e3  be86806c6b  58f4db5467  39459b730f        45.0   \n",
       "65   0063bcd598  ec62ce61e3  c6e84cdac8  1eccbc65f5  89906089c7        80.0   \n",
       "69   00678eb1df  ec62ce61e3  a49a930a49  d1dc20357f  e83e5f0a95         NaN   \n",
       "70   0067d95477  ec62ce61e3  4202626fcb  a8db01db9c  8ad4eec70f       260.0   \n",
       "97   009caf4750  ec62ce61e3  93073a7304  b30f37e434  33756a6077       260.0   \n",
       "98   009dd67cb8  ec62ce61e3  4202626fcb  88a515c084  48cf3d488f       172.0   \n",
       "122  00c935c63f  ec62ce61e3  36bd2cad67  edbe75f28a  22aaba47b2        75.0   \n",
       "128  00d45396a6  ec62ce61e3  4202626fcb  a8db01db9c  9d5c6c6b11       260.0   \n",
       "132  00de557bd5  ec62ce61e3  e8705574ff  bec682d61b  bf1622c3ae       148.0   \n",
       "133  00de7e4339  ec62ce61e3  6b4ae3f25d  83f17acdfd  45e2127ec0         NaN   \n",
       "137  00e66616ed  ec62ce61e3  4202626fcb  1f80eae8c9  f3cd0698fa       118.0   \n",
       "169  011e106198  ec62ce61e3  be86806c6b  58f4db5467  0216d905a3        45.0   \n",
       "\n",
       "       brand_id   vendor_id  netto  is_own_trademark  is_alcohol  \n",
       "3    54a90fe769  03c2d70bad  0.112                 0           0  \n",
       "13   0d6f137fb6  8ad28e1ef9  0.023                 0           0  \n",
       "51   0d6f137fb6  f3e7cd2a2a  0.214                 0           0  \n",
       "62          NaN  c63add1307  0.020                 0           0  \n",
       "65   767e3af396  056b1621ca  0.129                 0           0  \n",
       "69          NaN  01f7c589b1  0.038                 0           0  \n",
       "70   8642da17ad  43acd80c1a  0.020                 1           0  \n",
       "97   4da2dc345f  1962dd9523  0.250                 0           0  \n",
       "98   10a37e42c7  31be4d3c13  0.113                 0           0  \n",
       "122  0d6f137fb6  2d5c53ab8a  0.069                 0           0  \n",
       "128  0d6f137fb6  83f98e6dc3  0.045                 0           0  \n",
       "132  0608bd1f40  ef3b92f068  0.030                 0           0  \n",
       "133  585124a4e4  6afe337e49  0.111                 0           0  \n",
       "137         NaN  83f98e6dc3  0.059                 0           0  \n",
       "169  0d6f137fb6  2273ca5604  0.289                 0           0  "
      ]
     },
     "execution_count": 18,
     "metadata": {},
     "output_type": "execute_result"
    }
   ],
   "source": [
    "products[products['level_1'] == 'ec62ce61e3'].head(15)"
   ]
  },
  {
   "cell_type": "markdown",
   "id": "0f72932d",
   "metadata": {},
   "source": [
    "В одной товарной группе по первому уровню оказались товары с разной сегментацией по остальным уровням, от разных произвоителей, разных вендоров  с разным весом."
   ]
  },
  {
   "cell_type": "markdown",
   "id": "8a4841fc",
   "metadata": {},
   "source": [
    "Вероятно, для всей товарной матрицы проведен некий анализ (наподобие ABC-анализа), по которым каждый продукт отнесен к разным сегментам по 4 разным признакам."
   ]
  },
  {
   "cell_type": "code",
   "execution_count": 19,
   "id": "6561db02",
   "metadata": {},
   "outputs": [
    {
     "data": {
      "text/html": [
       "<div>\n",
       "<style scoped>\n",
       "    .dataframe tbody tr th:only-of-type {\n",
       "        vertical-align: middle;\n",
       "    }\n",
       "\n",
       "    .dataframe tbody tr th {\n",
       "        vertical-align: top;\n",
       "    }\n",
       "\n",
       "    .dataframe thead th {\n",
       "        text-align: right;\n",
       "    }\n",
       "</style>\n",
       "<table border=\"1\" class=\"dataframe\">\n",
       "  <thead>\n",
       "    <tr style=\"text-align: right;\">\n",
       "      <th></th>\n",
       "      <th>product_id</th>\n",
       "      <th>level_1</th>\n",
       "      <th>level_2</th>\n",
       "      <th>level_3</th>\n",
       "      <th>level_4</th>\n",
       "      <th>segment_id</th>\n",
       "      <th>brand_id</th>\n",
       "      <th>vendor_id</th>\n",
       "      <th>netto</th>\n",
       "      <th>is_own_trademark</th>\n",
       "      <th>is_alcohol</th>\n",
       "    </tr>\n",
       "  </thead>\n",
       "  <tbody>\n",
       "    <tr>\n",
       "      <th>796</th>\n",
       "      <td>04d86b4b50</td>\n",
       "      <td>NaN</td>\n",
       "      <td>NaN</td>\n",
       "      <td>NaN</td>\n",
       "      <td>NaN</td>\n",
       "      <td>NaN</td>\n",
       "      <td>NaN</td>\n",
       "      <td>NaN</td>\n",
       "      <td>NaN</td>\n",
       "      <td>0</td>\n",
       "      <td>0</td>\n",
       "    </tr>\n",
       "    <tr>\n",
       "      <th>12219</th>\n",
       "      <td>48cc0e256d</td>\n",
       "      <td>NaN</td>\n",
       "      <td>NaN</td>\n",
       "      <td>NaN</td>\n",
       "      <td>NaN</td>\n",
       "      <td>NaN</td>\n",
       "      <td>NaN</td>\n",
       "      <td>NaN</td>\n",
       "      <td>NaN</td>\n",
       "      <td>0</td>\n",
       "      <td>0</td>\n",
       "    </tr>\n",
       "    <tr>\n",
       "      <th>17818</th>\n",
       "      <td>6a3d708544</td>\n",
       "      <td>NaN</td>\n",
       "      <td>NaN</td>\n",
       "      <td>NaN</td>\n",
       "      <td>NaN</td>\n",
       "      <td>NaN</td>\n",
       "      <td>NaN</td>\n",
       "      <td>NaN</td>\n",
       "      <td>NaN</td>\n",
       "      <td>0</td>\n",
       "      <td>0</td>\n",
       "    </tr>\n",
       "  </tbody>\n",
       "</table>\n",
       "</div>"
      ],
      "text/plain": [
       "       product_id level_1 level_2 level_3 level_4  segment_id brand_id  \\\n",
       "796    04d86b4b50     NaN     NaN     NaN     NaN         NaN      NaN   \n",
       "12219  48cc0e256d     NaN     NaN     NaN     NaN         NaN      NaN   \n",
       "17818  6a3d708544     NaN     NaN     NaN     NaN         NaN      NaN   \n",
       "\n",
       "      vendor_id  netto  is_own_trademark  is_alcohol  \n",
       "796         NaN    NaN                 0           0  \n",
       "12219       NaN    NaN                 0           0  \n",
       "17818       NaN    NaN                 0           0  "
      ]
     },
     "execution_count": 19,
     "metadata": {},
     "output_type": "execute_result"
    }
   ],
   "source": [
    "products[products['level_1'].isna()] # пропуски"
   ]
  },
  {
   "cell_type": "markdown",
   "id": "860264ea",
   "metadata": {},
   "source": [
    "Для трех продуктов совсем отсутствует информация."
   ]
  },
  {
   "cell_type": "code",
   "execution_count": 20,
   "id": "94162a05",
   "metadata": {},
   "outputs": [
    {
     "data": {
      "text/plain": [
       "105.0    5360\n",
       "150.0    2745\n",
       "271.0    1690\n",
       "259.0    1523\n",
       "85.0     1291\n",
       "         ... \n",
       "23.0       10\n",
       "211.0       7\n",
       "171.0       6\n",
       "258.0       3\n",
       "144.0       3\n",
       "Name: segment_id, Length: 116, dtype: int64"
      ]
     },
     "execution_count": 20,
     "metadata": {},
     "output_type": "execute_result"
    }
   ],
   "source": [
    "products.segment_id.value_counts()"
   ]
  },
  {
   "cell_type": "markdown",
   "id": "294b1f96",
   "metadata": {},
   "source": [
    "Еще одна внутренняя сегментация делит товары на 116 категорий — в некоторые из них отнесено большое количество товаров, в другие  всего несколько."
   ]
  },
  {
   "cell_type": "code",
   "execution_count": 21,
   "id": "05ecf7b6",
   "metadata": {
    "scrolled": true
   },
   "outputs": [
    {
     "data": {
      "text/plain": [
       "0d6f137fb6    4344\n",
       "4da2dc345f    3071\n",
       "b06ace74de     385\n",
       "ab230258e9     268\n",
       "63ba6b7a61     136\n",
       "              ... \n",
       "2bccf1cb99       1\n",
       "217417efc0       1\n",
       "17c536543f       1\n",
       "0656953a5e       1\n",
       "b10d46da5c       1\n",
       "Name: brand_id, Length: 4296, dtype: int64"
      ]
     },
     "execution_count": 21,
     "metadata": {},
     "output_type": "execute_result"
    }
   ],
   "source": [
    "products.brand_id.value_counts()"
   ]
  },
  {
   "cell_type": "markdown",
   "id": "d3033c6a",
   "metadata": {},
   "source": [
    "В датасете предствалены два крупных бренда (> 3000 товаров) и множество (>4000) мелких."
   ]
  },
  {
   "cell_type": "code",
   "execution_count": 22,
   "id": "aa8e5660",
   "metadata": {},
   "outputs": [
    {
     "data": {
      "text/plain": [
       "43acd80c1a    1514\n",
       "63243765ed     349\n",
       "c4e167b91e     331\n",
       "83f98e6dc3     328\n",
       "4f276b13c1     323\n",
       "              ... \n",
       "f9574ad995       1\n",
       "a35f34b4fb       1\n",
       "dc19e275e7       1\n",
       "809dd55029       1\n",
       "6cc8ce0e52       1\n",
       "Name: vendor_id, Length: 3193, dtype: int64"
      ]
     },
     "execution_count": 22,
     "metadata": {},
     "output_type": "execute_result"
    }
   ],
   "source": [
    "products.vendor_id.value_counts() "
   ]
  },
  {
   "cell_type": "markdown",
   "id": "9706b9b7",
   "metadata": {},
   "source": [
    "Вендоров в датасете меньше — но исходя из несоответсвия между количеством товаров крупнейшими брендами и количеством товаров, поставляемых крупнейшими вендорами, можно сделать вывод, что один бренд представляют сразу несколько вендоров."
   ]
  },
  {
   "cell_type": "markdown",
   "id": "33314952",
   "metadata": {},
   "source": [
    "Масса продукта — `netto` вряд ли стоит анализировать в рамках данного проекта."
   ]
  },
  {
   "cell_type": "markdown",
   "id": "fddd59f6",
   "metadata": {},
   "source": [
    "Переходим к одному из наиболее значимых признаков товара — является ли он СТМ."
   ]
  },
  {
   "cell_type": "code",
   "execution_count": 23,
   "id": "d97e4355",
   "metadata": {},
   "outputs": [
    {
     "data": {
      "text/plain": [
       "0    0.964822\n",
       "1    0.035178\n",
       "Name: is_own_trademark, dtype: float64"
      ]
     },
     "execution_count": 23,
     "metadata": {},
     "output_type": "execute_result"
    }
   ],
   "source": [
    "products.is_own_trademark.value_counts(normalize=True)"
   ]
  },
  {
   "cell_type": "markdown",
   "id": "3febbe1a",
   "metadata": {},
   "source": [
    "Доля СТМ во всем ассортименте — чуть более 3,5%. "
   ]
  },
  {
   "cell_type": "code",
   "execution_count": 24,
   "id": "cf9dce80",
   "metadata": {
    "scrolled": true
   },
   "outputs": [
    {
     "data": {
      "text/plain": [
       "0    0.944398\n",
       "1    0.055602\n",
       "Name: is_alcohol, dtype: float64"
      ]
     },
     "execution_count": 24,
     "metadata": {},
     "output_type": "execute_result"
    }
   ],
   "source": [
    "products.is_alcohol.value_counts(normalize=True)"
   ]
  },
  {
   "cell_type": "markdown",
   "id": "ef8d1b17",
   "metadata": {},
   "source": [
    "Доля алкоголя в ассортименте — 5,5 %. Посмотрим есть ли алкоголь под собственной торговой маркой:"
   ]
  },
  {
   "cell_type": "code",
   "execution_count": 25,
   "id": "ed5eecba",
   "metadata": {},
   "outputs": [
    {
     "data": {
      "text/plain": [
       "0    0.716645\n",
       "1    0.283355\n",
       "Name: is_alcohol, dtype: float64"
      ]
     },
     "execution_count": 25,
     "metadata": {},
     "output_type": "execute_result"
    }
   ],
   "source": [
    "products[products['is_own_trademark'] == 1].is_alcohol.value_counts(normalize=True)"
   ]
  },
  {
   "cell_type": "markdown",
   "id": "622951f5",
   "metadata": {},
   "source": [
    "Не просто есть — 28% продуктов СТМ — алкоголь."
   ]
  },
  {
   "cell_type": "code",
   "execution_count": 26,
   "id": "802f23be",
   "metadata": {},
   "outputs": [
    {
     "data": {
      "text/plain": [
       "0    0.820727\n",
       "1    0.179273\n",
       "Name: is_own_trademark, dtype: float64"
      ]
     },
     "execution_count": 26,
     "metadata": {},
     "output_type": "execute_result"
    }
   ],
   "source": [
    "products[products['is_alcohol'] == 1].is_own_trademark.value_counts(normalize=True)"
   ]
  },
  {
   "cell_type": "markdown",
   "id": "6f6a3f9f",
   "metadata": {},
   "source": [
    "А доля СТМ в алкоголе — почти 18%."
   ]
  },
  {
   "cell_type": "markdown",
   "id": "1a71adab",
   "metadata": {},
   "source": [
    "### Обзор данных train_purchases и train"
   ]
  },
  {
   "cell_type": "markdown",
   "id": "a9236bac",
   "metadata": {},
   "source": [
    "В `train_purchases` хранится история покупок клиентов из тренировочного набора данных. Их следует рассматривать вместе с данными из `train.csv`: данных о клиентах для обучения, с указанием `treatment_flg` — была ли совершена коммуникация, `purchased` — была ли совершена покупка."
   ]
  },
  {
   "cell_type": "code",
   "execution_count": 27,
   "id": "7fd6b5cc",
   "metadata": {},
   "outputs": [
    {
     "name": "stdout",
     "output_type": "stream",
     "text": [
      "<class 'pandas.core.frame.DataFrame'>\n",
      "RangeIndex: 15998952 entries, 0 to 15998951\n",
      "Data columns (total 13 columns):\n",
      " #   Column                   Dtype  \n",
      "---  ------                   -----  \n",
      " 0   client_id                object \n",
      " 1   transaction_id           object \n",
      " 2   transaction_datetime     object \n",
      " 3   regular_points_received  float64\n",
      " 4   express_points_received  float64\n",
      " 5   regular_points_spent     float64\n",
      " 6   express_points_spent     float64\n",
      " 7   purchase_sum             float64\n",
      " 8   store_id                 object \n",
      " 9   product_id               object \n",
      " 10  product_quantity         float64\n",
      " 11  trn_sum_from_iss         float64\n",
      " 12  trn_sum_from_red         float64\n",
      "dtypes: float64(8), object(5)\n",
      "memory usage: 1.5+ GB\n"
     ]
    }
   ],
   "source": [
    "train_purchases.info()"
   ]
  },
  {
   "cell_type": "code",
   "execution_count": 28,
   "id": "54042331",
   "metadata": {},
   "outputs": [
    {
     "data": {
      "text/html": [
       "<div>\n",
       "<style scoped>\n",
       "    .dataframe tbody tr th:only-of-type {\n",
       "        vertical-align: middle;\n",
       "    }\n",
       "\n",
       "    .dataframe tbody tr th {\n",
       "        vertical-align: top;\n",
       "    }\n",
       "\n",
       "    .dataframe thead th {\n",
       "        text-align: right;\n",
       "    }\n",
       "</style>\n",
       "<table border=\"1\" class=\"dataframe\">\n",
       "  <thead>\n",
       "    <tr style=\"text-align: right;\">\n",
       "      <th></th>\n",
       "      <th>client_id</th>\n",
       "      <th>transaction_id</th>\n",
       "      <th>transaction_datetime</th>\n",
       "      <th>regular_points_received</th>\n",
       "      <th>express_points_received</th>\n",
       "      <th>regular_points_spent</th>\n",
       "      <th>express_points_spent</th>\n",
       "      <th>purchase_sum</th>\n",
       "      <th>store_id</th>\n",
       "      <th>product_id</th>\n",
       "      <th>product_quantity</th>\n",
       "      <th>trn_sum_from_iss</th>\n",
       "      <th>trn_sum_from_red</th>\n",
       "    </tr>\n",
       "  </thead>\n",
       "  <tbody>\n",
       "    <tr>\n",
       "      <th>0</th>\n",
       "      <td>000012768d</td>\n",
       "      <td>7e3e2e3984</td>\n",
       "      <td>2018-12-01 07:12:45</td>\n",
       "      <td>10.0</td>\n",
       "      <td>0.0</td>\n",
       "      <td>0.0</td>\n",
       "      <td>0.0</td>\n",
       "      <td>1007.0</td>\n",
       "      <td>54a4a11a29</td>\n",
       "      <td>9a80204f78</td>\n",
       "      <td>2.0</td>\n",
       "      <td>80.0</td>\n",
       "      <td>NaN</td>\n",
       "    </tr>\n",
       "    <tr>\n",
       "      <th>1</th>\n",
       "      <td>000012768d</td>\n",
       "      <td>7e3e2e3984</td>\n",
       "      <td>2018-12-01 07:12:45</td>\n",
       "      <td>10.0</td>\n",
       "      <td>0.0</td>\n",
       "      <td>0.0</td>\n",
       "      <td>0.0</td>\n",
       "      <td>1007.0</td>\n",
       "      <td>54a4a11a29</td>\n",
       "      <td>da89ebd374</td>\n",
       "      <td>1.0</td>\n",
       "      <td>65.0</td>\n",
       "      <td>NaN</td>\n",
       "    </tr>\n",
       "    <tr>\n",
       "      <th>2</th>\n",
       "      <td>000012768d</td>\n",
       "      <td>7e3e2e3984</td>\n",
       "      <td>2018-12-01 07:12:45</td>\n",
       "      <td>10.0</td>\n",
       "      <td>0.0</td>\n",
       "      <td>0.0</td>\n",
       "      <td>0.0</td>\n",
       "      <td>1007.0</td>\n",
       "      <td>54a4a11a29</td>\n",
       "      <td>0a95e1151d</td>\n",
       "      <td>1.0</td>\n",
       "      <td>24.0</td>\n",
       "      <td>NaN</td>\n",
       "    </tr>\n",
       "    <tr>\n",
       "      <th>3</th>\n",
       "      <td>000012768d</td>\n",
       "      <td>7e3e2e3984</td>\n",
       "      <td>2018-12-01 07:12:45</td>\n",
       "      <td>10.0</td>\n",
       "      <td>0.0</td>\n",
       "      <td>0.0</td>\n",
       "      <td>0.0</td>\n",
       "      <td>1007.0</td>\n",
       "      <td>54a4a11a29</td>\n",
       "      <td>4055b15e4a</td>\n",
       "      <td>2.0</td>\n",
       "      <td>50.0</td>\n",
       "      <td>NaN</td>\n",
       "    </tr>\n",
       "    <tr>\n",
       "      <th>4</th>\n",
       "      <td>000012768d</td>\n",
       "      <td>7e3e2e3984</td>\n",
       "      <td>2018-12-01 07:12:45</td>\n",
       "      <td>10.0</td>\n",
       "      <td>0.0</td>\n",
       "      <td>0.0</td>\n",
       "      <td>0.0</td>\n",
       "      <td>1007.0</td>\n",
       "      <td>54a4a11a29</td>\n",
       "      <td>a685f1916b</td>\n",
       "      <td>1.0</td>\n",
       "      <td>22.0</td>\n",
       "      <td>NaN</td>\n",
       "    </tr>\n",
       "  </tbody>\n",
       "</table>\n",
       "</div>"
      ],
      "text/plain": [
       "    client_id transaction_id transaction_datetime  regular_points_received  \\\n",
       "0  000012768d     7e3e2e3984  2018-12-01 07:12:45                     10.0   \n",
       "1  000012768d     7e3e2e3984  2018-12-01 07:12:45                     10.0   \n",
       "2  000012768d     7e3e2e3984  2018-12-01 07:12:45                     10.0   \n",
       "3  000012768d     7e3e2e3984  2018-12-01 07:12:45                     10.0   \n",
       "4  000012768d     7e3e2e3984  2018-12-01 07:12:45                     10.0   \n",
       "\n",
       "   express_points_received  regular_points_spent  express_points_spent  \\\n",
       "0                      0.0                   0.0                   0.0   \n",
       "1                      0.0                   0.0                   0.0   \n",
       "2                      0.0                   0.0                   0.0   \n",
       "3                      0.0                   0.0                   0.0   \n",
       "4                      0.0                   0.0                   0.0   \n",
       "\n",
       "   purchase_sum    store_id  product_id  product_quantity  trn_sum_from_iss  \\\n",
       "0        1007.0  54a4a11a29  9a80204f78               2.0              80.0   \n",
       "1        1007.0  54a4a11a29  da89ebd374               1.0              65.0   \n",
       "2        1007.0  54a4a11a29  0a95e1151d               1.0              24.0   \n",
       "3        1007.0  54a4a11a29  4055b15e4a               2.0              50.0   \n",
       "4        1007.0  54a4a11a29  a685f1916b               1.0              22.0   \n",
       "\n",
       "   trn_sum_from_red  \n",
       "0               NaN  \n",
       "1               NaN  \n",
       "2               NaN  \n",
       "3               NaN  \n",
       "4               NaN  "
      ]
     },
     "execution_count": 28,
     "metadata": {},
     "output_type": "execute_result"
    }
   ],
   "source": [
    "train_purchases.head()"
   ]
  },
  {
   "cell_type": "markdown",
   "id": "764259cc",
   "metadata": {},
   "source": [
    "В датасете почти 16 млн строк:\n",
    "- `client_id` — уникальный идентификатор пользователя;\n",
    "- `transaction_id` — идентификатор покупки (трансакции);\n",
    "- `transaction_datetime` — дата трансакции;\n",
    "- `regular_points_received` — полученные очки системы лояльности;\n",
    "- `express_points_received` — полученные дополнительные (специальные?) очки системы лояльности;\n",
    "- `regular_points_spent` — потраченные обычные очки системы лояльности;\n",
    "- `express_points_spent` — потраченные дополнительные очки системы лояльности;\n",
    "- `purchase_sum` — общая сумма покупки;\n",
    "- `store_id` — идентификатор в каком магазине была совершена покупка;\n",
    "- `product_id` — идентификатор продукта, который был куплен;\n",
    "- `product_quantity` — количесвто приобретенного продукта; \n",
    "- `trn_sum_from_iss`, `trn_sum_from_red` — доля продукта в общей покупке;\n"
   ]
  },
  {
   "cell_type": "markdown",
   "id": "d4a9d9e9",
   "metadata": {},
   "source": [
    "Посмотрим на максимальную сумму покупки в тренировочных данных:"
   ]
  },
  {
   "cell_type": "code",
   "execution_count": 29,
   "id": "e1a572ab",
   "metadata": {},
   "outputs": [
    {
     "data": {
      "text/plain": [
       "29611.48"
      ]
     },
     "execution_count": 29,
     "metadata": {},
     "output_type": "execute_result"
    }
   ],
   "source": [
    "train_purchases['purchase_sum'].max()"
   ]
  },
  {
   "cell_type": "markdown",
   "id": "cebb7688",
   "metadata": {},
   "source": [
    "Теперь определим, за какой период у нас имеются данные. Для этого понадобится преобразовать тип данных в столбце `transaction_datetime`"
   ]
  },
  {
   "cell_type": "code",
   "execution_count": 30,
   "id": "0829d755",
   "metadata": {},
   "outputs": [],
   "source": [
    "train_purchases['transaction_datetime'] = pd.to_datetime(train_purchases['transaction_datetime'], format='%Y-%m-%d %H:%M:%S')"
   ]
  },
  {
   "cell_type": "code",
   "execution_count": 31,
   "id": "0b5f6bfa",
   "metadata": {},
   "outputs": [
    {
     "name": "stderr",
     "output_type": "stream",
     "text": [
      "<ipython-input-31-170a531ba987>:1: FutureWarning: Treating datetime data as categorical rather than numeric in `.describe` is deprecated and will be removed in a future version of pandas. Specify `datetime_is_numeric=True` to silence this warning and adopt the future behavior now.\n",
      "  train_purchases['transaction_datetime'].describe()\n"
     ]
    },
    {
     "data": {
      "text/plain": [
       "count                15998952\n",
       "unique                2193591\n",
       "top       2019-03-03 10:48:55\n",
       "freq                      123\n",
       "first     2018-11-21 21:02:33\n",
       "last      2019-03-18 23:19:28\n",
       "Name: transaction_datetime, dtype: object"
      ]
     },
     "execution_count": 31,
     "metadata": {},
     "output_type": "execute_result"
    }
   ],
   "source": [
    "train_purchases['transaction_datetime'].describe()"
   ]
  },
  {
   "cell_type": "markdown",
   "id": "3f8e6064",
   "metadata": {},
   "source": [
    "Первая покупка в датасете датирована 21 ноября 2018 года, а последняя — 18 марта 2019 года."
   ]
  },
  {
   "cell_type": "code",
   "execution_count": 32,
   "id": "8dc36ec5",
   "metadata": {
    "scrolled": true
   },
   "outputs": [
    {
     "data": {
      "text/plain": [
       "client_id\n",
       "000012768d     52\n",
       "000036f903    162\n",
       "0001f552b0     86\n",
       "00020e7b18    272\n",
       "000220a0a7     85\n",
       "             ... \n",
       "fffd5cd0c6    100\n",
       "fffd63dfe3     25\n",
       "fffd8c9d7d     20\n",
       "fffe0abb97     38\n",
       "fffeca6d22     54\n",
       "Name: transaction_id, Length: 140027, dtype: int64"
      ]
     },
     "execution_count": 32,
     "metadata": {},
     "output_type": "execute_result"
    }
   ],
   "source": [
    "train_purchases.groupby('client_id')['transaction_id'].count()"
   ]
  },
  {
   "cell_type": "markdown",
   "id": "bb8966ef",
   "metadata": {},
   "source": [
    "Всего в трейне 140 027 уникальных покупателей."
   ]
  },
  {
   "cell_type": "code",
   "execution_count": 33,
   "id": "afc966fc",
   "metadata": {},
   "outputs": [],
   "source": [
    "train_purchases['date'] = pd.to_datetime(train_purchases['transaction_datetime']).dt.date"
   ]
  },
  {
   "cell_type": "code",
   "execution_count": 34,
   "id": "b341fb3d",
   "metadata": {},
   "outputs": [
    {
     "data": {
      "text/plain": [
       "23855.872881355932"
      ]
     },
     "execution_count": 34,
     "metadata": {},
     "output_type": "execute_result"
    }
   ],
   "source": [
    "len(train_purchases['transaction_id'].unique()) / len(train_purchases['date'].unique())"
   ]
  },
  {
   "cell_type": "markdown",
   "id": "d9689a54",
   "metadata": {},
   "source": [
    "В среднем в магазинах совершается 23 856 сделок в день — это и есть математическое ожидание количества сделок."
   ]
  },
  {
   "cell_type": "markdown",
   "id": "903c5c78",
   "metadata": {},
   "source": [
    "Теперь посмотрим на данные из train.csv — и наложим их на данных о покупках покупателей."
   ]
  },
  {
   "cell_type": "code",
   "execution_count": 35,
   "id": "07f1ca45",
   "metadata": {},
   "outputs": [
    {
     "data": {
      "text/html": [
       "<div>\n",
       "<style scoped>\n",
       "    .dataframe tbody tr th:only-of-type {\n",
       "        vertical-align: middle;\n",
       "    }\n",
       "\n",
       "    .dataframe tbody tr th {\n",
       "        vertical-align: top;\n",
       "    }\n",
       "\n",
       "    .dataframe thead th {\n",
       "        text-align: right;\n",
       "    }\n",
       "</style>\n",
       "<table border=\"1\" class=\"dataframe\">\n",
       "  <thead>\n",
       "    <tr style=\"text-align: right;\">\n",
       "      <th></th>\n",
       "      <th>client_id</th>\n",
       "      <th>treatment_flg</th>\n",
       "      <th>purchased</th>\n",
       "    </tr>\n",
       "  </thead>\n",
       "  <tbody>\n",
       "    <tr>\n",
       "      <th>0</th>\n",
       "      <td>ad6561e2d8</td>\n",
       "      <td>1</td>\n",
       "      <td>1</td>\n",
       "    </tr>\n",
       "    <tr>\n",
       "      <th>1</th>\n",
       "      <td>7c1ccbf93f</td>\n",
       "      <td>1</td>\n",
       "      <td>1</td>\n",
       "    </tr>\n",
       "    <tr>\n",
       "      <th>2</th>\n",
       "      <td>b58fadcab6</td>\n",
       "      <td>1</td>\n",
       "      <td>1</td>\n",
       "    </tr>\n",
       "    <tr>\n",
       "      <th>3</th>\n",
       "      <td>e99e6fabb9</td>\n",
       "      <td>0</td>\n",
       "      <td>0</td>\n",
       "    </tr>\n",
       "    <tr>\n",
       "      <th>4</th>\n",
       "      <td>27fb6f8520</td>\n",
       "      <td>1</td>\n",
       "      <td>1</td>\n",
       "    </tr>\n",
       "  </tbody>\n",
       "</table>\n",
       "</div>"
      ],
      "text/plain": [
       "    client_id  treatment_flg  purchased\n",
       "0  ad6561e2d8              1          1\n",
       "1  7c1ccbf93f              1          1\n",
       "2  b58fadcab6              1          1\n",
       "3  e99e6fabb9              0          0\n",
       "4  27fb6f8520              1          1"
      ]
     },
     "execution_count": 35,
     "metadata": {},
     "output_type": "execute_result"
    }
   ],
   "source": [
    "train_data.head()"
   ]
  },
  {
   "cell_type": "code",
   "execution_count": 36,
   "id": "29fbd255",
   "metadata": {},
   "outputs": [
    {
     "data": {
      "text/plain": [
       "0"
      ]
     },
     "execution_count": 36,
     "metadata": {},
     "output_type": "execute_result"
    }
   ],
   "source": [
    "train_data.duplicated().sum()"
   ]
  },
  {
   "cell_type": "code",
   "execution_count": 37,
   "id": "385ec446",
   "metadata": {},
   "outputs": [
    {
     "name": "stdout",
     "output_type": "stream",
     "text": [
      "<class 'pandas.core.frame.DataFrame'>\n",
      "RangeIndex: 140027 entries, 0 to 140026\n",
      "Data columns (total 3 columns):\n",
      " #   Column         Non-Null Count   Dtype \n",
      "---  ------         --------------   ----- \n",
      " 0   client_id      140027 non-null  object\n",
      " 1   treatment_flg  140027 non-null  int64 \n",
      " 2   purchased      140027 non-null  int64 \n",
      "dtypes: int64(2), object(1)\n",
      "memory usage: 3.2+ MB\n"
     ]
    }
   ],
   "source": [
    "train_data.info()"
   ]
  },
  {
   "cell_type": "markdown",
   "id": "658f80dc",
   "metadata": {},
   "source": [
    "Количество покупателей в датасете совпадает с их количеством в истории покупок — ошибки выгрузки нет. Сам датасет предствляет собой таблицу с двумя признаками:\n",
    "- `treatment_flg` — была ли проведена коммуникация;\n",
    "- `purchased` — была ли совершена покупка."
   ]
  },
  {
   "cell_type": "markdown",
   "id": "5baf2b48",
   "metadata": {},
   "source": [
    "Посмотрим, как соотносятся классы в тренировочных данных:"
   ]
  },
  {
   "cell_type": "code",
   "execution_count": 38,
   "id": "00a8a6ef",
   "metadata": {
    "scrolled": false
   },
   "outputs": [
    {
     "data": {
      "image/png": "[encoded data removed]",
      "text/plain": [
       "<Figure size 720x216 with 2 Axes>"
      ]
     },
     "metadata": {
      "needs_background": "light"
     },
     "output_type": "display_data"
    }
   ],
   "source": [
    "figure = plt.figure(figsize=(10,3))\n",
    "ax_1 = figure.add_subplot(1,3,1)\n",
    "ax_2 = figure.add_subplot(1,3,3)\n",
    "\n",
    "hist_1 = sns.histplot(data = train_data['treatment_flg'], palette = \"RdYlBu\", ax=ax_1)\n",
    "ax_1.set_title('Распределение по факту коммуникации')\n",
    "ax_1.set_xlabel('Коммуникация')\n",
    "ax_1.set_ylabel('Количество')\n",
    "\n",
    "hist_1 = sns.histplot(data = train_data['purchased'], palette = \"RdYlBu\", ax=ax_2)\n",
    "ax_2.set_title('Распределение по факту совершения покупки')\n",
    "ax_2.set_xlabel('Покупка')\n",
    "ax_2.set_ylabel('Количество')\n",
    "\n",
    "plt.show()"
   ]
  },
  {
   "cell_type": "markdown",
   "id": "aea22255",
   "metadata": {},
   "source": [
    "Как видно из графиков, классы по факту совершения коммуникации в датасете сбалансированны (50:50). А вот по факту покупки — нет: очевидно, что среди тех с кем не коммуницировали тоже есть те, кто совершили покупку.\n",
    "\n",
    "Посмотрим значение аплифта на тренировочных данных — для этого рассчитаем разницу между средним количеством купивших без коммуникации и средним количеством купивших с коммуникацией."
   ]
  },
  {
   "cell_type": "code",
   "execution_count": 39,
   "id": "a185c1b2",
   "metadata": {},
   "outputs": [
    {
     "data": {
      "text/plain": [
       "0.03354516795221374"
      ]
     },
     "execution_count": 39,
     "metadata": {},
     "output_type": "execute_result"
    }
   ],
   "source": [
    "train_data[train_data['treatment_flg'] == 1]['purchased'].mean() \\\n",
    "- train_data[train_data['treatment_flg'] == 0]['purchased'].mean()\n",
    "\n",
    "# использован перенос строки для приведения к правилам PEP8\n"
   ]
  },
  {
   "cell_type": "markdown",
   "id": "4a4434be",
   "metadata": {},
   "source": [
    "Аплифт — 3,34%"
   ]
  },
  {
   "cell_type": "markdown",
   "id": "3bd0c449",
   "metadata": {},
   "source": [
    "Посмотрим, как соотносятся половозрастные группы в трейне и как демографические факторы влияют на аплифт внутри групп."
   ]
  },
  {
   "cell_type": "markdown",
   "id": "8e81037e",
   "metadata": {},
   "source": [
    "Присоединим к `train`' данные из датасета, сохраненного в `clients`."
   ]
  },
  {
   "cell_type": "code",
   "execution_count": 40,
   "id": "7a0e204e",
   "metadata": {},
   "outputs": [],
   "source": [
    "train_data = pd.merge(train_data, clients, how=\"inner\", on=[\"client_id\"])"
   ]
  },
  {
   "cell_type": "code",
   "execution_count": 41,
   "id": "fd503520",
   "metadata": {},
   "outputs": [
    {
     "data": {
      "text/html": [
       "<div>\n",
       "<style scoped>\n",
       "    .dataframe tbody tr th:only-of-type {\n",
       "        vertical-align: middle;\n",
       "    }\n",
       "\n",
       "    .dataframe tbody tr th {\n",
       "        vertical-align: top;\n",
       "    }\n",
       "\n",
       "    .dataframe thead th {\n",
       "        text-align: right;\n",
       "    }\n",
       "</style>\n",
       "<table border=\"1\" class=\"dataframe\">\n",
       "  <thead>\n",
       "    <tr style=\"text-align: right;\">\n",
       "      <th></th>\n",
       "      <th>client_id</th>\n",
       "      <th>treatment_flg</th>\n",
       "      <th>purchased</th>\n",
       "      <th>first_issue_date</th>\n",
       "      <th>first_redeem_date</th>\n",
       "      <th>age</th>\n",
       "      <th>gender</th>\n",
       "    </tr>\n",
       "  </thead>\n",
       "  <tbody>\n",
       "    <tr>\n",
       "      <th>0</th>\n",
       "      <td>ad6561e2d8</td>\n",
       "      <td>1</td>\n",
       "      <td>1</td>\n",
       "      <td>2017-12-03 17:33:51</td>\n",
       "      <td>2018-05-23 18:59:01</td>\n",
       "      <td>50</td>\n",
       "      <td>F</td>\n",
       "    </tr>\n",
       "    <tr>\n",
       "      <th>1</th>\n",
       "      <td>7c1ccbf93f</td>\n",
       "      <td>1</td>\n",
       "      <td>1</td>\n",
       "      <td>2017-11-10 16:33:49</td>\n",
       "      <td>2018-02-22 19:02:25</td>\n",
       "      <td>24</td>\n",
       "      <td>F</td>\n",
       "    </tr>\n",
       "    <tr>\n",
       "      <th>2</th>\n",
       "      <td>b58fadcab6</td>\n",
       "      <td>1</td>\n",
       "      <td>1</td>\n",
       "      <td>2017-11-02 21:17:45</td>\n",
       "      <td>2018-09-15 21:02:16</td>\n",
       "      <td>36</td>\n",
       "      <td>U</td>\n",
       "    </tr>\n",
       "    <tr>\n",
       "      <th>3</th>\n",
       "      <td>e99e6fabb9</td>\n",
       "      <td>0</td>\n",
       "      <td>0</td>\n",
       "      <td>2018-05-16 10:21:20</td>\n",
       "      <td>2018-05-30 20:49:24</td>\n",
       "      <td>79</td>\n",
       "      <td>F</td>\n",
       "    </tr>\n",
       "    <tr>\n",
       "      <th>4</th>\n",
       "      <td>27fb6f8520</td>\n",
       "      <td>1</td>\n",
       "      <td>1</td>\n",
       "      <td>2017-07-17 19:36:28</td>\n",
       "      <td>2017-12-15 10:05:25</td>\n",
       "      <td>34</td>\n",
       "      <td>F</td>\n",
       "    </tr>\n",
       "    <tr>\n",
       "      <th>...</th>\n",
       "      <td>...</td>\n",
       "      <td>...</td>\n",
       "      <td>...</td>\n",
       "      <td>...</td>\n",
       "      <td>...</td>\n",
       "      <td>...</td>\n",
       "      <td>...</td>\n",
       "    </tr>\n",
       "    <tr>\n",
       "      <th>139547</th>\n",
       "      <td>999d284453</td>\n",
       "      <td>1</td>\n",
       "      <td>1</td>\n",
       "      <td>2018-10-31 13:10:37</td>\n",
       "      <td>2019-04-06 13:49:41</td>\n",
       "      <td>72</td>\n",
       "      <td>U</td>\n",
       "    </tr>\n",
       "    <tr>\n",
       "      <th>139548</th>\n",
       "      <td>f634deea4e</td>\n",
       "      <td>0</td>\n",
       "      <td>1</td>\n",
       "      <td>2018-02-04 13:51:32</td>\n",
       "      <td>2018-03-12 17:41:42</td>\n",
       "      <td>35</td>\n",
       "      <td>U</td>\n",
       "    </tr>\n",
       "    <tr>\n",
       "      <th>139549</th>\n",
       "      <td>16cb4f99b0</td>\n",
       "      <td>0</td>\n",
       "      <td>1</td>\n",
       "      <td>2018-02-23 10:02:33</td>\n",
       "      <td>2019-05-31 17:37:36</td>\n",
       "      <td>50</td>\n",
       "      <td>F</td>\n",
       "    </tr>\n",
       "    <tr>\n",
       "      <th>139550</th>\n",
       "      <td>23c2b72b2e</td>\n",
       "      <td>1</td>\n",
       "      <td>1</td>\n",
       "      <td>2017-07-01 19:05:33</td>\n",
       "      <td>2017-10-18 18:50:02</td>\n",
       "      <td>55</td>\n",
       "      <td>U</td>\n",
       "    </tr>\n",
       "    <tr>\n",
       "      <th>139551</th>\n",
       "      <td>1430184499</td>\n",
       "      <td>0</td>\n",
       "      <td>1</td>\n",
       "      <td>2017-05-22 18:05:07</td>\n",
       "      <td>2018-02-27 18:37:19</td>\n",
       "      <td>63</td>\n",
       "      <td>M</td>\n",
       "    </tr>\n",
       "  </tbody>\n",
       "</table>\n",
       "<p>139552 rows × 7 columns</p>\n",
       "</div>"
      ],
      "text/plain": [
       "         client_id  treatment_flg  purchased     first_issue_date  \\\n",
       "0       ad6561e2d8              1          1  2017-12-03 17:33:51   \n",
       "1       7c1ccbf93f              1          1  2017-11-10 16:33:49   \n",
       "2       b58fadcab6              1          1  2017-11-02 21:17:45   \n",
       "3       e99e6fabb9              0          0  2018-05-16 10:21:20   \n",
       "4       27fb6f8520              1          1  2017-07-17 19:36:28   \n",
       "...            ...            ...        ...                  ...   \n",
       "139547  999d284453              1          1  2018-10-31 13:10:37   \n",
       "139548  f634deea4e              0          1  2018-02-04 13:51:32   \n",
       "139549  16cb4f99b0              0          1  2018-02-23 10:02:33   \n",
       "139550  23c2b72b2e              1          1  2017-07-01 19:05:33   \n",
       "139551  1430184499              0          1  2017-05-22 18:05:07   \n",
       "\n",
       "          first_redeem_date  age gender  \n",
       "0       2018-05-23 18:59:01   50      F  \n",
       "1       2018-02-22 19:02:25   24      F  \n",
       "2       2018-09-15 21:02:16   36      U  \n",
       "3       2018-05-30 20:49:24   79      F  \n",
       "4       2017-12-15 10:05:25   34      F  \n",
       "...                     ...  ...    ...  \n",
       "139547  2019-04-06 13:49:41   72      U  \n",
       "139548  2018-03-12 17:41:42   35      U  \n",
       "139549  2019-05-31 17:37:36   50      F  \n",
       "139550  2017-10-18 18:50:02   55      U  \n",
       "139551  2018-02-27 18:37:19   63      M  \n",
       "\n",
       "[139552 rows x 7 columns]"
      ]
     },
     "execution_count": 41,
     "metadata": {},
     "output_type": "execute_result"
    }
   ],
   "source": [
    "train_data"
   ]
  },
  {
   "cell_type": "code",
   "execution_count": 42,
   "id": "af735ba4",
   "metadata": {},
   "outputs": [
    {
     "data": {
      "text/plain": [
       "array(['U', 'F', 'M'], dtype=object)"
      ]
     },
     "execution_count": 42,
     "metadata": {},
     "output_type": "execute_result"
    }
   ],
   "source": [
    "clients['gender'].unique()"
   ]
  },
  {
   "cell_type": "markdown",
   "id": "6c9c2bfa",
   "metadata": {},
   "source": [
    "У нас есть три значения для пола:\n",
    "- `U` — предположительно `undefined` — неопределен;\n",
    "- `F` — `female` — женский пол;\n",
    "- `M` — `male` — мужской."
   ]
  },
  {
   "cell_type": "code",
   "execution_count": 43,
   "id": "ab4aea55",
   "metadata": {
    "scrolled": true
   },
   "outputs": [
    {
     "data": {
      "image/png": "[encoded data removed]",
      "text/plain": [
       "<Figure size 432x288 with 1 Axes>"
      ]
     },
     "metadata": {
      "needs_background": "light"
     },
     "output_type": "display_data"
    }
   ],
   "source": [
    "fig, ax = plt.subplots()\n",
    "\n",
    "sns.histplot(train_data['gender'],palette = \"RdYlBu\")\n",
    "plt.title('Распределение по полу в тестовых данных')\n",
    "ax.set_xlabel('Пол')\n",
    "ax.set_ylabel('Количество');"
   ]
  },
  {
   "cell_type": "markdown",
   "id": "3e71760b",
   "metadata": {},
   "source": [
    "Большинство клиентов не указали свою принадлежность к определенному гендеру. На графике точно видно — мужчины в меньшистве (или чаще не указывают свой пол)."
   ]
  },
  {
   "cell_type": "code",
   "execution_count": 44,
   "id": "d35a1815",
   "metadata": {},
   "outputs": [
    {
     "data": {
      "text/plain": [
       "U    0.463426\n",
       "F    0.369353\n",
       "M    0.167221\n",
       "Name: gender, dtype: float64"
      ]
     },
     "execution_count": 44,
     "metadata": {},
     "output_type": "execute_result"
    }
   ],
   "source": [
    "train_data.gender.value_counts(normalize=True)"
   ]
  },
  {
   "cell_type": "markdown",
   "id": "2f3675a9",
   "metadata": {},
   "source": [
    "Посмотрим на медианное значение возраста в трейне."
   ]
  },
  {
   "cell_type": "code",
   "execution_count": 45,
   "id": "ea8b16aa",
   "metadata": {},
   "outputs": [
    {
     "data": {
      "text/plain": [
       "count    139552.000000\n",
       "mean         46.391338\n",
       "std          15.899749\n",
       "min           7.000000\n",
       "25%          34.000000\n",
       "50%          45.000000\n",
       "75%          59.000000\n",
       "max          96.000000\n",
       "Name: age, dtype: float64"
      ]
     },
     "execution_count": 45,
     "metadata": {},
     "output_type": "execute_result"
    }
   ],
   "source": [
    "train_data['age'].describe()"
   ]
  },
  {
   "cell_type": "markdown",
   "id": "6ce29562",
   "metadata": {},
   "source": [
    "Возрастной портрет клиентов в выборке для трейна повторяет портрет по всем клиентам. Средний возраст — 46,39, медианный — 45."
   ]
  },
  {
   "cell_type": "markdown",
   "id": "410bdb1f",
   "metadata": {},
   "source": [
    "Посмотрим, делает ли возраст людей более восприимчивыми к коммуникации — для этого посчитаем аплифт по возрастной группе старше 50 лет и у тех, кто младше."
   ]
  },
  {
   "cell_type": "code",
   "execution_count": 46,
   "id": "f6eaace4",
   "metadata": {},
   "outputs": [
    {
     "data": {
      "text/plain": [
       "0.05078708426818468"
      ]
     },
     "execution_count": 46,
     "metadata": {},
     "output_type": "execute_result"
    }
   ],
   "source": [
    "train_data_over_50 = train_data[train_data['age'] > 50]\n",
    "\n",
    "train_data_over_50[train_data_over_50['treatment_flg'] == 1]['purchased'].mean() \\\n",
    "- train_data_over_50[train_data_over_50['treatment_flg'] == 0]['purchased'].mean()"
   ]
  },
  {
   "cell_type": "code",
   "execution_count": 47,
   "id": "641837bf",
   "metadata": {
    "scrolled": true
   },
   "outputs": [
    {
     "data": {
      "text/plain": [
       "0.02126838772391415"
      ]
     },
     "execution_count": 47,
     "metadata": {},
     "output_type": "execute_result"
    }
   ],
   "source": [
    "train_data_under_50 = train_data[train_data['age'] <= 50]\n",
    "\n",
    "train_data_under_50[train_data_under_50['treatment_flg'] == 1]['purchased'].mean() \\\n",
    "- train_data_under_50[train_data_under_50['treatment_flg'] == 0]['purchased'].mean()"
   ]
  },
  {
   "cell_type": "markdown",
   "id": "3d420bbb",
   "metadata": {},
   "source": [
    "Так и есть! Люди предпенсионного возраста и на пенсии лучше реагируют на коммуникацию. Аплифт больше более чем в 2 раза."
   ]
  },
  {
   "cell_type": "code",
   "execution_count": 48,
   "id": "aaa68068",
   "metadata": {},
   "outputs": [],
   "source": [
    "del train_data_under_50\n",
    "del train_data_over_50"
   ]
  },
  {
   "cell_type": "markdown",
   "id": "604e192e",
   "metadata": {},
   "source": [
    "Посмотрим, какая доля покупок СТМ среди всем покупок. Напомним, что доля СТМ в ассортименте составляет чуть более 3,5%."
   ]
  },
  {
   "cell_type": "code",
   "execution_count": 49,
   "id": "f7814787",
   "metadata": {},
   "outputs": [],
   "source": [
    "train_purchases = pd.merge(train_purchases, products[['product_id','is_own_trademark']], how=\"left\", on=[\"product_id\"])"
   ]
  },
  {
   "cell_type": "code",
   "execution_count": 50,
   "id": "c21ea915",
   "metadata": {},
   "outputs": [
    {
     "data": {
      "text/plain": [
       "1174099057.0"
      ]
     },
     "execution_count": 50,
     "metadata": {},
     "output_type": "execute_result"
    }
   ],
   "source": [
    "train_purchases['trn_sum_from_iss'].sum()"
   ]
  },
  {
   "cell_type": "code",
   "execution_count": 51,
   "id": "eb6ceede",
   "metadata": {},
   "outputs": [
    {
     "data": {
      "text/plain": [
       "114424361.0"
      ]
     },
     "execution_count": 51,
     "metadata": {},
     "output_type": "execute_result"
    }
   ],
   "source": [
    "train_purchases[train_purchases['is_own_trademark'] == 1]['trn_sum_from_iss'].sum()"
   ]
  },
  {
   "cell_type": "code",
   "execution_count": 52,
   "id": "2b890f68",
   "metadata": {},
   "outputs": [
    {
     "data": {
      "text/plain": [
       "0.0974571611464977"
      ]
     },
     "execution_count": 52,
     "metadata": {},
     "output_type": "execute_result"
    }
   ],
   "source": [
    "Out[51]/Out[50]"
   ]
  },
  {
   "cell_type": "markdown",
   "id": "5a494565",
   "metadata": {},
   "source": [
    "В тренировачных данных на СТМ приходится 9,74% оборота. Но нам также нужно учесть и тестовые данные. "
   ]
  },
  {
   "cell_type": "code",
   "execution_count": 53,
   "id": "f6d8a557",
   "metadata": {},
   "outputs": [],
   "source": [
    "test_purchases_1 = test_purchases"
   ]
  },
  {
   "cell_type": "code",
   "execution_count": 54,
   "id": "3a108a25",
   "metadata": {},
   "outputs": [],
   "source": [
    "test_purchases_1 = pd.merge(test_purchases_1, products[['product_id','is_own_trademark']], how=\"left\", on=[\"product_id\"])"
   ]
  },
  {
   "cell_type": "code",
   "execution_count": 55,
   "id": "00a112bb",
   "metadata": {},
   "outputs": [
    {
     "data": {
      "text/plain": [
       "505985703.0"
      ]
     },
     "execution_count": 55,
     "metadata": {},
     "output_type": "execute_result"
    }
   ],
   "source": [
    "test_purchases_1['trn_sum_from_iss'].sum()"
   ]
  },
  {
   "cell_type": "code",
   "execution_count": 56,
   "id": "b4d9e583",
   "metadata": {},
   "outputs": [
    {
     "data": {
      "text/plain": [
       "49374171.0"
      ]
     },
     "execution_count": 56,
     "metadata": {},
     "output_type": "execute_result"
    }
   ],
   "source": [
    "test_purchases_1[test_purchases_1['is_own_trademark'] == 1]['trn_sum_from_iss'].sum()"
   ]
  },
  {
   "cell_type": "code",
   "execution_count": 58,
   "id": "d90a5cf1",
   "metadata": {},
   "outputs": [
    {
     "data": {
      "text/plain": [
       "0.09749420737558502"
      ]
     },
     "execution_count": 58,
     "metadata": {},
     "output_type": "execute_result"
    }
   ],
   "source": [
    "(Out[56]+Out[51])/(Out[50]+Out[55])"
   ]
  },
  {
   "cell_type": "code",
   "execution_count": 59,
   "id": "11730be1",
   "metadata": {},
   "outputs": [
    {
     "data": {
      "text/html": [
       "<div>\n",
       "<style scoped>\n",
       "    .dataframe tbody tr th:only-of-type {\n",
       "        vertical-align: middle;\n",
       "    }\n",
       "\n",
       "    .dataframe tbody tr th {\n",
       "        vertical-align: top;\n",
       "    }\n",
       "\n",
       "    .dataframe thead th {\n",
       "        text-align: right;\n",
       "    }\n",
       "</style>\n",
       "<table border=\"1\" class=\"dataframe\">\n",
       "  <thead>\n",
       "    <tr style=\"text-align: right;\">\n",
       "      <th></th>\n",
       "      <th>client_id</th>\n",
       "      <th>transaction_id</th>\n",
       "      <th>transaction_datetime</th>\n",
       "      <th>regular_points_received</th>\n",
       "      <th>express_points_received</th>\n",
       "      <th>regular_points_spent</th>\n",
       "      <th>express_points_spent</th>\n",
       "      <th>purchase_sum</th>\n",
       "      <th>store_id</th>\n",
       "      <th>product_id</th>\n",
       "      <th>product_quantity</th>\n",
       "      <th>trn_sum_from_iss</th>\n",
       "      <th>trn_sum_from_red</th>\n",
       "      <th>is_own_trademark</th>\n",
       "    </tr>\n",
       "  </thead>\n",
       "  <tbody>\n",
       "    <tr>\n",
       "      <th>0</th>\n",
       "      <td>00010925a5</td>\n",
       "      <td>e91ffe5b50</td>\n",
       "      <td>2018-11-25 10:56:18</td>\n",
       "      <td>1.5</td>\n",
       "      <td>0.0</td>\n",
       "      <td>0.0</td>\n",
       "      <td>0.0</td>\n",
       "      <td>303.0</td>\n",
       "      <td>76d287ce03</td>\n",
       "      <td>a375a035b9</td>\n",
       "      <td>2.0</td>\n",
       "      <td>50.0</td>\n",
       "      <td>NaN</td>\n",
       "      <td>0</td>\n",
       "    </tr>\n",
       "    <tr>\n",
       "      <th>1</th>\n",
       "      <td>00010925a5</td>\n",
       "      <td>e91ffe5b50</td>\n",
       "      <td>2018-11-25 10:56:18</td>\n",
       "      <td>1.5</td>\n",
       "      <td>0.0</td>\n",
       "      <td>0.0</td>\n",
       "      <td>0.0</td>\n",
       "      <td>303.0</td>\n",
       "      <td>76d287ce03</td>\n",
       "      <td>6f9e02ee36</td>\n",
       "      <td>1.0</td>\n",
       "      <td>90.0</td>\n",
       "      <td>NaN</td>\n",
       "      <td>0</td>\n",
       "    </tr>\n",
       "    <tr>\n",
       "      <th>2</th>\n",
       "      <td>00010925a5</td>\n",
       "      <td>e91ffe5b50</td>\n",
       "      <td>2018-11-25 10:56:18</td>\n",
       "      <td>1.5</td>\n",
       "      <td>0.0</td>\n",
       "      <td>0.0</td>\n",
       "      <td>0.0</td>\n",
       "      <td>303.0</td>\n",
       "      <td>76d287ce03</td>\n",
       "      <td>42e1eb8d23</td>\n",
       "      <td>1.0</td>\n",
       "      <td>20.0</td>\n",
       "      <td>NaN</td>\n",
       "      <td>1</td>\n",
       "    </tr>\n",
       "    <tr>\n",
       "      <th>3</th>\n",
       "      <td>00010925a5</td>\n",
       "      <td>e91ffe5b50</td>\n",
       "      <td>2018-11-25 10:56:18</td>\n",
       "      <td>1.5</td>\n",
       "      <td>0.0</td>\n",
       "      <td>0.0</td>\n",
       "      <td>0.0</td>\n",
       "      <td>303.0</td>\n",
       "      <td>76d287ce03</td>\n",
       "      <td>5c6de3010f</td>\n",
       "      <td>2.0</td>\n",
       "      <td>85.0</td>\n",
       "      <td>NaN</td>\n",
       "      <td>0</td>\n",
       "    </tr>\n",
       "    <tr>\n",
       "      <th>4</th>\n",
       "      <td>00010925a5</td>\n",
       "      <td>e91ffe5b50</td>\n",
       "      <td>2018-11-25 10:56:18</td>\n",
       "      <td>1.5</td>\n",
       "      <td>0.0</td>\n",
       "      <td>0.0</td>\n",
       "      <td>0.0</td>\n",
       "      <td>303.0</td>\n",
       "      <td>76d287ce03</td>\n",
       "      <td>343e841aaa</td>\n",
       "      <td>1.0</td>\n",
       "      <td>58.0</td>\n",
       "      <td>NaN</td>\n",
       "      <td>0</td>\n",
       "    </tr>\n",
       "  </tbody>\n",
       "</table>\n",
       "</div>"
      ],
      "text/plain": [
       "    client_id transaction_id transaction_datetime  regular_points_received  \\\n",
       "0  00010925a5     e91ffe5b50  2018-11-25 10:56:18                      1.5   \n",
       "1  00010925a5     e91ffe5b50  2018-11-25 10:56:18                      1.5   \n",
       "2  00010925a5     e91ffe5b50  2018-11-25 10:56:18                      1.5   \n",
       "3  00010925a5     e91ffe5b50  2018-11-25 10:56:18                      1.5   \n",
       "4  00010925a5     e91ffe5b50  2018-11-25 10:56:18                      1.5   \n",
       "\n",
       "   express_points_received  regular_points_spent  express_points_spent  \\\n",
       "0                      0.0                   0.0                   0.0   \n",
       "1                      0.0                   0.0                   0.0   \n",
       "2                      0.0                   0.0                   0.0   \n",
       "3                      0.0                   0.0                   0.0   \n",
       "4                      0.0                   0.0                   0.0   \n",
       "\n",
       "   purchase_sum    store_id  product_id  product_quantity  trn_sum_from_iss  \\\n",
       "0         303.0  76d287ce03  a375a035b9               2.0              50.0   \n",
       "1         303.0  76d287ce03  6f9e02ee36               1.0              90.0   \n",
       "2         303.0  76d287ce03  42e1eb8d23               1.0              20.0   \n",
       "3         303.0  76d287ce03  5c6de3010f               2.0              85.0   \n",
       "4         303.0  76d287ce03  343e841aaa               1.0              58.0   \n",
       "\n",
       "   trn_sum_from_red  is_own_trademark  \n",
       "0               NaN                 0  \n",
       "1               NaN                 0  \n",
       "2               NaN                 1  \n",
       "3               NaN                 0  \n",
       "4               NaN                 0  "
      ]
     },
     "execution_count": 59,
     "metadata": {},
     "output_type": "execute_result"
    }
   ],
   "source": [
    "test_purchases_1.head()"
   ]
  },
  {
   "cell_type": "code",
   "execution_count": 60,
   "id": "dfecb286",
   "metadata": {},
   "outputs": [
    {
     "data": {
      "text/html": [
       "<div>\n",
       "<style scoped>\n",
       "    .dataframe tbody tr th:only-of-type {\n",
       "        vertical-align: middle;\n",
       "    }\n",
       "\n",
       "    .dataframe tbody tr th {\n",
       "        vertical-align: top;\n",
       "    }\n",
       "\n",
       "    .dataframe thead th {\n",
       "        text-align: right;\n",
       "    }\n",
       "</style>\n",
       "<table border=\"1\" class=\"dataframe\">\n",
       "  <thead>\n",
       "    <tr style=\"text-align: right;\">\n",
       "      <th></th>\n",
       "      <th>product_id</th>\n",
       "      <th>level_1</th>\n",
       "      <th>level_2</th>\n",
       "      <th>level_3</th>\n",
       "      <th>level_4</th>\n",
       "      <th>segment_id</th>\n",
       "      <th>brand_id</th>\n",
       "      <th>vendor_id</th>\n",
       "      <th>netto</th>\n",
       "      <th>is_own_trademark</th>\n",
       "      <th>is_alcohol</th>\n",
       "    </tr>\n",
       "  </thead>\n",
       "  <tbody>\n",
       "    <tr>\n",
       "      <th>27327</th>\n",
       "      <td>a375a035b9</td>\n",
       "      <td>e344ab2e71</td>\n",
       "      <td>ed2ad1797c</td>\n",
       "      <td>0767853bf3</td>\n",
       "      <td>f8174fb475</td>\n",
       "      <td>14.0</td>\n",
       "      <td>ab230258e9</td>\n",
       "      <td>57ee56f098</td>\n",
       "      <td>0.36</td>\n",
       "      <td>0</td>\n",
       "      <td>0</td>\n",
       "    </tr>\n",
       "  </tbody>\n",
       "</table>\n",
       "</div>"
      ],
      "text/plain": [
       "       product_id     level_1     level_2     level_3     level_4  segment_id  \\\n",
       "27327  a375a035b9  e344ab2e71  ed2ad1797c  0767853bf3  f8174fb475        14.0   \n",
       "\n",
       "         brand_id   vendor_id  netto  is_own_trademark  is_alcohol  \n",
       "27327  ab230258e9  57ee56f098   0.36                 0           0  "
      ]
     },
     "execution_count": 60,
     "metadata": {},
     "output_type": "execute_result"
    }
   ],
   "source": [
    "products[products['product_id'] == 'a375a035b9']"
   ]
  },
  {
   "cell_type": "code",
   "execution_count": 61,
   "id": "3a4aa9a1",
   "metadata": {},
   "outputs": [
    {
     "data": {
      "text/html": [
       "<div>\n",
       "<style scoped>\n",
       "    .dataframe tbody tr th:only-of-type {\n",
       "        vertical-align: middle;\n",
       "    }\n",
       "\n",
       "    .dataframe tbody tr th {\n",
       "        vertical-align: top;\n",
       "    }\n",
       "\n",
       "    .dataframe thead th {\n",
       "        text-align: right;\n",
       "    }\n",
       "</style>\n",
       "<table border=\"1\" class=\"dataframe\">\n",
       "  <thead>\n",
       "    <tr style=\"text-align: right;\">\n",
       "      <th></th>\n",
       "      <th>client_id</th>\n",
       "      <th>transaction_id</th>\n",
       "      <th>transaction_datetime</th>\n",
       "      <th>regular_points_received</th>\n",
       "      <th>express_points_received</th>\n",
       "      <th>regular_points_spent</th>\n",
       "      <th>express_points_spent</th>\n",
       "      <th>purchase_sum</th>\n",
       "      <th>store_id</th>\n",
       "      <th>product_id</th>\n",
       "      <th>product_quantity</th>\n",
       "      <th>trn_sum_from_iss</th>\n",
       "      <th>trn_sum_from_red</th>\n",
       "      <th>is_own_trademark</th>\n",
       "    </tr>\n",
       "  </thead>\n",
       "  <tbody>\n",
       "    <tr>\n",
       "      <th>0</th>\n",
       "      <td>00010925a5</td>\n",
       "      <td>e91ffe5b50</td>\n",
       "      <td>2018-11-25 10:56:18</td>\n",
       "      <td>1.5</td>\n",
       "      <td>0.0</td>\n",
       "      <td>0.0</td>\n",
       "      <td>0.0</td>\n",
       "      <td>303.0</td>\n",
       "      <td>76d287ce03</td>\n",
       "      <td>a375a035b9</td>\n",
       "      <td>2.0</td>\n",
       "      <td>50.0</td>\n",
       "      <td>NaN</td>\n",
       "      <td>0</td>\n",
       "    </tr>\n",
       "    <tr>\n",
       "      <th>1</th>\n",
       "      <td>00010925a5</td>\n",
       "      <td>e91ffe5b50</td>\n",
       "      <td>2018-11-25 10:56:18</td>\n",
       "      <td>1.5</td>\n",
       "      <td>0.0</td>\n",
       "      <td>0.0</td>\n",
       "      <td>0.0</td>\n",
       "      <td>303.0</td>\n",
       "      <td>76d287ce03</td>\n",
       "      <td>6f9e02ee36</td>\n",
       "      <td>1.0</td>\n",
       "      <td>90.0</td>\n",
       "      <td>NaN</td>\n",
       "      <td>0</td>\n",
       "    </tr>\n",
       "    <tr>\n",
       "      <th>2</th>\n",
       "      <td>00010925a5</td>\n",
       "      <td>e91ffe5b50</td>\n",
       "      <td>2018-11-25 10:56:18</td>\n",
       "      <td>1.5</td>\n",
       "      <td>0.0</td>\n",
       "      <td>0.0</td>\n",
       "      <td>0.0</td>\n",
       "      <td>303.0</td>\n",
       "      <td>76d287ce03</td>\n",
       "      <td>42e1eb8d23</td>\n",
       "      <td>1.0</td>\n",
       "      <td>20.0</td>\n",
       "      <td>NaN</td>\n",
       "      <td>1</td>\n",
       "    </tr>\n",
       "    <tr>\n",
       "      <th>3</th>\n",
       "      <td>00010925a5</td>\n",
       "      <td>e91ffe5b50</td>\n",
       "      <td>2018-11-25 10:56:18</td>\n",
       "      <td>1.5</td>\n",
       "      <td>0.0</td>\n",
       "      <td>0.0</td>\n",
       "      <td>0.0</td>\n",
       "      <td>303.0</td>\n",
       "      <td>76d287ce03</td>\n",
       "      <td>5c6de3010f</td>\n",
       "      <td>2.0</td>\n",
       "      <td>85.0</td>\n",
       "      <td>NaN</td>\n",
       "      <td>0</td>\n",
       "    </tr>\n",
       "    <tr>\n",
       "      <th>4</th>\n",
       "      <td>00010925a5</td>\n",
       "      <td>e91ffe5b50</td>\n",
       "      <td>2018-11-25 10:56:18</td>\n",
       "      <td>1.5</td>\n",
       "      <td>0.0</td>\n",
       "      <td>0.0</td>\n",
       "      <td>0.0</td>\n",
       "      <td>303.0</td>\n",
       "      <td>76d287ce03</td>\n",
       "      <td>343e841aaa</td>\n",
       "      <td>1.0</td>\n",
       "      <td>58.0</td>\n",
       "      <td>NaN</td>\n",
       "      <td>0</td>\n",
       "    </tr>\n",
       "  </tbody>\n",
       "</table>\n",
       "</div>"
      ],
      "text/plain": [
       "    client_id transaction_id transaction_datetime  regular_points_received  \\\n",
       "0  00010925a5     e91ffe5b50  2018-11-25 10:56:18                      1.5   \n",
       "1  00010925a5     e91ffe5b50  2018-11-25 10:56:18                      1.5   \n",
       "2  00010925a5     e91ffe5b50  2018-11-25 10:56:18                      1.5   \n",
       "3  00010925a5     e91ffe5b50  2018-11-25 10:56:18                      1.5   \n",
       "4  00010925a5     e91ffe5b50  2018-11-25 10:56:18                      1.5   \n",
       "\n",
       "   express_points_received  regular_points_spent  express_points_spent  \\\n",
       "0                      0.0                   0.0                   0.0   \n",
       "1                      0.0                   0.0                   0.0   \n",
       "2                      0.0                   0.0                   0.0   \n",
       "3                      0.0                   0.0                   0.0   \n",
       "4                      0.0                   0.0                   0.0   \n",
       "\n",
       "   purchase_sum    store_id  product_id  product_quantity  trn_sum_from_iss  \\\n",
       "0         303.0  76d287ce03  a375a035b9               2.0              50.0   \n",
       "1         303.0  76d287ce03  6f9e02ee36               1.0              90.0   \n",
       "2         303.0  76d287ce03  42e1eb8d23               1.0              20.0   \n",
       "3         303.0  76d287ce03  5c6de3010f               2.0              85.0   \n",
       "4         303.0  76d287ce03  343e841aaa               1.0              58.0   \n",
       "\n",
       "   trn_sum_from_red  is_own_trademark  \n",
       "0               NaN                 0  \n",
       "1               NaN                 0  \n",
       "2               NaN                 1  \n",
       "3               NaN                 0  \n",
       "4               NaN                 0  "
      ]
     },
     "execution_count": 61,
     "metadata": {},
     "output_type": "execute_result"
    }
   ],
   "source": [
    "test_purchases_1[test_purchases_1['transaction_id']=='e91ffe5b50']"
   ]
  },
  {
   "cell_type": "code",
   "execution_count": 62,
   "id": "5957395e",
   "metadata": {},
   "outputs": [],
   "source": [
    "del test_purchases_1"
   ]
  },
  {
   "cell_type": "markdown",
   "id": "1d1b8e7f",
   "metadata": {},
   "source": [
    "Влияет ли факт покупки самого популярного продукта на аплифт? Если влияет, то каково значение аплифта?"
   ]
  },
  {
   "cell_type": "markdown",
   "id": "d2678e2c",
   "metadata": {},
   "source": [
    "Определим самый популярный продукт — для этого посчитаем сколько раз он встречается у разных покупателей."
   ]
  },
  {
   "cell_type": "code",
   "execution_count": 63,
   "id": "bb413978",
   "metadata": {},
   "outputs": [],
   "source": [
    "train_purchases_temp = train_purchases.pivot_table(index=['product_id'], values=['client_id'], aggfunc=['count'])"
   ]
  },
  {
   "cell_type": "code",
   "execution_count": 64,
   "id": "7e879e2b",
   "metadata": {},
   "outputs": [],
   "source": [
    "train_purchases_temp.columns = ['count']"
   ]
  },
  {
   "cell_type": "code",
   "execution_count": 65,
   "id": "8af2c9d7",
   "metadata": {
    "scrolled": true
   },
   "outputs": [
    {
     "data": {
      "text/html": [
       "<div>\n",
       "<style scoped>\n",
       "    .dataframe tbody tr th:only-of-type {\n",
       "        vertical-align: middle;\n",
       "    }\n",
       "\n",
       "    .dataframe tbody tr th {\n",
       "        vertical-align: top;\n",
       "    }\n",
       "\n",
       "    .dataframe thead th {\n",
       "        text-align: right;\n",
       "    }\n",
       "</style>\n",
       "<table border=\"1\" class=\"dataframe\">\n",
       "  <thead>\n",
       "    <tr style=\"text-align: right;\">\n",
       "      <th></th>\n",
       "      <th>count</th>\n",
       "    </tr>\n",
       "    <tr>\n",
       "      <th>product_id</th>\n",
       "      <th></th>\n",
       "    </tr>\n",
       "  </thead>\n",
       "  <tbody>\n",
       "    <tr>\n",
       "      <th>4009f09b04</th>\n",
       "      <td>636488</td>\n",
       "    </tr>\n",
       "    <tr>\n",
       "      <th>15ccaa8685</th>\n",
       "      <td>219727</td>\n",
       "    </tr>\n",
       "    <tr>\n",
       "      <th>bf07df54e1</th>\n",
       "      <td>144643</td>\n",
       "    </tr>\n",
       "    <tr>\n",
       "      <th>3e038662c0</th>\n",
       "      <td>134126</td>\n",
       "    </tr>\n",
       "    <tr>\n",
       "      <th>4dcf79043e</th>\n",
       "      <td>129695</td>\n",
       "    </tr>\n",
       "    <tr>\n",
       "      <th>...</th>\n",
       "      <td>...</td>\n",
       "    </tr>\n",
       "    <tr>\n",
       "      <th>c01c981c64</th>\n",
       "      <td>1</td>\n",
       "    </tr>\n",
       "    <tr>\n",
       "      <th>2837a6825a</th>\n",
       "      <td>1</td>\n",
       "    </tr>\n",
       "    <tr>\n",
       "      <th>bffdeb943c</th>\n",
       "      <td>1</td>\n",
       "    </tr>\n",
       "    <tr>\n",
       "      <th>bff5fbe680</th>\n",
       "      <td>1</td>\n",
       "    </tr>\n",
       "    <tr>\n",
       "      <th>801252f58e</th>\n",
       "      <td>1</td>\n",
       "    </tr>\n",
       "  </tbody>\n",
       "</table>\n",
       "<p>39678 rows × 1 columns</p>\n",
       "</div>"
      ],
      "text/plain": [
       "             count\n",
       "product_id        \n",
       "4009f09b04  636488\n",
       "15ccaa8685  219727\n",
       "bf07df54e1  144643\n",
       "3e038662c0  134126\n",
       "4dcf79043e  129695\n",
       "...            ...\n",
       "c01c981c64       1\n",
       "2837a6825a       1\n",
       "bffdeb943c       1\n",
       "bff5fbe680       1\n",
       "801252f58e       1\n",
       "\n",
       "[39678 rows x 1 columns]"
      ]
     },
     "execution_count": 65,
     "metadata": {},
     "output_type": "execute_result"
    }
   ],
   "source": [
    "train_purchases_temp.sort_values(by='count', ascending=False)"
   ]
  },
  {
   "cell_type": "markdown",
   "id": "ce65a10d",
   "metadata": {},
   "source": [
    "Некий товар с `product_id` 4009f09b04 купили 636488. Создадим по нему признак для клиентов в трейне."
   ]
  },
  {
   "cell_type": "code",
   "execution_count": 66,
   "id": "64b18e52",
   "metadata": {},
   "outputs": [],
   "source": [
    "del train_purchases_temp"
   ]
  },
  {
   "cell_type": "markdown",
   "id": "2c1589b2",
   "metadata": {},
   "source": [
    "Создадим список с id клиентов, которые покупали самый популярный продукт."
   ]
  },
  {
   "cell_type": "code",
   "execution_count": 67,
   "id": "299544c1",
   "metadata": {},
   "outputs": [],
   "source": [
    "list_of_clients_buying_most_popular = train_purchases[train_purchases['product_id']=='4009f09b04']['client_id'].unique()"
   ]
  },
  {
   "cell_type": "markdown",
   "id": "2e53fb70",
   "metadata": {},
   "source": [
    "Теперь определим фунцию, которая проверит есть ли клиент в этом списке."
   ]
  },
  {
   "cell_type": "code",
   "execution_count": 68,
   "id": "aec82025",
   "metadata": {},
   "outputs": [],
   "source": [
    "def fill_buy_most_popular(row):\n",
    "    \"\"\"\n",
    "    Функция принимает на вход строку датафрейма с имеющимся признаком `client_id`,\n",
    "    и проверяет, входит ли этот id в список тех кто покупал самый популярный продукт.\n",
    "    \"\"\"\n",
    "    if row['client_id'] in list_of_clients_buying_most_popular:\n",
    "        return 1\n",
    "    else:\n",
    "        return 0"
   ]
  },
  {
   "cell_type": "code",
   "execution_count": 69,
   "id": "41b5febf",
   "metadata": {},
   "outputs": [],
   "source": [
    "train_data['buys_most_popular'] = train_data.apply(fill_buy_most_popular, axis=1)"
   ]
  },
  {
   "cell_type": "code",
   "execution_count": 70,
   "id": "cfabf140",
   "metadata": {},
   "outputs": [
    {
     "data": {
      "text/html": [
       "<div>\n",
       "<style scoped>\n",
       "    .dataframe tbody tr th:only-of-type {\n",
       "        vertical-align: middle;\n",
       "    }\n",
       "\n",
       "    .dataframe tbody tr th {\n",
       "        vertical-align: top;\n",
       "    }\n",
       "\n",
       "    .dataframe thead th {\n",
       "        text-align: right;\n",
       "    }\n",
       "</style>\n",
       "<table border=\"1\" class=\"dataframe\">\n",
       "  <thead>\n",
       "    <tr style=\"text-align: right;\">\n",
       "      <th></th>\n",
       "      <th>client_id</th>\n",
       "      <th>treatment_flg</th>\n",
       "      <th>purchased</th>\n",
       "      <th>first_issue_date</th>\n",
       "      <th>first_redeem_date</th>\n",
       "      <th>age</th>\n",
       "      <th>gender</th>\n",
       "      <th>buys_most_popular</th>\n",
       "    </tr>\n",
       "  </thead>\n",
       "  <tbody>\n",
       "    <tr>\n",
       "      <th>0</th>\n",
       "      <td>ad6561e2d8</td>\n",
       "      <td>1</td>\n",
       "      <td>1</td>\n",
       "      <td>2017-12-03 17:33:51</td>\n",
       "      <td>2018-05-23 18:59:01</td>\n",
       "      <td>50</td>\n",
       "      <td>F</td>\n",
       "      <td>1</td>\n",
       "    </tr>\n",
       "    <tr>\n",
       "      <th>1</th>\n",
       "      <td>7c1ccbf93f</td>\n",
       "      <td>1</td>\n",
       "      <td>1</td>\n",
       "      <td>2017-11-10 16:33:49</td>\n",
       "      <td>2018-02-22 19:02:25</td>\n",
       "      <td>24</td>\n",
       "      <td>F</td>\n",
       "      <td>1</td>\n",
       "    </tr>\n",
       "    <tr>\n",
       "      <th>2</th>\n",
       "      <td>b58fadcab6</td>\n",
       "      <td>1</td>\n",
       "      <td>1</td>\n",
       "      <td>2017-11-02 21:17:45</td>\n",
       "      <td>2018-09-15 21:02:16</td>\n",
       "      <td>36</td>\n",
       "      <td>U</td>\n",
       "      <td>1</td>\n",
       "    </tr>\n",
       "    <tr>\n",
       "      <th>3</th>\n",
       "      <td>e99e6fabb9</td>\n",
       "      <td>0</td>\n",
       "      <td>0</td>\n",
       "      <td>2018-05-16 10:21:20</td>\n",
       "      <td>2018-05-30 20:49:24</td>\n",
       "      <td>79</td>\n",
       "      <td>F</td>\n",
       "      <td>0</td>\n",
       "    </tr>\n",
       "    <tr>\n",
       "      <th>4</th>\n",
       "      <td>27fb6f8520</td>\n",
       "      <td>1</td>\n",
       "      <td>1</td>\n",
       "      <td>2017-07-17 19:36:28</td>\n",
       "      <td>2017-12-15 10:05:25</td>\n",
       "      <td>34</td>\n",
       "      <td>F</td>\n",
       "      <td>1</td>\n",
       "    </tr>\n",
       "  </tbody>\n",
       "</table>\n",
       "</div>"
      ],
      "text/plain": [
       "    client_id  treatment_flg  purchased     first_issue_date  \\\n",
       "0  ad6561e2d8              1          1  2017-12-03 17:33:51   \n",
       "1  7c1ccbf93f              1          1  2017-11-10 16:33:49   \n",
       "2  b58fadcab6              1          1  2017-11-02 21:17:45   \n",
       "3  e99e6fabb9              0          0  2018-05-16 10:21:20   \n",
       "4  27fb6f8520              1          1  2017-07-17 19:36:28   \n",
       "\n",
       "     first_redeem_date  age gender  buys_most_popular  \n",
       "0  2018-05-23 18:59:01   50      F                  1  \n",
       "1  2018-02-22 19:02:25   24      F                  1  \n",
       "2  2018-09-15 21:02:16   36      U                  1  \n",
       "3  2018-05-30 20:49:24   79      F                  0  \n",
       "4  2017-12-15 10:05:25   34      F                  1  "
      ]
     },
     "execution_count": 70,
     "metadata": {},
     "output_type": "execute_result"
    }
   ],
   "source": [
    "train_data.head() #проверем добавление признака"
   ]
  },
  {
   "cell_type": "code",
   "execution_count": 71,
   "id": "a2c5e216",
   "metadata": {},
   "outputs": [
    {
     "data": {
      "text/plain": [
       "0.026455617315496616"
      ]
     },
     "execution_count": 71,
     "metadata": {},
     "output_type": "execute_result"
    }
   ],
   "source": [
    "train_data_popular = train_data[train_data['buys_most_popular'] == 1]\n",
    "\n",
    "train_data_popular[train_data_popular['treatment_flg'] == 1]['purchased'].mean() \\\n",
    "- train_data_popular[train_data_popular['treatment_flg'] == 0]['purchased'].mean()"
   ]
  },
  {
   "cell_type": "markdown",
   "id": "f394767d",
   "metadata": {},
   "source": [
    "Аплифт среди тех, кто покупал самый популярный продукт примерно равнен 2,6% против 3,3% по всем тренировочным данным."
   ]
  },
  {
   "cell_type": "markdown",
   "id": "06f10cc9",
   "metadata": {},
   "source": [
    "Посмотрим, на сколько со временем падает эффект от коммуникации — разделим пользователей на тех кто владеет картой более 100 дней и менее и сравним аплифт. Тут будет сделано допущение, что дата последней покупки - дата коммуникации."
   ]
  },
  {
   "cell_type": "code",
   "execution_count": 72,
   "id": "f5570f7c",
   "metadata": {},
   "outputs": [],
   "source": [
    "train_data['first_issue_date'] = pd.to_datetime(train_data['first_issue_date'], format='%Y-%m-%d')"
   ]
  },
  {
   "cell_type": "code",
   "execution_count": 73,
   "id": "d9f4ff10",
   "metadata": {},
   "outputs": [],
   "source": [
    "train_data['current_date'] = pd.Timestamp('2019-03-18')"
   ]
  },
  {
   "cell_type": "code",
   "execution_count": 74,
   "id": "f63f1206",
   "metadata": {},
   "outputs": [
    {
     "name": "stdout",
     "output_type": "stream",
     "text": [
      "<class 'pandas.core.frame.DataFrame'>\n",
      "Int64Index: 139552 entries, 0 to 139551\n",
      "Data columns (total 9 columns):\n",
      " #   Column             Non-Null Count   Dtype         \n",
      "---  ------             --------------   -----         \n",
      " 0   client_id          139552 non-null  object        \n",
      " 1   treatment_flg      139552 non-null  int64         \n",
      " 2   purchased          139552 non-null  int64         \n",
      " 3   first_issue_date   139552 non-null  datetime64[ns]\n",
      " 4   first_redeem_date  127270 non-null  object        \n",
      " 5   age                139552 non-null  int64         \n",
      " 6   gender             139552 non-null  object        \n",
      " 7   buys_most_popular  139552 non-null  int64         \n",
      " 8   current_date       139552 non-null  datetime64[ns]\n",
      "dtypes: datetime64[ns](2), int64(4), object(3)\n",
      "memory usage: 10.6+ MB\n"
     ]
    }
   ],
   "source": [
    "train_data.info()"
   ]
  },
  {
   "cell_type": "code",
   "execution_count": 75,
   "id": "2749e4ea",
   "metadata": {},
   "outputs": [],
   "source": [
    "train_data['tenure'] = train_data['current_date'] - train_data['first_issue_date']"
   ]
  },
  {
   "cell_type": "code",
   "execution_count": 76,
   "id": "e5444873",
   "metadata": {},
   "outputs": [],
   "source": [
    "train_data = train_data.drop(columns='current_date')"
   ]
  },
  {
   "cell_type": "code",
   "execution_count": 77,
   "id": "d11b6daf",
   "metadata": {},
   "outputs": [
    {
     "name": "stdout",
     "output_type": "stream",
     "text": [
      "<class 'pandas.core.frame.DataFrame'>\n",
      "Int64Index: 139552 entries, 0 to 139551\n",
      "Data columns (total 9 columns):\n",
      " #   Column             Non-Null Count   Dtype          \n",
      "---  ------             --------------   -----          \n",
      " 0   client_id          139552 non-null  object         \n",
      " 1   treatment_flg      139552 non-null  int64          \n",
      " 2   purchased          139552 non-null  int64          \n",
      " 3   first_issue_date   139552 non-null  datetime64[ns] \n",
      " 4   first_redeem_date  127270 non-null  object         \n",
      " 5   age                139552 non-null  int64          \n",
      " 6   gender             139552 non-null  object         \n",
      " 7   buys_most_popular  139552 non-null  int64          \n",
      " 8   tenure             139552 non-null  timedelta64[ns]\n",
      "dtypes: datetime64[ns](1), int64(4), object(3), timedelta64[ns](1)\n",
      "memory usage: 10.6+ MB\n"
     ]
    }
   ],
   "source": [
    "train_data.info()"
   ]
  },
  {
   "cell_type": "code",
   "execution_count": 78,
   "id": "32225691",
   "metadata": {},
   "outputs": [],
   "source": [
    "train_data['tenure'] = train_data['tenure'].dt.days.astype('int16')"
   ]
  },
  {
   "cell_type": "code",
   "execution_count": 79,
   "id": "a9f4fe13",
   "metadata": {
    "scrolled": true
   },
   "outputs": [
    {
     "data": {
      "text/html": [
       "<div>\n",
       "<style scoped>\n",
       "    .dataframe tbody tr th:only-of-type {\n",
       "        vertical-align: middle;\n",
       "    }\n",
       "\n",
       "    .dataframe tbody tr th {\n",
       "        vertical-align: top;\n",
       "    }\n",
       "\n",
       "    .dataframe thead th {\n",
       "        text-align: right;\n",
       "    }\n",
       "</style>\n",
       "<table border=\"1\" class=\"dataframe\">\n",
       "  <thead>\n",
       "    <tr style=\"text-align: right;\">\n",
       "      <th></th>\n",
       "      <th>client_id</th>\n",
       "      <th>treatment_flg</th>\n",
       "      <th>purchased</th>\n",
       "      <th>first_issue_date</th>\n",
       "      <th>first_redeem_date</th>\n",
       "      <th>age</th>\n",
       "      <th>gender</th>\n",
       "      <th>buys_most_popular</th>\n",
       "      <th>tenure</th>\n",
       "    </tr>\n",
       "  </thead>\n",
       "  <tbody>\n",
       "    <tr>\n",
       "      <th>0</th>\n",
       "      <td>ad6561e2d8</td>\n",
       "      <td>1</td>\n",
       "      <td>1</td>\n",
       "      <td>2017-12-03 17:33:51</td>\n",
       "      <td>2018-05-23 18:59:01</td>\n",
       "      <td>50</td>\n",
       "      <td>F</td>\n",
       "      <td>1</td>\n",
       "      <td>469</td>\n",
       "    </tr>\n",
       "    <tr>\n",
       "      <th>1</th>\n",
       "      <td>7c1ccbf93f</td>\n",
       "      <td>1</td>\n",
       "      <td>1</td>\n",
       "      <td>2017-11-10 16:33:49</td>\n",
       "      <td>2018-02-22 19:02:25</td>\n",
       "      <td>24</td>\n",
       "      <td>F</td>\n",
       "      <td>1</td>\n",
       "      <td>492</td>\n",
       "    </tr>\n",
       "    <tr>\n",
       "      <th>2</th>\n",
       "      <td>b58fadcab6</td>\n",
       "      <td>1</td>\n",
       "      <td>1</td>\n",
       "      <td>2017-11-02 21:17:45</td>\n",
       "      <td>2018-09-15 21:02:16</td>\n",
       "      <td>36</td>\n",
       "      <td>U</td>\n",
       "      <td>1</td>\n",
       "      <td>500</td>\n",
       "    </tr>\n",
       "    <tr>\n",
       "      <th>3</th>\n",
       "      <td>e99e6fabb9</td>\n",
       "      <td>0</td>\n",
       "      <td>0</td>\n",
       "      <td>2018-05-16 10:21:20</td>\n",
       "      <td>2018-05-30 20:49:24</td>\n",
       "      <td>79</td>\n",
       "      <td>F</td>\n",
       "      <td>0</td>\n",
       "      <td>305</td>\n",
       "    </tr>\n",
       "    <tr>\n",
       "      <th>4</th>\n",
       "      <td>27fb6f8520</td>\n",
       "      <td>1</td>\n",
       "      <td>1</td>\n",
       "      <td>2017-07-17 19:36:28</td>\n",
       "      <td>2017-12-15 10:05:25</td>\n",
       "      <td>34</td>\n",
       "      <td>F</td>\n",
       "      <td>1</td>\n",
       "      <td>608</td>\n",
       "    </tr>\n",
       "    <tr>\n",
       "      <th>...</th>\n",
       "      <td>...</td>\n",
       "      <td>...</td>\n",
       "      <td>...</td>\n",
       "      <td>...</td>\n",
       "      <td>...</td>\n",
       "      <td>...</td>\n",
       "      <td>...</td>\n",
       "      <td>...</td>\n",
       "      <td>...</td>\n",
       "    </tr>\n",
       "    <tr>\n",
       "      <th>139547</th>\n",
       "      <td>999d284453</td>\n",
       "      <td>1</td>\n",
       "      <td>1</td>\n",
       "      <td>2018-10-31 13:10:37</td>\n",
       "      <td>2019-04-06 13:49:41</td>\n",
       "      <td>72</td>\n",
       "      <td>U</td>\n",
       "      <td>0</td>\n",
       "      <td>137</td>\n",
       "    </tr>\n",
       "    <tr>\n",
       "      <th>139548</th>\n",
       "      <td>f634deea4e</td>\n",
       "      <td>0</td>\n",
       "      <td>1</td>\n",
       "      <td>2018-02-04 13:51:32</td>\n",
       "      <td>2018-03-12 17:41:42</td>\n",
       "      <td>35</td>\n",
       "      <td>U</td>\n",
       "      <td>1</td>\n",
       "      <td>406</td>\n",
       "    </tr>\n",
       "    <tr>\n",
       "      <th>139549</th>\n",
       "      <td>16cb4f99b0</td>\n",
       "      <td>0</td>\n",
       "      <td>1</td>\n",
       "      <td>2018-02-23 10:02:33</td>\n",
       "      <td>2019-05-31 17:37:36</td>\n",
       "      <td>50</td>\n",
       "      <td>F</td>\n",
       "      <td>0</td>\n",
       "      <td>387</td>\n",
       "    </tr>\n",
       "    <tr>\n",
       "      <th>139550</th>\n",
       "      <td>23c2b72b2e</td>\n",
       "      <td>1</td>\n",
       "      <td>1</td>\n",
       "      <td>2017-07-01 19:05:33</td>\n",
       "      <td>2017-10-18 18:50:02</td>\n",
       "      <td>55</td>\n",
       "      <td>U</td>\n",
       "      <td>1</td>\n",
       "      <td>624</td>\n",
       "    </tr>\n",
       "    <tr>\n",
       "      <th>139551</th>\n",
       "      <td>1430184499</td>\n",
       "      <td>0</td>\n",
       "      <td>1</td>\n",
       "      <td>2017-05-22 18:05:07</td>\n",
       "      <td>2018-02-27 18:37:19</td>\n",
       "      <td>63</td>\n",
       "      <td>M</td>\n",
       "      <td>1</td>\n",
       "      <td>664</td>\n",
       "    </tr>\n",
       "  </tbody>\n",
       "</table>\n",
       "<p>139552 rows × 9 columns</p>\n",
       "</div>"
      ],
      "text/plain": [
       "         client_id  treatment_flg  purchased    first_issue_date  \\\n",
       "0       ad6561e2d8              1          1 2017-12-03 17:33:51   \n",
       "1       7c1ccbf93f              1          1 2017-11-10 16:33:49   \n",
       "2       b58fadcab6              1          1 2017-11-02 21:17:45   \n",
       "3       e99e6fabb9              0          0 2018-05-16 10:21:20   \n",
       "4       27fb6f8520              1          1 2017-07-17 19:36:28   \n",
       "...            ...            ...        ...                 ...   \n",
       "139547  999d284453              1          1 2018-10-31 13:10:37   \n",
       "139548  f634deea4e              0          1 2018-02-04 13:51:32   \n",
       "139549  16cb4f99b0              0          1 2018-02-23 10:02:33   \n",
       "139550  23c2b72b2e              1          1 2017-07-01 19:05:33   \n",
       "139551  1430184499              0          1 2017-05-22 18:05:07   \n",
       "\n",
       "          first_redeem_date  age gender  buys_most_popular  tenure  \n",
       "0       2018-05-23 18:59:01   50      F                  1     469  \n",
       "1       2018-02-22 19:02:25   24      F                  1     492  \n",
       "2       2018-09-15 21:02:16   36      U                  1     500  \n",
       "3       2018-05-30 20:49:24   79      F                  0     305  \n",
       "4       2017-12-15 10:05:25   34      F                  1     608  \n",
       "...                     ...  ...    ...                ...     ...  \n",
       "139547  2019-04-06 13:49:41   72      U                  0     137  \n",
       "139548  2018-03-12 17:41:42   35      U                  1     406  \n",
       "139549  2019-05-31 17:37:36   50      F                  0     387  \n",
       "139550  2017-10-18 18:50:02   55      U                  1     624  \n",
       "139551  2018-02-27 18:37:19   63      M                  1     664  \n",
       "\n",
       "[139552 rows x 9 columns]"
      ]
     },
     "execution_count": 79,
     "metadata": {},
     "output_type": "execute_result"
    }
   ],
   "source": [
    "train_data"
   ]
  },
  {
   "cell_type": "markdown",
   "id": "3737fbef",
   "metadata": {},
   "source": [
    "Рассчет даты владения картой для трейна сделан — теперь посмотрим на аплифт по группам."
   ]
  },
  {
   "cell_type": "code",
   "execution_count": 80,
   "id": "8239e2a8",
   "metadata": {},
   "outputs": [
    {
     "data": {
      "text/plain": [
       "0.030981550901291177"
      ]
     },
     "execution_count": 80,
     "metadata": {},
     "output_type": "execute_result"
    }
   ],
   "source": [
    "train_data_card_over_100 = train_data[train_data['tenure'] > 100]\n",
    "\n",
    "train_data_card_over_100[train_data_card_over_100['treatment_flg'] == 1]['purchased'].mean() \\\n",
    "- train_data_card_over_100[train_data_card_over_100['treatment_flg'] == 0]['purchased'].mean()"
   ]
  },
  {
   "cell_type": "code",
   "execution_count": 81,
   "id": "c34d25d2",
   "metadata": {},
   "outputs": [
    {
     "data": {
      "text/plain": [
       "0.0555896169903326"
      ]
     },
     "execution_count": 81,
     "metadata": {},
     "output_type": "execute_result"
    }
   ],
   "source": [
    "train_data_card_under_100 = train_data[train_data['tenure'] <= 100]\n",
    "\n",
    "train_data_card_under_100[train_data_card_under_100['treatment_flg'] == 1]['purchased'].mean() \\\n",
    "- train_data_card_under_100[train_data_card_under_100['treatment_flg'] == 0]['purchased'].mean()"
   ]
  },
  {
   "cell_type": "markdown",
   "id": "89ddd15d",
   "metadata": {},
   "source": [
    "В группе А (владеют картой более 100 дней) аплифт меньше, чем в группе Б(владеют менее 100 дней), на 2,35 п.п."
   ]
  },
  {
   "cell_type": "code",
   "execution_count": 82,
   "id": "709a2a83",
   "metadata": {},
   "outputs": [],
   "source": [
    "del train_data_card_over_100\n",
    "del train_data_card_under_100"
   ]
  },
  {
   "cell_type": "markdown",
   "id": "551844c6",
   "metadata": {},
   "source": [
    "Следуюший шаг — определить, влияет ли факт покупки СТМ на аплифт. Для этого разделим покупателей на две категории — те, кто никогда не покупал СТМ, и те, кто покупал хоть раз."
   ]
  },
  {
   "cell_type": "code",
   "execution_count": 83,
   "id": "6a25b941",
   "metadata": {},
   "outputs": [],
   "source": [
    "train_purchases_temp = train_purchases[['client_id','product_id','is_own_trademark']]"
   ]
  },
  {
   "cell_type": "code",
   "execution_count": 84,
   "id": "f732025b",
   "metadata": {},
   "outputs": [],
   "source": [
    "train_purchases_temp = train_purchases_temp[train_purchases_temp['is_own_trademark'] == 1] \\\n",
    "                                        .drop(columns=['product_id']).drop_duplicates()"
   ]
  },
  {
   "cell_type": "code",
   "execution_count": 85,
   "id": "ca8b75a9",
   "metadata": {},
   "outputs": [
    {
     "data": {
      "text/html": [
       "<div>\n",
       "<style scoped>\n",
       "    .dataframe tbody tr th:only-of-type {\n",
       "        vertical-align: middle;\n",
       "    }\n",
       "\n",
       "    .dataframe tbody tr th {\n",
       "        vertical-align: top;\n",
       "    }\n",
       "\n",
       "    .dataframe thead th {\n",
       "        text-align: right;\n",
       "    }\n",
       "</style>\n",
       "<table border=\"1\" class=\"dataframe\">\n",
       "  <thead>\n",
       "    <tr style=\"text-align: right;\">\n",
       "      <th></th>\n",
       "      <th>client_id</th>\n",
       "      <th>is_own_trademark</th>\n",
       "    </tr>\n",
       "  </thead>\n",
       "  <tbody>\n",
       "    <tr>\n",
       "      <th>1</th>\n",
       "      <td>000012768d</td>\n",
       "      <td>1</td>\n",
       "    </tr>\n",
       "    <tr>\n",
       "      <th>54</th>\n",
       "      <td>000036f903</td>\n",
       "      <td>1</td>\n",
       "    </tr>\n",
       "    <tr>\n",
       "      <th>225</th>\n",
       "      <td>0001f552b0</td>\n",
       "      <td>1</td>\n",
       "    </tr>\n",
       "    <tr>\n",
       "      <th>303</th>\n",
       "      <td>00020e7b18</td>\n",
       "      <td>1</td>\n",
       "    </tr>\n",
       "    <tr>\n",
       "      <th>579</th>\n",
       "      <td>000220a0a7</td>\n",
       "      <td>1</td>\n",
       "    </tr>\n",
       "    <tr>\n",
       "      <th>...</th>\n",
       "      <td>...</td>\n",
       "      <td>...</td>\n",
       "    </tr>\n",
       "    <tr>\n",
       "      <th>15998728</th>\n",
       "      <td>fffd5cd0c6</td>\n",
       "      <td>1</td>\n",
       "    </tr>\n",
       "    <tr>\n",
       "      <th>15998817</th>\n",
       "      <td>fffd63dfe3</td>\n",
       "      <td>1</td>\n",
       "    </tr>\n",
       "    <tr>\n",
       "      <th>15998841</th>\n",
       "      <td>fffd8c9d7d</td>\n",
       "      <td>1</td>\n",
       "    </tr>\n",
       "    <tr>\n",
       "      <th>15998861</th>\n",
       "      <td>fffe0abb97</td>\n",
       "      <td>1</td>\n",
       "    </tr>\n",
       "    <tr>\n",
       "      <th>15998910</th>\n",
       "      <td>fffeca6d22</td>\n",
       "      <td>1</td>\n",
       "    </tr>\n",
       "  </tbody>\n",
       "</table>\n",
       "<p>135712 rows × 2 columns</p>\n",
       "</div>"
      ],
      "text/plain": [
       "           client_id  is_own_trademark\n",
       "1         000012768d                 1\n",
       "54        000036f903                 1\n",
       "225       0001f552b0                 1\n",
       "303       00020e7b18                 1\n",
       "579       000220a0a7                 1\n",
       "...              ...               ...\n",
       "15998728  fffd5cd0c6                 1\n",
       "15998817  fffd63dfe3                 1\n",
       "15998841  fffd8c9d7d                 1\n",
       "15998861  fffe0abb97                 1\n",
       "15998910  fffeca6d22                 1\n",
       "\n",
       "[135712 rows x 2 columns]"
      ]
     },
     "execution_count": 85,
     "metadata": {},
     "output_type": "execute_result"
    }
   ],
   "source": [
    "train_purchases_temp #список id клиентов покупавших СТМ"
   ]
  },
  {
   "cell_type": "markdown",
   "id": "411af3b6",
   "metadata": {},
   "source": [
    "135712 клиентов из 140 000 покупали СТМ."
   ]
  },
  {
   "cell_type": "code",
   "execution_count": 86,
   "id": "93c0728a",
   "metadata": {},
   "outputs": [],
   "source": [
    "train_data = pd.merge(train_data, train_purchases_temp[['client_id','is_own_trademark']], how=\"left\", on=[\"client_id\"]).fillna(0)"
   ]
  },
  {
   "cell_type": "code",
   "execution_count": 87,
   "id": "040e747c",
   "metadata": {},
   "outputs": [
    {
     "data": {
      "text/html": [
       "<div>\n",
       "<style scoped>\n",
       "    .dataframe tbody tr th:only-of-type {\n",
       "        vertical-align: middle;\n",
       "    }\n",
       "\n",
       "    .dataframe tbody tr th {\n",
       "        vertical-align: top;\n",
       "    }\n",
       "\n",
       "    .dataframe thead th {\n",
       "        text-align: right;\n",
       "    }\n",
       "</style>\n",
       "<table border=\"1\" class=\"dataframe\">\n",
       "  <thead>\n",
       "    <tr style=\"text-align: right;\">\n",
       "      <th></th>\n",
       "      <th>client_id</th>\n",
       "      <th>treatment_flg</th>\n",
       "      <th>purchased</th>\n",
       "      <th>first_issue_date</th>\n",
       "      <th>first_redeem_date</th>\n",
       "      <th>age</th>\n",
       "      <th>gender</th>\n",
       "      <th>buys_most_popular</th>\n",
       "      <th>tenure</th>\n",
       "      <th>is_own_trademark</th>\n",
       "    </tr>\n",
       "  </thead>\n",
       "  <tbody>\n",
       "    <tr>\n",
       "      <th>0</th>\n",
       "      <td>ad6561e2d8</td>\n",
       "      <td>1</td>\n",
       "      <td>1</td>\n",
       "      <td>2017-12-03 17:33:51</td>\n",
       "      <td>2018-05-23 18:59:01</td>\n",
       "      <td>50</td>\n",
       "      <td>F</td>\n",
       "      <td>1</td>\n",
       "      <td>469</td>\n",
       "      <td>1.0</td>\n",
       "    </tr>\n",
       "    <tr>\n",
       "      <th>1</th>\n",
       "      <td>7c1ccbf93f</td>\n",
       "      <td>1</td>\n",
       "      <td>1</td>\n",
       "      <td>2017-11-10 16:33:49</td>\n",
       "      <td>2018-02-22 19:02:25</td>\n",
       "      <td>24</td>\n",
       "      <td>F</td>\n",
       "      <td>1</td>\n",
       "      <td>492</td>\n",
       "      <td>1.0</td>\n",
       "    </tr>\n",
       "    <tr>\n",
       "      <th>2</th>\n",
       "      <td>b58fadcab6</td>\n",
       "      <td>1</td>\n",
       "      <td>1</td>\n",
       "      <td>2017-11-02 21:17:45</td>\n",
       "      <td>2018-09-15 21:02:16</td>\n",
       "      <td>36</td>\n",
       "      <td>U</td>\n",
       "      <td>1</td>\n",
       "      <td>500</td>\n",
       "      <td>1.0</td>\n",
       "    </tr>\n",
       "    <tr>\n",
       "      <th>3</th>\n",
       "      <td>e99e6fabb9</td>\n",
       "      <td>0</td>\n",
       "      <td>0</td>\n",
       "      <td>2018-05-16 10:21:20</td>\n",
       "      <td>2018-05-30 20:49:24</td>\n",
       "      <td>79</td>\n",
       "      <td>F</td>\n",
       "      <td>0</td>\n",
       "      <td>305</td>\n",
       "      <td>1.0</td>\n",
       "    </tr>\n",
       "    <tr>\n",
       "      <th>4</th>\n",
       "      <td>27fb6f8520</td>\n",
       "      <td>1</td>\n",
       "      <td>1</td>\n",
       "      <td>2017-07-17 19:36:28</td>\n",
       "      <td>2017-12-15 10:05:25</td>\n",
       "      <td>34</td>\n",
       "      <td>F</td>\n",
       "      <td>1</td>\n",
       "      <td>608</td>\n",
       "      <td>1.0</td>\n",
       "    </tr>\n",
       "    <tr>\n",
       "      <th>...</th>\n",
       "      <td>...</td>\n",
       "      <td>...</td>\n",
       "      <td>...</td>\n",
       "      <td>...</td>\n",
       "      <td>...</td>\n",
       "      <td>...</td>\n",
       "      <td>...</td>\n",
       "      <td>...</td>\n",
       "      <td>...</td>\n",
       "      <td>...</td>\n",
       "    </tr>\n",
       "    <tr>\n",
       "      <th>139547</th>\n",
       "      <td>999d284453</td>\n",
       "      <td>1</td>\n",
       "      <td>1</td>\n",
       "      <td>2018-10-31 13:10:37</td>\n",
       "      <td>2019-04-06 13:49:41</td>\n",
       "      <td>72</td>\n",
       "      <td>U</td>\n",
       "      <td>0</td>\n",
       "      <td>137</td>\n",
       "      <td>1.0</td>\n",
       "    </tr>\n",
       "    <tr>\n",
       "      <th>139548</th>\n",
       "      <td>f634deea4e</td>\n",
       "      <td>0</td>\n",
       "      <td>1</td>\n",
       "      <td>2018-02-04 13:51:32</td>\n",
       "      <td>2018-03-12 17:41:42</td>\n",
       "      <td>35</td>\n",
       "      <td>U</td>\n",
       "      <td>1</td>\n",
       "      <td>406</td>\n",
       "      <td>1.0</td>\n",
       "    </tr>\n",
       "    <tr>\n",
       "      <th>139549</th>\n",
       "      <td>16cb4f99b0</td>\n",
       "      <td>0</td>\n",
       "      <td>1</td>\n",
       "      <td>2018-02-23 10:02:33</td>\n",
       "      <td>2019-05-31 17:37:36</td>\n",
       "      <td>50</td>\n",
       "      <td>F</td>\n",
       "      <td>0</td>\n",
       "      <td>387</td>\n",
       "      <td>1.0</td>\n",
       "    </tr>\n",
       "    <tr>\n",
       "      <th>139550</th>\n",
       "      <td>23c2b72b2e</td>\n",
       "      <td>1</td>\n",
       "      <td>1</td>\n",
       "      <td>2017-07-01 19:05:33</td>\n",
       "      <td>2017-10-18 18:50:02</td>\n",
       "      <td>55</td>\n",
       "      <td>U</td>\n",
       "      <td>1</td>\n",
       "      <td>624</td>\n",
       "      <td>1.0</td>\n",
       "    </tr>\n",
       "    <tr>\n",
       "      <th>139551</th>\n",
       "      <td>1430184499</td>\n",
       "      <td>0</td>\n",
       "      <td>1</td>\n",
       "      <td>2017-05-22 18:05:07</td>\n",
       "      <td>2018-02-27 18:37:19</td>\n",
       "      <td>63</td>\n",
       "      <td>M</td>\n",
       "      <td>1</td>\n",
       "      <td>664</td>\n",
       "      <td>1.0</td>\n",
       "    </tr>\n",
       "  </tbody>\n",
       "</table>\n",
       "<p>139552 rows × 10 columns</p>\n",
       "</div>"
      ],
      "text/plain": [
       "         client_id  treatment_flg  purchased    first_issue_date  \\\n",
       "0       ad6561e2d8              1          1 2017-12-03 17:33:51   \n",
       "1       7c1ccbf93f              1          1 2017-11-10 16:33:49   \n",
       "2       b58fadcab6              1          1 2017-11-02 21:17:45   \n",
       "3       e99e6fabb9              0          0 2018-05-16 10:21:20   \n",
       "4       27fb6f8520              1          1 2017-07-17 19:36:28   \n",
       "...            ...            ...        ...                 ...   \n",
       "139547  999d284453              1          1 2018-10-31 13:10:37   \n",
       "139548  f634deea4e              0          1 2018-02-04 13:51:32   \n",
       "139549  16cb4f99b0              0          1 2018-02-23 10:02:33   \n",
       "139550  23c2b72b2e              1          1 2017-07-01 19:05:33   \n",
       "139551  1430184499              0          1 2017-05-22 18:05:07   \n",
       "\n",
       "          first_redeem_date  age gender  buys_most_popular  tenure  \\\n",
       "0       2018-05-23 18:59:01   50      F                  1     469   \n",
       "1       2018-02-22 19:02:25   24      F                  1     492   \n",
       "2       2018-09-15 21:02:16   36      U                  1     500   \n",
       "3       2018-05-30 20:49:24   79      F                  0     305   \n",
       "4       2017-12-15 10:05:25   34      F                  1     608   \n",
       "...                     ...  ...    ...                ...     ...   \n",
       "139547  2019-04-06 13:49:41   72      U                  0     137   \n",
       "139548  2018-03-12 17:41:42   35      U                  1     406   \n",
       "139549  2019-05-31 17:37:36   50      F                  0     387   \n",
       "139550  2017-10-18 18:50:02   55      U                  1     624   \n",
       "139551  2018-02-27 18:37:19   63      M                  1     664   \n",
       "\n",
       "        is_own_trademark  \n",
       "0                    1.0  \n",
       "1                    1.0  \n",
       "2                    1.0  \n",
       "3                    1.0  \n",
       "4                    1.0  \n",
       "...                  ...  \n",
       "139547               1.0  \n",
       "139548               1.0  \n",
       "139549               1.0  \n",
       "139550               1.0  \n",
       "139551               1.0  \n",
       "\n",
       "[139552 rows x 10 columns]"
      ]
     },
     "execution_count": 87,
     "metadata": {},
     "output_type": "execute_result"
    }
   ],
   "source": [
    "train_data"
   ]
  },
  {
   "cell_type": "code",
   "execution_count": 88,
   "id": "f2884201",
   "metadata": {
    "scrolled": false
   },
   "outputs": [
    {
     "data": {
      "text/html": [
       "<div>\n",
       "<style scoped>\n",
       "    .dataframe tbody tr th:only-of-type {\n",
       "        vertical-align: middle;\n",
       "    }\n",
       "\n",
       "    .dataframe tbody tr th {\n",
       "        vertical-align: top;\n",
       "    }\n",
       "\n",
       "    .dataframe thead th {\n",
       "        text-align: right;\n",
       "    }\n",
       "</style>\n",
       "<table border=\"1\" class=\"dataframe\">\n",
       "  <thead>\n",
       "    <tr style=\"text-align: right;\">\n",
       "      <th></th>\n",
       "      <th>client_id</th>\n",
       "      <th>treatment_flg</th>\n",
       "      <th>purchased</th>\n",
       "      <th>first_issue_date</th>\n",
       "      <th>first_redeem_date</th>\n",
       "      <th>age</th>\n",
       "      <th>gender</th>\n",
       "      <th>buys_most_popular</th>\n",
       "      <th>tenure</th>\n",
       "      <th>is_own_trademark</th>\n",
       "    </tr>\n",
       "  </thead>\n",
       "  <tbody>\n",
       "    <tr>\n",
       "      <th>45</th>\n",
       "      <td>d5409afb67</td>\n",
       "      <td>1</td>\n",
       "      <td>1</td>\n",
       "      <td>2018-07-26 21:20:51</td>\n",
       "      <td>2018-09-08 16:58:51</td>\n",
       "      <td>35</td>\n",
       "      <td>U</td>\n",
       "      <td>0</td>\n",
       "      <td>234</td>\n",
       "      <td>0.0</td>\n",
       "    </tr>\n",
       "    <tr>\n",
       "      <th>69</th>\n",
       "      <td>a3315dbb52</td>\n",
       "      <td>1</td>\n",
       "      <td>0</td>\n",
       "      <td>2017-10-19 15:33:39</td>\n",
       "      <td>2017-12-28 15:49:10</td>\n",
       "      <td>34</td>\n",
       "      <td>F</td>\n",
       "      <td>0</td>\n",
       "      <td>514</td>\n",
       "      <td>0.0</td>\n",
       "    </tr>\n",
       "    <tr>\n",
       "      <th>116</th>\n",
       "      <td>d47aa22157</td>\n",
       "      <td>1</td>\n",
       "      <td>0</td>\n",
       "      <td>2019-03-09 11:47:32</td>\n",
       "      <td>2019-05-01 11:58:43</td>\n",
       "      <td>60</td>\n",
       "      <td>F</td>\n",
       "      <td>0</td>\n",
       "      <td>8</td>\n",
       "      <td>0.0</td>\n",
       "    </tr>\n",
       "    <tr>\n",
       "      <th>124</th>\n",
       "      <td>bb2f77391b</td>\n",
       "      <td>1</td>\n",
       "      <td>0</td>\n",
       "      <td>2017-09-26 19:55:03</td>\n",
       "      <td>2018-03-29 19:15:14</td>\n",
       "      <td>57</td>\n",
       "      <td>F</td>\n",
       "      <td>0</td>\n",
       "      <td>537</td>\n",
       "      <td>0.0</td>\n",
       "    </tr>\n",
       "    <tr>\n",
       "      <th>147</th>\n",
       "      <td>8e94027336</td>\n",
       "      <td>1</td>\n",
       "      <td>0</td>\n",
       "      <td>2017-12-06 12:45:32</td>\n",
       "      <td>2018-12-15 15:55:49</td>\n",
       "      <td>70</td>\n",
       "      <td>F</td>\n",
       "      <td>0</td>\n",
       "      <td>466</td>\n",
       "      <td>0.0</td>\n",
       "    </tr>\n",
       "    <tr>\n",
       "      <th>...</th>\n",
       "      <td>...</td>\n",
       "      <td>...</td>\n",
       "      <td>...</td>\n",
       "      <td>...</td>\n",
       "      <td>...</td>\n",
       "      <td>...</td>\n",
       "      <td>...</td>\n",
       "      <td>...</td>\n",
       "      <td>...</td>\n",
       "      <td>...</td>\n",
       "    </tr>\n",
       "    <tr>\n",
       "      <th>139441</th>\n",
       "      <td>1a03e05ce2</td>\n",
       "      <td>0</td>\n",
       "      <td>0</td>\n",
       "      <td>2019-03-09 08:31:11</td>\n",
       "      <td>2019-05-26 11:13:28</td>\n",
       "      <td>24</td>\n",
       "      <td>M</td>\n",
       "      <td>0</td>\n",
       "      <td>8</td>\n",
       "      <td>0.0</td>\n",
       "    </tr>\n",
       "    <tr>\n",
       "      <th>139462</th>\n",
       "      <td>fed6d022d8</td>\n",
       "      <td>0</td>\n",
       "      <td>1</td>\n",
       "      <td>2018-06-24 14:00:53</td>\n",
       "      <td>2019-02-15 13:09:02</td>\n",
       "      <td>70</td>\n",
       "      <td>F</td>\n",
       "      <td>0</td>\n",
       "      <td>266</td>\n",
       "      <td>0.0</td>\n",
       "    </tr>\n",
       "    <tr>\n",
       "      <th>139496</th>\n",
       "      <td>60679240d9</td>\n",
       "      <td>0</td>\n",
       "      <td>0</td>\n",
       "      <td>2017-04-16 17:50:38</td>\n",
       "      <td>2017-10-07 13:21:15</td>\n",
       "      <td>61</td>\n",
       "      <td>U</td>\n",
       "      <td>0</td>\n",
       "      <td>700</td>\n",
       "      <td>0.0</td>\n",
       "    </tr>\n",
       "    <tr>\n",
       "      <th>139537</th>\n",
       "      <td>5abeaba527</td>\n",
       "      <td>1</td>\n",
       "      <td>0</td>\n",
       "      <td>2017-10-18 08:38:28</td>\n",
       "      <td>2018-02-12 14:57:49</td>\n",
       "      <td>46</td>\n",
       "      <td>M</td>\n",
       "      <td>0</td>\n",
       "      <td>515</td>\n",
       "      <td>0.0</td>\n",
       "    </tr>\n",
       "    <tr>\n",
       "      <th>139544</th>\n",
       "      <td>a589a9e166</td>\n",
       "      <td>0</td>\n",
       "      <td>0</td>\n",
       "      <td>2017-12-19 17:26:22</td>\n",
       "      <td>2018-02-08 21:59:06</td>\n",
       "      <td>21</td>\n",
       "      <td>U</td>\n",
       "      <td>0</td>\n",
       "      <td>453</td>\n",
       "      <td>0.0</td>\n",
       "    </tr>\n",
       "  </tbody>\n",
       "</table>\n",
       "<p>4297 rows × 10 columns</p>\n",
       "</div>"
      ],
      "text/plain": [
       "         client_id  treatment_flg  purchased    first_issue_date  \\\n",
       "45      d5409afb67              1          1 2018-07-26 21:20:51   \n",
       "69      a3315dbb52              1          0 2017-10-19 15:33:39   \n",
       "116     d47aa22157              1          0 2019-03-09 11:47:32   \n",
       "124     bb2f77391b              1          0 2017-09-26 19:55:03   \n",
       "147     8e94027336              1          0 2017-12-06 12:45:32   \n",
       "...            ...            ...        ...                 ...   \n",
       "139441  1a03e05ce2              0          0 2019-03-09 08:31:11   \n",
       "139462  fed6d022d8              0          1 2018-06-24 14:00:53   \n",
       "139496  60679240d9              0          0 2017-04-16 17:50:38   \n",
       "139537  5abeaba527              1          0 2017-10-18 08:38:28   \n",
       "139544  a589a9e166              0          0 2017-12-19 17:26:22   \n",
       "\n",
       "          first_redeem_date  age gender  buys_most_popular  tenure  \\\n",
       "45      2018-09-08 16:58:51   35      U                  0     234   \n",
       "69      2017-12-28 15:49:10   34      F                  0     514   \n",
       "116     2019-05-01 11:58:43   60      F                  0       8   \n",
       "124     2018-03-29 19:15:14   57      F                  0     537   \n",
       "147     2018-12-15 15:55:49   70      F                  0     466   \n",
       "...                     ...  ...    ...                ...     ...   \n",
       "139441  2019-05-26 11:13:28   24      M                  0       8   \n",
       "139462  2019-02-15 13:09:02   70      F                  0     266   \n",
       "139496  2017-10-07 13:21:15   61      U                  0     700   \n",
       "139537  2018-02-12 14:57:49   46      M                  0     515   \n",
       "139544  2018-02-08 21:59:06   21      U                  0     453   \n",
       "\n",
       "        is_own_trademark  \n",
       "45                   0.0  \n",
       "69                   0.0  \n",
       "116                  0.0  \n",
       "124                  0.0  \n",
       "147                  0.0  \n",
       "...                  ...  \n",
       "139441               0.0  \n",
       "139462               0.0  \n",
       "139496               0.0  \n",
       "139537               0.0  \n",
       "139544               0.0  \n",
       "\n",
       "[4297 rows x 10 columns]"
      ]
     },
     "execution_count": 88,
     "metadata": {},
     "output_type": "execute_result"
    }
   ],
   "source": [
    "train_data[train_data['is_own_trademark']==0] #посмотрим на покупателей, избегающих СТМ"
   ]
  },
  {
   "cell_type": "code",
   "execution_count": 89,
   "id": "02948cbb",
   "metadata": {},
   "outputs": [],
   "source": [
    "del train_purchases_temp"
   ]
  },
  {
   "cell_type": "code",
   "execution_count": 90,
   "id": "0f86e3d0",
   "metadata": {},
   "outputs": [],
   "source": [
    "train_data = train_data.rename(columns={'is_own_trademark':'buying_own_trademark'})"
   ]
  },
  {
   "cell_type": "code",
   "execution_count": 91,
   "id": "c44bf782",
   "metadata": {},
   "outputs": [
    {
     "data": {
      "text/plain": [
       "0.03183387309537422"
      ]
     },
     "execution_count": 91,
     "metadata": {},
     "output_type": "execute_result"
    }
   ],
   "source": [
    "train_data_buying_own_trademark = train_data[train_data['buying_own_trademark'] == 1]\n",
    "\n",
    "train_data_buying_own_trademark[train_data_buying_own_trademark['treatment_flg'] == 1]['purchased'].mean() \\\n",
    "- train_data_buying_own_trademark[train_data_buying_own_trademark['treatment_flg'] == 0]['purchased'].mean()"
   ]
  },
  {
   "cell_type": "code",
   "execution_count": 92,
   "id": "38d4d88f",
   "metadata": {},
   "outputs": [
    {
     "data": {
      "text/plain": [
       "0.0782835779819297"
      ]
     },
     "execution_count": 92,
     "metadata": {},
     "output_type": "execute_result"
    }
   ],
   "source": [
    "train_data_not_buying_own_trademark = train_data[train_data['buying_own_trademark'] == 0]\n",
    "\n",
    "train_data_not_buying_own_trademark[train_data_not_buying_own_trademark['treatment_flg'] == 1]['purchased'].mean() \\\n",
    "- train_data_not_buying_own_trademark[train_data_not_buying_own_trademark['treatment_flg'] == 0]['purchased'].mean()"
   ]
  },
  {
   "cell_type": "code",
   "execution_count": 93,
   "id": "be15c249",
   "metadata": {},
   "outputs": [
    {
     "data": {
      "text/plain": [
       "0.046447"
      ]
     },
     "execution_count": 93,
     "metadata": {},
     "output_type": "execute_result"
    }
   ],
   "source": [
    "0.07828 - 0.031833"
   ]
  },
  {
   "cell_type": "markdown",
   "id": "3d3facbc",
   "metadata": {},
   "source": [
    "Аплифт среди тех кто избегает СТМ сильно выше, чем среди тех, кто покупает СТМ — разница почти 5 п.п."
   ]
  },
  {
   "cell_type": "markdown",
   "id": "432a6950",
   "metadata": {},
   "source": [
    "Разделим покупателей на две группы. В группе А у большей части покупок клиента чек больше среднего чека по всей выборке. В группе Б у  большей части покупок клиента чек меньше среднего чека по всей выборке. Правда ли то, что аплифт в группе А меньше, чем в группе Б?"
   ]
  },
  {
   "cell_type": "markdown",
   "id": "a63a672f",
   "metadata": {},
   "source": [
    "Рассчитаем количесвто визитов трейне для каждого покупателя:"
   ]
  },
  {
   "cell_type": "code",
   "execution_count": 94,
   "id": "2d2a49fd",
   "metadata": {
    "scrolled": false
   },
   "outputs": [
    {
     "data": {
      "text/html": [
       "<div>\n",
       "<style scoped>\n",
       "    .dataframe tbody tr th:only-of-type {\n",
       "        vertical-align: middle;\n",
       "    }\n",
       "\n",
       "    .dataframe tbody tr th {\n",
       "        vertical-align: top;\n",
       "    }\n",
       "\n",
       "    .dataframe thead th {\n",
       "        text-align: right;\n",
       "    }\n",
       "</style>\n",
       "<table border=\"1\" class=\"dataframe\">\n",
       "  <thead>\n",
       "    <tr style=\"text-align: right;\">\n",
       "      <th></th>\n",
       "      <th>client_id</th>\n",
       "      <th>treatment_flg</th>\n",
       "      <th>purchased</th>\n",
       "      <th>first_issue_date</th>\n",
       "      <th>first_redeem_date</th>\n",
       "      <th>age</th>\n",
       "      <th>gender</th>\n",
       "      <th>buys_most_popular</th>\n",
       "      <th>tenure</th>\n",
       "      <th>buying_own_trademark</th>\n",
       "      <th>total_purchase</th>\n",
       "    </tr>\n",
       "  </thead>\n",
       "  <tbody>\n",
       "    <tr>\n",
       "      <th>0</th>\n",
       "      <td>ad6561e2d8</td>\n",
       "      <td>1</td>\n",
       "      <td>1</td>\n",
       "      <td>2017-12-03 17:33:51</td>\n",
       "      <td>2018-05-23 18:59:01</td>\n",
       "      <td>50</td>\n",
       "      <td>F</td>\n",
       "      <td>1</td>\n",
       "      <td>469</td>\n",
       "      <td>1.0</td>\n",
       "      <td>52</td>\n",
       "    </tr>\n",
       "    <tr>\n",
       "      <th>1</th>\n",
       "      <td>7c1ccbf93f</td>\n",
       "      <td>1</td>\n",
       "      <td>1</td>\n",
       "      <td>2017-11-10 16:33:49</td>\n",
       "      <td>2018-02-22 19:02:25</td>\n",
       "      <td>24</td>\n",
       "      <td>F</td>\n",
       "      <td>1</td>\n",
       "      <td>492</td>\n",
       "      <td>1.0</td>\n",
       "      <td>162</td>\n",
       "    </tr>\n",
       "    <tr>\n",
       "      <th>2</th>\n",
       "      <td>b58fadcab6</td>\n",
       "      <td>1</td>\n",
       "      <td>1</td>\n",
       "      <td>2017-11-02 21:17:45</td>\n",
       "      <td>2018-09-15 21:02:16</td>\n",
       "      <td>36</td>\n",
       "      <td>U</td>\n",
       "      <td>1</td>\n",
       "      <td>500</td>\n",
       "      <td>1.0</td>\n",
       "      <td>86</td>\n",
       "    </tr>\n",
       "    <tr>\n",
       "      <th>3</th>\n",
       "      <td>e99e6fabb9</td>\n",
       "      <td>0</td>\n",
       "      <td>0</td>\n",
       "      <td>2018-05-16 10:21:20</td>\n",
       "      <td>2018-05-30 20:49:24</td>\n",
       "      <td>79</td>\n",
       "      <td>F</td>\n",
       "      <td>0</td>\n",
       "      <td>305</td>\n",
       "      <td>1.0</td>\n",
       "      <td>272</td>\n",
       "    </tr>\n",
       "    <tr>\n",
       "      <th>4</th>\n",
       "      <td>27fb6f8520</td>\n",
       "      <td>1</td>\n",
       "      <td>1</td>\n",
       "      <td>2017-07-17 19:36:28</td>\n",
       "      <td>2017-12-15 10:05:25</td>\n",
       "      <td>34</td>\n",
       "      <td>F</td>\n",
       "      <td>1</td>\n",
       "      <td>608</td>\n",
       "      <td>1.0</td>\n",
       "      <td>85</td>\n",
       "    </tr>\n",
       "  </tbody>\n",
       "</table>\n",
       "</div>"
      ],
      "text/plain": [
       "    client_id  treatment_flg  purchased    first_issue_date  \\\n",
       "0  ad6561e2d8              1          1 2017-12-03 17:33:51   \n",
       "1  7c1ccbf93f              1          1 2017-11-10 16:33:49   \n",
       "2  b58fadcab6              1          1 2017-11-02 21:17:45   \n",
       "3  e99e6fabb9              0          0 2018-05-16 10:21:20   \n",
       "4  27fb6f8520              1          1 2017-07-17 19:36:28   \n",
       "\n",
       "     first_redeem_date  age gender  buys_most_popular  tenure  \\\n",
       "0  2018-05-23 18:59:01   50      F                  1     469   \n",
       "1  2018-02-22 19:02:25   24      F                  1     492   \n",
       "2  2018-09-15 21:02:16   36      U                  1     500   \n",
       "3  2018-05-30 20:49:24   79      F                  0     305   \n",
       "4  2017-12-15 10:05:25   34      F                  1     608   \n",
       "\n",
       "   buying_own_trademark  total_purchase  \n",
       "0                   1.0              52  \n",
       "1                   1.0             162  \n",
       "2                   1.0              86  \n",
       "3                   1.0             272  \n",
       "4                   1.0              85  "
      ]
     },
     "execution_count": 94,
     "metadata": {},
     "output_type": "execute_result"
    }
   ],
   "source": [
    "train_data['total_purchase'] = pd.DataFrame(list(train_purchases.groupby('client_id').agg({'transaction_id' : ['count']})['transaction_id']['count']))\n",
    "train_data.head()"
   ]
  },
  {
   "cell_type": "markdown",
   "id": "823ad63f",
   "metadata": {},
   "source": [
    "Создадим временный датасет в котором выведем для каждого покупателя дату покупки и ее сумму"
   ]
  },
  {
   "cell_type": "code",
   "execution_count": 95,
   "id": "901383a0",
   "metadata": {},
   "outputs": [
    {
     "data": {
      "text/plain": [
       "client_id   transaction_datetime\n",
       "000012768d  2018-12-01 07:12:45     1007.0\n",
       "            2018-12-16 08:56:01      574.0\n",
       "            2019-03-08 10:12:03      803.0\n",
       "            2019-03-14 15:01:47      419.0\n",
       "000036f903  2018-11-28 10:48:36      241.0\n",
       "                                     ...  \n",
       "fffeca6d22  2019-02-22 09:34:13      110.0\n",
       "            2019-02-22 09:34:53      138.0\n",
       "            2019-02-28 10:25:24      128.0\n",
       "            2019-03-09 07:47:43       99.0\n",
       "            2019-03-15 14:46:39      165.0\n",
       "Length: 2814991, dtype: float64"
      ]
     },
     "execution_count": 95,
     "metadata": {},
     "output_type": "execute_result"
    }
   ],
   "source": [
    "df_1 = train_purchases.groupby(['client_id', 'transaction_datetime']).agg({'purchase_sum' : ['count']})\n",
    "df_2 = train_purchases.groupby(['client_id', 'transaction_datetime']).agg({'purchase_sum' : ['sum']})\n",
    "df_purchase = df_2['purchase_sum']['sum'] / df_1['purchase_sum']['count']\n",
    "df_purchase"
   ]
  },
  {
   "cell_type": "code",
   "execution_count": 96,
   "id": "87e8cf2f",
   "metadata": {},
   "outputs": [],
   "source": [
    "df_sum_purchase = pd.DataFrame(list(df_purchase.groupby('client_id').sum()))"
   ]
  },
  {
   "cell_type": "code",
   "execution_count": 97,
   "id": "27e9f946",
   "metadata": {
    "scrolled": true
   },
   "outputs": [
    {
     "data": {
      "text/html": [
       "<div>\n",
       "<style scoped>\n",
       "    .dataframe tbody tr th:only-of-type {\n",
       "        vertical-align: middle;\n",
       "    }\n",
       "\n",
       "    .dataframe tbody tr th {\n",
       "        vertical-align: top;\n",
       "    }\n",
       "\n",
       "    .dataframe thead th {\n",
       "        text-align: right;\n",
       "    }\n",
       "</style>\n",
       "<table border=\"1\" class=\"dataframe\">\n",
       "  <thead>\n",
       "    <tr style=\"text-align: right;\">\n",
       "      <th></th>\n",
       "      <th>0</th>\n",
       "    </tr>\n",
       "  </thead>\n",
       "  <tbody>\n",
       "    <tr>\n",
       "      <th>0</th>\n",
       "      <td>2803.00</td>\n",
       "    </tr>\n",
       "    <tr>\n",
       "      <th>1</th>\n",
       "      <td>9805.00</td>\n",
       "    </tr>\n",
       "    <tr>\n",
       "      <th>2</th>\n",
       "      <td>6155.18</td>\n",
       "    </tr>\n",
       "    <tr>\n",
       "      <th>3</th>\n",
       "      <td>25819.61</td>\n",
       "    </tr>\n",
       "    <tr>\n",
       "      <th>4</th>\n",
       "      <td>8606.57</td>\n",
       "    </tr>\n",
       "    <tr>\n",
       "      <th>...</th>\n",
       "      <td>...</td>\n",
       "    </tr>\n",
       "    <tr>\n",
       "      <th>140022</th>\n",
       "      <td>5731.63</td>\n",
       "    </tr>\n",
       "    <tr>\n",
       "      <th>140023</th>\n",
       "      <td>1340.51</td>\n",
       "    </tr>\n",
       "    <tr>\n",
       "      <th>140024</th>\n",
       "      <td>1636.53</td>\n",
       "    </tr>\n",
       "    <tr>\n",
       "      <th>140025</th>\n",
       "      <td>2716.42</td>\n",
       "    </tr>\n",
       "    <tr>\n",
       "      <th>140026</th>\n",
       "      <td>2832.86</td>\n",
       "    </tr>\n",
       "  </tbody>\n",
       "</table>\n",
       "<p>140027 rows × 1 columns</p>\n",
       "</div>"
      ],
      "text/plain": [
       "               0\n",
       "0        2803.00\n",
       "1        9805.00\n",
       "2        6155.18\n",
       "3       25819.61\n",
       "4        8606.57\n",
       "...          ...\n",
       "140022   5731.63\n",
       "140023   1340.51\n",
       "140024   1636.53\n",
       "140025   2716.42\n",
       "140026   2832.86\n",
       "\n",
       "[140027 rows x 1 columns]"
      ]
     },
     "execution_count": 97,
     "metadata": {},
     "output_type": "execute_result"
    }
   ],
   "source": [
    "df_sum_purchase"
   ]
  },
  {
   "cell_type": "markdown",
   "id": "98d49cca",
   "metadata": {},
   "source": [
    "Такой подход удалил id клиентов — придется чинить"
   ]
  },
  {
   "cell_type": "code",
   "execution_count": 98,
   "id": "cd2d2cbf",
   "metadata": {
    "scrolled": false
   },
   "outputs": [
    {
     "data": {
      "text/html": [
       "<div>\n",
       "<style scoped>\n",
       "    .dataframe tbody tr th:only-of-type {\n",
       "        vertical-align: middle;\n",
       "    }\n",
       "\n",
       "    .dataframe tbody tr th {\n",
       "        vertical-align: top;\n",
       "    }\n",
       "\n",
       "    .dataframe thead th {\n",
       "        text-align: right;\n",
       "    }\n",
       "</style>\n",
       "<table border=\"1\" class=\"dataframe\">\n",
       "  <thead>\n",
       "    <tr style=\"text-align: right;\">\n",
       "      <th></th>\n",
       "      <th>client_id</th>\n",
       "      <th>sum_purchase</th>\n",
       "    </tr>\n",
       "  </thead>\n",
       "  <tbody>\n",
       "    <tr>\n",
       "      <th>0</th>\n",
       "      <td>000012768d</td>\n",
       "      <td>2803.00</td>\n",
       "    </tr>\n",
       "    <tr>\n",
       "      <th>1</th>\n",
       "      <td>000036f903</td>\n",
       "      <td>9805.00</td>\n",
       "    </tr>\n",
       "    <tr>\n",
       "      <th>2</th>\n",
       "      <td>0001f552b0</td>\n",
       "      <td>6155.18</td>\n",
       "    </tr>\n",
       "  </tbody>\n",
       "</table>\n",
       "</div>"
      ],
      "text/plain": [
       "    client_id  sum_purchase\n",
       "0  000012768d       2803.00\n",
       "1  000036f903       9805.00\n",
       "2  0001f552b0       6155.18"
      ]
     },
     "execution_count": 98,
     "metadata": {},
     "output_type": "execute_result"
    }
   ],
   "source": [
    "data_train_sum_purchase = pd.DataFrame()\n",
    "data_train_sum_purchase['client_id'] = pd.Series(df_purchase.groupby('client_id').sum().index)\n",
    "data_train_sum_purchase['sum_purchase'] = pd.Series(list(df_purchase.groupby('client_id').sum()))\n",
    "data_train_sum_purchase.head(3)"
   ]
  },
  {
   "cell_type": "code",
   "execution_count": 99,
   "id": "0b685aec",
   "metadata": {},
   "outputs": [
    {
     "data": {
      "text/html": [
       "<div>\n",
       "<style scoped>\n",
       "    .dataframe tbody tr th:only-of-type {\n",
       "        vertical-align: middle;\n",
       "    }\n",
       "\n",
       "    .dataframe tbody tr th {\n",
       "        vertical-align: top;\n",
       "    }\n",
       "\n",
       "    .dataframe thead th {\n",
       "        text-align: right;\n",
       "    }\n",
       "</style>\n",
       "<table border=\"1\" class=\"dataframe\">\n",
       "  <thead>\n",
       "    <tr style=\"text-align: right;\">\n",
       "      <th></th>\n",
       "      <th>client_id</th>\n",
       "      <th>sum_purchase</th>\n",
       "    </tr>\n",
       "  </thead>\n",
       "  <tbody>\n",
       "    <tr>\n",
       "      <th>0</th>\n",
       "      <td>000012768d</td>\n",
       "      <td>2803.00</td>\n",
       "    </tr>\n",
       "    <tr>\n",
       "      <th>1</th>\n",
       "      <td>000036f903</td>\n",
       "      <td>9805.00</td>\n",
       "    </tr>\n",
       "    <tr>\n",
       "      <th>2</th>\n",
       "      <td>0001f552b0</td>\n",
       "      <td>6155.18</td>\n",
       "    </tr>\n",
       "    <tr>\n",
       "      <th>3</th>\n",
       "      <td>00020e7b18</td>\n",
       "      <td>25819.61</td>\n",
       "    </tr>\n",
       "    <tr>\n",
       "      <th>4</th>\n",
       "      <td>000220a0a7</td>\n",
       "      <td>8606.57</td>\n",
       "    </tr>\n",
       "    <tr>\n",
       "      <th>...</th>\n",
       "      <td>...</td>\n",
       "      <td>...</td>\n",
       "    </tr>\n",
       "    <tr>\n",
       "      <th>140022</th>\n",
       "      <td>fffd5cd0c6</td>\n",
       "      <td>5731.63</td>\n",
       "    </tr>\n",
       "    <tr>\n",
       "      <th>140023</th>\n",
       "      <td>fffd63dfe3</td>\n",
       "      <td>1340.51</td>\n",
       "    </tr>\n",
       "    <tr>\n",
       "      <th>140024</th>\n",
       "      <td>fffd8c9d7d</td>\n",
       "      <td>1636.53</td>\n",
       "    </tr>\n",
       "    <tr>\n",
       "      <th>140025</th>\n",
       "      <td>fffe0abb97</td>\n",
       "      <td>2716.42</td>\n",
       "    </tr>\n",
       "    <tr>\n",
       "      <th>140026</th>\n",
       "      <td>fffeca6d22</td>\n",
       "      <td>2832.86</td>\n",
       "    </tr>\n",
       "  </tbody>\n",
       "</table>\n",
       "<p>140027 rows × 2 columns</p>\n",
       "</div>"
      ],
      "text/plain": [
       "         client_id  sum_purchase\n",
       "0       000012768d       2803.00\n",
       "1       000036f903       9805.00\n",
       "2       0001f552b0       6155.18\n",
       "3       00020e7b18      25819.61\n",
       "4       000220a0a7       8606.57\n",
       "...            ...           ...\n",
       "140022  fffd5cd0c6       5731.63\n",
       "140023  fffd63dfe3       1340.51\n",
       "140024  fffd8c9d7d       1636.53\n",
       "140025  fffe0abb97       2716.42\n",
       "140026  fffeca6d22       2832.86\n",
       "\n",
       "[140027 rows x 2 columns]"
      ]
     },
     "execution_count": 99,
     "metadata": {},
     "output_type": "execute_result"
    }
   ],
   "source": [
    "data_train_sum_purchase"
   ]
  },
  {
   "cell_type": "code",
   "execution_count": 100,
   "id": "a9df31fa",
   "metadata": {},
   "outputs": [],
   "source": [
    "train_data = pd.merge(train_data, data_train_sum_purchase[['client_id','sum_purchase']], how='left', on=['client_id'])"
   ]
  },
  {
   "cell_type": "code",
   "execution_count": 101,
   "id": "685e8b55",
   "metadata": {},
   "outputs": [],
   "source": [
    "train_data['average_visit'] = train_data['sum_purchase'] / train_data['total_purchase']"
   ]
  },
  {
   "cell_type": "code",
   "execution_count": 102,
   "id": "4040732a",
   "metadata": {
    "scrolled": true
   },
   "outputs": [
    {
     "data": {
      "text/html": [
       "<div>\n",
       "<style scoped>\n",
       "    .dataframe tbody tr th:only-of-type {\n",
       "        vertical-align: middle;\n",
       "    }\n",
       "\n",
       "    .dataframe tbody tr th {\n",
       "        vertical-align: top;\n",
       "    }\n",
       "\n",
       "    .dataframe thead th {\n",
       "        text-align: right;\n",
       "    }\n",
       "</style>\n",
       "<table border=\"1\" class=\"dataframe\">\n",
       "  <thead>\n",
       "    <tr style=\"text-align: right;\">\n",
       "      <th></th>\n",
       "      <th>client_id</th>\n",
       "      <th>treatment_flg</th>\n",
       "      <th>purchased</th>\n",
       "      <th>first_issue_date</th>\n",
       "      <th>first_redeem_date</th>\n",
       "      <th>age</th>\n",
       "      <th>gender</th>\n",
       "      <th>buys_most_popular</th>\n",
       "      <th>tenure</th>\n",
       "      <th>buying_own_trademark</th>\n",
       "      <th>total_purchase</th>\n",
       "      <th>sum_purchase</th>\n",
       "      <th>average_visit</th>\n",
       "    </tr>\n",
       "  </thead>\n",
       "  <tbody>\n",
       "    <tr>\n",
       "      <th>0</th>\n",
       "      <td>ad6561e2d8</td>\n",
       "      <td>1</td>\n",
       "      <td>1</td>\n",
       "      <td>2017-12-03 17:33:51</td>\n",
       "      <td>2018-05-23 18:59:01</td>\n",
       "      <td>50</td>\n",
       "      <td>F</td>\n",
       "      <td>1</td>\n",
       "      <td>469</td>\n",
       "      <td>1.0</td>\n",
       "      <td>52</td>\n",
       "      <td>10801.41</td>\n",
       "      <td>207.719423</td>\n",
       "    </tr>\n",
       "    <tr>\n",
       "      <th>1</th>\n",
       "      <td>7c1ccbf93f</td>\n",
       "      <td>1</td>\n",
       "      <td>1</td>\n",
       "      <td>2017-11-10 16:33:49</td>\n",
       "      <td>2018-02-22 19:02:25</td>\n",
       "      <td>24</td>\n",
       "      <td>F</td>\n",
       "      <td>1</td>\n",
       "      <td>492</td>\n",
       "      <td>1.0</td>\n",
       "      <td>162</td>\n",
       "      <td>851.00</td>\n",
       "      <td>5.253086</td>\n",
       "    </tr>\n",
       "    <tr>\n",
       "      <th>2</th>\n",
       "      <td>b58fadcab6</td>\n",
       "      <td>1</td>\n",
       "      <td>1</td>\n",
       "      <td>2017-11-02 21:17:45</td>\n",
       "      <td>2018-09-15 21:02:16</td>\n",
       "      <td>36</td>\n",
       "      <td>U</td>\n",
       "      <td>1</td>\n",
       "      <td>500</td>\n",
       "      <td>1.0</td>\n",
       "      <td>86</td>\n",
       "      <td>14171.77</td>\n",
       "      <td>164.788023</td>\n",
       "    </tr>\n",
       "    <tr>\n",
       "      <th>3</th>\n",
       "      <td>e99e6fabb9</td>\n",
       "      <td>0</td>\n",
       "      <td>0</td>\n",
       "      <td>2018-05-16 10:21:20</td>\n",
       "      <td>2018-05-30 20:49:24</td>\n",
       "      <td>79</td>\n",
       "      <td>F</td>\n",
       "      <td>0</td>\n",
       "      <td>305</td>\n",
       "      <td>1.0</td>\n",
       "      <td>272</td>\n",
       "      <td>2872.00</td>\n",
       "      <td>10.558824</td>\n",
       "    </tr>\n",
       "    <tr>\n",
       "      <th>4</th>\n",
       "      <td>27fb6f8520</td>\n",
       "      <td>1</td>\n",
       "      <td>1</td>\n",
       "      <td>2017-07-17 19:36:28</td>\n",
       "      <td>2017-12-15 10:05:25</td>\n",
       "      <td>34</td>\n",
       "      <td>F</td>\n",
       "      <td>1</td>\n",
       "      <td>608</td>\n",
       "      <td>1.0</td>\n",
       "      <td>85</td>\n",
       "      <td>9886.21</td>\n",
       "      <td>116.308353</td>\n",
       "    </tr>\n",
       "    <tr>\n",
       "      <th>...</th>\n",
       "      <td>...</td>\n",
       "      <td>...</td>\n",
       "      <td>...</td>\n",
       "      <td>...</td>\n",
       "      <td>...</td>\n",
       "      <td>...</td>\n",
       "      <td>...</td>\n",
       "      <td>...</td>\n",
       "      <td>...</td>\n",
       "      <td>...</td>\n",
       "      <td>...</td>\n",
       "      <td>...</td>\n",
       "      <td>...</td>\n",
       "    </tr>\n",
       "    <tr>\n",
       "      <th>139547</th>\n",
       "      <td>999d284453</td>\n",
       "      <td>1</td>\n",
       "      <td>1</td>\n",
       "      <td>2018-10-31 13:10:37</td>\n",
       "      <td>2019-04-06 13:49:41</td>\n",
       "      <td>72</td>\n",
       "      <td>U</td>\n",
       "      <td>0</td>\n",
       "      <td>137</td>\n",
       "      <td>1.0</td>\n",
       "      <td>30</td>\n",
       "      <td>2978.00</td>\n",
       "      <td>99.266667</td>\n",
       "    </tr>\n",
       "    <tr>\n",
       "      <th>139548</th>\n",
       "      <td>f634deea4e</td>\n",
       "      <td>0</td>\n",
       "      <td>1</td>\n",
       "      <td>2018-02-04 13:51:32</td>\n",
       "      <td>2018-03-12 17:41:42</td>\n",
       "      <td>35</td>\n",
       "      <td>U</td>\n",
       "      <td>1</td>\n",
       "      <td>406</td>\n",
       "      <td>1.0</td>\n",
       "      <td>23</td>\n",
       "      <td>10549.03</td>\n",
       "      <td>458.653478</td>\n",
       "    </tr>\n",
       "    <tr>\n",
       "      <th>139549</th>\n",
       "      <td>16cb4f99b0</td>\n",
       "      <td>0</td>\n",
       "      <td>1</td>\n",
       "      <td>2018-02-23 10:02:33</td>\n",
       "      <td>2019-05-31 17:37:36</td>\n",
       "      <td>50</td>\n",
       "      <td>F</td>\n",
       "      <td>0</td>\n",
       "      <td>387</td>\n",
       "      <td>1.0</td>\n",
       "      <td>79</td>\n",
       "      <td>3140.00</td>\n",
       "      <td>39.746835</td>\n",
       "    </tr>\n",
       "    <tr>\n",
       "      <th>139550</th>\n",
       "      <td>23c2b72b2e</td>\n",
       "      <td>1</td>\n",
       "      <td>1</td>\n",
       "      <td>2017-07-01 19:05:33</td>\n",
       "      <td>2017-10-18 18:50:02</td>\n",
       "      <td>55</td>\n",
       "      <td>U</td>\n",
       "      <td>1</td>\n",
       "      <td>624</td>\n",
       "      <td>1.0</td>\n",
       "      <td>163</td>\n",
       "      <td>3470.74</td>\n",
       "      <td>21.292883</td>\n",
       "    </tr>\n",
       "    <tr>\n",
       "      <th>139551</th>\n",
       "      <td>1430184499</td>\n",
       "      <td>0</td>\n",
       "      <td>1</td>\n",
       "      <td>2017-05-22 18:05:07</td>\n",
       "      <td>2018-02-27 18:37:19</td>\n",
       "      <td>63</td>\n",
       "      <td>M</td>\n",
       "      <td>1</td>\n",
       "      <td>664</td>\n",
       "      <td>1.0</td>\n",
       "      <td>23</td>\n",
       "      <td>24283.53</td>\n",
       "      <td>1055.805652</td>\n",
       "    </tr>\n",
       "  </tbody>\n",
       "</table>\n",
       "<p>139552 rows × 13 columns</p>\n",
       "</div>"
      ],
      "text/plain": [
       "         client_id  treatment_flg  purchased    first_issue_date  \\\n",
       "0       ad6561e2d8              1          1 2017-12-03 17:33:51   \n",
       "1       7c1ccbf93f              1          1 2017-11-10 16:33:49   \n",
       "2       b58fadcab6              1          1 2017-11-02 21:17:45   \n",
       "3       e99e6fabb9              0          0 2018-05-16 10:21:20   \n",
       "4       27fb6f8520              1          1 2017-07-17 19:36:28   \n",
       "...            ...            ...        ...                 ...   \n",
       "139547  999d284453              1          1 2018-10-31 13:10:37   \n",
       "139548  f634deea4e              0          1 2018-02-04 13:51:32   \n",
       "139549  16cb4f99b0              0          1 2018-02-23 10:02:33   \n",
       "139550  23c2b72b2e              1          1 2017-07-01 19:05:33   \n",
       "139551  1430184499              0          1 2017-05-22 18:05:07   \n",
       "\n",
       "          first_redeem_date  age gender  buys_most_popular  tenure  \\\n",
       "0       2018-05-23 18:59:01   50      F                  1     469   \n",
       "1       2018-02-22 19:02:25   24      F                  1     492   \n",
       "2       2018-09-15 21:02:16   36      U                  1     500   \n",
       "3       2018-05-30 20:49:24   79      F                  0     305   \n",
       "4       2017-12-15 10:05:25   34      F                  1     608   \n",
       "...                     ...  ...    ...                ...     ...   \n",
       "139547  2019-04-06 13:49:41   72      U                  0     137   \n",
       "139548  2018-03-12 17:41:42   35      U                  1     406   \n",
       "139549  2019-05-31 17:37:36   50      F                  0     387   \n",
       "139550  2017-10-18 18:50:02   55      U                  1     624   \n",
       "139551  2018-02-27 18:37:19   63      M                  1     664   \n",
       "\n",
       "        buying_own_trademark  total_purchase  sum_purchase  average_visit  \n",
       "0                        1.0              52      10801.41     207.719423  \n",
       "1                        1.0             162        851.00       5.253086  \n",
       "2                        1.0              86      14171.77     164.788023  \n",
       "3                        1.0             272       2872.00      10.558824  \n",
       "4                        1.0              85       9886.21     116.308353  \n",
       "...                      ...             ...           ...            ...  \n",
       "139547                   1.0              30       2978.00      99.266667  \n",
       "139548                   1.0              23      10549.03     458.653478  \n",
       "139549                   1.0              79       3140.00      39.746835  \n",
       "139550                   1.0             163       3470.74      21.292883  \n",
       "139551                   1.0              23      24283.53    1055.805652  \n",
       "\n",
       "[139552 rows x 13 columns]"
      ]
     },
     "execution_count": 102,
     "metadata": {},
     "output_type": "execute_result"
    }
   ],
   "source": [
    "train_data"
   ]
  },
  {
   "cell_type": "code",
   "execution_count": 103,
   "id": "eb07705c",
   "metadata": {
    "scrolled": false
   },
   "outputs": [
    {
     "data": {
      "text/plain": [
       "75.157353347458"
      ]
     },
     "execution_count": 103,
     "metadata": {},
     "output_type": "execute_result"
    }
   ],
   "source": [
    "train_data['sum_purchase'].sum()/train_data['total_purchase'].sum()"
   ]
  },
  {
   "cell_type": "markdown",
   "id": "93f646dc",
   "metadata": {},
   "source": [
    "Средняя сумма чека — 75,16 ."
   ]
  },
  {
   "cell_type": "code",
   "execution_count": 104,
   "id": "c814b2d0",
   "metadata": {},
   "outputs": [
    {
     "data": {
      "text/plain": [
       "0.02665154420298721"
      ]
     },
     "execution_count": 104,
     "metadata": {},
     "output_type": "execute_result"
    }
   ],
   "source": [
    "train_data_above_average = train_data[train_data['average_visit'] > 75.16]\n",
    "\n",
    "train_data_above_average[train_data_above_average['treatment_flg'] == 1]['purchased'].mean() \\\n",
    "- train_data_above_average[train_data_above_average['treatment_flg'] == 0]['purchased'].mean()"
   ]
  },
  {
   "cell_type": "code",
   "execution_count": 105,
   "id": "e213fd0d",
   "metadata": {
    "scrolled": true
   },
   "outputs": [
    {
     "data": {
      "text/plain": [
       "0.04021615288023561"
      ]
     },
     "execution_count": 105,
     "metadata": {},
     "output_type": "execute_result"
    }
   ],
   "source": [
    "train_data_under_average = train_data[train_data['average_visit'] <= 75.16]\n",
    "\n",
    "train_data_under_average[train_data_under_average['treatment_flg'] == 1]['purchased'].mean() \\\n",
    "- train_data_under_average[train_data_under_average['treatment_flg'] == 0]['purchased'].mean()"
   ]
  },
  {
   "cell_type": "markdown",
   "id": "3e8e4880",
   "metadata": {},
   "source": [
    "Аплифт среди тех, чей средний чек меньше среднего по всей выборке больще на 1,4 п.п."
   ]
  },
  {
   "cell_type": "markdown",
   "id": "454e547a",
   "metadata": {},
   "source": [
    "## Обучение модели"
   ]
  },
  {
   "cell_type": "markdown",
   "id": "1a673633",
   "metadata": {},
   "source": [
    "### Подготовка тренировочных данных"
   ]
  },
  {
   "cell_type": "markdown",
   "id": "de62bdb8",
   "metadata": {},
   "source": [
    "Перед тем, как перейти к обучению модели, посмотрим какой набор признаков мы получили "
   ]
  },
  {
   "cell_type": "code",
   "execution_count": 106,
   "id": "96d465c2",
   "metadata": {
    "scrolled": true
   },
   "outputs": [
    {
     "data": {
      "text/html": [
       "<div>\n",
       "<style scoped>\n",
       "    .dataframe tbody tr th:only-of-type {\n",
       "        vertical-align: middle;\n",
       "    }\n",
       "\n",
       "    .dataframe tbody tr th {\n",
       "        vertical-align: top;\n",
       "    }\n",
       "\n",
       "    .dataframe thead th {\n",
       "        text-align: right;\n",
       "    }\n",
       "</style>\n",
       "<table border=\"1\" class=\"dataframe\">\n",
       "  <thead>\n",
       "    <tr style=\"text-align: right;\">\n",
       "      <th></th>\n",
       "      <th>client_id</th>\n",
       "      <th>treatment_flg</th>\n",
       "      <th>purchased</th>\n",
       "      <th>first_issue_date</th>\n",
       "      <th>first_redeem_date</th>\n",
       "      <th>age</th>\n",
       "      <th>gender</th>\n",
       "      <th>buys_most_popular</th>\n",
       "      <th>tenure</th>\n",
       "      <th>buying_own_trademark</th>\n",
       "      <th>total_purchase</th>\n",
       "      <th>sum_purchase</th>\n",
       "      <th>average_visit</th>\n",
       "    </tr>\n",
       "  </thead>\n",
       "  <tbody>\n",
       "    <tr>\n",
       "      <th>0</th>\n",
       "      <td>ad6561e2d8</td>\n",
       "      <td>1</td>\n",
       "      <td>1</td>\n",
       "      <td>2017-12-03 17:33:51</td>\n",
       "      <td>2018-05-23 18:59:01</td>\n",
       "      <td>50</td>\n",
       "      <td>F</td>\n",
       "      <td>1</td>\n",
       "      <td>469</td>\n",
       "      <td>1.0</td>\n",
       "      <td>52</td>\n",
       "      <td>10801.41</td>\n",
       "      <td>207.719423</td>\n",
       "    </tr>\n",
       "    <tr>\n",
       "      <th>1</th>\n",
       "      <td>7c1ccbf93f</td>\n",
       "      <td>1</td>\n",
       "      <td>1</td>\n",
       "      <td>2017-11-10 16:33:49</td>\n",
       "      <td>2018-02-22 19:02:25</td>\n",
       "      <td>24</td>\n",
       "      <td>F</td>\n",
       "      <td>1</td>\n",
       "      <td>492</td>\n",
       "      <td>1.0</td>\n",
       "      <td>162</td>\n",
       "      <td>851.00</td>\n",
       "      <td>5.253086</td>\n",
       "    </tr>\n",
       "    <tr>\n",
       "      <th>2</th>\n",
       "      <td>b58fadcab6</td>\n",
       "      <td>1</td>\n",
       "      <td>1</td>\n",
       "      <td>2017-11-02 21:17:45</td>\n",
       "      <td>2018-09-15 21:02:16</td>\n",
       "      <td>36</td>\n",
       "      <td>U</td>\n",
       "      <td>1</td>\n",
       "      <td>500</td>\n",
       "      <td>1.0</td>\n",
       "      <td>86</td>\n",
       "      <td>14171.77</td>\n",
       "      <td>164.788023</td>\n",
       "    </tr>\n",
       "    <tr>\n",
       "      <th>3</th>\n",
       "      <td>e99e6fabb9</td>\n",
       "      <td>0</td>\n",
       "      <td>0</td>\n",
       "      <td>2018-05-16 10:21:20</td>\n",
       "      <td>2018-05-30 20:49:24</td>\n",
       "      <td>79</td>\n",
       "      <td>F</td>\n",
       "      <td>0</td>\n",
       "      <td>305</td>\n",
       "      <td>1.0</td>\n",
       "      <td>272</td>\n",
       "      <td>2872.00</td>\n",
       "      <td>10.558824</td>\n",
       "    </tr>\n",
       "    <tr>\n",
       "      <th>4</th>\n",
       "      <td>27fb6f8520</td>\n",
       "      <td>1</td>\n",
       "      <td>1</td>\n",
       "      <td>2017-07-17 19:36:28</td>\n",
       "      <td>2017-12-15 10:05:25</td>\n",
       "      <td>34</td>\n",
       "      <td>F</td>\n",
       "      <td>1</td>\n",
       "      <td>608</td>\n",
       "      <td>1.0</td>\n",
       "      <td>85</td>\n",
       "      <td>9886.21</td>\n",
       "      <td>116.308353</td>\n",
       "    </tr>\n",
       "  </tbody>\n",
       "</table>\n",
       "</div>"
      ],
      "text/plain": [
       "    client_id  treatment_flg  purchased    first_issue_date  \\\n",
       "0  ad6561e2d8              1          1 2017-12-03 17:33:51   \n",
       "1  7c1ccbf93f              1          1 2017-11-10 16:33:49   \n",
       "2  b58fadcab6              1          1 2017-11-02 21:17:45   \n",
       "3  e99e6fabb9              0          0 2018-05-16 10:21:20   \n",
       "4  27fb6f8520              1          1 2017-07-17 19:36:28   \n",
       "\n",
       "     first_redeem_date  age gender  buys_most_popular  tenure  \\\n",
       "0  2018-05-23 18:59:01   50      F                  1     469   \n",
       "1  2018-02-22 19:02:25   24      F                  1     492   \n",
       "2  2018-09-15 21:02:16   36      U                  1     500   \n",
       "3  2018-05-30 20:49:24   79      F                  0     305   \n",
       "4  2017-12-15 10:05:25   34      F                  1     608   \n",
       "\n",
       "   buying_own_trademark  total_purchase  sum_purchase  average_visit  \n",
       "0                   1.0              52      10801.41     207.719423  \n",
       "1                   1.0             162        851.00       5.253086  \n",
       "2                   1.0              86      14171.77     164.788023  \n",
       "3                   1.0             272       2872.00      10.558824  \n",
       "4                   1.0              85       9886.21     116.308353  "
      ]
     },
     "execution_count": 106,
     "metadata": {},
     "output_type": "execute_result"
    }
   ],
   "source": [
    "train_data.head()"
   ]
  },
  {
   "cell_type": "code",
   "execution_count": 107,
   "id": "c3e610a0",
   "metadata": {},
   "outputs": [
    {
     "name": "stdout",
     "output_type": "stream",
     "text": [
      "<class 'pandas.core.frame.DataFrame'>\n",
      "Int64Index: 139552 entries, 0 to 139551\n",
      "Data columns (total 13 columns):\n",
      " #   Column                Non-Null Count   Dtype         \n",
      "---  ------                --------------   -----         \n",
      " 0   client_id             139552 non-null  object        \n",
      " 1   treatment_flg         139552 non-null  int64         \n",
      " 2   purchased             139552 non-null  int64         \n",
      " 3   first_issue_date      139552 non-null  datetime64[ns]\n",
      " 4   first_redeem_date     139552 non-null  object        \n",
      " 5   age                   139552 non-null  int64         \n",
      " 6   gender                139552 non-null  object        \n",
      " 7   buys_most_popular     139552 non-null  int64         \n",
      " 8   tenure                139552 non-null  int16         \n",
      " 9   buying_own_trademark  139552 non-null  float64       \n",
      " 10  total_purchase        139552 non-null  int64         \n",
      " 11  sum_purchase          139552 non-null  float64       \n",
      " 12  average_visit         139552 non-null  float64       \n",
      "dtypes: datetime64[ns](1), float64(3), int16(1), int64(5), object(3)\n",
      "memory usage: 14.1+ MB\n"
     ]
    }
   ],
   "source": [
    "train_data.info()"
   ]
  },
  {
   "cell_type": "markdown",
   "id": "169bb314",
   "metadata": {},
   "source": [
    "У нас есть:\n",
    "- возраст;\n",
    "- пол;\n",
    "- покупает ли клиент самый популярный товар;\n",
    "- срок владения картой;\n",
    "- покупает ли СТМ;\n",
    "- общее количество покупок;\n",
    "- общая сумма покупок;\n",
    "- средний чек за визит."
   ]
  },
  {
   "cell_type": "markdown",
   "id": "ae03bfb0",
   "metadata": {},
   "source": [
    "Перед обучением модели необходимо сделать следующие преобразования:\n",
    "    - удалить `client_id` т.к. не является по сути признаков;\n",
    "    - рассчитать время между оформлением карты и ее первым использованием;\n",
    "    - удалить конкретные даты оформления и использования карты;\n",
    "    \n",
    "Для части моделей также необходимо будет привести категориальные признаки. Мы планируем использовать модель Catboost которая справляется с категориальными фитчами, но изменим их на случай, если захотим позже обучить другие модели."
   ]
  },
  {
   "cell_type": "code",
   "execution_count": 108,
   "id": "b81e4307",
   "metadata": {},
   "outputs": [],
   "source": [
    "train_data['first_redeem_date'] = pd.to_datetime(train_data['first_redeem_date'], format='%Y-%m-%d %H:%M:%S')"
   ]
  },
  {
   "cell_type": "code",
   "execution_count": 109,
   "id": "13cff9a1",
   "metadata": {},
   "outputs": [],
   "source": [
    "train_data['days_for_first_use'] = (train_data['first_redeem_date'] - train_data['first_issue_date']).dt.days.astype('int16')"
   ]
  },
  {
   "cell_type": "code",
   "execution_count": 110,
   "id": "0ddaa860",
   "metadata": {},
   "outputs": [],
   "source": [
    "train_data = train_data.drop(columns=['first_issue_date','first_redeem_date','client_id'])"
   ]
  },
  {
   "cell_type": "code",
   "execution_count": 111,
   "id": "e2cbca7f",
   "metadata": {},
   "outputs": [
    {
     "data": {
      "text/html": [
       "<div>\n",
       "<style scoped>\n",
       "    .dataframe tbody tr th:only-of-type {\n",
       "        vertical-align: middle;\n",
       "    }\n",
       "\n",
       "    .dataframe tbody tr th {\n",
       "        vertical-align: top;\n",
       "    }\n",
       "\n",
       "    .dataframe thead th {\n",
       "        text-align: right;\n",
       "    }\n",
       "</style>\n",
       "<table border=\"1\" class=\"dataframe\">\n",
       "  <thead>\n",
       "    <tr style=\"text-align: right;\">\n",
       "      <th></th>\n",
       "      <th>treatment_flg</th>\n",
       "      <th>purchased</th>\n",
       "      <th>age</th>\n",
       "      <th>gender</th>\n",
       "      <th>buys_most_popular</th>\n",
       "      <th>tenure</th>\n",
       "      <th>buying_own_trademark</th>\n",
       "      <th>total_purchase</th>\n",
       "      <th>sum_purchase</th>\n",
       "      <th>average_visit</th>\n",
       "      <th>days_for_first_use</th>\n",
       "    </tr>\n",
       "  </thead>\n",
       "  <tbody>\n",
       "    <tr>\n",
       "      <th>0</th>\n",
       "      <td>1</td>\n",
       "      <td>1</td>\n",
       "      <td>50</td>\n",
       "      <td>F</td>\n",
       "      <td>1</td>\n",
       "      <td>469</td>\n",
       "      <td>1.0</td>\n",
       "      <td>52</td>\n",
       "      <td>10801.41</td>\n",
       "      <td>207.719423</td>\n",
       "      <td>171</td>\n",
       "    </tr>\n",
       "    <tr>\n",
       "      <th>1</th>\n",
       "      <td>1</td>\n",
       "      <td>1</td>\n",
       "      <td>24</td>\n",
       "      <td>F</td>\n",
       "      <td>1</td>\n",
       "      <td>492</td>\n",
       "      <td>1.0</td>\n",
       "      <td>162</td>\n",
       "      <td>851.00</td>\n",
       "      <td>5.253086</td>\n",
       "      <td>104</td>\n",
       "    </tr>\n",
       "    <tr>\n",
       "      <th>2</th>\n",
       "      <td>1</td>\n",
       "      <td>1</td>\n",
       "      <td>36</td>\n",
       "      <td>U</td>\n",
       "      <td>1</td>\n",
       "      <td>500</td>\n",
       "      <td>1.0</td>\n",
       "      <td>86</td>\n",
       "      <td>14171.77</td>\n",
       "      <td>164.788023</td>\n",
       "      <td>316</td>\n",
       "    </tr>\n",
       "    <tr>\n",
       "      <th>3</th>\n",
       "      <td>0</td>\n",
       "      <td>0</td>\n",
       "      <td>79</td>\n",
       "      <td>F</td>\n",
       "      <td>0</td>\n",
       "      <td>305</td>\n",
       "      <td>1.0</td>\n",
       "      <td>272</td>\n",
       "      <td>2872.00</td>\n",
       "      <td>10.558824</td>\n",
       "      <td>14</td>\n",
       "    </tr>\n",
       "    <tr>\n",
       "      <th>4</th>\n",
       "      <td>1</td>\n",
       "      <td>1</td>\n",
       "      <td>34</td>\n",
       "      <td>F</td>\n",
       "      <td>1</td>\n",
       "      <td>608</td>\n",
       "      <td>1.0</td>\n",
       "      <td>85</td>\n",
       "      <td>9886.21</td>\n",
       "      <td>116.308353</td>\n",
       "      <td>150</td>\n",
       "    </tr>\n",
       "    <tr>\n",
       "      <th>5</th>\n",
       "      <td>1</td>\n",
       "      <td>1</td>\n",
       "      <td>35</td>\n",
       "      <td>U</td>\n",
       "      <td>1</td>\n",
       "      <td>228</td>\n",
       "      <td>1.0</td>\n",
       "      <td>116</td>\n",
       "      <td>37948.40</td>\n",
       "      <td>327.141379</td>\n",
       "      <td>163</td>\n",
       "    </tr>\n",
       "    <tr>\n",
       "      <th>6</th>\n",
       "      <td>1</td>\n",
       "      <td>0</td>\n",
       "      <td>61</td>\n",
       "      <td>F</td>\n",
       "      <td>0</td>\n",
       "      <td>392</td>\n",
       "      <td>1.0</td>\n",
       "      <td>72</td>\n",
       "      <td>1632.00</td>\n",
       "      <td>22.666667</td>\n",
       "      <td>129</td>\n",
       "    </tr>\n",
       "    <tr>\n",
       "      <th>7</th>\n",
       "      <td>1</td>\n",
       "      <td>0</td>\n",
       "      <td>44</td>\n",
       "      <td>F</td>\n",
       "      <td>1</td>\n",
       "      <td>521</td>\n",
       "      <td>1.0</td>\n",
       "      <td>140</td>\n",
       "      <td>3822.62</td>\n",
       "      <td>27.304429</td>\n",
       "      <td>90</td>\n",
       "    </tr>\n",
       "    <tr>\n",
       "      <th>8</th>\n",
       "      <td>0</td>\n",
       "      <td>1</td>\n",
       "      <td>33</td>\n",
       "      <td>U</td>\n",
       "      <td>1</td>\n",
       "      <td>628</td>\n",
       "      <td>1.0</td>\n",
       "      <td>83</td>\n",
       "      <td>14228.23</td>\n",
       "      <td>171.424458</td>\n",
       "      <td>15</td>\n",
       "    </tr>\n",
       "    <tr>\n",
       "      <th>9</th>\n",
       "      <td>0</td>\n",
       "      <td>1</td>\n",
       "      <td>39</td>\n",
       "      <td>U</td>\n",
       "      <td>1</td>\n",
       "      <td>15</td>\n",
       "      <td>1.0</td>\n",
       "      <td>107</td>\n",
       "      <td>2800.11</td>\n",
       "      <td>26.169252</td>\n",
       "      <td>16</td>\n",
       "    </tr>\n",
       "  </tbody>\n",
       "</table>\n",
       "</div>"
      ],
      "text/plain": [
       "   treatment_flg  purchased  age gender  buys_most_popular  tenure  \\\n",
       "0              1          1   50      F                  1     469   \n",
       "1              1          1   24      F                  1     492   \n",
       "2              1          1   36      U                  1     500   \n",
       "3              0          0   79      F                  0     305   \n",
       "4              1          1   34      F                  1     608   \n",
       "5              1          1   35      U                  1     228   \n",
       "6              1          0   61      F                  0     392   \n",
       "7              1          0   44      F                  1     521   \n",
       "8              0          1   33      U                  1     628   \n",
       "9              0          1   39      U                  1      15   \n",
       "\n",
       "   buying_own_trademark  total_purchase  sum_purchase  average_visit  \\\n",
       "0                   1.0              52      10801.41     207.719423   \n",
       "1                   1.0             162        851.00       5.253086   \n",
       "2                   1.0              86      14171.77     164.788023   \n",
       "3                   1.0             272       2872.00      10.558824   \n",
       "4                   1.0              85       9886.21     116.308353   \n",
       "5                   1.0             116      37948.40     327.141379   \n",
       "6                   1.0              72       1632.00      22.666667   \n",
       "7                   1.0             140       3822.62      27.304429   \n",
       "8                   1.0              83      14228.23     171.424458   \n",
       "9                   1.0             107       2800.11      26.169252   \n",
       "\n",
       "   days_for_first_use  \n",
       "0                 171  \n",
       "1                 104  \n",
       "2                 316  \n",
       "3                  14  \n",
       "4                 150  \n",
       "5                 163  \n",
       "6                 129  \n",
       "7                  90  \n",
       "8                  15  \n",
       "9                  16  "
      ]
     },
     "execution_count": 111,
     "metadata": {},
     "output_type": "execute_result"
    }
   ],
   "source": [
    "train_data.head(10)"
   ]
  },
  {
   "cell_type": "code",
   "execution_count": 112,
   "id": "acfb8c70",
   "metadata": {},
   "outputs": [],
   "source": [
    "train_data = pd.get_dummies(train_data, columns = ['gender'], drop_first=True)"
   ]
  },
  {
   "cell_type": "code",
   "execution_count": 113,
   "id": "7f6a1832",
   "metadata": {},
   "outputs": [
    {
     "data": {
      "text/html": [
       "<div>\n",
       "<style scoped>\n",
       "    .dataframe tbody tr th:only-of-type {\n",
       "        vertical-align: middle;\n",
       "    }\n",
       "\n",
       "    .dataframe tbody tr th {\n",
       "        vertical-align: top;\n",
       "    }\n",
       "\n",
       "    .dataframe thead th {\n",
       "        text-align: right;\n",
       "    }\n",
       "</style>\n",
       "<table border=\"1\" class=\"dataframe\">\n",
       "  <thead>\n",
       "    <tr style=\"text-align: right;\">\n",
       "      <th></th>\n",
       "      <th>treatment_flg</th>\n",
       "      <th>purchased</th>\n",
       "      <th>age</th>\n",
       "      <th>buys_most_popular</th>\n",
       "      <th>tenure</th>\n",
       "      <th>buying_own_trademark</th>\n",
       "      <th>total_purchase</th>\n",
       "      <th>sum_purchase</th>\n",
       "      <th>average_visit</th>\n",
       "      <th>days_for_first_use</th>\n",
       "      <th>gender_M</th>\n",
       "      <th>gender_U</th>\n",
       "    </tr>\n",
       "  </thead>\n",
       "  <tbody>\n",
       "    <tr>\n",
       "      <th>0</th>\n",
       "      <td>1</td>\n",
       "      <td>1</td>\n",
       "      <td>50</td>\n",
       "      <td>1</td>\n",
       "      <td>469</td>\n",
       "      <td>1.0</td>\n",
       "      <td>52</td>\n",
       "      <td>10801.41</td>\n",
       "      <td>207.719423</td>\n",
       "      <td>171</td>\n",
       "      <td>0</td>\n",
       "      <td>0</td>\n",
       "    </tr>\n",
       "    <tr>\n",
       "      <th>1</th>\n",
       "      <td>1</td>\n",
       "      <td>1</td>\n",
       "      <td>24</td>\n",
       "      <td>1</td>\n",
       "      <td>492</td>\n",
       "      <td>1.0</td>\n",
       "      <td>162</td>\n",
       "      <td>851.00</td>\n",
       "      <td>5.253086</td>\n",
       "      <td>104</td>\n",
       "      <td>0</td>\n",
       "      <td>0</td>\n",
       "    </tr>\n",
       "    <tr>\n",
       "      <th>2</th>\n",
       "      <td>1</td>\n",
       "      <td>1</td>\n",
       "      <td>36</td>\n",
       "      <td>1</td>\n",
       "      <td>500</td>\n",
       "      <td>1.0</td>\n",
       "      <td>86</td>\n",
       "      <td>14171.77</td>\n",
       "      <td>164.788023</td>\n",
       "      <td>316</td>\n",
       "      <td>0</td>\n",
       "      <td>1</td>\n",
       "    </tr>\n",
       "    <tr>\n",
       "      <th>3</th>\n",
       "      <td>0</td>\n",
       "      <td>0</td>\n",
       "      <td>79</td>\n",
       "      <td>0</td>\n",
       "      <td>305</td>\n",
       "      <td>1.0</td>\n",
       "      <td>272</td>\n",
       "      <td>2872.00</td>\n",
       "      <td>10.558824</td>\n",
       "      <td>14</td>\n",
       "      <td>0</td>\n",
       "      <td>0</td>\n",
       "    </tr>\n",
       "    <tr>\n",
       "      <th>4</th>\n",
       "      <td>1</td>\n",
       "      <td>1</td>\n",
       "      <td>34</td>\n",
       "      <td>1</td>\n",
       "      <td>608</td>\n",
       "      <td>1.0</td>\n",
       "      <td>85</td>\n",
       "      <td>9886.21</td>\n",
       "      <td>116.308353</td>\n",
       "      <td>150</td>\n",
       "      <td>0</td>\n",
       "      <td>0</td>\n",
       "    </tr>\n",
       "  </tbody>\n",
       "</table>\n",
       "</div>"
      ],
      "text/plain": [
       "   treatment_flg  purchased  age  buys_most_popular  tenure  \\\n",
       "0              1          1   50                  1     469   \n",
       "1              1          1   24                  1     492   \n",
       "2              1          1   36                  1     500   \n",
       "3              0          0   79                  0     305   \n",
       "4              1          1   34                  1     608   \n",
       "\n",
       "   buying_own_trademark  total_purchase  sum_purchase  average_visit  \\\n",
       "0                   1.0              52      10801.41     207.719423   \n",
       "1                   1.0             162        851.00       5.253086   \n",
       "2                   1.0              86      14171.77     164.788023   \n",
       "3                   1.0             272       2872.00      10.558824   \n",
       "4                   1.0              85       9886.21     116.308353   \n",
       "\n",
       "   days_for_first_use  gender_M  gender_U  \n",
       "0                 171         0         0  \n",
       "1                 104         0         0  \n",
       "2                 316         0         1  \n",
       "3                  14         0         0  \n",
       "4                 150         0         0  "
      ]
     },
     "execution_count": 113,
     "metadata": {},
     "output_type": "execute_result"
    }
   ],
   "source": [
    "train_data.head()"
   ]
  },
  {
   "cell_type": "markdown",
   "id": "20c4ec05",
   "metadata": {},
   "source": [
    "### Отделение целевого признака"
   ]
  },
  {
   "cell_type": "markdown",
   "id": "a30a85bd",
   "metadata": {},
   "source": [
    "В дальшейшей работе мы пойдем следующим путем:\n",
    "- обучим модель на тренировочных данных с указанием, была ли совершена коммуникация;\n",
    "- добавим все расчетные признаки в тестовые данные;\n",
    "- дважды сделаем предсказания для каждого клиента в тесте — с указанием флага коммуникации и без него;\n",
    "- те пользователи, которые изменили группу в зависимости от факта коммуникации и интересуют нас — им и нужно отправлять СМС."
   ]
  },
  {
   "cell_type": "code",
   "execution_count": 114,
   "id": "22774853",
   "metadata": {},
   "outputs": [],
   "source": [
    "target = train_data['purchased']                          # определяем целевой признак\n",
    "features = train_data.drop('purchased', axis=1)           # отделяем все остальные признаки\n",
    "\n",
    "# 10% для валидации модели\n",
    "\n",
    "features_train, features_valid, target_train, target_valid = train_test_split(features,\n",
    "                                                                              target,\n",
    "                                                                              test_size=0.1,\n",
    "                                                                              random_state=1049)"
   ]
  },
  {
   "cell_type": "code",
   "execution_count": 115,
   "id": "c8d7323c",
   "metadata": {
    "scrolled": true
   },
   "outputs": [
    {
     "data": {
      "text/plain": [
       "(125596, 11)"
      ]
     },
     "execution_count": 115,
     "metadata": {},
     "output_type": "execute_result"
    }
   ],
   "source": [
    "features_train.shape"
   ]
  },
  {
   "cell_type": "code",
   "execution_count": 116,
   "id": "9a86e444",
   "metadata": {},
   "outputs": [
    {
     "data": {
      "text/plain": [
       "(125596,)"
      ]
     },
     "execution_count": 116,
     "metadata": {},
     "output_type": "execute_result"
    }
   ],
   "source": [
    "target_train.shape"
   ]
  },
  {
   "cell_type": "code",
   "execution_count": 117,
   "id": "cc92a10b",
   "metadata": {},
   "outputs": [
    {
     "data": {
      "text/plain": [
       "(13956, 11)"
      ]
     },
     "execution_count": 117,
     "metadata": {},
     "output_type": "execute_result"
    }
   ],
   "source": [
    "features_valid.shape"
   ]
  },
  {
   "cell_type": "code",
   "execution_count": 118,
   "id": "5dd1899d",
   "metadata": {},
   "outputs": [
    {
     "data": {
      "text/plain": [
       "(13956,)"
      ]
     },
     "execution_count": 118,
     "metadata": {},
     "output_type": "execute_result"
    }
   ],
   "source": [
    "target_valid.shape"
   ]
  },
  {
   "cell_type": "code",
   "execution_count": 119,
   "id": "8d71602e",
   "metadata": {},
   "outputs": [
    {
     "data": {
      "application/vnd.jupyter.widget-view+json": {
       "model_id": "d8aae521c5804f5fb16c0531ca9aae8e",
       "version_major": 2,
       "version_minor": 0
      },
      "text/plain": [
       "MetricVisualizer(layout=Layout(align_self='stretch', height='500px'))"
      ]
     },
     "metadata": {},
     "output_type": "display_data"
    },
    {
     "name": "stdout",
     "output_type": "stream",
     "text": [
      "0:\tlearn: 0.6913733\ttest: 0.6913718\tbest: 0.6913718 (0)\ttotal: 499ms\tremaining: 8m 18s\n",
      "100:\tlearn: 0.6160725\ttest: 0.6158718\tbest: 0.6158718 (100)\ttotal: 2.24s\tremaining: 19.9s\n",
      "200:\tlearn: 0.6025059\ttest: 0.6022392\tbest: 0.6022392 (200)\ttotal: 4.03s\tremaining: 16s\n",
      "300:\tlearn: 0.5985986\ttest: 0.5982932\tbest: 0.5982932 (300)\ttotal: 5.77s\tremaining: 13.4s\n",
      "400:\tlearn: 0.5968199\ttest: 0.5965189\tbest: 0.5965189 (400)\ttotal: 7.28s\tremaining: 10.9s\n",
      "500:\tlearn: 0.5957572\ttest: 0.5954543\tbest: 0.5954543 (500)\ttotal: 8.81s\tremaining: 8.77s\n",
      "600:\tlearn: 0.5950874\ttest: 0.5948313\tbest: 0.5948313 (600)\ttotal: 10.3s\tremaining: 6.83s\n",
      "700:\tlearn: 0.5945558\ttest: 0.5944225\tbest: 0.5944225 (700)\ttotal: 11.8s\tremaining: 5.02s\n",
      "800:\tlearn: 0.5941281\ttest: 0.5941009\tbest: 0.5941009 (800)\ttotal: 13.2s\tremaining: 3.28s\n",
      "900:\tlearn: 0.5937627\ttest: 0.5938641\tbest: 0.5938641 (900)\ttotal: 14.8s\tremaining: 1.62s\n",
      "999:\tlearn: 0.5934379\ttest: 0.5936904\tbest: 0.5936904 (999)\ttotal: 16.2s\tremaining: 0us\n",
      "\n",
      "bestTest = 0.5936904458\n",
      "bestIteration = 999\n",
      "\n",
      "0:\tloss: 0.5936904\tbest: 0.5936904 (0)\ttotal: 17.9s\tremaining: 1m 29s\n",
      "0:\tlearn: 0.6762611\ttest: 0.6763004\tbest: 0.6763004 (0)\ttotal: 14.3ms\tremaining: 14.3s\n",
      "100:\tlearn: 0.5932485\ttest: 0.5937717\tbest: 0.5937717 (100)\ttotal: 1.68s\tremaining: 14.9s\n",
      "200:\tlearn: 0.5903821\ttest: 0.5930672\tbest: 0.5930425 (197)\ttotal: 3.28s\tremaining: 13s\n",
      "300:\tlearn: 0.5882751\ttest: 0.5931121\tbest: 0.5930425 (197)\ttotal: 4.84s\tremaining: 11.2s\n",
      "400:\tlearn: 0.5863921\ttest: 0.5931389\tbest: 0.5930425 (197)\ttotal: 6.38s\tremaining: 9.53s\n",
      "500:\tlearn: 0.5845871\ttest: 0.5933480\tbest: 0.5930425 (197)\ttotal: 7.9s\tremaining: 7.87s\n",
      "600:\tlearn: 0.5829657\ttest: 0.5934983\tbest: 0.5930425 (197)\ttotal: 9.42s\tremaining: 6.25s\n",
      "700:\tlearn: 0.5813715\ttest: 0.5938582\tbest: 0.5930425 (197)\ttotal: 11s\tremaining: 4.68s\n",
      "800:\tlearn: 0.5798315\ttest: 0.5940801\tbest: 0.5930425 (197)\ttotal: 12.5s\tremaining: 3.1s\n",
      "900:\tlearn: 0.5783422\ttest: 0.5941833\tbest: 0.5930425 (197)\ttotal: 14s\tremaining: 1.54s\n",
      "999:\tlearn: 0.5769045\ttest: 0.5943479\tbest: 0.5930425 (197)\ttotal: 15.5s\tremaining: 0us\n",
      "\n",
      "bestTest = 0.5930424878\n",
      "bestIteration = 197\n",
      "\n",
      "1:\tloss: 0.5930425\tbest: 0.5930425 (1)\ttotal: 33.5s\tremaining: 1m 7s\n",
      "0:\tlearn: 0.6913017\ttest: 0.6912967\tbest: 0.6912967 (0)\ttotal: 42.9ms\tremaining: 42.9s\n",
      "100:\tlearn: 0.6129731\ttest: 0.6129292\tbest: 0.6129292 (100)\ttotal: 2.03s\tremaining: 18.1s\n",
      "200:\tlearn: 0.5997577\ttest: 0.5996974\tbest: 0.5996974 (200)\ttotal: 4s\tremaining: 15.9s\n",
      "300:\tlearn: 0.5961119\ttest: 0.5962350\tbest: 0.5962350 (300)\ttotal: 6s\tremaining: 13.9s\n",
      "400:\tlearn: 0.5944316\ttest: 0.5948514\tbest: 0.5948514 (400)\ttotal: 7.97s\tremaining: 11.9s\n",
      "500:\tlearn: 0.5933631\ttest: 0.5941928\tbest: 0.5941928 (500)\ttotal: 9.98s\tremaining: 9.94s\n",
      "600:\tlearn: 0.5925128\ttest: 0.5937817\tbest: 0.5937817 (600)\ttotal: 12.1s\tremaining: 8.04s\n",
      "700:\tlearn: 0.5918212\ttest: 0.5935190\tbest: 0.5935190 (700)\ttotal: 14.6s\tremaining: 6.21s\n",
      "800:\tlearn: 0.5912174\ttest: 0.5933410\tbest: 0.5933410 (800)\ttotal: 16.9s\tremaining: 4.2s\n",
      "900:\tlearn: 0.5906534\ttest: 0.5932120\tbest: 0.5932120 (900)\ttotal: 19.5s\tremaining: 2.14s\n",
      "999:\tlearn: 0.5901261\ttest: 0.5931252\tbest: 0.5931221 (977)\ttotal: 22s\tremaining: 0us\n",
      "\n",
      "bestTest = 0.5931221347\n",
      "bestIteration = 977\n",
      "\n",
      "2:\tloss: 0.5931221\tbest: 0.5930425 (1)\ttotal: 55.6s\tremaining: 55.6s\n",
      "0:\tlearn: 0.6756395\ttest: 0.6755890\tbest: 0.6755890 (0)\ttotal: 29.2ms\tremaining: 29.2s\n",
      "100:\tlearn: 0.5902714\ttest: 0.5932324\tbest: 0.5932324 (100)\ttotal: 2.79s\tremaining: 24.8s\n",
      "200:\tlearn: 0.5846476\ttest: 0.5930896\tbest: 0.5929405 (163)\ttotal: 5.01s\tremaining: 19.9s\n",
      "300:\tlearn: 0.5797221\ttest: 0.5935470\tbest: 0.5929405 (163)\ttotal: 7.2s\tremaining: 16.7s\n",
      "400:\tlearn: 0.5751797\ttest: 0.5941029\tbest: 0.5929405 (163)\ttotal: 9.42s\tremaining: 14.1s\n",
      "500:\tlearn: 0.5710262\ttest: 0.5944647\tbest: 0.5929405 (163)\ttotal: 11.6s\tremaining: 11.6s\n",
      "600:\tlearn: 0.5669130\ttest: 0.5948630\tbest: 0.5929405 (163)\ttotal: 13.7s\tremaining: 9.1s\n",
      "700:\tlearn: 0.5630551\ttest: 0.5952304\tbest: 0.5929405 (163)\ttotal: 15.8s\tremaining: 6.74s\n",
      "800:\tlearn: 0.5593553\ttest: 0.5956768\tbest: 0.5929405 (163)\ttotal: 17.9s\tremaining: 4.45s\n",
      "900:\tlearn: 0.5557639\ttest: 0.5963810\tbest: 0.5929405 (163)\ttotal: 20s\tremaining: 2.2s\n",
      "999:\tlearn: 0.5521653\ttest: 0.5969667\tbest: 0.5929405 (163)\ttotal: 22.1s\tremaining: 0us\n",
      "\n",
      "bestTest = 0.5929404991\n",
      "bestIteration = 163\n",
      "\n",
      "3:\tloss: 0.5929405\tbest: 0.5929405 (3)\ttotal: 1m 17s\tremaining: 38.9s\n",
      "0:\tlearn: 0.6912239\ttest: 0.6912395\tbest: 0.6912395 (0)\ttotal: 63.4ms\tremaining: 1m 3s\n",
      "100:\tlearn: 0.6082535\ttest: 0.6097947\tbest: 0.6097947 (100)\ttotal: 6.59s\tremaining: 58.7s\n",
      "200:\tlearn: 0.5938382\ttest: 0.5974649\tbest: 0.5974649 (200)\ttotal: 13.2s\tremaining: 52.5s\n",
      "300:\tlearn: 0.5883920\ttest: 0.5946314\tbest: 0.5946314 (300)\ttotal: 19.9s\tremaining: 46.3s\n",
      "400:\tlearn: 0.5845272\ttest: 0.5937402\tbest: 0.5937402 (400)\ttotal: 26.6s\tremaining: 39.8s\n",
      "500:\tlearn: 0.5812601\ttest: 0.5934318\tbest: 0.5934279 (499)\ttotal: 33.2s\tremaining: 33.1s\n",
      "600:\tlearn: 0.5783458\ttest: 0.5933195\tbest: 0.5933175 (599)\ttotal: 39.8s\tremaining: 26.4s\n",
      "700:\tlearn: 0.5756953\ttest: 0.5933834\tbest: 0.5933134 (643)\ttotal: 46.5s\tremaining: 19.8s\n",
      "800:\tlearn: 0.5730831\ttest: 0.5934633\tbest: 0.5933134 (643)\ttotal: 53.1s\tremaining: 13.2s\n",
      "900:\tlearn: 0.5706923\ttest: 0.5936325\tbest: 0.5933134 (643)\ttotal: 59.7s\tremaining: 6.56s\n",
      "999:\tlearn: 0.5682393\ttest: 0.5937094\tbest: 0.5933134 (643)\ttotal: 1m 6s\tremaining: 0us\n",
      "\n",
      "bestTest = 0.5933133811\n",
      "bestIteration = 643\n",
      "\n",
      "4:\tloss: 0.5933134\tbest: 0.5929405 (3)\ttotal: 2m 24s\tremaining: 28.9s\n",
      "0:\tlearn: 0.6749271\ttest: 0.6750571\tbest: 0.6750571 (0)\ttotal: 69.4ms\tremaining: 1m 9s\n",
      "100:\tlearn: 0.5680350\ttest: 0.5946249\tbest: 0.5940225 (54)\ttotal: 6.9s\tremaining: 1m 1s\n",
      "200:\tlearn: 0.5447256\ttest: 0.5970093\tbest: 0.5940225 (54)\ttotal: 13.4s\tremaining: 53.3s\n",
      "300:\tlearn: 0.5234392\ttest: 0.6002452\tbest: 0.5940225 (54)\ttotal: 20.1s\tremaining: 46.6s\n",
      "400:\tlearn: 0.5053770\ttest: 0.6028082\tbest: 0.5940225 (54)\ttotal: 26.8s\tremaining: 40s\n",
      "500:\tlearn: 0.4872532\ttest: 0.6058865\tbest: 0.5940225 (54)\ttotal: 33.5s\tremaining: 33.4s\n",
      "600:\tlearn: 0.4711735\ttest: 0.6086584\tbest: 0.5940225 (54)\ttotal: 40.2s\tremaining: 26.7s\n",
      "700:\tlearn: 0.4551669\ttest: 0.6111444\tbest: 0.5940225 (54)\ttotal: 47s\tremaining: 20s\n",
      "800:\tlearn: 0.4409755\ttest: 0.6136131\tbest: 0.5940225 (54)\ttotal: 53.5s\tremaining: 13.3s\n",
      "900:\tlearn: 0.4277232\ttest: 0.6162417\tbest: 0.5940225 (54)\ttotal: 1m\tremaining: 6.61s\n",
      "999:\tlearn: 0.4150261\ttest: 0.6184288\tbest: 0.5940225 (54)\ttotal: 1m 7s\tremaining: 0us\n",
      "\n",
      "bestTest = 0.5940224688\n",
      "bestIteration = 54\n",
      "\n",
      "5:\tloss: 0.5940225\tbest: 0.5929405 (3)\ttotal: 3m 31s\tremaining: 0us\n",
      "Estimating final quality...\n",
      "Training on fold [0/3]\n",
      "0:\tlearn: 0.6757801\ttest: 0.6756290\tbest: 0.6756290 (0)\ttotal: 16.3ms\tremaining: 16.2s\n",
      "100:\tlearn: 0.5893722\ttest: 0.5939569\tbest: 0.5939569 (100)\ttotal: 2.21s\tremaining: 19.7s\n",
      "200:\tlearn: 0.5829147\ttest: 0.5938700\tbest: 0.5936140 (148)\ttotal: 4.27s\tremaining: 17s\n",
      "300:\tlearn: 0.5769864\ttest: 0.5942141\tbest: 0.5936140 (148)\ttotal: 6.18s\tremaining: 14.3s\n",
      "400:\tlearn: 0.5716220\ttest: 0.5944382\tbest: 0.5936140 (148)\ttotal: 8.08s\tremaining: 12.1s\n",
      "500:\tlearn: 0.5665281\ttest: 0.5950750\tbest: 0.5936140 (148)\ttotal: 9.95s\tremaining: 9.91s\n",
      "600:\tlearn: 0.5618846\ttest: 0.5959248\tbest: 0.5936140 (148)\ttotal: 11.9s\tremaining: 7.91s\n",
      "700:\tlearn: 0.5576870\ttest: 0.5966610\tbest: 0.5936140 (148)\ttotal: 13.8s\tremaining: 5.9s\n",
      "800:\tlearn: 0.5533452\ttest: 0.5972151\tbest: 0.5936140 (148)\ttotal: 15.7s\tremaining: 3.91s\n",
      "900:\tlearn: 0.5491725\ttest: 0.5978019\tbest: 0.5936140 (148)\ttotal: 17.6s\tremaining: 1.93s\n",
      "999:\tlearn: 0.5451300\ttest: 0.5983589\tbest: 0.5936140 (148)\ttotal: 19.4s\tremaining: 0us\n",
      "\n",
      "bestTest = 0.5936139688\n",
      "bestIteration = 148\n",
      "\n",
      "Training on fold [1/3]\n",
      "0:\tlearn: 0.6753895\ttest: 0.6755310\tbest: 0.6755310 (0)\ttotal: 17ms\tremaining: 17s\n",
      "100:\tlearn: 0.5888913\ttest: 0.5947529\tbest: 0.5947102 (90)\ttotal: 1.88s\tremaining: 16.7s\n",
      "200:\tlearn: 0.5824175\ttest: 0.5948417\tbest: 0.5946152 (145)\ttotal: 3.77s\tremaining: 15s\n",
      "300:\tlearn: 0.5766519\ttest: 0.5952409\tbest: 0.5946152 (145)\ttotal: 5.67s\tremaining: 13.2s\n",
      "400:\tlearn: 0.5711750\ttest: 0.5959619\tbest: 0.5946152 (145)\ttotal: 7.58s\tremaining: 11.3s\n",
      "500:\tlearn: 0.5659224\ttest: 0.5966341\tbest: 0.5946152 (145)\ttotal: 9.44s\tremaining: 9.4s\n",
      "600:\tlearn: 0.5611567\ttest: 0.5973486\tbest: 0.5946152 (145)\ttotal: 11.5s\tremaining: 7.64s\n",
      "700:\tlearn: 0.5566552\ttest: 0.5981638\tbest: 0.5946152 (145)\ttotal: 13.8s\tremaining: 5.87s\n",
      "800:\tlearn: 0.5524234\ttest: 0.5987526\tbest: 0.5946152 (145)\ttotal: 16s\tremaining: 3.98s\n",
      "900:\tlearn: 0.5481640\ttest: 0.5995572\tbest: 0.5946152 (145)\ttotal: 18s\tremaining: 1.98s\n",
      "999:\tlearn: 0.5443373\ttest: 0.6002577\tbest: 0.5946152 (145)\ttotal: 19.9s\tremaining: 0us\n",
      "\n",
      "bestTest = 0.5946151807\n",
      "bestIteration = 145\n",
      "\n",
      "Training on fold [2/3]\n",
      "0:\tlearn: 0.6755977\ttest: 0.6757182\tbest: 0.6757182 (0)\ttotal: 17.8ms\tremaining: 17.8s\n",
      "100:\tlearn: 0.5891154\ttest: 0.5950562\tbest: 0.5950546 (86)\ttotal: 1.97s\tremaining: 17.6s\n",
      "200:\tlearn: 0.5823097\ttest: 0.5950981\tbest: 0.5948678 (131)\ttotal: 3.91s\tremaining: 15.5s\n",
      "300:\tlearn: 0.5763367\ttest: 0.5955631\tbest: 0.5948678 (131)\ttotal: 5.8s\tremaining: 13.5s\n",
      "400:\tlearn: 0.5709164\ttest: 0.5963921\tbest: 0.5948678 (131)\ttotal: 7.69s\tremaining: 11.5s\n",
      "500:\tlearn: 0.5658164\ttest: 0.5971669\tbest: 0.5948678 (131)\ttotal: 9.58s\tremaining: 9.54s\n",
      "600:\tlearn: 0.5609058\ttest: 0.5977776\tbest: 0.5948678 (131)\ttotal: 11.5s\tremaining: 7.64s\n",
      "700:\tlearn: 0.5564221\ttest: 0.5985093\tbest: 0.5948678 (131)\ttotal: 13.4s\tremaining: 5.73s\n",
      "800:\tlearn: 0.5520580\ttest: 0.5991757\tbest: 0.5948678 (131)\ttotal: 15.4s\tremaining: 3.81s\n",
      "900:\tlearn: 0.5477106\ttest: 0.5999556\tbest: 0.5948678 (131)\ttotal: 17.3s\tremaining: 1.9s\n",
      "999:\tlearn: 0.5436854\ttest: 0.6002299\tbest: 0.5948678 (131)\ttotal: 19.3s\tremaining: 0us\n",
      "\n",
      "bestTest = 0.5948678113\n",
      "bestIteration = 131\n",
      "\n"
     ]
    }
   ],
   "source": [
    "model = CatBoostClassifier(random_state = 1049, verbose=100, )\n",
    "\n",
    "grid = {'learning_rate': [0.01, 0.1],\n",
    "        'depth': [4, 6, 10]}\n",
    "\n",
    "grid_search_result = model.grid_search(grid, \n",
    "                                       X=features_train, \n",
    "                                       y=target_train, \n",
    "                                       plot=True)"
   ]
  },
  {
   "cell_type": "code",
   "execution_count": 120,
   "id": "488e012a",
   "metadata": {},
   "outputs": [],
   "source": [
    "predictions_valid = model.predict(features_valid)"
   ]
  },
  {
   "cell_type": "code",
   "execution_count": 121,
   "id": "f0d61095",
   "metadata": {},
   "outputs": [],
   "source": [
    "predictions_valid_proba = model.predict_proba(features_valid)"
   ]
  },
  {
   "cell_type": "code",
   "execution_count": 122,
   "id": "0cc53111",
   "metadata": {},
   "outputs": [
    {
     "data": {
      "text/plain": [
       "array([[0.24929591, 0.75070409],\n",
       "       [0.36696305, 0.63303695],\n",
       "       [0.34011363, 0.65988637],\n",
       "       ...,\n",
       "       [0.30409647, 0.69590353],\n",
       "       [0.34144945, 0.65855055],\n",
       "       [0.49470192, 0.50529808]])"
      ]
     },
     "execution_count": 122,
     "metadata": {},
     "output_type": "execute_result"
    }
   ],
   "source": [
    "predictions_valid_proba"
   ]
  },
  {
   "cell_type": "code",
   "execution_count": 123,
   "id": "516d2ec7",
   "metadata": {},
   "outputs": [],
   "source": [
    "probabilities_one_valid = predictions_valid_proba[:, 1]"
   ]
  },
  {
   "cell_type": "code",
   "execution_count": 124,
   "id": "621db706",
   "metadata": {},
   "outputs": [
    {
     "name": "stdout",
     "output_type": "stream",
     "text": [
      "0.7010596739876028\n"
     ]
    }
   ],
   "source": [
    "auc_roc = roc_auc_score(target_valid, probabilities_one_valid)\n",
    "\n",
    "print(auc_roc)"
   ]
  },
  {
   "cell_type": "markdown",
   "id": "8797b451",
   "metadata": {},
   "source": [
    "ROC-AUC имеет значение 0.7 — далеко до желаемой единицы, но уже что-то"
   ]
  },
  {
   "cell_type": "markdown",
   "id": "271e8ecb",
   "metadata": {},
   "source": [
    "Попробуем увеличить гиперпараметр `learning_rate` и передадим в качестве функции потерь непосредственно AUC"
   ]
  },
  {
   "cell_type": "code",
   "execution_count": 125,
   "id": "252ec07a",
   "metadata": {},
   "outputs": [
    {
     "data": {
      "application/vnd.jupyter.widget-view+json": {
       "model_id": "e1943539348f4a04b60629b7bda1ef25",
       "version_major": 2,
       "version_minor": 0
      },
      "text/plain": [
       "MetricVisualizer(layout=Layout(align_self='stretch', height='500px'))"
      ]
     },
     "metadata": {},
     "output_type": "display_data"
    },
    {
     "name": "stdout",
     "output_type": "stream",
     "text": [
      "0:\ttest: 0.6853675\tbest: 0.6853675 (0)\ttotal: 16.9ms\tremaining: 3.36s\n",
      "100:\ttest: 0.7015105\tbest: 0.7015777 (71)\ttotal: 1.64s\tremaining: 1.61s\n",
      "199:\ttest: 0.7016576\tbest: 0.7016663 (196)\ttotal: 3.28s\tremaining: 0us\n",
      "\n",
      "bestTest = 0.7016663294\n",
      "bestIteration = 196\n",
      "\n",
      "Metric AUC is not calculated on train by default. To calculate this metric on train, add hints=skip_train~false to metric parameters.\n",
      "0:\tloss: 0.7016663\tbest: 0.7016663 (0)\ttotal: 3.58s\tremaining: 50.1s\n",
      "0:\ttest: 0.6853675\tbest: 0.6853675 (0)\ttotal: 15.9ms\tremaining: 3.17s\n",
      "100:\ttest: 0.7057241\tbest: 0.7057603 (99)\ttotal: 1.88s\tremaining: 1.84s\n",
      "199:\ttest: 0.7087662\tbest: 0.7087662 (199)\ttotal: 3.59s\tremaining: 0us\n",
      "\n",
      "bestTest = 0.7087662402\n",
      "bestIteration = 199\n",
      "\n",
      "Metric AUC is not calculated on train by default. To calculate this metric on train, add hints=skip_train~false to metric parameters.\n",
      "1:\tloss: 0.7087662\tbest: 0.7087662 (1)\ttotal: 7.19s\tremaining: 46.7s\n",
      "0:\ttest: 0.6853675\tbest: 0.6853675 (0)\ttotal: 18ms\tremaining: 3.58s\n",
      "100:\ttest: 0.7150444\tbest: 0.7150444 (100)\ttotal: 1.86s\tremaining: 1.83s\n",
      "199:\ttest: 0.7158406\tbest: 0.7158666 (197)\ttotal: 3.72s\tremaining: 0us\n",
      "\n",
      "bestTest = 0.7158665848\n",
      "bestIteration = 197\n",
      "\n",
      "Metric AUC is not calculated on train by default. To calculate this metric on train, add hints=skip_train~false to metric parameters.\n",
      "2:\tloss: 0.7158666\tbest: 0.7158666 (2)\ttotal: 10.9s\tremaining: 43.8s\n",
      "0:\ttest: 0.6952877\tbest: 0.6952877 (0)\ttotal: 23.8ms\tremaining: 4.73s\n",
      "100:\ttest: 0.7062570\tbest: 0.7064090 (42)\ttotal: 2.29s\tremaining: 2.24s\n",
      "199:\ttest: 0.7064212\tbest: 0.7064212 (199)\ttotal: 4.47s\tremaining: 0us\n",
      "\n",
      "bestTest = 0.7064212015\n",
      "bestIteration = 199\n",
      "\n",
      "Metric AUC is not calculated on train by default. To calculate this metric on train, add hints=skip_train~false to metric parameters.\n",
      "3:\tloss: 0.7064212\tbest: 0.7158666 (2)\ttotal: 15.4s\tremaining: 42.5s\n",
      "0:\ttest: 0.6952877\tbest: 0.6952877 (0)\ttotal: 30.6ms\tremaining: 6.08s\n",
      "100:\ttest: 0.7087477\tbest: 0.7087477 (100)\ttotal: 2.31s\tremaining: 2.26s\n",
      "199:\ttest: 0.7113854\tbest: 0.7113854 (199)\ttotal: 4.58s\tremaining: 0us\n",
      "\n",
      "bestTest = 0.7113853769\n",
      "bestIteration = 199\n",
      "\n",
      "Metric AUC is not calculated on train by default. To calculate this metric on train, add hints=skip_train~false to metric parameters.\n",
      "4:\tloss: 0.7113854\tbest: 0.7158666 (2)\ttotal: 20.1s\tremaining: 40.1s\n",
      "0:\ttest: 0.6952877\tbest: 0.6952877 (0)\ttotal: 23.7ms\tremaining: 4.72s\n",
      "100:\ttest: 0.7154545\tbest: 0.7154545 (100)\ttotal: 2.37s\tremaining: 2.32s\n",
      "199:\ttest: 0.7156670\tbest: 0.7158650 (152)\ttotal: 4.67s\tremaining: 0us\n",
      "\n",
      "bestTest = 0.7158650276\n",
      "bestIteration = 152\n",
      "\n",
      "Metric AUC is not calculated on train by default. To calculate this metric on train, add hints=skip_train~false to metric parameters.\n",
      "5:\tloss: 0.7158650\tbest: 0.7158666 (2)\ttotal: 24.8s\tremaining: 37.2s\n",
      "0:\ttest: 0.6992900\tbest: 0.6992900 (0)\ttotal: 70.3ms\tremaining: 14s\n",
      "100:\ttest: 0.7098263\tbest: 0.7098791 (86)\ttotal: 6.97s\tremaining: 6.83s\n",
      "199:\ttest: 0.7102531\tbest: 0.7102629 (198)\ttotal: 14s\tremaining: 0us\n",
      "\n",
      "bestTest = 0.7102628864\n",
      "bestIteration = 198\n",
      "\n",
      "Metric AUC is not calculated on train by default. To calculate this metric on train, add hints=skip_train~false to metric parameters.\n",
      "6:\tloss: 0.7102629\tbest: 0.7158666 (2)\ttotal: 38.8s\tremaining: 44.3s\n",
      "0:\ttest: 0.6992900\tbest: 0.6992900 (0)\ttotal: 66.6ms\tremaining: 13.3s\n",
      "100:\ttest: 0.7122925\tbest: 0.7122925 (100)\ttotal: 7.29s\tremaining: 7.14s\n",
      "199:\ttest: 0.7138189\tbest: 0.7138189 (199)\ttotal: 14s\tremaining: 0us\n",
      "\n",
      "bestTest = 0.7138188971\n",
      "bestIteration = 199\n",
      "\n",
      "Metric AUC is not calculated on train by default. To calculate this metric on train, add hints=skip_train~false to metric parameters.\n",
      "7:\tloss: 0.7138189\tbest: 0.7158666 (2)\ttotal: 52.8s\tremaining: 46.2s\n",
      "0:\ttest: 0.6992900\tbest: 0.6992900 (0)\ttotal: 68.8ms\tremaining: 13.7s\n",
      "100:\ttest: 0.7139806\tbest: 0.7146902 (52)\ttotal: 6.96s\tremaining: 6.82s\n",
      "199:\ttest: 0.7118321\tbest: 0.7146902 (52)\ttotal: 13.9s\tremaining: 0us\n",
      "\n",
      "bestTest = 0.7146901995\n",
      "bestIteration = 52\n",
      "\n",
      "Metric AUC is not calculated on train by default. To calculate this metric on train, add hints=skip_train~false to metric parameters.\n",
      "8:\tloss: 0.7146902\tbest: 0.7158666 (2)\ttotal: 1m 6s\tremaining: 44.5s\n",
      "Estimating final quality...\n",
      "Training on fold [0/3]\n",
      "0:\ttest: 0.6831362\tbest: 0.6831362 (0)\ttotal: 18.4ms\tremaining: 3.66s\n",
      "100:\ttest: 0.7141114\tbest: 0.7141114 (100)\ttotal: 1.74s\tremaining: 1.7s\n",
      "199:\ttest: 0.7149989\tbest: 0.7149989 (199)\ttotal: 3.53s\tremaining: 0us\n",
      "\n",
      "bestTest = 0.7149989195\n",
      "bestIteration = 199\n",
      "\n",
      "Training on fold [1/3]\n",
      "0:\ttest: 0.6881427\tbest: 0.6881427 (0)\ttotal: 17.5ms\tremaining: 3.47s\n",
      "100:\ttest: 0.7137302\tbest: 0.7137302 (100)\ttotal: 1.78s\tremaining: 1.75s\n",
      "199:\ttest: 0.7141637\tbest: 0.7142070 (187)\ttotal: 3.61s\tremaining: 0us\n",
      "\n",
      "bestTest = 0.7142069908\n",
      "bestIteration = 187\n",
      "\n",
      "Training on fold [2/3]\n",
      "0:\ttest: 0.6835982\tbest: 0.6835982 (0)\ttotal: 16.3ms\tremaining: 3.24s\n",
      "100:\ttest: 0.7125695\tbest: 0.7125695 (100)\ttotal: 1.71s\tremaining: 1.67s\n",
      "199:\ttest: 0.7133042\tbest: 0.7133062 (198)\ttotal: 3.42s\tremaining: 0us\n",
      "\n",
      "bestTest = 0.7133062003\n",
      "bestIteration = 198\n",
      "\n"
     ]
    }
   ],
   "source": [
    "model = CatBoostClassifier(random_state = 1049, verbose=100, eval_metric='AUC', iterations=200 )\n",
    "\n",
    "grid = {'learning_rate': [0.001, 0.01, 0.1],\n",
    "        'depth': [4, 6, 10, 20, 100]}\n",
    "\n",
    "grid_search_result = model.grid_search(grid, \n",
    "                                       X=features_train, \n",
    "                                       y=target_train, \n",
    "                                       plot=True)"
   ]
  },
  {
   "cell_type": "code",
   "execution_count": 126,
   "id": "7e9e0260",
   "metadata": {},
   "outputs": [
    {
     "name": "stdout",
     "output_type": "stream",
     "text": [
      "0.7053278595934422\n"
     ]
    }
   ],
   "source": [
    "predictions_valid_proba = model.predict_proba(features_valid)\n",
    "probabilities_one_valid = predictions_valid_proba[:, 1]\n",
    "auc_roc = roc_auc_score(target_valid, probabilities_one_valid)\n",
    "\n",
    "print(auc_roc)"
   ]
  },
  {
   "cell_type": "markdown",
   "id": "98f415d3",
   "metadata": {},
   "source": [
    "Незначительно улучшение параметра достугнуто."
   ]
  },
  {
   "cell_type": "markdown",
   "id": "1d648d77",
   "metadata": {},
   "source": [
    "### Преобразование тестового датасета"
   ]
  },
  {
   "cell_type": "markdown",
   "id": "699b64e9",
   "metadata": {},
   "source": [
    "Перед загрузкой тестового датасета очистим память от лишних переменных."
   ]
  },
  {
   "cell_type": "code",
   "execution_count": 127,
   "id": "ab1ef1ef",
   "metadata": {},
   "outputs": [],
   "source": [
    "train_data.to_csv('my_train_data.csv')"
   ]
  },
  {
   "cell_type": "code",
   "execution_count": 128,
   "id": "e93bd3dd",
   "metadata": {},
   "outputs": [],
   "source": [
    "del train_data\n",
    "del train_purchases"
   ]
  },
  {
   "cell_type": "code",
   "execution_count": 129,
   "id": "707dd222",
   "metadata": {},
   "outputs": [
    {
     "data": {
      "text/html": [
       "<div>\n",
       "<style scoped>\n",
       "    .dataframe tbody tr th:only-of-type {\n",
       "        vertical-align: middle;\n",
       "    }\n",
       "\n",
       "    .dataframe tbody tr th {\n",
       "        vertical-align: top;\n",
       "    }\n",
       "\n",
       "    .dataframe thead th {\n",
       "        text-align: right;\n",
       "    }\n",
       "</style>\n",
       "<table border=\"1\" class=\"dataframe\">\n",
       "  <thead>\n",
       "    <tr style=\"text-align: right;\">\n",
       "      <th></th>\n",
       "      <th>client_id</th>\n",
       "    </tr>\n",
       "  </thead>\n",
       "  <tbody>\n",
       "    <tr>\n",
       "      <th>0</th>\n",
       "      <td>a9a604ed6e</td>\n",
       "    </tr>\n",
       "    <tr>\n",
       "      <th>1</th>\n",
       "      <td>ebd7360016</td>\n",
       "    </tr>\n",
       "    <tr>\n",
       "      <th>2</th>\n",
       "      <td>908cd9b8e8</td>\n",
       "    </tr>\n",
       "    <tr>\n",
       "      <th>3</th>\n",
       "      <td>dceb8ce861</td>\n",
       "    </tr>\n",
       "    <tr>\n",
       "      <th>4</th>\n",
       "      <td>f4f0ac6b06</td>\n",
       "    </tr>\n",
       "    <tr>\n",
       "      <th>...</th>\n",
       "      <td>...</td>\n",
       "    </tr>\n",
       "    <tr>\n",
       "      <th>60007</th>\n",
       "      <td>4762fb04c5</td>\n",
       "    </tr>\n",
       "    <tr>\n",
       "      <th>60008</th>\n",
       "      <td>533d1516e7</td>\n",
       "    </tr>\n",
       "    <tr>\n",
       "      <th>60009</th>\n",
       "      <td>c93b21a707</td>\n",
       "    </tr>\n",
       "    <tr>\n",
       "      <th>60010</th>\n",
       "      <td>3fe0668de5</td>\n",
       "    </tr>\n",
       "    <tr>\n",
       "      <th>60011</th>\n",
       "      <td>8d1ea24f5e</td>\n",
       "    </tr>\n",
       "  </tbody>\n",
       "</table>\n",
       "<p>60012 rows × 1 columns</p>\n",
       "</div>"
      ],
      "text/plain": [
       "        client_id\n",
       "0      a9a604ed6e\n",
       "1      ebd7360016\n",
       "2      908cd9b8e8\n",
       "3      dceb8ce861\n",
       "4      f4f0ac6b06\n",
       "...           ...\n",
       "60007  4762fb04c5\n",
       "60008  533d1516e7\n",
       "60009  c93b21a707\n",
       "60010  3fe0668de5\n",
       "60011  8d1ea24f5e\n",
       "\n",
       "[60012 rows x 1 columns]"
      ]
     },
     "execution_count": 129,
     "metadata": {},
     "output_type": "execute_result"
    }
   ],
   "source": [
    "test_data"
   ]
  },
  {
   "cell_type": "markdown",
   "id": "e32d227f",
   "metadata": {},
   "source": [
    "Как и ожидалось, в тесте — только id клиентов — сюда и надо будет наростить фитчи."
   ]
  },
  {
   "cell_type": "code",
   "execution_count": 130,
   "id": "ed113de8",
   "metadata": {},
   "outputs": [],
   "source": [
    "test_purchases = pd.read_csv('test_purch.csv')"
   ]
  },
  {
   "cell_type": "code",
   "execution_count": 131,
   "id": "b5e082b1",
   "metadata": {
    "scrolled": true
   },
   "outputs": [
    {
     "name": "stdout",
     "output_type": "stream",
     "text": [
      "<class 'pandas.core.frame.DataFrame'>\n",
      "RangeIndex: 6883738 entries, 0 to 6883737\n",
      "Data columns (total 13 columns):\n",
      " #   Column                   Dtype  \n",
      "---  ------                   -----  \n",
      " 0   client_id                object \n",
      " 1   transaction_id           object \n",
      " 2   transaction_datetime     object \n",
      " 3   regular_points_received  float64\n",
      " 4   express_points_received  float64\n",
      " 5   regular_points_spent     float64\n",
      " 6   express_points_spent     float64\n",
      " 7   purchase_sum             float64\n",
      " 8   store_id                 object \n",
      " 9   product_id               object \n",
      " 10  product_quantity         float64\n",
      " 11  trn_sum_from_iss         float64\n",
      " 12  trn_sum_from_red         float64\n",
      "dtypes: float64(8), object(5)\n",
      "memory usage: 682.7+ MB\n"
     ]
    }
   ],
   "source": [
    "test_purchases.info()"
   ]
  },
  {
   "cell_type": "markdown",
   "id": "f5a46250",
   "metadata": {},
   "source": [
    "#### Добавляем время владения картой, пол и возвраст присоединяя clients"
   ]
  },
  {
   "cell_type": "code",
   "execution_count": 132,
   "id": "d21a9eaa",
   "metadata": {},
   "outputs": [],
   "source": [
    "test_data = pd.merge(test_data, clients, how='left', on=['client_id'])"
   ]
  },
  {
   "cell_type": "code",
   "execution_count": 133,
   "id": "32c90897",
   "metadata": {},
   "outputs": [
    {
     "data": {
      "text/html": [
       "<div>\n",
       "<style scoped>\n",
       "    .dataframe tbody tr th:only-of-type {\n",
       "        vertical-align: middle;\n",
       "    }\n",
       "\n",
       "    .dataframe tbody tr th {\n",
       "        vertical-align: top;\n",
       "    }\n",
       "\n",
       "    .dataframe thead th {\n",
       "        text-align: right;\n",
       "    }\n",
       "</style>\n",
       "<table border=\"1\" class=\"dataframe\">\n",
       "  <thead>\n",
       "    <tr style=\"text-align: right;\">\n",
       "      <th></th>\n",
       "      <th>client_id</th>\n",
       "      <th>first_issue_date</th>\n",
       "      <th>first_redeem_date</th>\n",
       "      <th>age</th>\n",
       "      <th>gender</th>\n",
       "    </tr>\n",
       "  </thead>\n",
       "  <tbody>\n",
       "    <tr>\n",
       "      <th>0</th>\n",
       "      <td>a9a604ed6e</td>\n",
       "      <td>2018-09-13 17:36:41</td>\n",
       "      <td>NaN</td>\n",
       "      <td>36.0</td>\n",
       "      <td>F</td>\n",
       "    </tr>\n",
       "    <tr>\n",
       "      <th>1</th>\n",
       "      <td>ebd7360016</td>\n",
       "      <td>2017-07-03 17:12:12</td>\n",
       "      <td>2017-09-01 16:15:12</td>\n",
       "      <td>63.0</td>\n",
       "      <td>F</td>\n",
       "    </tr>\n",
       "    <tr>\n",
       "      <th>2</th>\n",
       "      <td>908cd9b8e8</td>\n",
       "      <td>2018-03-30 17:01:20</td>\n",
       "      <td>2018-07-13 17:05:52</td>\n",
       "      <td>49.0</td>\n",
       "      <td>F</td>\n",
       "    </tr>\n",
       "    <tr>\n",
       "      <th>3</th>\n",
       "      <td>dceb8ce861</td>\n",
       "      <td>2017-10-06 17:06:42</td>\n",
       "      <td>2018-08-11 18:43:58</td>\n",
       "      <td>46.0</td>\n",
       "      <td>U</td>\n",
       "    </tr>\n",
       "    <tr>\n",
       "      <th>4</th>\n",
       "      <td>f4f0ac6b06</td>\n",
       "      <td>NaN</td>\n",
       "      <td>NaN</td>\n",
       "      <td>NaN</td>\n",
       "      <td>NaN</td>\n",
       "    </tr>\n",
       "    <tr>\n",
       "      <th>...</th>\n",
       "      <td>...</td>\n",
       "      <td>...</td>\n",
       "      <td>...</td>\n",
       "      <td>...</td>\n",
       "      <td>...</td>\n",
       "    </tr>\n",
       "    <tr>\n",
       "      <th>60007</th>\n",
       "      <td>4762fb04c5</td>\n",
       "      <td>2018-05-31 16:03:28</td>\n",
       "      <td>2018-12-26 14:03:30</td>\n",
       "      <td>26.0</td>\n",
       "      <td>M</td>\n",
       "    </tr>\n",
       "    <tr>\n",
       "      <th>60008</th>\n",
       "      <td>533d1516e7</td>\n",
       "      <td>2017-09-29 08:27:16</td>\n",
       "      <td>2018-01-07 17:36:31</td>\n",
       "      <td>37.0</td>\n",
       "      <td>M</td>\n",
       "    </tr>\n",
       "    <tr>\n",
       "      <th>60009</th>\n",
       "      <td>c93b21a707</td>\n",
       "      <td>2018-10-03 21:02:26</td>\n",
       "      <td>2019-03-30 17:40:42</td>\n",
       "      <td>42.0</td>\n",
       "      <td>U</td>\n",
       "    </tr>\n",
       "    <tr>\n",
       "      <th>60010</th>\n",
       "      <td>3fe0668de5</td>\n",
       "      <td>2018-12-25 18:27:14</td>\n",
       "      <td>2019-02-02 10:30:53</td>\n",
       "      <td>33.0</td>\n",
       "      <td>U</td>\n",
       "    </tr>\n",
       "    <tr>\n",
       "      <th>60011</th>\n",
       "      <td>8d1ea24f5e</td>\n",
       "      <td>2017-06-01 15:16:54</td>\n",
       "      <td>2019-03-13 12:52:47</td>\n",
       "      <td>32.0</td>\n",
       "      <td>F</td>\n",
       "    </tr>\n",
       "  </tbody>\n",
       "</table>\n",
       "<p>60012 rows × 5 columns</p>\n",
       "</div>"
      ],
      "text/plain": [
       "        client_id     first_issue_date    first_redeem_date   age gender\n",
       "0      a9a604ed6e  2018-09-13 17:36:41                  NaN  36.0      F\n",
       "1      ebd7360016  2017-07-03 17:12:12  2017-09-01 16:15:12  63.0      F\n",
       "2      908cd9b8e8  2018-03-30 17:01:20  2018-07-13 17:05:52  49.0      F\n",
       "3      dceb8ce861  2017-10-06 17:06:42  2018-08-11 18:43:58  46.0      U\n",
       "4      f4f0ac6b06                  NaN                  NaN   NaN    NaN\n",
       "...           ...                  ...                  ...   ...    ...\n",
       "60007  4762fb04c5  2018-05-31 16:03:28  2018-12-26 14:03:30  26.0      M\n",
       "60008  533d1516e7  2017-09-29 08:27:16  2018-01-07 17:36:31  37.0      M\n",
       "60009  c93b21a707  2018-10-03 21:02:26  2019-03-30 17:40:42  42.0      U\n",
       "60010  3fe0668de5  2018-12-25 18:27:14  2019-02-02 10:30:53  33.0      U\n",
       "60011  8d1ea24f5e  2017-06-01 15:16:54  2019-03-13 12:52:47  32.0      F\n",
       "\n",
       "[60012 rows x 5 columns]"
      ]
     },
     "execution_count": 133,
     "metadata": {},
     "output_type": "execute_result"
    }
   ],
   "source": [
    "test_data"
   ]
  },
  {
   "cell_type": "markdown",
   "id": "d0252964",
   "metadata": {},
   "source": [
    "Заметим что есть Nan значения — их надо будет заполнить"
   ]
  },
  {
   "cell_type": "markdown",
   "id": "b0ffebf9",
   "metadata": {},
   "source": [
    "#### Покупка самого популярного товара для теста"
   ]
  },
  {
   "cell_type": "code",
   "execution_count": 134,
   "id": "7be42006",
   "metadata": {},
   "outputs": [],
   "source": [
    "test_purchases['transaction_datetime'] = pd.to_datetime(test_purchases['transaction_datetime'], format='%Y-%m-%d %H:%M:%S')"
   ]
  },
  {
   "cell_type": "code",
   "execution_count": 135,
   "id": "2791bdd1",
   "metadata": {},
   "outputs": [],
   "source": [
    "test_purchases = pd.merge(test_purchases, products[['product_id','is_own_trademark']], how=\"left\", on=[\"product_id\"])"
   ]
  },
  {
   "cell_type": "markdown",
   "id": "3c50aa04",
   "metadata": {},
   "source": [
    "Переопределим список для теста"
   ]
  },
  {
   "cell_type": "code",
   "execution_count": 136,
   "id": "2e8afad3",
   "metadata": {},
   "outputs": [],
   "source": [
    "list_of_clients_buying_most_popular = test_purchases[test_purchases['product_id']=='4009f09b04']['client_id'].unique()"
   ]
  },
  {
   "cell_type": "code",
   "execution_count": 137,
   "id": "bd118983",
   "metadata": {},
   "outputs": [],
   "source": [
    "test_data['buys_most_popular'] = test_data.apply(fill_buy_most_popular, axis=1)"
   ]
  },
  {
   "cell_type": "code",
   "execution_count": 138,
   "id": "3194005e",
   "metadata": {},
   "outputs": [
    {
     "data": {
      "text/html": [
       "<div>\n",
       "<style scoped>\n",
       "    .dataframe tbody tr th:only-of-type {\n",
       "        vertical-align: middle;\n",
       "    }\n",
       "\n",
       "    .dataframe tbody tr th {\n",
       "        vertical-align: top;\n",
       "    }\n",
       "\n",
       "    .dataframe thead th {\n",
       "        text-align: right;\n",
       "    }\n",
       "</style>\n",
       "<table border=\"1\" class=\"dataframe\">\n",
       "  <thead>\n",
       "    <tr style=\"text-align: right;\">\n",
       "      <th></th>\n",
       "      <th>client_id</th>\n",
       "      <th>first_issue_date</th>\n",
       "      <th>first_redeem_date</th>\n",
       "      <th>age</th>\n",
       "      <th>gender</th>\n",
       "      <th>buys_most_popular</th>\n",
       "    </tr>\n",
       "  </thead>\n",
       "  <tbody>\n",
       "    <tr>\n",
       "      <th>0</th>\n",
       "      <td>a9a604ed6e</td>\n",
       "      <td>2018-09-13 17:36:41</td>\n",
       "      <td>NaN</td>\n",
       "      <td>36.0</td>\n",
       "      <td>F</td>\n",
       "      <td>1</td>\n",
       "    </tr>\n",
       "    <tr>\n",
       "      <th>2</th>\n",
       "      <td>908cd9b8e8</td>\n",
       "      <td>2018-03-30 17:01:20</td>\n",
       "      <td>2018-07-13 17:05:52</td>\n",
       "      <td>49.0</td>\n",
       "      <td>F</td>\n",
       "      <td>1</td>\n",
       "    </tr>\n",
       "    <tr>\n",
       "      <th>4</th>\n",
       "      <td>f4f0ac6b06</td>\n",
       "      <td>NaN</td>\n",
       "      <td>NaN</td>\n",
       "      <td>NaN</td>\n",
       "      <td>NaN</td>\n",
       "      <td>1</td>\n",
       "    </tr>\n",
       "    <tr>\n",
       "      <th>6</th>\n",
       "      <td>e3574a0076</td>\n",
       "      <td>2017-08-11 15:20:53</td>\n",
       "      <td>2017-11-01 16:14:29</td>\n",
       "      <td>32.0</td>\n",
       "      <td>F</td>\n",
       "      <td>1</td>\n",
       "    </tr>\n",
       "    <tr>\n",
       "      <th>7</th>\n",
       "      <td>4789764e7d</td>\n",
       "      <td>2017-07-11 14:56:26</td>\n",
       "      <td>2017-12-30 17:56:58</td>\n",
       "      <td>54.0</td>\n",
       "      <td>U</td>\n",
       "      <td>1</td>\n",
       "    </tr>\n",
       "    <tr>\n",
       "      <th>...</th>\n",
       "      <td>...</td>\n",
       "      <td>...</td>\n",
       "      <td>...</td>\n",
       "      <td>...</td>\n",
       "      <td>...</td>\n",
       "      <td>...</td>\n",
       "    </tr>\n",
       "    <tr>\n",
       "      <th>60007</th>\n",
       "      <td>4762fb04c5</td>\n",
       "      <td>2018-05-31 16:03:28</td>\n",
       "      <td>2018-12-26 14:03:30</td>\n",
       "      <td>26.0</td>\n",
       "      <td>M</td>\n",
       "      <td>1</td>\n",
       "    </tr>\n",
       "    <tr>\n",
       "      <th>60008</th>\n",
       "      <td>533d1516e7</td>\n",
       "      <td>2017-09-29 08:27:16</td>\n",
       "      <td>2018-01-07 17:36:31</td>\n",
       "      <td>37.0</td>\n",
       "      <td>M</td>\n",
       "      <td>1</td>\n",
       "    </tr>\n",
       "    <tr>\n",
       "      <th>60009</th>\n",
       "      <td>c93b21a707</td>\n",
       "      <td>2018-10-03 21:02:26</td>\n",
       "      <td>2019-03-30 17:40:42</td>\n",
       "      <td>42.0</td>\n",
       "      <td>U</td>\n",
       "      <td>1</td>\n",
       "    </tr>\n",
       "    <tr>\n",
       "      <th>60010</th>\n",
       "      <td>3fe0668de5</td>\n",
       "      <td>2018-12-25 18:27:14</td>\n",
       "      <td>2019-02-02 10:30:53</td>\n",
       "      <td>33.0</td>\n",
       "      <td>U</td>\n",
       "      <td>1</td>\n",
       "    </tr>\n",
       "    <tr>\n",
       "      <th>60011</th>\n",
       "      <td>8d1ea24f5e</td>\n",
       "      <td>2017-06-01 15:16:54</td>\n",
       "      <td>2019-03-13 12:52:47</td>\n",
       "      <td>32.0</td>\n",
       "      <td>F</td>\n",
       "      <td>1</td>\n",
       "    </tr>\n",
       "  </tbody>\n",
       "</table>\n",
       "<p>41316 rows × 6 columns</p>\n",
       "</div>"
      ],
      "text/plain": [
       "        client_id     first_issue_date    first_redeem_date   age gender  \\\n",
       "0      a9a604ed6e  2018-09-13 17:36:41                  NaN  36.0      F   \n",
       "2      908cd9b8e8  2018-03-30 17:01:20  2018-07-13 17:05:52  49.0      F   \n",
       "4      f4f0ac6b06                  NaN                  NaN   NaN    NaN   \n",
       "6      e3574a0076  2017-08-11 15:20:53  2017-11-01 16:14:29  32.0      F   \n",
       "7      4789764e7d  2017-07-11 14:56:26  2017-12-30 17:56:58  54.0      U   \n",
       "...           ...                  ...                  ...   ...    ...   \n",
       "60007  4762fb04c5  2018-05-31 16:03:28  2018-12-26 14:03:30  26.0      M   \n",
       "60008  533d1516e7  2017-09-29 08:27:16  2018-01-07 17:36:31  37.0      M   \n",
       "60009  c93b21a707  2018-10-03 21:02:26  2019-03-30 17:40:42  42.0      U   \n",
       "60010  3fe0668de5  2018-12-25 18:27:14  2019-02-02 10:30:53  33.0      U   \n",
       "60011  8d1ea24f5e  2017-06-01 15:16:54  2019-03-13 12:52:47  32.0      F   \n",
       "\n",
       "       buys_most_popular  \n",
       "0                      1  \n",
       "2                      1  \n",
       "4                      1  \n",
       "6                      1  \n",
       "7                      1  \n",
       "...                  ...  \n",
       "60007                  1  \n",
       "60008                  1  \n",
       "60009                  1  \n",
       "60010                  1  \n",
       "60011                  1  \n",
       "\n",
       "[41316 rows x 6 columns]"
      ]
     },
     "execution_count": 138,
     "metadata": {},
     "output_type": "execute_result"
    }
   ],
   "source": [
    "test_data[test_data['buys_most_popular']==1]"
   ]
  },
  {
   "cell_type": "markdown",
   "id": "31cb3b72",
   "metadata": {},
   "source": [
    "41 316 клиентов трейне покупают самый популярный товар."
   ]
  },
  {
   "cell_type": "markdown",
   "id": "26cb728a",
   "metadata": {},
   "source": [
    "#### Срок владения картой для трейна"
   ]
  },
  {
   "cell_type": "code",
   "execution_count": 139,
   "id": "60a7bfa2",
   "metadata": {},
   "outputs": [],
   "source": [
    "test_data['first_issue_date'] = test_data['first_issue_date'].fillna(0)"
   ]
  },
  {
   "cell_type": "code",
   "execution_count": 140,
   "id": "9a086892",
   "metadata": {},
   "outputs": [],
   "source": [
    "test_data['first_redeem_date'] = test_data['first_redeem_date'].fillna(0)"
   ]
  },
  {
   "cell_type": "code",
   "execution_count": 141,
   "id": "aeb8d5e8",
   "metadata": {},
   "outputs": [],
   "source": [
    "test_data['current_date'] = pd.Timestamp('2019-03-18')"
   ]
  },
  {
   "cell_type": "code",
   "execution_count": 142,
   "id": "3827cca6",
   "metadata": {
    "scrolled": true
   },
   "outputs": [],
   "source": [
    "test_data['first_issue_date'] = pd.to_datetime(test_data['first_issue_date'], format='%Y-%m-%d %H:%M:%S')"
   ]
  },
  {
   "cell_type": "code",
   "execution_count": 143,
   "id": "25ac5042",
   "metadata": {},
   "outputs": [],
   "source": [
    "test_data['first_redeem_date'] = pd.to_datetime(test_data['first_redeem_date'], format='%Y-%m-%d %H:%M:%S')"
   ]
  },
  {
   "cell_type": "code",
   "execution_count": 144,
   "id": "9b7dbb53",
   "metadata": {},
   "outputs": [],
   "source": [
    "test_data['tenure'] = test_data['current_date'] - test_data['first_issue_date']"
   ]
  },
  {
   "cell_type": "code",
   "execution_count": 145,
   "id": "2a024ef5",
   "metadata": {},
   "outputs": [],
   "source": [
    "test_data['tenure'] = test_data['tenure'].dt.days.astype('int16')"
   ]
  },
  {
   "cell_type": "code",
   "execution_count": 146,
   "id": "b78f93a6",
   "metadata": {
    "scrolled": true
   },
   "outputs": [
    {
     "data": {
      "text/html": [
       "<div>\n",
       "<style scoped>\n",
       "    .dataframe tbody tr th:only-of-type {\n",
       "        vertical-align: middle;\n",
       "    }\n",
       "\n",
       "    .dataframe tbody tr th {\n",
       "        vertical-align: top;\n",
       "    }\n",
       "\n",
       "    .dataframe thead th {\n",
       "        text-align: right;\n",
       "    }\n",
       "</style>\n",
       "<table border=\"1\" class=\"dataframe\">\n",
       "  <thead>\n",
       "    <tr style=\"text-align: right;\">\n",
       "      <th></th>\n",
       "      <th>client_id</th>\n",
       "      <th>first_issue_date</th>\n",
       "      <th>first_redeem_date</th>\n",
       "      <th>age</th>\n",
       "      <th>gender</th>\n",
       "      <th>buys_most_popular</th>\n",
       "      <th>current_date</th>\n",
       "      <th>tenure</th>\n",
       "    </tr>\n",
       "  </thead>\n",
       "  <tbody>\n",
       "    <tr>\n",
       "      <th>0</th>\n",
       "      <td>a9a604ed6e</td>\n",
       "      <td>2018-09-13 17:36:41</td>\n",
       "      <td>1970-01-01 00:00:00</td>\n",
       "      <td>36.0</td>\n",
       "      <td>F</td>\n",
       "      <td>1</td>\n",
       "      <td>2019-03-18</td>\n",
       "      <td>185</td>\n",
       "    </tr>\n",
       "    <tr>\n",
       "      <th>1</th>\n",
       "      <td>ebd7360016</td>\n",
       "      <td>2017-07-03 17:12:12</td>\n",
       "      <td>2017-09-01 16:15:12</td>\n",
       "      <td>63.0</td>\n",
       "      <td>F</td>\n",
       "      <td>0</td>\n",
       "      <td>2019-03-18</td>\n",
       "      <td>622</td>\n",
       "    </tr>\n",
       "    <tr>\n",
       "      <th>2</th>\n",
       "      <td>908cd9b8e8</td>\n",
       "      <td>2018-03-30 17:01:20</td>\n",
       "      <td>2018-07-13 17:05:52</td>\n",
       "      <td>49.0</td>\n",
       "      <td>F</td>\n",
       "      <td>1</td>\n",
       "      <td>2019-03-18</td>\n",
       "      <td>352</td>\n",
       "    </tr>\n",
       "    <tr>\n",
       "      <th>3</th>\n",
       "      <td>dceb8ce861</td>\n",
       "      <td>2017-10-06 17:06:42</td>\n",
       "      <td>2018-08-11 18:43:58</td>\n",
       "      <td>46.0</td>\n",
       "      <td>U</td>\n",
       "      <td>0</td>\n",
       "      <td>2019-03-18</td>\n",
       "      <td>527</td>\n",
       "    </tr>\n",
       "    <tr>\n",
       "      <th>4</th>\n",
       "      <td>f4f0ac6b06</td>\n",
       "      <td>1970-01-01 00:00:00</td>\n",
       "      <td>1970-01-01 00:00:00</td>\n",
       "      <td>NaN</td>\n",
       "      <td>NaN</td>\n",
       "      <td>1</td>\n",
       "      <td>2019-03-18</td>\n",
       "      <td>17973</td>\n",
       "    </tr>\n",
       "    <tr>\n",
       "      <th>...</th>\n",
       "      <td>...</td>\n",
       "      <td>...</td>\n",
       "      <td>...</td>\n",
       "      <td>...</td>\n",
       "      <td>...</td>\n",
       "      <td>...</td>\n",
       "      <td>...</td>\n",
       "      <td>...</td>\n",
       "    </tr>\n",
       "    <tr>\n",
       "      <th>60007</th>\n",
       "      <td>4762fb04c5</td>\n",
       "      <td>2018-05-31 16:03:28</td>\n",
       "      <td>2018-12-26 14:03:30</td>\n",
       "      <td>26.0</td>\n",
       "      <td>M</td>\n",
       "      <td>1</td>\n",
       "      <td>2019-03-18</td>\n",
       "      <td>290</td>\n",
       "    </tr>\n",
       "    <tr>\n",
       "      <th>60008</th>\n",
       "      <td>533d1516e7</td>\n",
       "      <td>2017-09-29 08:27:16</td>\n",
       "      <td>2018-01-07 17:36:31</td>\n",
       "      <td>37.0</td>\n",
       "      <td>M</td>\n",
       "      <td>1</td>\n",
       "      <td>2019-03-18</td>\n",
       "      <td>534</td>\n",
       "    </tr>\n",
       "    <tr>\n",
       "      <th>60009</th>\n",
       "      <td>c93b21a707</td>\n",
       "      <td>2018-10-03 21:02:26</td>\n",
       "      <td>2019-03-30 17:40:42</td>\n",
       "      <td>42.0</td>\n",
       "      <td>U</td>\n",
       "      <td>1</td>\n",
       "      <td>2019-03-18</td>\n",
       "      <td>165</td>\n",
       "    </tr>\n",
       "    <tr>\n",
       "      <th>60010</th>\n",
       "      <td>3fe0668de5</td>\n",
       "      <td>2018-12-25 18:27:14</td>\n",
       "      <td>2019-02-02 10:30:53</td>\n",
       "      <td>33.0</td>\n",
       "      <td>U</td>\n",
       "      <td>1</td>\n",
       "      <td>2019-03-18</td>\n",
       "      <td>82</td>\n",
       "    </tr>\n",
       "    <tr>\n",
       "      <th>60011</th>\n",
       "      <td>8d1ea24f5e</td>\n",
       "      <td>2017-06-01 15:16:54</td>\n",
       "      <td>2019-03-13 12:52:47</td>\n",
       "      <td>32.0</td>\n",
       "      <td>F</td>\n",
       "      <td>1</td>\n",
       "      <td>2019-03-18</td>\n",
       "      <td>654</td>\n",
       "    </tr>\n",
       "  </tbody>\n",
       "</table>\n",
       "<p>60012 rows × 8 columns</p>\n",
       "</div>"
      ],
      "text/plain": [
       "        client_id    first_issue_date   first_redeem_date   age gender  \\\n",
       "0      a9a604ed6e 2018-09-13 17:36:41 1970-01-01 00:00:00  36.0      F   \n",
       "1      ebd7360016 2017-07-03 17:12:12 2017-09-01 16:15:12  63.0      F   \n",
       "2      908cd9b8e8 2018-03-30 17:01:20 2018-07-13 17:05:52  49.0      F   \n",
       "3      dceb8ce861 2017-10-06 17:06:42 2018-08-11 18:43:58  46.0      U   \n",
       "4      f4f0ac6b06 1970-01-01 00:00:00 1970-01-01 00:00:00   NaN    NaN   \n",
       "...           ...                 ...                 ...   ...    ...   \n",
       "60007  4762fb04c5 2018-05-31 16:03:28 2018-12-26 14:03:30  26.0      M   \n",
       "60008  533d1516e7 2017-09-29 08:27:16 2018-01-07 17:36:31  37.0      M   \n",
       "60009  c93b21a707 2018-10-03 21:02:26 2019-03-30 17:40:42  42.0      U   \n",
       "60010  3fe0668de5 2018-12-25 18:27:14 2019-02-02 10:30:53  33.0      U   \n",
       "60011  8d1ea24f5e 2017-06-01 15:16:54 2019-03-13 12:52:47  32.0      F   \n",
       "\n",
       "       buys_most_popular current_date  tenure  \n",
       "0                      1   2019-03-18     185  \n",
       "1                      0   2019-03-18     622  \n",
       "2                      1   2019-03-18     352  \n",
       "3                      0   2019-03-18     527  \n",
       "4                      1   2019-03-18   17973  \n",
       "...                  ...          ...     ...  \n",
       "60007                  1   2019-03-18     290  \n",
       "60008                  1   2019-03-18     534  \n",
       "60009                  1   2019-03-18     165  \n",
       "60010                  1   2019-03-18      82  \n",
       "60011                  1   2019-03-18     654  \n",
       "\n",
       "[60012 rows x 8 columns]"
      ]
     },
     "execution_count": 146,
     "metadata": {},
     "output_type": "execute_result"
    }
   ],
   "source": [
    "test_data"
   ]
  },
  {
   "cell_type": "markdown",
   "id": "97f0e256",
   "metadata": {},
   "source": [
    "#### Покупка СТМ"
   ]
  },
  {
   "cell_type": "code",
   "execution_count": 147,
   "id": "49bca31e",
   "metadata": {},
   "outputs": [],
   "source": [
    "test_purchases_temp = test_purchases[['client_id','product_id','is_own_trademark']]"
   ]
  },
  {
   "cell_type": "code",
   "execution_count": 148,
   "id": "65cbe211",
   "metadata": {},
   "outputs": [],
   "source": [
    "test_purchases_temp = test_purchases_temp[test_purchases_temp['is_own_trademark'] == 1] \\\n",
    "                                        .drop(columns=['product_id']).drop_duplicates()"
   ]
  },
  {
   "cell_type": "code",
   "execution_count": 149,
   "id": "e63ce58f",
   "metadata": {},
   "outputs": [],
   "source": [
    "test_data = pd.merge(test_data, test_purchases_temp[['client_id','is_own_trademark']], how=\"left\", on=[\"client_id\"]).fillna(0)"
   ]
  },
  {
   "cell_type": "code",
   "execution_count": 150,
   "id": "d84e86f2",
   "metadata": {},
   "outputs": [],
   "source": [
    "test_data = test_data.rename(columns={'is_own_trademark':'buying_own_trademark'})"
   ]
  },
  {
   "cell_type": "code",
   "execution_count": 151,
   "id": "f1c67262",
   "metadata": {},
   "outputs": [
    {
     "data": {
      "text/html": [
       "<div>\n",
       "<style scoped>\n",
       "    .dataframe tbody tr th:only-of-type {\n",
       "        vertical-align: middle;\n",
       "    }\n",
       "\n",
       "    .dataframe tbody tr th {\n",
       "        vertical-align: top;\n",
       "    }\n",
       "\n",
       "    .dataframe thead th {\n",
       "        text-align: right;\n",
       "    }\n",
       "</style>\n",
       "<table border=\"1\" class=\"dataframe\">\n",
       "  <thead>\n",
       "    <tr style=\"text-align: right;\">\n",
       "      <th></th>\n",
       "      <th>client_id</th>\n",
       "      <th>first_issue_date</th>\n",
       "      <th>first_redeem_date</th>\n",
       "      <th>age</th>\n",
       "      <th>gender</th>\n",
       "      <th>buys_most_popular</th>\n",
       "      <th>current_date</th>\n",
       "      <th>tenure</th>\n",
       "      <th>buying_own_trademark</th>\n",
       "    </tr>\n",
       "  </thead>\n",
       "  <tbody>\n",
       "    <tr>\n",
       "      <th>0</th>\n",
       "      <td>a9a604ed6e</td>\n",
       "      <td>2018-09-13 17:36:41</td>\n",
       "      <td>1970-01-01 00:00:00</td>\n",
       "      <td>36.0</td>\n",
       "      <td>F</td>\n",
       "      <td>1</td>\n",
       "      <td>2019-03-18</td>\n",
       "      <td>185</td>\n",
       "      <td>1.0</td>\n",
       "    </tr>\n",
       "    <tr>\n",
       "      <th>1</th>\n",
       "      <td>ebd7360016</td>\n",
       "      <td>2017-07-03 17:12:12</td>\n",
       "      <td>2017-09-01 16:15:12</td>\n",
       "      <td>63.0</td>\n",
       "      <td>F</td>\n",
       "      <td>0</td>\n",
       "      <td>2019-03-18</td>\n",
       "      <td>622</td>\n",
       "      <td>1.0</td>\n",
       "    </tr>\n",
       "    <tr>\n",
       "      <th>2</th>\n",
       "      <td>908cd9b8e8</td>\n",
       "      <td>2018-03-30 17:01:20</td>\n",
       "      <td>2018-07-13 17:05:52</td>\n",
       "      <td>49.0</td>\n",
       "      <td>F</td>\n",
       "      <td>1</td>\n",
       "      <td>2019-03-18</td>\n",
       "      <td>352</td>\n",
       "      <td>1.0</td>\n",
       "    </tr>\n",
       "    <tr>\n",
       "      <th>3</th>\n",
       "      <td>dceb8ce861</td>\n",
       "      <td>2017-10-06 17:06:42</td>\n",
       "      <td>2018-08-11 18:43:58</td>\n",
       "      <td>46.0</td>\n",
       "      <td>U</td>\n",
       "      <td>0</td>\n",
       "      <td>2019-03-18</td>\n",
       "      <td>527</td>\n",
       "      <td>1.0</td>\n",
       "    </tr>\n",
       "    <tr>\n",
       "      <th>4</th>\n",
       "      <td>f4f0ac6b06</td>\n",
       "      <td>1970-01-01 00:00:00</td>\n",
       "      <td>1970-01-01 00:00:00</td>\n",
       "      <td>0.0</td>\n",
       "      <td>0</td>\n",
       "      <td>1</td>\n",
       "      <td>2019-03-18</td>\n",
       "      <td>17973</td>\n",
       "      <td>1.0</td>\n",
       "    </tr>\n",
       "  </tbody>\n",
       "</table>\n",
       "</div>"
      ],
      "text/plain": [
       "    client_id    first_issue_date   first_redeem_date   age gender  \\\n",
       "0  a9a604ed6e 2018-09-13 17:36:41 1970-01-01 00:00:00  36.0      F   \n",
       "1  ebd7360016 2017-07-03 17:12:12 2017-09-01 16:15:12  63.0      F   \n",
       "2  908cd9b8e8 2018-03-30 17:01:20 2018-07-13 17:05:52  49.0      F   \n",
       "3  dceb8ce861 2017-10-06 17:06:42 2018-08-11 18:43:58  46.0      U   \n",
       "4  f4f0ac6b06 1970-01-01 00:00:00 1970-01-01 00:00:00   0.0      0   \n",
       "\n",
       "   buys_most_popular current_date  tenure  buying_own_trademark  \n",
       "0                  1   2019-03-18     185                   1.0  \n",
       "1                  0   2019-03-18     622                   1.0  \n",
       "2                  1   2019-03-18     352                   1.0  \n",
       "3                  0   2019-03-18     527                   1.0  \n",
       "4                  1   2019-03-18   17973                   1.0  "
      ]
     },
     "execution_count": 151,
     "metadata": {},
     "output_type": "execute_result"
    }
   ],
   "source": [
    "test_data.head()"
   ]
  },
  {
   "cell_type": "markdown",
   "id": "dbeffa0a",
   "metadata": {},
   "source": [
    "#### Количество визитов, сумма покупок, средняя сумма покупки"
   ]
  },
  {
   "cell_type": "code",
   "execution_count": 152,
   "id": "e0dc46e9",
   "metadata": {},
   "outputs": [
    {
     "data": {
      "text/html": [
       "<div>\n",
       "<style scoped>\n",
       "    .dataframe tbody tr th:only-of-type {\n",
       "        vertical-align: middle;\n",
       "    }\n",
       "\n",
       "    .dataframe tbody tr th {\n",
       "        vertical-align: top;\n",
       "    }\n",
       "\n",
       "    .dataframe thead th {\n",
       "        text-align: right;\n",
       "    }\n",
       "</style>\n",
       "<table border=\"1\" class=\"dataframe\">\n",
       "  <thead>\n",
       "    <tr style=\"text-align: right;\">\n",
       "      <th></th>\n",
       "      <th>client_id</th>\n",
       "      <th>first_issue_date</th>\n",
       "      <th>first_redeem_date</th>\n",
       "      <th>age</th>\n",
       "      <th>gender</th>\n",
       "      <th>buys_most_popular</th>\n",
       "      <th>current_date</th>\n",
       "      <th>tenure</th>\n",
       "      <th>buying_own_trademark</th>\n",
       "      <th>total_purchase</th>\n",
       "    </tr>\n",
       "  </thead>\n",
       "  <tbody>\n",
       "    <tr>\n",
       "      <th>0</th>\n",
       "      <td>a9a604ed6e</td>\n",
       "      <td>2018-09-13 17:36:41</td>\n",
       "      <td>1970-01-01 00:00:00</td>\n",
       "      <td>36.0</td>\n",
       "      <td>F</td>\n",
       "      <td>1</td>\n",
       "      <td>2019-03-18</td>\n",
       "      <td>185</td>\n",
       "      <td>1.0</td>\n",
       "      <td>78</td>\n",
       "    </tr>\n",
       "    <tr>\n",
       "      <th>1</th>\n",
       "      <td>ebd7360016</td>\n",
       "      <td>2017-07-03 17:12:12</td>\n",
       "      <td>2017-09-01 16:15:12</td>\n",
       "      <td>63.0</td>\n",
       "      <td>F</td>\n",
       "      <td>0</td>\n",
       "      <td>2019-03-18</td>\n",
       "      <td>622</td>\n",
       "      <td>1.0</td>\n",
       "      <td>26</td>\n",
       "    </tr>\n",
       "    <tr>\n",
       "      <th>2</th>\n",
       "      <td>908cd9b8e8</td>\n",
       "      <td>2018-03-30 17:01:20</td>\n",
       "      <td>2018-07-13 17:05:52</td>\n",
       "      <td>49.0</td>\n",
       "      <td>F</td>\n",
       "      <td>1</td>\n",
       "      <td>2019-03-18</td>\n",
       "      <td>352</td>\n",
       "      <td>1.0</td>\n",
       "      <td>158</td>\n",
       "    </tr>\n",
       "    <tr>\n",
       "      <th>3</th>\n",
       "      <td>dceb8ce861</td>\n",
       "      <td>2017-10-06 17:06:42</td>\n",
       "      <td>2018-08-11 18:43:58</td>\n",
       "      <td>46.0</td>\n",
       "      <td>U</td>\n",
       "      <td>0</td>\n",
       "      <td>2019-03-18</td>\n",
       "      <td>527</td>\n",
       "      <td>1.0</td>\n",
       "      <td>122</td>\n",
       "    </tr>\n",
       "    <tr>\n",
       "      <th>4</th>\n",
       "      <td>f4f0ac6b06</td>\n",
       "      <td>1970-01-01 00:00:00</td>\n",
       "      <td>1970-01-01 00:00:00</td>\n",
       "      <td>0.0</td>\n",
       "      <td>0</td>\n",
       "      <td>1</td>\n",
       "      <td>2019-03-18</td>\n",
       "      <td>17973</td>\n",
       "      <td>1.0</td>\n",
       "      <td>28</td>\n",
       "    </tr>\n",
       "  </tbody>\n",
       "</table>\n",
       "</div>"
      ],
      "text/plain": [
       "    client_id    first_issue_date   first_redeem_date   age gender  \\\n",
       "0  a9a604ed6e 2018-09-13 17:36:41 1970-01-01 00:00:00  36.0      F   \n",
       "1  ebd7360016 2017-07-03 17:12:12 2017-09-01 16:15:12  63.0      F   \n",
       "2  908cd9b8e8 2018-03-30 17:01:20 2018-07-13 17:05:52  49.0      F   \n",
       "3  dceb8ce861 2017-10-06 17:06:42 2018-08-11 18:43:58  46.0      U   \n",
       "4  f4f0ac6b06 1970-01-01 00:00:00 1970-01-01 00:00:00   0.0      0   \n",
       "\n",
       "   buys_most_popular current_date  tenure  buying_own_trademark  \\\n",
       "0                  1   2019-03-18     185                   1.0   \n",
       "1                  0   2019-03-18     622                   1.0   \n",
       "2                  1   2019-03-18     352                   1.0   \n",
       "3                  0   2019-03-18     527                   1.0   \n",
       "4                  1   2019-03-18   17973                   1.0   \n",
       "\n",
       "   total_purchase  \n",
       "0              78  \n",
       "1              26  \n",
       "2             158  \n",
       "3             122  \n",
       "4              28  "
      ]
     },
     "execution_count": 152,
     "metadata": {},
     "output_type": "execute_result"
    }
   ],
   "source": [
    "test_data['total_purchase'] = pd.DataFrame(list(test_purchases.groupby('client_id').agg({'transaction_id' : ['count']})['transaction_id']['count']))\n",
    "test_data.head()"
   ]
  },
  {
   "cell_type": "code",
   "execution_count": 153,
   "id": "6e58901e",
   "metadata": {},
   "outputs": [
    {
     "data": {
      "text/plain": [
       "client_id   transaction_datetime\n",
       "00010925a5  2018-11-25 10:56:18     303.0\n",
       "            2018-12-01 09:17:18     132.0\n",
       "            2018-12-03 07:52:46     149.0\n",
       "            2018-12-06 09:59:19     349.0\n",
       "            2018-12-17 12:51:26     581.0\n",
       "                                    ...  \n",
       "fffff6ce77  2019-02-28 12:56:31     446.0\n",
       "            2019-03-05 15:07:03     247.0\n",
       "            2019-03-06 16:26:35     109.0\n",
       "            2019-03-06 16:53:10     245.0\n",
       "            2019-03-15 17:47:02     676.0\n",
       "Length: 1209950, dtype: float64"
      ]
     },
     "execution_count": 153,
     "metadata": {},
     "output_type": "execute_result"
    }
   ],
   "source": [
    "df_1 = test_purchases.groupby(['client_id', 'transaction_datetime']).agg({'purchase_sum' : ['count']})\n",
    "df_2 = test_purchases.groupby(['client_id', 'transaction_datetime']).agg({'purchase_sum' : ['sum']})\n",
    "df_purchase = df_2['purchase_sum']['sum'] / df_1['purchase_sum']['count']\n",
    "df_purchase"
   ]
  },
  {
   "cell_type": "code",
   "execution_count": 154,
   "id": "8467c371",
   "metadata": {},
   "outputs": [],
   "source": [
    "df_sum_purchase = pd.DataFrame(list(df_purchase.groupby('client_id').sum()))"
   ]
  },
  {
   "cell_type": "code",
   "execution_count": 155,
   "id": "f48d5a6b",
   "metadata": {},
   "outputs": [
    {
     "data": {
      "text/html": [
       "<div>\n",
       "<style scoped>\n",
       "    .dataframe tbody tr th:only-of-type {\n",
       "        vertical-align: middle;\n",
       "    }\n",
       "\n",
       "    .dataframe tbody tr th {\n",
       "        vertical-align: top;\n",
       "    }\n",
       "\n",
       "    .dataframe thead th {\n",
       "        text-align: right;\n",
       "    }\n",
       "</style>\n",
       "<table border=\"1\" class=\"dataframe\">\n",
       "  <thead>\n",
       "    <tr style=\"text-align: right;\">\n",
       "      <th></th>\n",
       "      <th>client_id</th>\n",
       "      <th>sum_purchase</th>\n",
       "    </tr>\n",
       "  </thead>\n",
       "  <tbody>\n",
       "    <tr>\n",
       "      <th>0</th>\n",
       "      <td>00010925a5</td>\n",
       "      <td>5883.00</td>\n",
       "    </tr>\n",
       "    <tr>\n",
       "      <th>1</th>\n",
       "      <td>00035a21d9</td>\n",
       "      <td>1791.94</td>\n",
       "    </tr>\n",
       "    <tr>\n",
       "      <th>2</th>\n",
       "      <td>00038f9200</td>\n",
       "      <td>8385.00</td>\n",
       "    </tr>\n",
       "  </tbody>\n",
       "</table>\n",
       "</div>"
      ],
      "text/plain": [
       "    client_id  sum_purchase\n",
       "0  00010925a5       5883.00\n",
       "1  00035a21d9       1791.94\n",
       "2  00038f9200       8385.00"
      ]
     },
     "execution_count": 155,
     "metadata": {},
     "output_type": "execute_result"
    }
   ],
   "source": [
    "data_test_sum_purchase = pd.DataFrame()\n",
    "data_test_sum_purchase['client_id'] = pd.Series(df_purchase.groupby('client_id').sum().index)\n",
    "data_test_sum_purchase['sum_purchase'] = pd.Series(list(df_purchase.groupby('client_id').sum()))\n",
    "data_test_sum_purchase.head(3)"
   ]
  },
  {
   "cell_type": "code",
   "execution_count": 156,
   "id": "a12e674d",
   "metadata": {},
   "outputs": [],
   "source": [
    "test_data = pd.merge(test_data, data_test_sum_purchase[['client_id','sum_purchase']], how='left', on=['client_id'])"
   ]
  },
  {
   "cell_type": "code",
   "execution_count": 157,
   "id": "24a0f039",
   "metadata": {},
   "outputs": [
    {
     "data": {
      "text/html": [
       "<div>\n",
       "<style scoped>\n",
       "    .dataframe tbody tr th:only-of-type {\n",
       "        vertical-align: middle;\n",
       "    }\n",
       "\n",
       "    .dataframe tbody tr th {\n",
       "        vertical-align: top;\n",
       "    }\n",
       "\n",
       "    .dataframe thead th {\n",
       "        text-align: right;\n",
       "    }\n",
       "</style>\n",
       "<table border=\"1\" class=\"dataframe\">\n",
       "  <thead>\n",
       "    <tr style=\"text-align: right;\">\n",
       "      <th></th>\n",
       "      <th>client_id</th>\n",
       "      <th>first_issue_date</th>\n",
       "      <th>first_redeem_date</th>\n",
       "      <th>age</th>\n",
       "      <th>gender</th>\n",
       "      <th>buys_most_popular</th>\n",
       "      <th>current_date</th>\n",
       "      <th>tenure</th>\n",
       "      <th>buying_own_trademark</th>\n",
       "      <th>total_purchase</th>\n",
       "      <th>sum_purchase</th>\n",
       "    </tr>\n",
       "  </thead>\n",
       "  <tbody>\n",
       "    <tr>\n",
       "      <th>0</th>\n",
       "      <td>a9a604ed6e</td>\n",
       "      <td>2018-09-13 17:36:41</td>\n",
       "      <td>1970-01-01 00:00:00</td>\n",
       "      <td>36.0</td>\n",
       "      <td>F</td>\n",
       "      <td>1</td>\n",
       "      <td>2019-03-18</td>\n",
       "      <td>185</td>\n",
       "      <td>1.0</td>\n",
       "      <td>78</td>\n",
       "      <td>3147.53</td>\n",
       "    </tr>\n",
       "    <tr>\n",
       "      <th>1</th>\n",
       "      <td>ebd7360016</td>\n",
       "      <td>2017-07-03 17:12:12</td>\n",
       "      <td>2017-09-01 16:15:12</td>\n",
       "      <td>63.0</td>\n",
       "      <td>F</td>\n",
       "      <td>0</td>\n",
       "      <td>2019-03-18</td>\n",
       "      <td>622</td>\n",
       "      <td>1.0</td>\n",
       "      <td>26</td>\n",
       "      <td>5680.57</td>\n",
       "    </tr>\n",
       "    <tr>\n",
       "      <th>2</th>\n",
       "      <td>908cd9b8e8</td>\n",
       "      <td>2018-03-30 17:01:20</td>\n",
       "      <td>2018-07-13 17:05:52</td>\n",
       "      <td>49.0</td>\n",
       "      <td>F</td>\n",
       "      <td>1</td>\n",
       "      <td>2019-03-18</td>\n",
       "      <td>352</td>\n",
       "      <td>1.0</td>\n",
       "      <td>158</td>\n",
       "      <td>6193.04</td>\n",
       "    </tr>\n",
       "    <tr>\n",
       "      <th>3</th>\n",
       "      <td>dceb8ce861</td>\n",
       "      <td>2017-10-06 17:06:42</td>\n",
       "      <td>2018-08-11 18:43:58</td>\n",
       "      <td>46.0</td>\n",
       "      <td>U</td>\n",
       "      <td>0</td>\n",
       "      <td>2019-03-18</td>\n",
       "      <td>527</td>\n",
       "      <td>1.0</td>\n",
       "      <td>122</td>\n",
       "      <td>8265.26</td>\n",
       "    </tr>\n",
       "    <tr>\n",
       "      <th>4</th>\n",
       "      <td>f4f0ac6b06</td>\n",
       "      <td>1970-01-01 00:00:00</td>\n",
       "      <td>1970-01-01 00:00:00</td>\n",
       "      <td>0.0</td>\n",
       "      <td>0</td>\n",
       "      <td>1</td>\n",
       "      <td>2019-03-18</td>\n",
       "      <td>17973</td>\n",
       "      <td>1.0</td>\n",
       "      <td>28</td>\n",
       "      <td>8960.00</td>\n",
       "    </tr>\n",
       "  </tbody>\n",
       "</table>\n",
       "</div>"
      ],
      "text/plain": [
       "    client_id    first_issue_date   first_redeem_date   age gender  \\\n",
       "0  a9a604ed6e 2018-09-13 17:36:41 1970-01-01 00:00:00  36.0      F   \n",
       "1  ebd7360016 2017-07-03 17:12:12 2017-09-01 16:15:12  63.0      F   \n",
       "2  908cd9b8e8 2018-03-30 17:01:20 2018-07-13 17:05:52  49.0      F   \n",
       "3  dceb8ce861 2017-10-06 17:06:42 2018-08-11 18:43:58  46.0      U   \n",
       "4  f4f0ac6b06 1970-01-01 00:00:00 1970-01-01 00:00:00   0.0      0   \n",
       "\n",
       "   buys_most_popular current_date  tenure  buying_own_trademark  \\\n",
       "0                  1   2019-03-18     185                   1.0   \n",
       "1                  0   2019-03-18     622                   1.0   \n",
       "2                  1   2019-03-18     352                   1.0   \n",
       "3                  0   2019-03-18     527                   1.0   \n",
       "4                  1   2019-03-18   17973                   1.0   \n",
       "\n",
       "   total_purchase  sum_purchase  \n",
       "0              78       3147.53  \n",
       "1              26       5680.57  \n",
       "2             158       6193.04  \n",
       "3             122       8265.26  \n",
       "4              28       8960.00  "
      ]
     },
     "execution_count": 157,
     "metadata": {},
     "output_type": "execute_result"
    }
   ],
   "source": [
    "test_data.head()"
   ]
  },
  {
   "cell_type": "code",
   "execution_count": 158,
   "id": "ddeff73b",
   "metadata": {},
   "outputs": [],
   "source": [
    "test_data['average_visit'] = test_data['sum_purchase'] / test_data['total_purchase']"
   ]
  },
  {
   "cell_type": "markdown",
   "id": "ed3661d9",
   "metadata": {},
   "source": [
    "#### Категоризируем гендер"
   ]
  },
  {
   "cell_type": "code",
   "execution_count": 159,
   "id": "13672926",
   "metadata": {},
   "outputs": [],
   "source": [
    "test_data['gender'] = test_data['gender'].fillna('U')"
   ]
  },
  {
   "cell_type": "code",
   "execution_count": 160,
   "id": "e437c490",
   "metadata": {},
   "outputs": [],
   "source": [
    "test_data = pd.get_dummies(test_data, columns = ['gender'], drop_first=True)"
   ]
  },
  {
   "cell_type": "code",
   "execution_count": 161,
   "id": "900482b2",
   "metadata": {
    "scrolled": true
   },
   "outputs": [
    {
     "name": "stdout",
     "output_type": "stream",
     "text": [
      "<class 'pandas.core.frame.DataFrame'>\n",
      "Int64Index: 60012 entries, 0 to 60011\n",
      "Data columns (total 14 columns):\n",
      " #   Column                Non-Null Count  Dtype         \n",
      "---  ------                --------------  -----         \n",
      " 0   client_id             60012 non-null  object        \n",
      " 1   first_issue_date      60012 non-null  datetime64[ns]\n",
      " 2   first_redeem_date     60012 non-null  datetime64[ns]\n",
      " 3   age                   60012 non-null  float64       \n",
      " 4   buys_most_popular     60012 non-null  int64         \n",
      " 5   current_date          60012 non-null  datetime64[ns]\n",
      " 6   tenure                60012 non-null  int16         \n",
      " 7   buying_own_trademark  60012 non-null  float64       \n",
      " 8   total_purchase        60012 non-null  int64         \n",
      " 9   sum_purchase          60012 non-null  float64       \n",
      " 10  average_visit         60012 non-null  float64       \n",
      " 11  gender_F              60012 non-null  uint8         \n",
      " 12  gender_M              60012 non-null  uint8         \n",
      " 13  gender_U              60012 non-null  uint8         \n",
      "dtypes: datetime64[ns](3), float64(4), int16(1), int64(2), object(1), uint8(3)\n",
      "memory usage: 5.3+ MB\n"
     ]
    }
   ],
   "source": [
    "test_data.info()"
   ]
  },
  {
   "cell_type": "code",
   "execution_count": 162,
   "id": "2ed69867",
   "metadata": {},
   "outputs": [],
   "source": [
    "test_data['days_for_first_use'] = (test_data['first_redeem_date'] - test_data['first_issue_date']).dt.days.astype('int16')"
   ]
  },
  {
   "cell_type": "code",
   "execution_count": 163,
   "id": "9e1672a8",
   "metadata": {},
   "outputs": [],
   "source": [
    "# сохраняем id \n",
    "# clients_id = test_data['client_id']"
   ]
  },
  {
   "cell_type": "code",
   "execution_count": 164,
   "id": "9ba077f3",
   "metadata": {},
   "outputs": [],
   "source": [
    "test_data = test_data.drop(columns=['current_date','first_issue_date','first_redeem_date','client_id'])"
   ]
  },
  {
   "cell_type": "code",
   "execution_count": 165,
   "id": "0f3ded05",
   "metadata": {},
   "outputs": [
    {
     "data": {
      "text/html": [
       "<div>\n",
       "<style scoped>\n",
       "    .dataframe tbody tr th:only-of-type {\n",
       "        vertical-align: middle;\n",
       "    }\n",
       "\n",
       "    .dataframe tbody tr th {\n",
       "        vertical-align: top;\n",
       "    }\n",
       "\n",
       "    .dataframe thead th {\n",
       "        text-align: right;\n",
       "    }\n",
       "</style>\n",
       "<table border=\"1\" class=\"dataframe\">\n",
       "  <thead>\n",
       "    <tr style=\"text-align: right;\">\n",
       "      <th></th>\n",
       "      <th>age</th>\n",
       "      <th>buys_most_popular</th>\n",
       "      <th>tenure</th>\n",
       "      <th>buying_own_trademark</th>\n",
       "      <th>total_purchase</th>\n",
       "      <th>sum_purchase</th>\n",
       "      <th>average_visit</th>\n",
       "      <th>gender_F</th>\n",
       "      <th>gender_M</th>\n",
       "      <th>gender_U</th>\n",
       "      <th>days_for_first_use</th>\n",
       "    </tr>\n",
       "  </thead>\n",
       "  <tbody>\n",
       "    <tr>\n",
       "      <th>0</th>\n",
       "      <td>36.0</td>\n",
       "      <td>1</td>\n",
       "      <td>185</td>\n",
       "      <td>1.0</td>\n",
       "      <td>78</td>\n",
       "      <td>3147.53</td>\n",
       "      <td>40.352949</td>\n",
       "      <td>1</td>\n",
       "      <td>0</td>\n",
       "      <td>0</td>\n",
       "      <td>-17788</td>\n",
       "    </tr>\n",
       "    <tr>\n",
       "      <th>1</th>\n",
       "      <td>63.0</td>\n",
       "      <td>0</td>\n",
       "      <td>622</td>\n",
       "      <td>1.0</td>\n",
       "      <td>26</td>\n",
       "      <td>5680.57</td>\n",
       "      <td>218.483462</td>\n",
       "      <td>1</td>\n",
       "      <td>0</td>\n",
       "      <td>0</td>\n",
       "      <td>59</td>\n",
       "    </tr>\n",
       "    <tr>\n",
       "      <th>2</th>\n",
       "      <td>49.0</td>\n",
       "      <td>1</td>\n",
       "      <td>352</td>\n",
       "      <td>1.0</td>\n",
       "      <td>158</td>\n",
       "      <td>6193.04</td>\n",
       "      <td>39.196456</td>\n",
       "      <td>1</td>\n",
       "      <td>0</td>\n",
       "      <td>0</td>\n",
       "      <td>105</td>\n",
       "    </tr>\n",
       "    <tr>\n",
       "      <th>3</th>\n",
       "      <td>46.0</td>\n",
       "      <td>0</td>\n",
       "      <td>527</td>\n",
       "      <td>1.0</td>\n",
       "      <td>122</td>\n",
       "      <td>8265.26</td>\n",
       "      <td>67.748033</td>\n",
       "      <td>0</td>\n",
       "      <td>0</td>\n",
       "      <td>1</td>\n",
       "      <td>309</td>\n",
       "    </tr>\n",
       "    <tr>\n",
       "      <th>4</th>\n",
       "      <td>0.0</td>\n",
       "      <td>1</td>\n",
       "      <td>17973</td>\n",
       "      <td>1.0</td>\n",
       "      <td>28</td>\n",
       "      <td>8960.00</td>\n",
       "      <td>320.000000</td>\n",
       "      <td>0</td>\n",
       "      <td>0</td>\n",
       "      <td>0</td>\n",
       "      <td>0</td>\n",
       "    </tr>\n",
       "    <tr>\n",
       "      <th>...</th>\n",
       "      <td>...</td>\n",
       "      <td>...</td>\n",
       "      <td>...</td>\n",
       "      <td>...</td>\n",
       "      <td>...</td>\n",
       "      <td>...</td>\n",
       "      <td>...</td>\n",
       "      <td>...</td>\n",
       "      <td>...</td>\n",
       "      <td>...</td>\n",
       "      <td>...</td>\n",
       "    </tr>\n",
       "    <tr>\n",
       "      <th>60007</th>\n",
       "      <td>26.0</td>\n",
       "      <td>1</td>\n",
       "      <td>290</td>\n",
       "      <td>1.0</td>\n",
       "      <td>64</td>\n",
       "      <td>11462.29</td>\n",
       "      <td>179.098281</td>\n",
       "      <td>0</td>\n",
       "      <td>1</td>\n",
       "      <td>0</td>\n",
       "      <td>208</td>\n",
       "    </tr>\n",
       "    <tr>\n",
       "      <th>60008</th>\n",
       "      <td>37.0</td>\n",
       "      <td>1</td>\n",
       "      <td>534</td>\n",
       "      <td>1.0</td>\n",
       "      <td>97</td>\n",
       "      <td>994.47</td>\n",
       "      <td>10.252268</td>\n",
       "      <td>0</td>\n",
       "      <td>1</td>\n",
       "      <td>0</td>\n",
       "      <td>100</td>\n",
       "    </tr>\n",
       "    <tr>\n",
       "      <th>60009</th>\n",
       "      <td>42.0</td>\n",
       "      <td>1</td>\n",
       "      <td>165</td>\n",
       "      <td>1.0</td>\n",
       "      <td>172</td>\n",
       "      <td>9591.75</td>\n",
       "      <td>55.765988</td>\n",
       "      <td>0</td>\n",
       "      <td>0</td>\n",
       "      <td>1</td>\n",
       "      <td>177</td>\n",
       "    </tr>\n",
       "    <tr>\n",
       "      <th>60010</th>\n",
       "      <td>33.0</td>\n",
       "      <td>1</td>\n",
       "      <td>82</td>\n",
       "      <td>1.0</td>\n",
       "      <td>61</td>\n",
       "      <td>2817.00</td>\n",
       "      <td>46.180328</td>\n",
       "      <td>0</td>\n",
       "      <td>0</td>\n",
       "      <td>1</td>\n",
       "      <td>38</td>\n",
       "    </tr>\n",
       "    <tr>\n",
       "      <th>60011</th>\n",
       "      <td>32.0</td>\n",
       "      <td>1</td>\n",
       "      <td>654</td>\n",
       "      <td>1.0</td>\n",
       "      <td>203</td>\n",
       "      <td>9437.52</td>\n",
       "      <td>46.490246</td>\n",
       "      <td>1</td>\n",
       "      <td>0</td>\n",
       "      <td>0</td>\n",
       "      <td>649</td>\n",
       "    </tr>\n",
       "  </tbody>\n",
       "</table>\n",
       "<p>60012 rows × 11 columns</p>\n",
       "</div>"
      ],
      "text/plain": [
       "        age  buys_most_popular  tenure  buying_own_trademark  total_purchase  \\\n",
       "0      36.0                  1     185                   1.0              78   \n",
       "1      63.0                  0     622                   1.0              26   \n",
       "2      49.0                  1     352                   1.0             158   \n",
       "3      46.0                  0     527                   1.0             122   \n",
       "4       0.0                  1   17973                   1.0              28   \n",
       "...     ...                ...     ...                   ...             ...   \n",
       "60007  26.0                  1     290                   1.0              64   \n",
       "60008  37.0                  1     534                   1.0              97   \n",
       "60009  42.0                  1     165                   1.0             172   \n",
       "60010  33.0                  1      82                   1.0              61   \n",
       "60011  32.0                  1     654                   1.0             203   \n",
       "\n",
       "       sum_purchase  average_visit  gender_F  gender_M  gender_U  \\\n",
       "0           3147.53      40.352949         1         0         0   \n",
       "1           5680.57     218.483462         1         0         0   \n",
       "2           6193.04      39.196456         1         0         0   \n",
       "3           8265.26      67.748033         0         0         1   \n",
       "4           8960.00     320.000000         0         0         0   \n",
       "...             ...            ...       ...       ...       ...   \n",
       "60007      11462.29     179.098281         0         1         0   \n",
       "60008        994.47      10.252268         0         1         0   \n",
       "60009       9591.75      55.765988         0         0         1   \n",
       "60010       2817.00      46.180328         0         0         1   \n",
       "60011       9437.52      46.490246         1         0         0   \n",
       "\n",
       "       days_for_first_use  \n",
       "0                  -17788  \n",
       "1                      59  \n",
       "2                     105  \n",
       "3                     309  \n",
       "4                       0  \n",
       "...                   ...  \n",
       "60007                 208  \n",
       "60008                 100  \n",
       "60009                 177  \n",
       "60010                  38  \n",
       "60011                 649  \n",
       "\n",
       "[60012 rows x 11 columns]"
      ]
     },
     "execution_count": 165,
     "metadata": {},
     "output_type": "execute_result"
    }
   ],
   "source": [
    "test_data"
   ]
  },
  {
   "cell_type": "code",
   "execution_count": 166,
   "id": "02cf7219",
   "metadata": {},
   "outputs": [],
   "source": [
    "test_data = test_data.drop(columns=['gender_F'])"
   ]
  },
  {
   "cell_type": "markdown",
   "id": "65f05099",
   "metadata": {},
   "source": [
    "### Устанавливаем флаг коммуникации для всех в тесте в позицию 1"
   ]
  },
  {
   "cell_type": "code",
   "execution_count": 167,
   "id": "7afafaee",
   "metadata": {},
   "outputs": [],
   "source": [
    "test_data['treatment_flg']=1 "
   ]
  },
  {
   "cell_type": "code",
   "execution_count": 168,
   "id": "f382767a",
   "metadata": {},
   "outputs": [
    {
     "data": {
      "text/plain": [
       "(60012, 11)"
      ]
     },
     "execution_count": 168,
     "metadata": {},
     "output_type": "execute_result"
    }
   ],
   "source": [
    "test_data.shape"
   ]
  },
  {
   "cell_type": "code",
   "execution_count": 169,
   "id": "269df9e8",
   "metadata": {},
   "outputs": [],
   "source": [
    "predictions_test_proba = model.predict_proba(test_data)\n",
    "probabilities_one_test = predictions_test_proba[:, 1]"
   ]
  },
  {
   "cell_type": "code",
   "execution_count": 170,
   "id": "b4ab5d18",
   "metadata": {
    "scrolled": true
   },
   "outputs": [
    {
     "data": {
      "text/plain": [
       "array([0.30397829, 0.76201865, 0.65605835, ..., 0.69275261, 0.52346646,\n",
       "       0.63443487])"
      ]
     },
     "execution_count": 170,
     "metadata": {},
     "output_type": "execute_result"
    }
   ],
   "source": [
    "probabilities_one_test"
   ]
  },
  {
   "cell_type": "code",
   "execution_count": 171,
   "id": "145cfdb4",
   "metadata": {},
   "outputs": [
    {
     "data": {
      "text/html": [
       "<div>\n",
       "<style scoped>\n",
       "    .dataframe tbody tr th:only-of-type {\n",
       "        vertical-align: middle;\n",
       "    }\n",
       "\n",
       "    .dataframe tbody tr th {\n",
       "        vertical-align: top;\n",
       "    }\n",
       "\n",
       "    .dataframe thead th {\n",
       "        text-align: right;\n",
       "    }\n",
       "</style>\n",
       "<table border=\"1\" class=\"dataframe\">\n",
       "  <thead>\n",
       "    <tr style=\"text-align: right;\">\n",
       "      <th></th>\n",
       "      <th>client_id</th>\n",
       "      <th>sum_purchase</th>\n",
       "    </tr>\n",
       "  </thead>\n",
       "  <tbody>\n",
       "    <tr>\n",
       "      <th>0</th>\n",
       "      <td>00010925a5</td>\n",
       "      <td>5883.00</td>\n",
       "    </tr>\n",
       "    <tr>\n",
       "      <th>1</th>\n",
       "      <td>00035a21d9</td>\n",
       "      <td>1791.94</td>\n",
       "    </tr>\n",
       "    <tr>\n",
       "      <th>2</th>\n",
       "      <td>00038f9200</td>\n",
       "      <td>8385.00</td>\n",
       "    </tr>\n",
       "  </tbody>\n",
       "</table>\n",
       "</div>"
      ],
      "text/plain": [
       "    client_id  sum_purchase\n",
       "0  00010925a5       5883.00\n",
       "1  00035a21d9       1791.94\n",
       "2  00038f9200       8385.00"
      ]
     },
     "execution_count": 171,
     "metadata": {},
     "output_type": "execute_result"
    }
   ],
   "source": [
    "data_test_sum_purchase = pd.DataFrame()\n",
    "data_test_sum_purchase['client_id'] = pd.Series(df_purchase.groupby('client_id').sum().index)\n",
    "data_test_sum_purchase['sum_purchase'] = pd.Series(list(df_purchase.groupby('client_id').sum()))\n",
    "data_test_sum_purchase.head(3)"
   ]
  },
  {
   "cell_type": "code",
   "execution_count": 172,
   "id": "7e9757e6",
   "metadata": {},
   "outputs": [],
   "source": [
    "test_clienst_id = pd.read_csv('test.csv')"
   ]
  },
  {
   "cell_type": "code",
   "execution_count": 173,
   "id": "14e619c2",
   "metadata": {},
   "outputs": [
    {
     "data": {
      "text/plain": [
       "<bound method DataFrame.drop of         client_id      pred\n",
       "0      a9a604ed6e  0.303978\n",
       "1      ebd7360016  0.762019\n",
       "2      908cd9b8e8  0.656058\n",
       "3      dceb8ce861  0.720781\n",
       "4      f4f0ac6b06  0.626897\n",
       "...           ...       ...\n",
       "60007  4762fb04c5  0.736355\n",
       "60008  533d1516e7  0.295205\n",
       "60009  c93b21a707  0.692753\n",
       "60010  3fe0668de5  0.523466\n",
       "60011  8d1ea24f5e  0.634435\n",
       "\n",
       "[60012 rows x 2 columns]>"
      ]
     },
     "execution_count": 173,
     "metadata": {},
     "output_type": "execute_result"
    }
   ],
   "source": [
    "submission_zero = pd.DataFrame()\n",
    "submission_zero['client_id'] = test_clienst_id['client_id']\n",
    "submission_zero['pred'] = pd.Series(list(probabilities_one_test))\n",
    "submission_zero.drop"
   ]
  },
  {
   "cell_type": "code",
   "execution_count": 174,
   "id": "8fc82a8f",
   "metadata": {},
   "outputs": [
    {
     "data": {
      "text/html": [
       "<div>\n",
       "<style scoped>\n",
       "    .dataframe tbody tr th:only-of-type {\n",
       "        vertical-align: middle;\n",
       "    }\n",
       "\n",
       "    .dataframe tbody tr th {\n",
       "        vertical-align: top;\n",
       "    }\n",
       "\n",
       "    .dataframe thead th {\n",
       "        text-align: right;\n",
       "    }\n",
       "</style>\n",
       "<table border=\"1\" class=\"dataframe\">\n",
       "  <thead>\n",
       "    <tr style=\"text-align: right;\">\n",
       "      <th></th>\n",
       "      <th>client_id</th>\n",
       "      <th>pred</th>\n",
       "    </tr>\n",
       "  </thead>\n",
       "  <tbody>\n",
       "    <tr>\n",
       "      <th>0</th>\n",
       "      <td>a9a604ed6e</td>\n",
       "      <td>0.303978</td>\n",
       "    </tr>\n",
       "    <tr>\n",
       "      <th>1</th>\n",
       "      <td>ebd7360016</td>\n",
       "      <td>0.762019</td>\n",
       "    </tr>\n",
       "    <tr>\n",
       "      <th>2</th>\n",
       "      <td>908cd9b8e8</td>\n",
       "      <td>0.656058</td>\n",
       "    </tr>\n",
       "    <tr>\n",
       "      <th>3</th>\n",
       "      <td>dceb8ce861</td>\n",
       "      <td>0.720781</td>\n",
       "    </tr>\n",
       "    <tr>\n",
       "      <th>4</th>\n",
       "      <td>f4f0ac6b06</td>\n",
       "      <td>0.626897</td>\n",
       "    </tr>\n",
       "    <tr>\n",
       "      <th>...</th>\n",
       "      <td>...</td>\n",
       "      <td>...</td>\n",
       "    </tr>\n",
       "    <tr>\n",
       "      <th>60007</th>\n",
       "      <td>4762fb04c5</td>\n",
       "      <td>0.736355</td>\n",
       "    </tr>\n",
       "    <tr>\n",
       "      <th>60008</th>\n",
       "      <td>533d1516e7</td>\n",
       "      <td>0.295205</td>\n",
       "    </tr>\n",
       "    <tr>\n",
       "      <th>60009</th>\n",
       "      <td>c93b21a707</td>\n",
       "      <td>0.692753</td>\n",
       "    </tr>\n",
       "    <tr>\n",
       "      <th>60010</th>\n",
       "      <td>3fe0668de5</td>\n",
       "      <td>0.523466</td>\n",
       "    </tr>\n",
       "    <tr>\n",
       "      <th>60011</th>\n",
       "      <td>8d1ea24f5e</td>\n",
       "      <td>0.634435</td>\n",
       "    </tr>\n",
       "  </tbody>\n",
       "</table>\n",
       "<p>60012 rows × 2 columns</p>\n",
       "</div>"
      ],
      "text/plain": [
       "        client_id      pred\n",
       "0      a9a604ed6e  0.303978\n",
       "1      ebd7360016  0.762019\n",
       "2      908cd9b8e8  0.656058\n",
       "3      dceb8ce861  0.720781\n",
       "4      f4f0ac6b06  0.626897\n",
       "...           ...       ...\n",
       "60007  4762fb04c5  0.736355\n",
       "60008  533d1516e7  0.295205\n",
       "60009  c93b21a707  0.692753\n",
       "60010  3fe0668de5  0.523466\n",
       "60011  8d1ea24f5e  0.634435\n",
       "\n",
       "[60012 rows x 2 columns]"
      ]
     },
     "execution_count": 174,
     "metadata": {},
     "output_type": "execute_result"
    }
   ],
   "source": [
    "submission_zero"
   ]
  },
  {
   "cell_type": "code",
   "execution_count": 175,
   "id": "0abf9126",
   "metadata": {},
   "outputs": [],
   "source": [
    "submission_zero.to_csv('submission_zero.csv', index=False)"
   ]
  },
  {
   "cell_type": "markdown",
   "id": "b87cc2ea",
   "metadata": {},
   "source": [
    "Таргет определен неправильно — и пока качество хуже бейзлайна."
   ]
  },
  {
   "cell_type": "markdown",
   "id": "32d34874",
   "metadata": {},
   "source": [
    "### Устанавливаем флаг коммуникации для всех в тесте в позицию 0"
   ]
  },
  {
   "cell_type": "code",
   "execution_count": 176,
   "id": "881a39f1",
   "metadata": {},
   "outputs": [],
   "source": [
    "test_data['treatment_flg']=0"
   ]
  },
  {
   "cell_type": "code",
   "execution_count": 177,
   "id": "b0cc11e7",
   "metadata": {},
   "outputs": [
    {
     "data": {
      "text/html": [
       "<div>\n",
       "<style scoped>\n",
       "    .dataframe tbody tr th:only-of-type {\n",
       "        vertical-align: middle;\n",
       "    }\n",
       "\n",
       "    .dataframe tbody tr th {\n",
       "        vertical-align: top;\n",
       "    }\n",
       "\n",
       "    .dataframe thead th {\n",
       "        text-align: right;\n",
       "    }\n",
       "</style>\n",
       "<table border=\"1\" class=\"dataframe\">\n",
       "  <thead>\n",
       "    <tr style=\"text-align: right;\">\n",
       "      <th></th>\n",
       "      <th>age</th>\n",
       "      <th>buys_most_popular</th>\n",
       "      <th>tenure</th>\n",
       "      <th>buying_own_trademark</th>\n",
       "      <th>total_purchase</th>\n",
       "      <th>sum_purchase</th>\n",
       "      <th>average_visit</th>\n",
       "      <th>gender_M</th>\n",
       "      <th>gender_U</th>\n",
       "      <th>days_for_first_use</th>\n",
       "      <th>treatment_flg</th>\n",
       "    </tr>\n",
       "  </thead>\n",
       "  <tbody>\n",
       "    <tr>\n",
       "      <th>0</th>\n",
       "      <td>36.0</td>\n",
       "      <td>1</td>\n",
       "      <td>185</td>\n",
       "      <td>1.0</td>\n",
       "      <td>78</td>\n",
       "      <td>3147.53</td>\n",
       "      <td>40.352949</td>\n",
       "      <td>0</td>\n",
       "      <td>0</td>\n",
       "      <td>-17788</td>\n",
       "      <td>0</td>\n",
       "    </tr>\n",
       "    <tr>\n",
       "      <th>1</th>\n",
       "      <td>63.0</td>\n",
       "      <td>0</td>\n",
       "      <td>622</td>\n",
       "      <td>1.0</td>\n",
       "      <td>26</td>\n",
       "      <td>5680.57</td>\n",
       "      <td>218.483462</td>\n",
       "      <td>0</td>\n",
       "      <td>0</td>\n",
       "      <td>59</td>\n",
       "      <td>0</td>\n",
       "    </tr>\n",
       "    <tr>\n",
       "      <th>2</th>\n",
       "      <td>49.0</td>\n",
       "      <td>1</td>\n",
       "      <td>352</td>\n",
       "      <td>1.0</td>\n",
       "      <td>158</td>\n",
       "      <td>6193.04</td>\n",
       "      <td>39.196456</td>\n",
       "      <td>0</td>\n",
       "      <td>0</td>\n",
       "      <td>105</td>\n",
       "      <td>0</td>\n",
       "    </tr>\n",
       "    <tr>\n",
       "      <th>3</th>\n",
       "      <td>46.0</td>\n",
       "      <td>0</td>\n",
       "      <td>527</td>\n",
       "      <td>1.0</td>\n",
       "      <td>122</td>\n",
       "      <td>8265.26</td>\n",
       "      <td>67.748033</td>\n",
       "      <td>0</td>\n",
       "      <td>1</td>\n",
       "      <td>309</td>\n",
       "      <td>0</td>\n",
       "    </tr>\n",
       "    <tr>\n",
       "      <th>4</th>\n",
       "      <td>0.0</td>\n",
       "      <td>1</td>\n",
       "      <td>17973</td>\n",
       "      <td>1.0</td>\n",
       "      <td>28</td>\n",
       "      <td>8960.00</td>\n",
       "      <td>320.000000</td>\n",
       "      <td>0</td>\n",
       "      <td>0</td>\n",
       "      <td>0</td>\n",
       "      <td>0</td>\n",
       "    </tr>\n",
       "    <tr>\n",
       "      <th>...</th>\n",
       "      <td>...</td>\n",
       "      <td>...</td>\n",
       "      <td>...</td>\n",
       "      <td>...</td>\n",
       "      <td>...</td>\n",
       "      <td>...</td>\n",
       "      <td>...</td>\n",
       "      <td>...</td>\n",
       "      <td>...</td>\n",
       "      <td>...</td>\n",
       "      <td>...</td>\n",
       "    </tr>\n",
       "    <tr>\n",
       "      <th>60007</th>\n",
       "      <td>26.0</td>\n",
       "      <td>1</td>\n",
       "      <td>290</td>\n",
       "      <td>1.0</td>\n",
       "      <td>64</td>\n",
       "      <td>11462.29</td>\n",
       "      <td>179.098281</td>\n",
       "      <td>1</td>\n",
       "      <td>0</td>\n",
       "      <td>208</td>\n",
       "      <td>0</td>\n",
       "    </tr>\n",
       "    <tr>\n",
       "      <th>60008</th>\n",
       "      <td>37.0</td>\n",
       "      <td>1</td>\n",
       "      <td>534</td>\n",
       "      <td>1.0</td>\n",
       "      <td>97</td>\n",
       "      <td>994.47</td>\n",
       "      <td>10.252268</td>\n",
       "      <td>1</td>\n",
       "      <td>0</td>\n",
       "      <td>100</td>\n",
       "      <td>0</td>\n",
       "    </tr>\n",
       "    <tr>\n",
       "      <th>60009</th>\n",
       "      <td>42.0</td>\n",
       "      <td>1</td>\n",
       "      <td>165</td>\n",
       "      <td>1.0</td>\n",
       "      <td>172</td>\n",
       "      <td>9591.75</td>\n",
       "      <td>55.765988</td>\n",
       "      <td>0</td>\n",
       "      <td>1</td>\n",
       "      <td>177</td>\n",
       "      <td>0</td>\n",
       "    </tr>\n",
       "    <tr>\n",
       "      <th>60010</th>\n",
       "      <td>33.0</td>\n",
       "      <td>1</td>\n",
       "      <td>82</td>\n",
       "      <td>1.0</td>\n",
       "      <td>61</td>\n",
       "      <td>2817.00</td>\n",
       "      <td>46.180328</td>\n",
       "      <td>0</td>\n",
       "      <td>1</td>\n",
       "      <td>38</td>\n",
       "      <td>0</td>\n",
       "    </tr>\n",
       "    <tr>\n",
       "      <th>60011</th>\n",
       "      <td>32.0</td>\n",
       "      <td>1</td>\n",
       "      <td>654</td>\n",
       "      <td>1.0</td>\n",
       "      <td>203</td>\n",
       "      <td>9437.52</td>\n",
       "      <td>46.490246</td>\n",
       "      <td>0</td>\n",
       "      <td>0</td>\n",
       "      <td>649</td>\n",
       "      <td>0</td>\n",
       "    </tr>\n",
       "  </tbody>\n",
       "</table>\n",
       "<p>60012 rows × 11 columns</p>\n",
       "</div>"
      ],
      "text/plain": [
       "        age  buys_most_popular  tenure  buying_own_trademark  total_purchase  \\\n",
       "0      36.0                  1     185                   1.0              78   \n",
       "1      63.0                  0     622                   1.0              26   \n",
       "2      49.0                  1     352                   1.0             158   \n",
       "3      46.0                  0     527                   1.0             122   \n",
       "4       0.0                  1   17973                   1.0              28   \n",
       "...     ...                ...     ...                   ...             ...   \n",
       "60007  26.0                  1     290                   1.0              64   \n",
       "60008  37.0                  1     534                   1.0              97   \n",
       "60009  42.0                  1     165                   1.0             172   \n",
       "60010  33.0                  1      82                   1.0              61   \n",
       "60011  32.0                  1     654                   1.0             203   \n",
       "\n",
       "       sum_purchase  average_visit  gender_M  gender_U  days_for_first_use  \\\n",
       "0           3147.53      40.352949         0         0              -17788   \n",
       "1           5680.57     218.483462         0         0                  59   \n",
       "2           6193.04      39.196456         0         0                 105   \n",
       "3           8265.26      67.748033         0         1                 309   \n",
       "4           8960.00     320.000000         0         0                   0   \n",
       "...             ...            ...       ...       ...                 ...   \n",
       "60007      11462.29     179.098281         1         0                 208   \n",
       "60008        994.47      10.252268         1         0                 100   \n",
       "60009       9591.75      55.765988         0         1                 177   \n",
       "60010       2817.00      46.180328         0         1                  38   \n",
       "60011       9437.52      46.490246         0         0                 649   \n",
       "\n",
       "       treatment_flg  \n",
       "0                  0  \n",
       "1                  0  \n",
       "2                  0  \n",
       "3                  0  \n",
       "4                  0  \n",
       "...              ...  \n",
       "60007              0  \n",
       "60008              0  \n",
       "60009              0  \n",
       "60010              0  \n",
       "60011              0  \n",
       "\n",
       "[60012 rows x 11 columns]"
      ]
     },
     "execution_count": 177,
     "metadata": {},
     "output_type": "execute_result"
    }
   ],
   "source": [
    "test_data"
   ]
  },
  {
   "cell_type": "code",
   "execution_count": 178,
   "id": "a684ce19",
   "metadata": {},
   "outputs": [],
   "source": [
    "predictions_test_proba = model.predict_proba(test_data)\n",
    "probabilities_zero_test = predictions_test_proba[:, 1]"
   ]
  },
  {
   "cell_type": "code",
   "execution_count": 179,
   "id": "294bea26",
   "metadata": {},
   "outputs": [
    {
     "data": {
      "text/plain": [
       "array([0.2925841 , 0.72090203, 0.62432665, ..., 0.66875686, 0.47128414,\n",
       "       0.61743611])"
      ]
     },
     "execution_count": 179,
     "metadata": {},
     "output_type": "execute_result"
    }
   ],
   "source": [
    "probabilities_zero_test"
   ]
  },
  {
   "cell_type": "markdown",
   "id": "813d0a0a",
   "metadata": {},
   "source": [
    "### Аплифт"
   ]
  },
  {
   "cell_type": "code",
   "execution_count": 180,
   "id": "bf113543",
   "metadata": {},
   "outputs": [],
   "source": [
    "calculate_proba = pd.DataFrame()"
   ]
  },
  {
   "cell_type": "code",
   "execution_count": 181,
   "id": "b73e2700",
   "metadata": {},
   "outputs": [],
   "source": [
    "calculate_proba['zero_proba'] = pd.Series(list(probabilities_zero_test))"
   ]
  },
  {
   "cell_type": "code",
   "execution_count": 182,
   "id": "5294975a",
   "metadata": {},
   "outputs": [],
   "source": [
    "def get_class_zero(row):\n",
    "    if row['zero_proba'] >= 0.5:\n",
    "        return 1\n",
    "    else:\n",
    "        return 0"
   ]
  },
  {
   "cell_type": "code",
   "execution_count": 183,
   "id": "689af0f5",
   "metadata": {},
   "outputs": [],
   "source": [
    "calculate_proba['class_with_treat_0'] = calculate_proba.apply(get_class_zero, axis=1)"
   ]
  },
  {
   "cell_type": "code",
   "execution_count": 184,
   "id": "01820fa4",
   "metadata": {},
   "outputs": [],
   "source": [
    "calculate_proba['one_proba'] = pd.Series(list(probabilities_one_test))"
   ]
  },
  {
   "cell_type": "code",
   "execution_count": 185,
   "id": "7865a91c",
   "metadata": {},
   "outputs": [],
   "source": [
    "def get_class_one(row):\n",
    "    if row['one_proba'] >= 0.5:\n",
    "        return 1\n",
    "    else:\n",
    "        return 0"
   ]
  },
  {
   "cell_type": "code",
   "execution_count": 186,
   "id": "2a5ec5ff",
   "metadata": {},
   "outputs": [],
   "source": [
    "calculate_proba['class_with_treat_1'] = calculate_proba.apply(get_class_one, axis=1)"
   ]
  },
  {
   "cell_type": "code",
   "execution_count": 187,
   "id": "c4d73324",
   "metadata": {
    "scrolled": false
   },
   "outputs": [
    {
     "data": {
      "text/html": [
       "<div>\n",
       "<style scoped>\n",
       "    .dataframe tbody tr th:only-of-type {\n",
       "        vertical-align: middle;\n",
       "    }\n",
       "\n",
       "    .dataframe tbody tr th {\n",
       "        vertical-align: top;\n",
       "    }\n",
       "\n",
       "    .dataframe thead th {\n",
       "        text-align: right;\n",
       "    }\n",
       "</style>\n",
       "<table border=\"1\" class=\"dataframe\">\n",
       "  <thead>\n",
       "    <tr style=\"text-align: right;\">\n",
       "      <th></th>\n",
       "      <th>zero_proba</th>\n",
       "      <th>class_with_treat_0</th>\n",
       "      <th>one_proba</th>\n",
       "      <th>class_with_treat_1</th>\n",
       "    </tr>\n",
       "  </thead>\n",
       "  <tbody>\n",
       "    <tr>\n",
       "      <th>0</th>\n",
       "      <td>0.292584</td>\n",
       "      <td>0</td>\n",
       "      <td>0.303978</td>\n",
       "      <td>0</td>\n",
       "    </tr>\n",
       "    <tr>\n",
       "      <th>1</th>\n",
       "      <td>0.720902</td>\n",
       "      <td>1</td>\n",
       "      <td>0.762019</td>\n",
       "      <td>1</td>\n",
       "    </tr>\n",
       "    <tr>\n",
       "      <th>2</th>\n",
       "      <td>0.624327</td>\n",
       "      <td>1</td>\n",
       "      <td>0.656058</td>\n",
       "      <td>1</td>\n",
       "    </tr>\n",
       "    <tr>\n",
       "      <th>3</th>\n",
       "      <td>0.701152</td>\n",
       "      <td>1</td>\n",
       "      <td>0.720781</td>\n",
       "      <td>1</td>\n",
       "    </tr>\n",
       "    <tr>\n",
       "      <th>4</th>\n",
       "      <td>0.597347</td>\n",
       "      <td>1</td>\n",
       "      <td>0.626897</td>\n",
       "      <td>1</td>\n",
       "    </tr>\n",
       "    <tr>\n",
       "      <th>...</th>\n",
       "      <td>...</td>\n",
       "      <td>...</td>\n",
       "      <td>...</td>\n",
       "      <td>...</td>\n",
       "    </tr>\n",
       "    <tr>\n",
       "      <th>60007</th>\n",
       "      <td>0.714832</td>\n",
       "      <td>1</td>\n",
       "      <td>0.736355</td>\n",
       "      <td>1</td>\n",
       "    </tr>\n",
       "    <tr>\n",
       "      <th>60008</th>\n",
       "      <td>0.263684</td>\n",
       "      <td>0</td>\n",
       "      <td>0.295205</td>\n",
       "      <td>0</td>\n",
       "    </tr>\n",
       "    <tr>\n",
       "      <th>60009</th>\n",
       "      <td>0.668757</td>\n",
       "      <td>1</td>\n",
       "      <td>0.692753</td>\n",
       "      <td>1</td>\n",
       "    </tr>\n",
       "    <tr>\n",
       "      <th>60010</th>\n",
       "      <td>0.471284</td>\n",
       "      <td>0</td>\n",
       "      <td>0.523466</td>\n",
       "      <td>1</td>\n",
       "    </tr>\n",
       "    <tr>\n",
       "      <th>60011</th>\n",
       "      <td>0.617436</td>\n",
       "      <td>1</td>\n",
       "      <td>0.634435</td>\n",
       "      <td>1</td>\n",
       "    </tr>\n",
       "  </tbody>\n",
       "</table>\n",
       "<p>60012 rows × 4 columns</p>\n",
       "</div>"
      ],
      "text/plain": [
       "       zero_proba  class_with_treat_0  one_proba  class_with_treat_1\n",
       "0        0.292584                   0   0.303978                   0\n",
       "1        0.720902                   1   0.762019                   1\n",
       "2        0.624327                   1   0.656058                   1\n",
       "3        0.701152                   1   0.720781                   1\n",
       "4        0.597347                   1   0.626897                   1\n",
       "...           ...                 ...        ...                 ...\n",
       "60007    0.714832                   1   0.736355                   1\n",
       "60008    0.263684                   0   0.295205                   0\n",
       "60009    0.668757                   1   0.692753                   1\n",
       "60010    0.471284                   0   0.523466                   1\n",
       "60011    0.617436                   1   0.634435                   1\n",
       "\n",
       "[60012 rows x 4 columns]"
      ]
     },
     "execution_count": 187,
     "metadata": {},
     "output_type": "execute_result"
    }
   ],
   "source": [
    "calculate_proba"
   ]
  },
  {
   "cell_type": "code",
   "execution_count": 188,
   "id": "a5249be1",
   "metadata": {},
   "outputs": [
    {
     "data": {
      "text/html": [
       "<div>\n",
       "<style scoped>\n",
       "    .dataframe tbody tr th:only-of-type {\n",
       "        vertical-align: middle;\n",
       "    }\n",
       "\n",
       "    .dataframe tbody tr th {\n",
       "        vertical-align: top;\n",
       "    }\n",
       "\n",
       "    .dataframe thead th {\n",
       "        text-align: right;\n",
       "    }\n",
       "</style>\n",
       "<table border=\"1\" class=\"dataframe\">\n",
       "  <thead>\n",
       "    <tr style=\"text-align: right;\">\n",
       "      <th></th>\n",
       "      <th>zero_proba</th>\n",
       "      <th>class_with_treat_0</th>\n",
       "      <th>one_proba</th>\n",
       "      <th>class_with_treat_1</th>\n",
       "    </tr>\n",
       "  </thead>\n",
       "  <tbody>\n",
       "    <tr>\n",
       "      <th>16</th>\n",
       "      <td>0.465863</td>\n",
       "      <td>0</td>\n",
       "      <td>0.502280</td>\n",
       "      <td>1</td>\n",
       "    </tr>\n",
       "    <tr>\n",
       "      <th>23</th>\n",
       "      <td>0.499393</td>\n",
       "      <td>0</td>\n",
       "      <td>0.546258</td>\n",
       "      <td>1</td>\n",
       "    </tr>\n",
       "    <tr>\n",
       "      <th>24</th>\n",
       "      <td>0.479198</td>\n",
       "      <td>0</td>\n",
       "      <td>0.524735</td>\n",
       "      <td>1</td>\n",
       "    </tr>\n",
       "    <tr>\n",
       "      <th>54</th>\n",
       "      <td>0.480864</td>\n",
       "      <td>0</td>\n",
       "      <td>0.511921</td>\n",
       "      <td>1</td>\n",
       "    </tr>\n",
       "    <tr>\n",
       "      <th>66</th>\n",
       "      <td>0.443732</td>\n",
       "      <td>0</td>\n",
       "      <td>0.503747</td>\n",
       "      <td>1</td>\n",
       "    </tr>\n",
       "    <tr>\n",
       "      <th>...</th>\n",
       "      <td>...</td>\n",
       "      <td>...</td>\n",
       "      <td>...</td>\n",
       "      <td>...</td>\n",
       "    </tr>\n",
       "    <tr>\n",
       "      <th>59966</th>\n",
       "      <td>0.486216</td>\n",
       "      <td>0</td>\n",
       "      <td>0.552039</td>\n",
       "      <td>1</td>\n",
       "    </tr>\n",
       "    <tr>\n",
       "      <th>59980</th>\n",
       "      <td>0.497571</td>\n",
       "      <td>0</td>\n",
       "      <td>0.524815</td>\n",
       "      <td>1</td>\n",
       "    </tr>\n",
       "    <tr>\n",
       "      <th>59999</th>\n",
       "      <td>0.485618</td>\n",
       "      <td>0</td>\n",
       "      <td>0.504108</td>\n",
       "      <td>1</td>\n",
       "    </tr>\n",
       "    <tr>\n",
       "      <th>60005</th>\n",
       "      <td>0.468036</td>\n",
       "      <td>0</td>\n",
       "      <td>0.523123</td>\n",
       "      <td>1</td>\n",
       "    </tr>\n",
       "    <tr>\n",
       "      <th>60010</th>\n",
       "      <td>0.471284</td>\n",
       "      <td>0</td>\n",
       "      <td>0.523466</td>\n",
       "      <td>1</td>\n",
       "    </tr>\n",
       "  </tbody>\n",
       "</table>\n",
       "<p>3036 rows × 4 columns</p>\n",
       "</div>"
      ],
      "text/plain": [
       "       zero_proba  class_with_treat_0  one_proba  class_with_treat_1\n",
       "16       0.465863                   0   0.502280                   1\n",
       "23       0.499393                   0   0.546258                   1\n",
       "24       0.479198                   0   0.524735                   1\n",
       "54       0.480864                   0   0.511921                   1\n",
       "66       0.443732                   0   0.503747                   1\n",
       "...           ...                 ...        ...                 ...\n",
       "59966    0.486216                   0   0.552039                   1\n",
       "59980    0.497571                   0   0.524815                   1\n",
       "59999    0.485618                   0   0.504108                   1\n",
       "60005    0.468036                   0   0.523123                   1\n",
       "60010    0.471284                   0   0.523466                   1\n",
       "\n",
       "[3036 rows x 4 columns]"
      ]
     },
     "execution_count": 188,
     "metadata": {},
     "output_type": "execute_result"
    }
   ],
   "source": [
    "calculate_proba[(calculate_proba['class_with_treat_0'] == 0) & (calculate_proba['class_with_treat_1'] == 1)]"
   ]
  },
  {
   "cell_type": "code",
   "execution_count": 189,
   "id": "679b7a30",
   "metadata": {},
   "outputs": [
    {
     "name": "stdout",
     "output_type": "stream",
     "text": [
      "<class 'pandas.core.frame.DataFrame'>\n",
      "RangeIndex: 60012 entries, 0 to 60011\n",
      "Data columns (total 4 columns):\n",
      " #   Column              Non-Null Count  Dtype  \n",
      "---  ------              --------------  -----  \n",
      " 0   zero_proba          60012 non-null  float64\n",
      " 1   class_with_treat_0  60012 non-null  int64  \n",
      " 2   one_proba           60012 non-null  float64\n",
      " 3   class_with_treat_1  60012 non-null  int64  \n",
      "dtypes: float64(2), int64(2)\n",
      "memory usage: 1.8 MB\n"
     ]
    }
   ],
   "source": [
    "calculate_proba.info()"
   ]
  },
  {
   "cell_type": "code",
   "execution_count": 190,
   "id": "19001ede",
   "metadata": {},
   "outputs": [],
   "source": [
    "def get_uplift(row):\n",
    "    class_proba = row['one_proba']*row['class_with_treat_1']\n",
    "    return class_proba"
   ]
  },
  {
   "cell_type": "code",
   "execution_count": 191,
   "id": "4bf191c2",
   "metadata": {},
   "outputs": [],
   "source": [
    "calculate_proba = calculate_proba.apply(get_uplift, axis=1)"
   ]
  },
  {
   "cell_type": "code",
   "execution_count": 192,
   "id": "5e2c9ef5",
   "metadata": {},
   "outputs": [
    {
     "data": {
      "text/plain": [
       "0        0.000000\n",
       "1        0.762019\n",
       "2        0.656058\n",
       "3        0.720781\n",
       "4        0.626897\n",
       "           ...   \n",
       "60007    0.736355\n",
       "60008    0.000000\n",
       "60009    0.692753\n",
       "60010    0.523466\n",
       "60011    0.634435\n",
       "Length: 60012, dtype: float64"
      ]
     },
     "execution_count": 192,
     "metadata": {},
     "output_type": "execute_result"
    }
   ],
   "source": [
    "calculate_proba"
   ]
  },
  {
   "cell_type": "code",
   "execution_count": 193,
   "id": "6ab04245",
   "metadata": {},
   "outputs": [],
   "source": [
    "submission_one = pd.DataFrame()\n",
    "submission_one['client_id'] = test_clienst_id['client_id']\n",
    "submission_one['pred'] = pd.Series(list(calculate_proba))\n"
   ]
  },
  {
   "cell_type": "code",
   "execution_count": 194,
   "id": "a1f12af7",
   "metadata": {},
   "outputs": [
    {
     "data": {
      "text/html": [
       "<div>\n",
       "<style scoped>\n",
       "    .dataframe tbody tr th:only-of-type {\n",
       "        vertical-align: middle;\n",
       "    }\n",
       "\n",
       "    .dataframe tbody tr th {\n",
       "        vertical-align: top;\n",
       "    }\n",
       "\n",
       "    .dataframe thead th {\n",
       "        text-align: right;\n",
       "    }\n",
       "</style>\n",
       "<table border=\"1\" class=\"dataframe\">\n",
       "  <thead>\n",
       "    <tr style=\"text-align: right;\">\n",
       "      <th></th>\n",
       "      <th>client_id</th>\n",
       "      <th>pred</th>\n",
       "    </tr>\n",
       "  </thead>\n",
       "  <tbody>\n",
       "    <tr>\n",
       "      <th>0</th>\n",
       "      <td>a9a604ed6e</td>\n",
       "      <td>0.000000</td>\n",
       "    </tr>\n",
       "    <tr>\n",
       "      <th>1</th>\n",
       "      <td>ebd7360016</td>\n",
       "      <td>0.762019</td>\n",
       "    </tr>\n",
       "    <tr>\n",
       "      <th>2</th>\n",
       "      <td>908cd9b8e8</td>\n",
       "      <td>0.656058</td>\n",
       "    </tr>\n",
       "    <tr>\n",
       "      <th>3</th>\n",
       "      <td>dceb8ce861</td>\n",
       "      <td>0.720781</td>\n",
       "    </tr>\n",
       "    <tr>\n",
       "      <th>4</th>\n",
       "      <td>f4f0ac6b06</td>\n",
       "      <td>0.626897</td>\n",
       "    </tr>\n",
       "    <tr>\n",
       "      <th>...</th>\n",
       "      <td>...</td>\n",
       "      <td>...</td>\n",
       "    </tr>\n",
       "    <tr>\n",
       "      <th>60007</th>\n",
       "      <td>4762fb04c5</td>\n",
       "      <td>0.736355</td>\n",
       "    </tr>\n",
       "    <tr>\n",
       "      <th>60008</th>\n",
       "      <td>533d1516e7</td>\n",
       "      <td>0.000000</td>\n",
       "    </tr>\n",
       "    <tr>\n",
       "      <th>60009</th>\n",
       "      <td>c93b21a707</td>\n",
       "      <td>0.692753</td>\n",
       "    </tr>\n",
       "    <tr>\n",
       "      <th>60010</th>\n",
       "      <td>3fe0668de5</td>\n",
       "      <td>0.523466</td>\n",
       "    </tr>\n",
       "    <tr>\n",
       "      <th>60011</th>\n",
       "      <td>8d1ea24f5e</td>\n",
       "      <td>0.634435</td>\n",
       "    </tr>\n",
       "  </tbody>\n",
       "</table>\n",
       "<p>60012 rows × 2 columns</p>\n",
       "</div>"
      ],
      "text/plain": [
       "        client_id      pred\n",
       "0      a9a604ed6e  0.000000\n",
       "1      ebd7360016  0.762019\n",
       "2      908cd9b8e8  0.656058\n",
       "3      dceb8ce861  0.720781\n",
       "4      f4f0ac6b06  0.626897\n",
       "...           ...       ...\n",
       "60007  4762fb04c5  0.736355\n",
       "60008  533d1516e7  0.000000\n",
       "60009  c93b21a707  0.692753\n",
       "60010  3fe0668de5  0.523466\n",
       "60011  8d1ea24f5e  0.634435\n",
       "\n",
       "[60012 rows x 2 columns]"
      ]
     },
     "execution_count": 194,
     "metadata": {},
     "output_type": "execute_result"
    }
   ],
   "source": [
    "submission_one"
   ]
  },
  {
   "cell_type": "code",
   "execution_count": 195,
   "id": "0c268169",
   "metadata": {},
   "outputs": [],
   "source": [
    "submission_one.to_csv('submission_one.csv', index=False)"
   ]
  },
  {
   "cell_type": "markdown",
   "id": "20288d8c",
   "metadata": {},
   "source": [
    "### Scikit"
   ]
  },
  {
   "cell_type": "markdown",
   "id": "04e353d7",
   "metadata": {},
   "source": [
    "Подход напрямую не удался — время подключать готовые библиотеки."
   ]
  },
  {
   "cell_type": "code",
   "execution_count": 196,
   "id": "69e83218",
   "metadata": {},
   "outputs": [],
   "source": [
    "test_data = test_data.drop(columns=['treatment_flg'])"
   ]
  },
  {
   "cell_type": "code",
   "execution_count": 197,
   "id": "837a62a2",
   "metadata": {},
   "outputs": [
    {
     "name": "stdout",
     "output_type": "stream",
     "text": [
      "Requirement already satisfied: scikit-uplift in c:\\users\\rizho\\anaconda3\\lib\\site-packages (0.5.1)\n",
      "Requirement already satisfied: scikit-learn>=0.21.0 in c:\\users\\rizho\\anaconda3\\lib\\site-packages (from scikit-uplift) (1.1.3)\n",
      "Requirement already satisfied: matplotlib in c:\\users\\rizho\\anaconda3\\lib\\site-packages (from scikit-uplift) (3.3.4)\n",
      "Requirement already satisfied: pandas in c:\\users\\rizho\\anaconda3\\lib\\site-packages (from scikit-uplift) (1.2.4)\n",
      "Requirement already satisfied: numpy>=1.16 in c:\\users\\rizho\\anaconda3\\lib\\site-packages (from scikit-uplift) (1.20.1)\n",
      "Requirement already satisfied: tqdm in c:\\users\\rizho\\anaconda3\\lib\\site-packages (from scikit-uplift) (4.59.0)\n",
      "Requirement already satisfied: requests in c:\\users\\rizho\\anaconda3\\lib\\site-packages (from scikit-uplift) (2.25.1)\n",
      "Requirement already satisfied: joblib>=1.0.0 in c:\\users\\rizho\\anaconda3\\lib\\site-packages (from scikit-learn>=0.21.0->scikit-uplift) (1.0.1)\n",
      "Requirement already satisfied: scipy>=1.3.2 in c:\\users\\rizho\\anaconda3\\lib\\site-packages (from scikit-learn>=0.21.0->scikit-uplift) (1.6.2)\n",
      "Requirement already satisfied: threadpoolctl>=2.0.0 in c:\\users\\rizho\\anaconda3\\lib\\site-packages (from scikit-learn>=0.21.0->scikit-uplift) (2.1.0)\n",
      "Requirement already satisfied: pyparsing!=2.0.4,!=2.1.2,!=2.1.6,>=2.0.3 in c:\\users\\rizho\\anaconda3\\lib\\site-packages (from matplotlib->scikit-uplift) (2.4.7)\n",
      "Requirement already satisfied: pillow>=6.2.0 in c:\\users\\rizho\\anaconda3\\lib\\site-packages (from matplotlib->scikit-uplift) (8.2.0)\n",
      "Requirement already satisfied: kiwisolver>=1.0.1 in c:\\users\\rizho\\anaconda3\\lib\\site-packages (from matplotlib->scikit-uplift) (1.3.1)\n",
      "Requirement already satisfied: python-dateutil>=2.1 in c:\\users\\rizho\\anaconda3\\lib\\site-packages (from matplotlib->scikit-uplift) (2.8.1)\n",
      "Requirement already satisfied: cycler>=0.10 in c:\\users\\rizho\\anaconda3\\lib\\site-packages (from matplotlib->scikit-uplift) (0.10.0)\n",
      "Requirement already satisfied: six in c:\\users\\rizho\\anaconda3\\lib\\site-packages (from cycler>=0.10->matplotlib->scikit-uplift) (1.15.0)\n",
      "Requirement already satisfied: pytz>=2017.3 in c:\\users\\rizho\\anaconda3\\lib\\site-packages (from pandas->scikit-uplift) (2021.1)\n",
      "Requirement already satisfied: chardet<5,>=3.0.2 in c:\\users\\rizho\\anaconda3\\lib\\site-packages (from requests->scikit-uplift) (4.0.0)\n",
      "Requirement already satisfied: idna<3,>=2.5 in c:\\users\\rizho\\anaconda3\\lib\\site-packages (from requests->scikit-uplift) (2.10)\n",
      "Requirement already satisfied: certifi>=2017.4.17 in c:\\users\\rizho\\anaconda3\\lib\\site-packages (from requests->scikit-uplift) (2020.12.5)\n",
      "Requirement already satisfied: urllib3<1.27,>=1.21.1 in c:\\users\\rizho\\anaconda3\\lib\\site-packages (from requests->scikit-uplift) (1.26.4)\n"
     ]
    }
   ],
   "source": [
    "!pip install scikit-uplift"
   ]
  },
  {
   "cell_type": "code",
   "execution_count": 198,
   "id": "f7a601ac",
   "metadata": {},
   "outputs": [],
   "source": [
    "data_train = pd.read_csv('my_train_data.csv')"
   ]
  },
  {
   "cell_type": "code",
   "execution_count": 199,
   "id": "edf65201",
   "metadata": {},
   "outputs": [],
   "source": [
    "data_train = pd.read_csv('my_train_data.csv').drop(columns=['Unnamed: 0'])"
   ]
  },
  {
   "cell_type": "code",
   "execution_count": 200,
   "id": "b03d341b",
   "metadata": {},
   "outputs": [],
   "source": [
    "y_train = data_train['purchased']\n",
    "treat_train = data_train['treatment_flg']\n",
    "data_train.drop(['treatment_flg', 'purchased'], axis=1, inplace=True)\n",
    "X_train = data_train"
   ]
  },
  {
   "cell_type": "code",
   "execution_count": 201,
   "id": "e83f9c62",
   "metadata": {},
   "outputs": [],
   "source": [
    "from sklift.metrics import uplift_at_k\n",
    "from sklift.viz import plot_uplift_preds\n",
    "from sklift.models import SoloModel"
   ]
  },
  {
   "cell_type": "code",
   "execution_count": 202,
   "id": "d6c6e219",
   "metadata": {},
   "outputs": [],
   "source": [
    "models_results = {\n",
    "    'approach': [],\n",
    "    'uplift@30%': []\n",
    "}"
   ]
  },
  {
   "cell_type": "code",
   "execution_count": 203,
   "id": "c71267cb",
   "metadata": {},
   "outputs": [],
   "source": [
    "indices_learn, indices_valid = train_test_split(data_train.index, test_size=0.3, random_state=123)\n",
    "indices_test = pd.Index(set(data_train.index) - set(['purchased', 'treatment_flg']))"
   ]
  },
  {
   "cell_type": "code",
   "execution_count": 204,
   "id": "f66e2319",
   "metadata": {},
   "outputs": [],
   "source": [
    "X_val = X_train.loc[indices_valid, :]\n",
    "y_val = y_train.loc[indices_valid]\n",
    "treat_val = treat_train.loc[indices_valid]"
   ]
  },
  {
   "cell_type": "code",
   "execution_count": 205,
   "id": "1d85ccd1",
   "metadata": {},
   "outputs": [],
   "source": [
    "lgb_model = LGBMClassifier(random_state=2021,\n",
    "                           learning_rate=0.01,\n",
    "                           max_depth=10,\n",
    "                           metric=\"roc\",\n",
    "                           n_estimators=16000)"
   ]
  },
  {
   "cell_type": "code",
   "execution_count": 206,
   "id": "6fa21643",
   "metadata": {},
   "outputs": [],
   "source": [
    "sm = SoloModel(lgb_model)\n",
    "sm = sm.fit(X_train, y_train, treat_train)\n",
    "\n",
    "uplift_sm = sm.predict(X_val)\n",
    "\n",
    "sm_score = uplift_at_k(y_true=y_val, uplift=uplift_sm, treatment=treat_val, strategy='by_group', k=0.3)"
   ]
  },
  {
   "cell_type": "code",
   "execution_count": 207,
   "id": "6ff138a9",
   "metadata": {},
   "outputs": [
    {
     "data": {
      "image/png": "[encoded data removed]",
      "text/plain": [
       "<Figure size 1440x504 with 3 Axes>"
      ]
     },
     "metadata": {
      "needs_background": "light"
     },
     "output_type": "display_data"
    }
   ],
   "source": [
    "models_results['approach'].append('SoloModel')\n",
    "models_results['uplift@30%'].append(sm_score)\n",
    "\n",
    "# Получим условные вероятности выполнения целевого действия при взаимодействии для каждого объекта\n",
    "sm_trmnt_preds = sm.trmnt_preds_\n",
    "# И условные вероятности выполнения целевого действия без взаимодействия для каждого объекта\n",
    "sm_ctrl_preds = sm.ctrl_preds_\n",
    "\n",
    "# Отрисуем распределения вероятностей и их разность (uplift)\n",
    "plot_uplift_preds(trmnt_preds=sm_trmnt_preds, ctrl_preds=sm_ctrl_preds);"
   ]
  },
  {
   "cell_type": "code",
   "execution_count": 208,
   "id": "980c6b1e",
   "metadata": {},
   "outputs": [],
   "source": [
    "y_pred = sm.predict(test_data)"
   ]
  },
  {
   "cell_type": "code",
   "execution_count": 209,
   "id": "c651e56c",
   "metadata": {},
   "outputs": [
    {
     "data": {
      "text/plain": [
       "0        a9a604ed6e\n",
       "1        ebd7360016\n",
       "2        908cd9b8e8\n",
       "3        dceb8ce861\n",
       "4        f4f0ac6b06\n",
       "            ...    \n",
       "60007    4762fb04c5\n",
       "60008    533d1516e7\n",
       "60009    c93b21a707\n",
       "60010    3fe0668de5\n",
       "60011    8d1ea24f5e\n",
       "Name: client_id, Length: 60012, dtype: object"
      ]
     },
     "execution_count": 209,
     "metadata": {},
     "output_type": "execute_result"
    }
   ],
   "source": [
    "test_clienst_id['client_id']"
   ]
  },
  {
   "cell_type": "code",
   "execution_count": 210,
   "id": "72bb03a4",
   "metadata": {},
   "outputs": [],
   "source": [
    "uplift_ans = pd.DataFrame({'client_id' : list(test_clienst_id['client_id']), 'pred': y_pred})\n",
    "uplift_ans.to_csv(\"uplift.csv\", index=False)"
   ]
  },
  {
   "cell_type": "code",
   "execution_count": 211,
   "id": "8f7d44a5",
   "metadata": {},
   "outputs": [],
   "source": [
    "def get_zero(row):\n",
    "    if row['pred'] < 0:\n",
    "        return 0\n",
    "    else:\n",
    "        return row['pred']"
   ]
  },
  {
   "cell_type": "code",
   "execution_count": 212,
   "id": "4319a282",
   "metadata": {},
   "outputs": [],
   "source": [
    "uplift_ans['predictions'] = uplift_ans.apply(get_zero, axis=1)"
   ]
  },
  {
   "cell_type": "code",
   "execution_count": 213,
   "id": "28d2293d",
   "metadata": {},
   "outputs": [
    {
     "data": {
      "text/html": [
       "<div>\n",
       "<style scoped>\n",
       "    .dataframe tbody tr th:only-of-type {\n",
       "        vertical-align: middle;\n",
       "    }\n",
       "\n",
       "    .dataframe tbody tr th {\n",
       "        vertical-align: top;\n",
       "    }\n",
       "\n",
       "    .dataframe thead th {\n",
       "        text-align: right;\n",
       "    }\n",
       "</style>\n",
       "<table border=\"1\" class=\"dataframe\">\n",
       "  <thead>\n",
       "    <tr style=\"text-align: right;\">\n",
       "      <th></th>\n",
       "      <th>client_id</th>\n",
       "      <th>pred</th>\n",
       "      <th>predictions</th>\n",
       "    </tr>\n",
       "  </thead>\n",
       "  <tbody>\n",
       "    <tr>\n",
       "      <th>0</th>\n",
       "      <td>a9a604ed6e</td>\n",
       "      <td>0.050024</td>\n",
       "      <td>0.050024</td>\n",
       "    </tr>\n",
       "    <tr>\n",
       "      <th>1</th>\n",
       "      <td>ebd7360016</td>\n",
       "      <td>0.008332</td>\n",
       "      <td>0.008332</td>\n",
       "    </tr>\n",
       "    <tr>\n",
       "      <th>2</th>\n",
       "      <td>908cd9b8e8</td>\n",
       "      <td>0.034603</td>\n",
       "      <td>0.034603</td>\n",
       "    </tr>\n",
       "    <tr>\n",
       "      <th>3</th>\n",
       "      <td>dceb8ce861</td>\n",
       "      <td>0.040076</td>\n",
       "      <td>0.040076</td>\n",
       "    </tr>\n",
       "    <tr>\n",
       "      <th>4</th>\n",
       "      <td>f4f0ac6b06</td>\n",
       "      <td>0.165556</td>\n",
       "      <td>0.165556</td>\n",
       "    </tr>\n",
       "    <tr>\n",
       "      <th>...</th>\n",
       "      <td>...</td>\n",
       "      <td>...</td>\n",
       "      <td>...</td>\n",
       "    </tr>\n",
       "    <tr>\n",
       "      <th>60007</th>\n",
       "      <td>4762fb04c5</td>\n",
       "      <td>0.019677</td>\n",
       "      <td>0.019677</td>\n",
       "    </tr>\n",
       "    <tr>\n",
       "      <th>60008</th>\n",
       "      <td>533d1516e7</td>\n",
       "      <td>0.042372</td>\n",
       "      <td>0.042372</td>\n",
       "    </tr>\n",
       "    <tr>\n",
       "      <th>60009</th>\n",
       "      <td>c93b21a707</td>\n",
       "      <td>0.008054</td>\n",
       "      <td>0.008054</td>\n",
       "    </tr>\n",
       "    <tr>\n",
       "      <th>60010</th>\n",
       "      <td>3fe0668de5</td>\n",
       "      <td>0.035907</td>\n",
       "      <td>0.035907</td>\n",
       "    </tr>\n",
       "    <tr>\n",
       "      <th>60011</th>\n",
       "      <td>8d1ea24f5e</td>\n",
       "      <td>0.017141</td>\n",
       "      <td>0.017141</td>\n",
       "    </tr>\n",
       "  </tbody>\n",
       "</table>\n",
       "<p>60012 rows × 3 columns</p>\n",
       "</div>"
      ],
      "text/plain": [
       "        client_id      pred  predictions\n",
       "0      a9a604ed6e  0.050024     0.050024\n",
       "1      ebd7360016  0.008332     0.008332\n",
       "2      908cd9b8e8  0.034603     0.034603\n",
       "3      dceb8ce861  0.040076     0.040076\n",
       "4      f4f0ac6b06  0.165556     0.165556\n",
       "...           ...       ...          ...\n",
       "60007  4762fb04c5  0.019677     0.019677\n",
       "60008  533d1516e7  0.042372     0.042372\n",
       "60009  c93b21a707  0.008054     0.008054\n",
       "60010  3fe0668de5  0.035907     0.035907\n",
       "60011  8d1ea24f5e  0.017141     0.017141\n",
       "\n",
       "[60012 rows x 3 columns]"
      ]
     },
     "execution_count": 213,
     "metadata": {},
     "output_type": "execute_result"
    }
   ],
   "source": [
    "uplift_ans"
   ]
  },
  {
   "cell_type": "code",
   "execution_count": 214,
   "id": "3f58e7ad",
   "metadata": {},
   "outputs": [],
   "source": [
    "uplift_ans_abs = pd.DataFrame({'client_id' : list(test_clienst_id['client_id']), 'pred': uplift_ans['predictions']})\n",
    "uplift_ans_abs.to_csv(\"uplift_1.csv\", index=False)"
   ]
  },
  {
   "cell_type": "markdown",
   "id": "2b4133f2",
   "metadata": {},
   "source": [
    "#### Catboost + Scikit"
   ]
  },
  {
   "cell_type": "code",
   "execution_count": 215,
   "id": "a4e0e438",
   "metadata": {},
   "outputs": [],
   "source": [
    "cat_model = CatBoostClassifier(random_state=2021,\n",
    "                               learning_rate=0.1,\n",
    "                               max_depth=10,\n",
    "                               verbose=100,\n",
    "                               eval_metric='AUC')"
   ]
  },
  {
   "cell_type": "code",
   "execution_count": 216,
   "id": "69fe4389",
   "metadata": {},
   "outputs": [
    {
     "name": "stdout",
     "output_type": "stream",
     "text": [
      "0:\ttotal: 84.3ms\tremaining: 1m 24s\n",
      "100:\ttotal: 8.49s\tremaining: 1m 15s\n",
      "200:\ttotal: 17.1s\tremaining: 1m 7s\n",
      "300:\ttotal: 25.2s\tremaining: 58.4s\n",
      "400:\ttotal: 33.2s\tremaining: 49.6s\n",
      "500:\ttotal: 41.6s\tremaining: 41.4s\n",
      "600:\ttotal: 52.2s\tremaining: 34.6s\n",
      "700:\ttotal: 1m 3s\tremaining: 27.3s\n",
      "800:\ttotal: 1m 12s\tremaining: 18.1s\n",
      "900:\ttotal: 1m 21s\tremaining: 9s\n",
      "999:\ttotal: 1m 29s\tremaining: 0us\n"
     ]
    }
   ],
   "source": [
    "sm = SoloModel(cat_model)\n",
    "sm = sm.fit(X_train, y_train, treat_train)\n",
    "\n",
    "uplift_sm = sm.predict(X_val)\n",
    "\n",
    "sm_score = uplift_at_k(y_true=y_val, uplift=uplift_sm, treatment=treat_val, strategy='by_group', k=0.3)"
   ]
  },
  {
   "cell_type": "code",
   "execution_count": 217,
   "id": "10895ca5",
   "metadata": {},
   "outputs": [
    {
     "data": {
      "image/png": "[encoded data removed]",
      "text/plain": [
       "<Figure size 1440x504 with 3 Axes>"
      ]
     },
     "metadata": {
      "needs_background": "light"
     },
     "output_type": "display_data"
    }
   ],
   "source": [
    "models_results['approach'].append('SoloModel')\n",
    "models_results['uplift@30%'].append(sm_score)\n",
    "\n",
    "# Получим условные вероятности выполнения целевого действия при взаимодействии для каждого объекта\n",
    "sm_trmnt_preds = sm.trmnt_preds_\n",
    "# И условные вероятности выполнения целевого действия без взаимодействия для каждого объекта\n",
    "sm_ctrl_preds = sm.ctrl_preds_\n",
    "\n",
    "# Отрисуем распределения вероятностей и их разность (uplift)\n",
    "plot_uplift_preds(trmnt_preds=sm_trmnt_preds, ctrl_preds=sm_ctrl_preds);"
   ]
  },
  {
   "cell_type": "code",
   "execution_count": 218,
   "id": "e5e09ee2",
   "metadata": {},
   "outputs": [],
   "source": [
    "y_pred = sm.predict(test_data)"
   ]
  },
  {
   "cell_type": "code",
   "execution_count": 219,
   "id": "e789934e",
   "metadata": {},
   "outputs": [],
   "source": [
    "uplift_ans = pd.DataFrame({'client_id' : list(test_clienst_id['client_id']), 'pred': y_pred})\n",
    "uplift_ans.to_csv(\"uplift_catboost.csv\", index=False)"
   ]
  },
  {
   "cell_type": "markdown",
   "id": "99e41b63",
   "metadata": {},
   "source": [
    "#### Среднее двух моделей"
   ]
  },
  {
   "cell_type": "code",
   "execution_count": 220,
   "id": "1c82bc56",
   "metadata": {},
   "outputs": [],
   "source": [
    "catboost_aswers = pd.read_csv(\"uplift_catboost.csv\")"
   ]
  },
  {
   "cell_type": "code",
   "execution_count": 221,
   "id": "fe591e7a",
   "metadata": {},
   "outputs": [],
   "source": [
    "lightgbm_aswers = pd.read_csv(\"uplift.csv\")"
   ]
  },
  {
   "cell_type": "code",
   "execution_count": 222,
   "id": "b9f130e4",
   "metadata": {},
   "outputs": [],
   "source": [
    "catboost_aswers['pred_lightgbm'] = lightgbm_aswers['pred']"
   ]
  },
  {
   "cell_type": "code",
   "execution_count": 223,
   "id": "bea23608",
   "metadata": {},
   "outputs": [],
   "source": [
    "catboost_aswers['mean_pred'] = (catboost_aswers['pred_lightgbm'] + catboost_aswers['pred']) /2"
   ]
  },
  {
   "cell_type": "code",
   "execution_count": 224,
   "id": "4ec85409",
   "metadata": {},
   "outputs": [
    {
     "data": {
      "text/html": [
       "<div>\n",
       "<style scoped>\n",
       "    .dataframe tbody tr th:only-of-type {\n",
       "        vertical-align: middle;\n",
       "    }\n",
       "\n",
       "    .dataframe tbody tr th {\n",
       "        vertical-align: top;\n",
       "    }\n",
       "\n",
       "    .dataframe thead th {\n",
       "        text-align: right;\n",
       "    }\n",
       "</style>\n",
       "<table border=\"1\" class=\"dataframe\">\n",
       "  <thead>\n",
       "    <tr style=\"text-align: right;\">\n",
       "      <th></th>\n",
       "      <th>client_id</th>\n",
       "      <th>pred</th>\n",
       "      <th>pred_lightgbm</th>\n",
       "      <th>mean_pred</th>\n",
       "    </tr>\n",
       "  </thead>\n",
       "  <tbody>\n",
       "    <tr>\n",
       "      <th>0</th>\n",
       "      <td>a9a604ed6e</td>\n",
       "      <td>-0.034349</td>\n",
       "      <td>0.050024</td>\n",
       "      <td>0.007837</td>\n",
       "    </tr>\n",
       "    <tr>\n",
       "      <th>1</th>\n",
       "      <td>ebd7360016</td>\n",
       "      <td>0.079138</td>\n",
       "      <td>0.008332</td>\n",
       "      <td>0.043735</td>\n",
       "    </tr>\n",
       "    <tr>\n",
       "      <th>2</th>\n",
       "      <td>908cd9b8e8</td>\n",
       "      <td>0.047650</td>\n",
       "      <td>0.034603</td>\n",
       "      <td>0.041126</td>\n",
       "    </tr>\n",
       "    <tr>\n",
       "      <th>3</th>\n",
       "      <td>dceb8ce861</td>\n",
       "      <td>0.031785</td>\n",
       "      <td>0.040076</td>\n",
       "      <td>0.035930</td>\n",
       "    </tr>\n",
       "    <tr>\n",
       "      <th>4</th>\n",
       "      <td>f4f0ac6b06</td>\n",
       "      <td>0.153638</td>\n",
       "      <td>0.165556</td>\n",
       "      <td>0.159597</td>\n",
       "    </tr>\n",
       "    <tr>\n",
       "      <th>...</th>\n",
       "      <td>...</td>\n",
       "      <td>...</td>\n",
       "      <td>...</td>\n",
       "      <td>...</td>\n",
       "    </tr>\n",
       "    <tr>\n",
       "      <th>60007</th>\n",
       "      <td>4762fb04c5</td>\n",
       "      <td>0.008071</td>\n",
       "      <td>0.019677</td>\n",
       "      <td>0.013874</td>\n",
       "    </tr>\n",
       "    <tr>\n",
       "      <th>60008</th>\n",
       "      <td>533d1516e7</td>\n",
       "      <td>0.232493</td>\n",
       "      <td>0.042372</td>\n",
       "      <td>0.137432</td>\n",
       "    </tr>\n",
       "    <tr>\n",
       "      <th>60009</th>\n",
       "      <td>c93b21a707</td>\n",
       "      <td>0.099516</td>\n",
       "      <td>0.008054</td>\n",
       "      <td>0.053785</td>\n",
       "    </tr>\n",
       "    <tr>\n",
       "      <th>60010</th>\n",
       "      <td>3fe0668de5</td>\n",
       "      <td>0.047540</td>\n",
       "      <td>0.035907</td>\n",
       "      <td>0.041724</td>\n",
       "    </tr>\n",
       "    <tr>\n",
       "      <th>60011</th>\n",
       "      <td>8d1ea24f5e</td>\n",
       "      <td>0.009383</td>\n",
       "      <td>0.017141</td>\n",
       "      <td>0.013262</td>\n",
       "    </tr>\n",
       "  </tbody>\n",
       "</table>\n",
       "<p>60012 rows × 4 columns</p>\n",
       "</div>"
      ],
      "text/plain": [
       "        client_id      pred  pred_lightgbm  mean_pred\n",
       "0      a9a604ed6e -0.034349       0.050024   0.007837\n",
       "1      ebd7360016  0.079138       0.008332   0.043735\n",
       "2      908cd9b8e8  0.047650       0.034603   0.041126\n",
       "3      dceb8ce861  0.031785       0.040076   0.035930\n",
       "4      f4f0ac6b06  0.153638       0.165556   0.159597\n",
       "...           ...       ...            ...        ...\n",
       "60007  4762fb04c5  0.008071       0.019677   0.013874\n",
       "60008  533d1516e7  0.232493       0.042372   0.137432\n",
       "60009  c93b21a707  0.099516       0.008054   0.053785\n",
       "60010  3fe0668de5  0.047540       0.035907   0.041724\n",
       "60011  8d1ea24f5e  0.009383       0.017141   0.013262\n",
       "\n",
       "[60012 rows x 4 columns]"
      ]
     },
     "execution_count": 224,
     "metadata": {},
     "output_type": "execute_result"
    }
   ],
   "source": [
    "catboost_aswers"
   ]
  },
  {
   "cell_type": "code",
   "execution_count": 225,
   "id": "7ce07c62",
   "metadata": {},
   "outputs": [],
   "source": [
    "uplift_ans = pd.DataFrame({'client_id' : list(test_clienst_id['client_id']), 'pred': catboost_aswers['mean_pred']})\n",
    "uplift_ans.to_csv(\"uplift_mean.csv\", index=False)"
   ]
  },
  {
   "cell_type": "markdown",
   "id": "d96dbdf9",
   "metadata": {},
   "source": [
    "#### Добавляем RandomForestClassifier"
   ]
  },
  {
   "cell_type": "code",
   "execution_count": 226,
   "id": "ffa6ff30",
   "metadata": {},
   "outputs": [],
   "source": [
    "forest_model = RandomForestClassifier(random_state=2021,\n",
    "                                      n_estimators=500)"
   ]
  },
  {
   "cell_type": "code",
   "execution_count": 227,
   "id": "913a5e38",
   "metadata": {},
   "outputs": [],
   "source": [
    "sm = SoloModel(forest_model)\n",
    "sm = sm.fit(X_train, y_train, treat_train)\n",
    "\n",
    "uplift_sm = sm.predict(X_val)\n",
    "\n",
    "sm_score = uplift_at_k(y_true=y_val, uplift=uplift_sm, treatment=treat_val, strategy='by_group', k=0.3)"
   ]
  },
  {
   "cell_type": "code",
   "execution_count": 228,
   "id": "6a174482",
   "metadata": {},
   "outputs": [
    {
     "data": {
      "image/png": "[encoded data removed]",
      "text/plain": [
       "<Figure size 1440x504 with 3 Axes>"
      ]
     },
     "metadata": {
      "needs_background": "light"
     },
     "output_type": "display_data"
    }
   ],
   "source": [
    "models_results['approach'].append('SoloModel')\n",
    "models_results['uplift@30%'].append(sm_score)\n",
    "\n",
    "# Получим условные вероятности выполнения целевого действия при взаимодействии для каждого объекта\n",
    "sm_trmnt_preds = sm.trmnt_preds_\n",
    "# И условные вероятности выполнения целевого действия без взаимодействия для каждого объекта\n",
    "sm_ctrl_preds = sm.ctrl_preds_\n",
    "\n",
    "# Отрисуем распределения вероятностей и их разность (uplift)\n",
    "plot_uplift_preds(trmnt_preds=sm_trmnt_preds, ctrl_preds=sm_ctrl_preds);"
   ]
  },
  {
   "cell_type": "markdown",
   "id": "668846c2",
   "metadata": {},
   "source": [
    "Рисунок графиков сильно отличается от тех, что предлагали нам модели с градиентым бустингом — может быть случайный лес смог найти нужных клиентов?"
   ]
  },
  {
   "cell_type": "code",
   "execution_count": 229,
   "id": "03794b78",
   "metadata": {},
   "outputs": [
    {
     "name": "stderr",
     "output_type": "stream",
     "text": [
      "C:\\Users\\rizho\\anaconda3\\lib\\site-packages\\sklearn\\base.py:493: FutureWarning: The feature names should match those that were passed during fit. Starting version 1.2, an error will be raised.\n",
      "Feature names must be in the same order as they were in fit.\n",
      "\n",
      "  warnings.warn(message, FutureWarning)\n",
      "C:\\Users\\rizho\\anaconda3\\lib\\site-packages\\sklearn\\base.py:493: FutureWarning: The feature names should match those that were passed during fit. Starting version 1.2, an error will be raised.\n",
      "Feature names must be in the same order as they were in fit.\n",
      "\n",
      "  warnings.warn(message, FutureWarning)\n"
     ]
    }
   ],
   "source": [
    "y_pred = sm.predict(test_data)"
   ]
  },
  {
   "cell_type": "code",
   "execution_count": 230,
   "id": "297d5e19",
   "metadata": {},
   "outputs": [],
   "source": [
    "catboost_aswers['forest_pred'] = pd.Series(list(y_pred))"
   ]
  },
  {
   "cell_type": "code",
   "execution_count": 231,
   "id": "1cc46414",
   "metadata": {},
   "outputs": [],
   "source": [
    "catboost_aswers['mean_pred_2'] = (catboost_aswers['pred_lightgbm'] + catboost_aswers['pred'] + catboost_aswers['forest_pred']) /3"
   ]
  },
  {
   "cell_type": "code",
   "execution_count": 232,
   "id": "906eb6fa",
   "metadata": {},
   "outputs": [],
   "source": [
    "uplift_ans = pd.DataFrame({'client_id' : list(test_clienst_id['client_id']), 'pred': catboost_aswers['mean_pred_2']})\n",
    "uplift_ans.to_csv(\"uplift_mean_with_forest.csv\", index=False)"
   ]
  },
  {
   "cell_type": "markdown",
   "id": "89a4a1df",
   "metadata": {},
   "source": [
    "#### Выводы"
   ]
  },
  {
   "cell_type": "markdown",
   "id": "c936403a",
   "metadata": {},
   "source": [
    "Подключение случайного леса дало возможность улучшить метрику Gini на public . ДАльнейшеее улучшение модели связано с подключением новых признаков — временем между покупками, времени с последней покупки, указанием покупает ли конкретный клиент алкоголь, анализом очков системы лояльности.\n",
    "\n",
    "Кроме того, учитывая что по мере подключения моделей мы получали все лучший скор, возможно следует добавить еще несколько простых моделей, которые выявят потеренных клиентов для аплифта."
   ]
  }
 ],
 "metadata": {
  "kernelspec": {
   "display_name": "Python 3",
   "language": "python",
   "name": "python3"
  },
  "language_info": {
   "codemirror_mode": {
    "name": "ipython",
    "version": 3
   },
   "file_extension": ".py",
   "mimetype": "text/x-python",
   "name": "python",
   "nbconvert_exporter": "python",
   "pygments_lexer": "ipython3",
   "version": "3.8.8"
  },
  "toc": {
   "base_numbering": 1,
   "nav_menu": {},
   "number_sections": true,
   "sideBar": true,
   "skip_h1_title": true,
   "title_cell": "Table of Contents",
   "title_sidebar": "Contents",
   "toc_cell": false,
   "toc_position": {},
   "toc_section_display": true,
   "toc_window_display": false
  }
 },
 "nbformat": 4,
 "nbformat_minor": 5
}
