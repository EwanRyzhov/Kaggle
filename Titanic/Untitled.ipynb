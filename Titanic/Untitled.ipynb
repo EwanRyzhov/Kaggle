{
 "cells": [
  {
   "cell_type": "markdown",
   "id": "56af83df",
   "metadata": {},
   "source": [
    "# Titanic - Machine Learning from Disaster: постороение предиктивной модели с использованием нейронных сетей"
   ]
  },
  {
   "cell_type": "markdown",
   "id": "3311c94e",
   "metadata": {},
   "source": [
    "Продолжаем работу с датасетом Kaggle о крушении \"Титаника\". После построения ансамбля моделей классификации с помощью VotingClassifier в предыдущем блокноте, мы переходим к использованию нейросетей для определения у кого из пассажиров были шансы выжить."
   ]
  },
  {
   "cell_type": "markdown",
   "id": "dcbc90a5",
   "metadata": {},
   "source": [
    "## Импорт и установка библиотек"
   ]
  },
  {
   "cell_type": "code",
   "execution_count": 1,
   "id": "2e004dae",
   "metadata": {
    "scrolled": true
   },
   "outputs": [
    {
     "name": "stdout",
     "output_type": "stream",
     "text": [
      "Requirement already satisfied: feature_engine in c:\\users\\rizho\\anaconda3\\lib\\site-packages (1.5.2)\n",
      "Requirement already satisfied: numpy>=1.18.2 in c:\\users\\rizho\\anaconda3\\lib\\site-packages (from feature_engine) (1.20.1)\n",
      "Requirement already satisfied: scipy>=1.4.1 in c:\\users\\rizho\\anaconda3\\lib\\site-packages (from feature_engine) (1.6.2)\n",
      "Requirement already satisfied: pandas>=1.0.3 in c:\\users\\rizho\\anaconda3\\lib\\site-packages (from feature_engine) (1.2.4)\n",
      "Requirement already satisfied: statsmodels>=0.11.1 in c:\\users\\rizho\\anaconda3\\lib\\site-packages (from feature_engine) (0.12.2)\n",
      "Requirement already satisfied: scikit-learn>=1.0.0 in c:\\users\\rizho\\anaconda3\\lib\\site-packages (from feature_engine) (1.1.3)\n",
      "Requirement already satisfied: pytz>=2017.3 in c:\\users\\rizho\\anaconda3\\lib\\site-packages (from pandas>=1.0.3->feature_engine) (2021.1)\n",
      "Requirement already satisfied: python-dateutil>=2.7.3 in c:\\users\\rizho\\anaconda3\\lib\\site-packages (from pandas>=1.0.3->feature_engine) (2.8.1)\n",
      "Requirement already satisfied: six>=1.5 in c:\\users\\rizho\\anaconda3\\lib\\site-packages (from python-dateutil>=2.7.3->pandas>=1.0.3->feature_engine) (1.15.0)\n",
      "Requirement already satisfied: joblib>=1.0.0 in c:\\users\\rizho\\anaconda3\\lib\\site-packages (from scikit-learn>=1.0.0->feature_engine) (1.0.1)\n",
      "Requirement already satisfied: threadpoolctl>=2.0.0 in c:\\users\\rizho\\anaconda3\\lib\\site-packages (from scikit-learn>=1.0.0->feature_engine) (2.1.0)\n",
      "Requirement already satisfied: patsy>=0.5 in c:\\users\\rizho\\anaconda3\\lib\\site-packages (from statsmodels>=0.11.1->feature_engine) (0.5.1)\n"
     ]
    }
   ],
   "source": [
    "!pip install feature_engine;"
   ]
  },
  {
   "cell_type": "code",
   "execution_count": 2,
   "id": "4134d64a",
   "metadata": {},
   "outputs": [],
   "source": [
    "# модули для работы с данными и визуализации\n",
    "\n",
    "import pandas as pd\n",
    "import numpy as np\n",
    "import seaborn as sns\n",
    "import matplotlib.pyplot as plt\n",
    "\n",
    "## The Scikit-Learn Library for train test split and accuracy evaluation\n",
    "from sklearn.preprocessing import LabelEncoder, StandardScaler\n",
    "from sklearn.model_selection import train_test_split\n",
    "from feature_engine.encoding import OneHotEncoder\n",
    "from sklearn.metrics import confusion_matrix, classification_report\n",
    "\n",
    "\n",
    "## Tensorflow\n",
    "import tensorflow as tf\n",
    "from tensorflow.keras.callbacks import EarlyStopping\n",
    "\n",
    "\n",
    "#import warnings\n",
    "#warnings.filterwarnings('ignore')"
   ]
  },
  {
   "cell_type": "markdown",
   "id": "cddbcc35",
   "metadata": {},
   "source": [
    "### Загрузка датасета"
   ]
  },
  {
   "cell_type": "code",
   "execution_count": 3,
   "id": "758c28f8",
   "metadata": {},
   "outputs": [],
   "source": [
    "train_data = pd.read_csv('train.csv')"
   ]
  },
  {
   "cell_type": "code",
   "execution_count": 4,
   "id": "e97c3729",
   "metadata": {},
   "outputs": [],
   "source": [
    "test_data = pd.read_csv('test.csv')"
   ]
  },
  {
   "cell_type": "markdown",
   "id": "88a237b8",
   "metadata": {},
   "source": [
    "Обзор данных мы делали в предыдущем [блокноте](https://github.com/EwanRyzhov/Kaggle/blob/main/Titanic/Titanic_GB.ipynb). Но в этот раз предобработку будет несколько изменена."
   ]
  },
  {
   "cell_type": "code",
   "execution_count": 5,
   "id": "aa27d93f",
   "metadata": {},
   "outputs": [
    {
     "data": {
      "text/html": [
       "<div>\n",
       "<style scoped>\n",
       "    .dataframe tbody tr th:only-of-type {\n",
       "        vertical-align: middle;\n",
       "    }\n",
       "\n",
       "    .dataframe tbody tr th {\n",
       "        vertical-align: top;\n",
       "    }\n",
       "\n",
       "    .dataframe thead th {\n",
       "        text-align: right;\n",
       "    }\n",
       "</style>\n",
       "<table border=\"1\" class=\"dataframe\">\n",
       "  <thead>\n",
       "    <tr style=\"text-align: right;\">\n",
       "      <th></th>\n",
       "      <th>PassengerId</th>\n",
       "      <th>Survived</th>\n",
       "      <th>Pclass</th>\n",
       "      <th>Name</th>\n",
       "      <th>Sex</th>\n",
       "      <th>Age</th>\n",
       "      <th>SibSp</th>\n",
       "      <th>Parch</th>\n",
       "      <th>Ticket</th>\n",
       "      <th>Fare</th>\n",
       "      <th>Cabin</th>\n",
       "      <th>Embarked</th>\n",
       "    </tr>\n",
       "  </thead>\n",
       "  <tbody>\n",
       "    <tr>\n",
       "      <th>0</th>\n",
       "      <td>1</td>\n",
       "      <td>0</td>\n",
       "      <td>3</td>\n",
       "      <td>Braund, Mr. Owen Harris</td>\n",
       "      <td>male</td>\n",
       "      <td>22.0</td>\n",
       "      <td>1</td>\n",
       "      <td>0</td>\n",
       "      <td>A/5 21171</td>\n",
       "      <td>7.2500</td>\n",
       "      <td>NaN</td>\n",
       "      <td>S</td>\n",
       "    </tr>\n",
       "    <tr>\n",
       "      <th>1</th>\n",
       "      <td>2</td>\n",
       "      <td>1</td>\n",
       "      <td>1</td>\n",
       "      <td>Cumings, Mrs. John Bradley (Florence Briggs Th...</td>\n",
       "      <td>female</td>\n",
       "      <td>38.0</td>\n",
       "      <td>1</td>\n",
       "      <td>0</td>\n",
       "      <td>PC 17599</td>\n",
       "      <td>71.2833</td>\n",
       "      <td>C85</td>\n",
       "      <td>C</td>\n",
       "    </tr>\n",
       "    <tr>\n",
       "      <th>2</th>\n",
       "      <td>3</td>\n",
       "      <td>1</td>\n",
       "      <td>3</td>\n",
       "      <td>Heikkinen, Miss. Laina</td>\n",
       "      <td>female</td>\n",
       "      <td>26.0</td>\n",
       "      <td>0</td>\n",
       "      <td>0</td>\n",
       "      <td>STON/O2. 3101282</td>\n",
       "      <td>7.9250</td>\n",
       "      <td>NaN</td>\n",
       "      <td>S</td>\n",
       "    </tr>\n",
       "    <tr>\n",
       "      <th>3</th>\n",
       "      <td>4</td>\n",
       "      <td>1</td>\n",
       "      <td>1</td>\n",
       "      <td>Futrelle, Mrs. Jacques Heath (Lily May Peel)</td>\n",
       "      <td>female</td>\n",
       "      <td>35.0</td>\n",
       "      <td>1</td>\n",
       "      <td>0</td>\n",
       "      <td>113803</td>\n",
       "      <td>53.1000</td>\n",
       "      <td>C123</td>\n",
       "      <td>S</td>\n",
       "    </tr>\n",
       "    <tr>\n",
       "      <th>4</th>\n",
       "      <td>5</td>\n",
       "      <td>0</td>\n",
       "      <td>3</td>\n",
       "      <td>Allen, Mr. William Henry</td>\n",
       "      <td>male</td>\n",
       "      <td>35.0</td>\n",
       "      <td>0</td>\n",
       "      <td>0</td>\n",
       "      <td>373450</td>\n",
       "      <td>8.0500</td>\n",
       "      <td>NaN</td>\n",
       "      <td>S</td>\n",
       "    </tr>\n",
       "  </tbody>\n",
       "</table>\n",
       "</div>"
      ],
      "text/plain": [
       "   PassengerId  Survived  Pclass  \\\n",
       "0            1         0       3   \n",
       "1            2         1       1   \n",
       "2            3         1       3   \n",
       "3            4         1       1   \n",
       "4            5         0       3   \n",
       "\n",
       "                                                Name     Sex   Age  SibSp  \\\n",
       "0                            Braund, Mr. Owen Harris    male  22.0      1   \n",
       "1  Cumings, Mrs. John Bradley (Florence Briggs Th...  female  38.0      1   \n",
       "2                             Heikkinen, Miss. Laina  female  26.0      0   \n",
       "3       Futrelle, Mrs. Jacques Heath (Lily May Peel)  female  35.0      1   \n",
       "4                           Allen, Mr. William Henry    male  35.0      0   \n",
       "\n",
       "   Parch            Ticket     Fare Cabin Embarked  \n",
       "0      0         A/5 21171   7.2500   NaN        S  \n",
       "1      0          PC 17599  71.2833   C85        C  \n",
       "2      0  STON/O2. 3101282   7.9250   NaN        S  \n",
       "3      0            113803  53.1000  C123        S  \n",
       "4      0            373450   8.0500   NaN        S  "
      ]
     },
     "execution_count": 5,
     "metadata": {},
     "output_type": "execute_result"
    }
   ],
   "source": [
    "train_data.head()"
   ]
  },
  {
   "cell_type": "markdown",
   "id": "6418ab2e",
   "metadata": {},
   "source": [
    "## Предобработка данных"
   ]
  },
  {
   "cell_type": "markdown",
   "id": "fb239e24",
   "metadata": {},
   "source": [
    "Обзор данных (описание признаков, доля пропусков, агрегированные показатели) вынесен в первый блокнот по Титанику, где обучалась модель с применением градиентного бустинга."
   ]
  },
  {
   "cell_type": "markdown",
   "id": "2c3e1bd2",
   "metadata": {},
   "source": [
    "### Визуализация данных"
   ]
  },
  {
   "cell_type": "code",
   "execution_count": 6,
   "id": "42bb1c2e",
   "metadata": {},
   "outputs": [],
   "source": [
    "sns.set_palette(\"RdYlBu\")"
   ]
  },
  {
   "cell_type": "code",
   "execution_count": 7,
   "id": "47d2b3fc",
   "metadata": {},
   "outputs": [
    {
     "data": {
      "image/png": "[encoded data removed]",
      "text/plain": [
       "<Figure size 432x288 with 1 Axes>"
      ]
     },
     "metadata": {
      "needs_background": "light"
     },
     "output_type": "display_data"
    }
   ],
   "source": [
    "sns.countplot(x=train_data['Survived']).set_title('Количество выживших и умерших')\n",
    "plt.show()"
   ]
  },
  {
   "cell_type": "markdown",
   "id": "b369cee9",
   "metadata": {},
   "source": [
    "Количество выживших несколько меньше, чем умерших — но дисбаланс классов не такой сильный, как можно было бы ожидать."
   ]
  },
  {
   "cell_type": "code",
   "execution_count": 8,
   "id": "baf57287",
   "metadata": {},
   "outputs": [
    {
     "name": "stderr",
     "output_type": "stream",
     "text": [
      "C:\\Users\\rizho\\anaconda3\\lib\\site-packages\\seaborn\\_decorators.py:36: FutureWarning: Pass the following variable as a keyword arg: x. From version 0.12, the only valid positional argument will be `data`, and passing other arguments without an explicit keyword will result in an error or misinterpretation.\n",
      "  warnings.warn(\n",
      "C:\\Users\\rizho\\anaconda3\\lib\\site-packages\\seaborn\\_decorators.py:36: FutureWarning: Pass the following variable as a keyword arg: x. From version 0.12, the only valid positional argument will be `data`, and passing other arguments without an explicit keyword will result in an error or misinterpretation.\n",
      "  warnings.warn(\n"
     ]
    },
    {
     "data": {
      "image/png": "[encoded data removed]",
      "text/plain": [
       "<Figure size 1080x360 with 3 Axes>"
      ]
     },
     "metadata": {
      "needs_background": "light"
     },
     "output_type": "display_data"
    }
   ],
   "source": [
    "fig = plt.figure(figsize=([15,5]))\n",
    "\n",
    "ax_1 = fig.add_subplot(1,9,1)\n",
    "ax_2 = fig.add_subplot(1,9,5)\n",
    "ax_3 = fig.add_subplot(1,9,9)\n",
    "\n",
    "sns.countplot(train_data['Sex'], ax=ax_1)\n",
    "sns.countplot(test_data['Sex'], ax=ax_2)\n",
    "sns.barplot(x='Sex', y='Survived', data=train_data, ax=ax_3, ci=None)\n",
    "\n",
    "ax_1.set_title('Количество мужчин и женщин, тренировочные данные')\n",
    "ax_2.set_title('Количество мужчин и женщин, тестовые данные')\n",
    "ax_3.set_title('Доля выживших в разрезе гендера')\n",
    "ax_3.set_ylabel('Доля выживших (по тренировочным данным)')\n",
    "plt.show()"
   ]
  },
  {
   "cell_type": "markdown",
   "id": "2b67d23f",
   "metadata": {},
   "source": [
    "\"Ladies first!\" — доля вышивших женщин более чем в три раза больше доли вышивших женщин. Что важно, распределение мужчин и женщин в тренировочном и тестовом наборах совпадают. "
   ]
  },
  {
   "cell_type": "markdown",
   "id": "74da6b49",
   "metadata": {},
   "source": [
    "### Работа с пропусками"
   ]
  },
  {
   "cell_type": "markdown",
   "id": "62a232da",
   "metadata": {},
   "source": [
    "#### Пропуски по возрасту"
   ]
  },
  {
   "cell_type": "markdown",
   "id": "06b6a462",
   "metadata": {},
   "source": [
    "Определим функцию-фильтр, которая определит, как обращались к пассажиру. Функция будет основана на специфической записи в признаке `Name`."
   ]
  },
  {
   "cell_type": "code",
   "execution_count": 9,
   "id": "29c0d1c0",
   "metadata": {},
   "outputs": [],
   "source": [
    "def filter_name(name):\n",
    "    text = name[name.find(', ') + 2 : name.find('.')]\n",
    "    return text\n",
    "    \n",
    "train_data['Name'] = train_data['Name'].apply(filter_name)\n",
    "test_data['Name'] = test_data['Name'].apply(filter_name)"
   ]
  },
  {
   "cell_type": "code",
   "execution_count": 10,
   "id": "d51f9a80",
   "metadata": {},
   "outputs": [
    {
     "data": {
      "text/html": [
       "<div>\n",
       "<style scoped>\n",
       "    .dataframe tbody tr th:only-of-type {\n",
       "        vertical-align: middle;\n",
       "    }\n",
       "\n",
       "    .dataframe tbody tr th {\n",
       "        vertical-align: top;\n",
       "    }\n",
       "\n",
       "    .dataframe thead th {\n",
       "        text-align: right;\n",
       "    }\n",
       "</style>\n",
       "<table border=\"1\" class=\"dataframe\">\n",
       "  <thead>\n",
       "    <tr style=\"text-align: right;\">\n",
       "      <th></th>\n",
       "      <th>PassengerId</th>\n",
       "      <th>Survived</th>\n",
       "      <th>Pclass</th>\n",
       "      <th>Name</th>\n",
       "      <th>Sex</th>\n",
       "      <th>Age</th>\n",
       "      <th>SibSp</th>\n",
       "      <th>Parch</th>\n",
       "      <th>Ticket</th>\n",
       "      <th>Fare</th>\n",
       "      <th>Cabin</th>\n",
       "      <th>Embarked</th>\n",
       "    </tr>\n",
       "  </thead>\n",
       "  <tbody>\n",
       "    <tr>\n",
       "      <th>0</th>\n",
       "      <td>1</td>\n",
       "      <td>0</td>\n",
       "      <td>3</td>\n",
       "      <td>Mr</td>\n",
       "      <td>male</td>\n",
       "      <td>22.0</td>\n",
       "      <td>1</td>\n",
       "      <td>0</td>\n",
       "      <td>A/5 21171</td>\n",
       "      <td>7.2500</td>\n",
       "      <td>NaN</td>\n",
       "      <td>S</td>\n",
       "    </tr>\n",
       "    <tr>\n",
       "      <th>1</th>\n",
       "      <td>2</td>\n",
       "      <td>1</td>\n",
       "      <td>1</td>\n",
       "      <td>Mrs</td>\n",
       "      <td>female</td>\n",
       "      <td>38.0</td>\n",
       "      <td>1</td>\n",
       "      <td>0</td>\n",
       "      <td>PC 17599</td>\n",
       "      <td>71.2833</td>\n",
       "      <td>C85</td>\n",
       "      <td>C</td>\n",
       "    </tr>\n",
       "    <tr>\n",
       "      <th>2</th>\n",
       "      <td>3</td>\n",
       "      <td>1</td>\n",
       "      <td>3</td>\n",
       "      <td>Miss</td>\n",
       "      <td>female</td>\n",
       "      <td>26.0</td>\n",
       "      <td>0</td>\n",
       "      <td>0</td>\n",
       "      <td>STON/O2. 3101282</td>\n",
       "      <td>7.9250</td>\n",
       "      <td>NaN</td>\n",
       "      <td>S</td>\n",
       "    </tr>\n",
       "    <tr>\n",
       "      <th>3</th>\n",
       "      <td>4</td>\n",
       "      <td>1</td>\n",
       "      <td>1</td>\n",
       "      <td>Mrs</td>\n",
       "      <td>female</td>\n",
       "      <td>35.0</td>\n",
       "      <td>1</td>\n",
       "      <td>0</td>\n",
       "      <td>113803</td>\n",
       "      <td>53.1000</td>\n",
       "      <td>C123</td>\n",
       "      <td>S</td>\n",
       "    </tr>\n",
       "    <tr>\n",
       "      <th>4</th>\n",
       "      <td>5</td>\n",
       "      <td>0</td>\n",
       "      <td>3</td>\n",
       "      <td>Mr</td>\n",
       "      <td>male</td>\n",
       "      <td>35.0</td>\n",
       "      <td>0</td>\n",
       "      <td>0</td>\n",
       "      <td>373450</td>\n",
       "      <td>8.0500</td>\n",
       "      <td>NaN</td>\n",
       "      <td>S</td>\n",
       "    </tr>\n",
       "  </tbody>\n",
       "</table>\n",
       "</div>"
      ],
      "text/plain": [
       "   PassengerId  Survived  Pclass  Name     Sex   Age  SibSp  Parch  \\\n",
       "0            1         0       3    Mr    male  22.0      1      0   \n",
       "1            2         1       1   Mrs  female  38.0      1      0   \n",
       "2            3         1       3  Miss  female  26.0      0      0   \n",
       "3            4         1       1   Mrs  female  35.0      1      0   \n",
       "4            5         0       3    Mr    male  35.0      0      0   \n",
       "\n",
       "             Ticket     Fare Cabin Embarked  \n",
       "0         A/5 21171   7.2500   NaN        S  \n",
       "1          PC 17599  71.2833   C85        C  \n",
       "2  STON/O2. 3101282   7.9250   NaN        S  \n",
       "3            113803  53.1000  C123        S  \n",
       "4            373450   8.0500   NaN        S  "
      ]
     },
     "execution_count": 10,
     "metadata": {},
     "output_type": "execute_result"
    }
   ],
   "source": [
    "train_data.head()"
   ]
  },
  {
   "cell_type": "code",
   "execution_count": 11,
   "id": "6e0b2316",
   "metadata": {
    "scrolled": true
   },
   "outputs": [
    {
     "data": {
      "text/html": [
       "<div>\n",
       "<style scoped>\n",
       "    .dataframe tbody tr th:only-of-type {\n",
       "        vertical-align: middle;\n",
       "    }\n",
       "\n",
       "    .dataframe tbody tr th {\n",
       "        vertical-align: top;\n",
       "    }\n",
       "\n",
       "    .dataframe thead th {\n",
       "        text-align: right;\n",
       "    }\n",
       "</style>\n",
       "<table border=\"1\" class=\"dataframe\">\n",
       "  <thead>\n",
       "    <tr style=\"text-align: right;\">\n",
       "      <th></th>\n",
       "      <th>PassengerId</th>\n",
       "      <th>Pclass</th>\n",
       "      <th>Name</th>\n",
       "      <th>Sex</th>\n",
       "      <th>Age</th>\n",
       "      <th>SibSp</th>\n",
       "      <th>Parch</th>\n",
       "      <th>Ticket</th>\n",
       "      <th>Fare</th>\n",
       "      <th>Cabin</th>\n",
       "      <th>Embarked</th>\n",
       "    </tr>\n",
       "  </thead>\n",
       "  <tbody>\n",
       "    <tr>\n",
       "      <th>0</th>\n",
       "      <td>892</td>\n",
       "      <td>3</td>\n",
       "      <td>Mr</td>\n",
       "      <td>male</td>\n",
       "      <td>34.5</td>\n",
       "      <td>0</td>\n",
       "      <td>0</td>\n",
       "      <td>330911</td>\n",
       "      <td>7.8292</td>\n",
       "      <td>NaN</td>\n",
       "      <td>Q</td>\n",
       "    </tr>\n",
       "    <tr>\n",
       "      <th>1</th>\n",
       "      <td>893</td>\n",
       "      <td>3</td>\n",
       "      <td>Mrs</td>\n",
       "      <td>female</td>\n",
       "      <td>47.0</td>\n",
       "      <td>1</td>\n",
       "      <td>0</td>\n",
       "      <td>363272</td>\n",
       "      <td>7.0000</td>\n",
       "      <td>NaN</td>\n",
       "      <td>S</td>\n",
       "    </tr>\n",
       "    <tr>\n",
       "      <th>2</th>\n",
       "      <td>894</td>\n",
       "      <td>2</td>\n",
       "      <td>Mr</td>\n",
       "      <td>male</td>\n",
       "      <td>62.0</td>\n",
       "      <td>0</td>\n",
       "      <td>0</td>\n",
       "      <td>240276</td>\n",
       "      <td>9.6875</td>\n",
       "      <td>NaN</td>\n",
       "      <td>Q</td>\n",
       "    </tr>\n",
       "    <tr>\n",
       "      <th>3</th>\n",
       "      <td>895</td>\n",
       "      <td>3</td>\n",
       "      <td>Mr</td>\n",
       "      <td>male</td>\n",
       "      <td>27.0</td>\n",
       "      <td>0</td>\n",
       "      <td>0</td>\n",
       "      <td>315154</td>\n",
       "      <td>8.6625</td>\n",
       "      <td>NaN</td>\n",
       "      <td>S</td>\n",
       "    </tr>\n",
       "    <tr>\n",
       "      <th>4</th>\n",
       "      <td>896</td>\n",
       "      <td>3</td>\n",
       "      <td>Mrs</td>\n",
       "      <td>female</td>\n",
       "      <td>22.0</td>\n",
       "      <td>1</td>\n",
       "      <td>1</td>\n",
       "      <td>3101298</td>\n",
       "      <td>12.2875</td>\n",
       "      <td>NaN</td>\n",
       "      <td>S</td>\n",
       "    </tr>\n",
       "  </tbody>\n",
       "</table>\n",
       "</div>"
      ],
      "text/plain": [
       "   PassengerId  Pclass Name     Sex   Age  SibSp  Parch   Ticket     Fare  \\\n",
       "0          892       3   Mr    male  34.5      0      0   330911   7.8292   \n",
       "1          893       3  Mrs  female  47.0      1      0   363272   7.0000   \n",
       "2          894       2   Mr    male  62.0      0      0   240276   9.6875   \n",
       "3          895       3   Mr    male  27.0      0      0   315154   8.6625   \n",
       "4          896       3  Mrs  female  22.0      1      1  3101298  12.2875   \n",
       "\n",
       "  Cabin Embarked  \n",
       "0   NaN        Q  \n",
       "1   NaN        S  \n",
       "2   NaN        Q  \n",
       "3   NaN        S  \n",
       "4   NaN        S  "
      ]
     },
     "execution_count": 11,
     "metadata": {},
     "output_type": "execute_result"
    }
   ],
   "source": [
    "test_data.head()"
   ]
  },
  {
   "cell_type": "markdown",
   "id": "6a489e9a",
   "metadata": {},
   "source": [
    "Посмотрим на пассажиров с пропущенным возрастом — как к ним обращались:"
   ]
  },
  {
   "cell_type": "code",
   "execution_count": 12,
   "id": "4eb602c4",
   "metadata": {},
   "outputs": [
    {
     "data": {
      "text/plain": [
       "array(['Mr', 'Mrs', 'Miss', 'Master', 'Dr'], dtype=object)"
      ]
     },
     "execution_count": 12,
     "metadata": {},
     "output_type": "execute_result"
    }
   ],
   "source": [
    "pd.unique(train_data[train_data['Age'].isna()]['Name'])"
   ]
  },
  {
   "cell_type": "code",
   "execution_count": 13,
   "id": "0c4b1f34",
   "metadata": {
    "scrolled": false
   },
   "outputs": [
    {
     "data": {
      "text/plain": [
       "array(['Mr', 'Mrs', 'Miss', 'Ms', 'Master'], dtype=object)"
      ]
     },
     "execution_count": 13,
     "metadata": {},
     "output_type": "execute_result"
    }
   ],
   "source": [
    "pd.unique(test_data[test_data['Age'].isna()]['Name'])"
   ]
  },
  {
   "cell_type": "markdown",
   "id": "4330cc5e",
   "metadata": {},
   "source": [
    "Рассчитаем средний возраст для каждого обращения:"
   ]
  },
  {
   "cell_type": "code",
   "execution_count": 14,
   "id": "44e3c806",
   "metadata": {},
   "outputs": [],
   "source": [
    "mean_age_mr = round((train_data[train_data[\"Name\"]=='Mr']['Age'].mean()+\n",
    "              test_data[test_data['Name']=='Mr']['Age'].mean())/2)\n",
    "\n",
    "mean_age_mrs = round((train_data[train_data[\"Name\"]=='Mrs']['Age'].mean()+\n",
    "               test_data[test_data['Name']=='Mrs']['Age'].mean())/2)\n",
    "\n",
    "mean_age_miss = round((train_data[train_data[\"Name\"]=='Miss']['Age'].mean()+\n",
    "                test_data[test_data['Name']=='Miss']['Age'].mean())/2)\n",
    "\n",
    "mean_age_ms = round((train_data[train_data[\"Name\"]=='Ms']['Age'].mean())) # в тесте только 1 пустая запись для Ms\n",
    "                    \n",
    "mean_age_master = round((train_data[train_data[\"Name\"]=='Master']['Age'].mean()+\n",
    "                         test_data[test_data['Name']=='Master']['Age'].mean())/2)\n",
    "                    \n",
    "mean_age_dr = round((train_data[train_data[\"Name\"]=='Dr']['Age'].mean()+\n",
    "              test_data[test_data['Name']=='Dr']['Age'].mean())/2)\n"
   ]
  },
  {
   "cell_type": "markdown",
   "id": "f7f7de2a",
   "metadata": {},
   "source": [
    "Заполним пропуски в возрасте исходя из того, как обращались к пассажиру. Для этого определим новую функцию."
   ]
  },
  {
   "cell_type": "code",
   "execution_count": 15,
   "id": "f1845643",
   "metadata": {
    "scrolled": true
   },
   "outputs": [
    {
     "name": "stdout",
     "output_type": "stream",
     "text": [
      "Age is updated\n"
     ]
    }
   ],
   "source": [
    "def fill_missing_age(name_age):\n",
    "    \n",
    "    name = name_age[0]\n",
    "    age = name_age[1]\n",
    "    \n",
    "    if pd.isnull(age):\n",
    "        if 'Mr' == name:\n",
    "            return mean_age_mr\n",
    "        if 'Mrs' == name:\n",
    "            return mean_age_mrs\n",
    "        if 'Miss' == name:\n",
    "            return mean_age_miss\n",
    "        if 'Master' == name:\n",
    "            return mean_age_master\n",
    "        if 'Dr' == name:\n",
    "            return mean_age_dr\n",
    "        if 'Ms' == name:\n",
    "            return mean_age_miss\n",
    "    else:\n",
    "        return age\n",
    "    \n",
    "    \n",
    "# Need updation\n",
    "train_data['Age'] = train_data[['Name', 'Age']].apply(fill_missing_age,axis=1)\n",
    "test_data['Age'] = test_data[['Name', 'Age']].apply(fill_missing_age,axis=1)\n",
    "\n",
    "print('Age is updated')"
   ]
  },
  {
   "cell_type": "markdown",
   "id": "ec63470b",
   "metadata": {},
   "source": [
    "#### Пропуски в Fare"
   ]
  },
  {
   "cell_type": "markdown",
   "id": "b8bf3124",
   "metadata": {},
   "source": [
    "В признаке `Fare` имеется единственное пропущенное значение — потеря одного объекта вряд ли существенно повлияет на точность модели, но тем не менее мы заполним пропуск медианным значением."
   ]
  },
  {
   "cell_type": "code",
   "execution_count": 16,
   "id": "d1d7f9c6",
   "metadata": {},
   "outputs": [],
   "source": [
    "test_data['Fare'] = test_data['Fare'].fillna(test_data['Fare'].median())"
   ]
  },
  {
   "cell_type": "markdown",
   "id": "2172af17",
   "metadata": {},
   "source": [
    "#### Пропуски по пункту посадки"
   ]
  },
  {
   "cell_type": "markdown",
   "id": "3262158a",
   "metadata": {},
   "source": [
    "Прежде чем заполнить пропуски в `Embarked`, проверим влияет ли порт посадки на шанс выжить в кораблекрушении"
   ]
  },
  {
   "cell_type": "code",
   "execution_count": 17,
   "id": "4462d668",
   "metadata": {
    "scrolled": true
   },
   "outputs": [
    {
     "data": {
      "text/plain": [
       "Text(0.5, 1.0, 'Доля выживших, среди севших в разных портах, тренировочные данные')"
      ]
     },
     "execution_count": 17,
     "metadata": {},
     "output_type": "execute_result"
    },
    {
     "data": {
      "image/png": "[encoded data removed]",
      "text/plain": [
       "<Figure size 576x360 with 1 Axes>"
      ]
     },
     "metadata": {
      "needs_background": "light"
     },
     "output_type": "display_data"
    }
   ],
   "source": [
    "fig = plt.figure(figsize = (8,5))\n",
    "\n",
    "chart = sns.barplot(x=\"Embarked\",y=\"Survived\",data = train_data, palette = \"RdYlBu\")\n",
    "chart.set_title('Доля выживших, среди севших в разных портах, тренировочные данные')"
   ]
  },
  {
   "cell_type": "markdown",
   "id": "f5217f50",
   "metadata": {},
   "source": [
    "У поднявшихся на борт в Cherbourg доля выживших сильно выше - более 50%, а вот среди пассажиров из Southampton'a их чуть больше 30%. "
   ]
  },
  {
   "cell_type": "code",
   "execution_count": 18,
   "id": "d7950481",
   "metadata": {},
   "outputs": [
    {
     "data": {
      "text/html": [
       "<div>\n",
       "<style scoped>\n",
       "    .dataframe tbody tr th:only-of-type {\n",
       "        vertical-align: middle;\n",
       "    }\n",
       "\n",
       "    .dataframe tbody tr th {\n",
       "        vertical-align: top;\n",
       "    }\n",
       "\n",
       "    .dataframe thead th {\n",
       "        text-align: right;\n",
       "    }\n",
       "</style>\n",
       "<table border=\"1\" class=\"dataframe\">\n",
       "  <thead>\n",
       "    <tr style=\"text-align: right;\">\n",
       "      <th></th>\n",
       "      <th>PassengerId</th>\n",
       "      <th>Survived</th>\n",
       "      <th>Pclass</th>\n",
       "      <th>Name</th>\n",
       "      <th>Sex</th>\n",
       "      <th>Age</th>\n",
       "      <th>SibSp</th>\n",
       "      <th>Parch</th>\n",
       "      <th>Ticket</th>\n",
       "      <th>Fare</th>\n",
       "      <th>Cabin</th>\n",
       "      <th>Embarked</th>\n",
       "    </tr>\n",
       "  </thead>\n",
       "  <tbody>\n",
       "    <tr>\n",
       "      <th>61</th>\n",
       "      <td>62</td>\n",
       "      <td>1</td>\n",
       "      <td>1</td>\n",
       "      <td>Miss</td>\n",
       "      <td>female</td>\n",
       "      <td>38.0</td>\n",
       "      <td>0</td>\n",
       "      <td>0</td>\n",
       "      <td>113572</td>\n",
       "      <td>80.0</td>\n",
       "      <td>B28</td>\n",
       "      <td>NaN</td>\n",
       "    </tr>\n",
       "    <tr>\n",
       "      <th>829</th>\n",
       "      <td>830</td>\n",
       "      <td>1</td>\n",
       "      <td>1</td>\n",
       "      <td>Mrs</td>\n",
       "      <td>female</td>\n",
       "      <td>62.0</td>\n",
       "      <td>0</td>\n",
       "      <td>0</td>\n",
       "      <td>113572</td>\n",
       "      <td>80.0</td>\n",
       "      <td>B28</td>\n",
       "      <td>NaN</td>\n",
       "    </tr>\n",
       "  </tbody>\n",
       "</table>\n",
       "</div>"
      ],
      "text/plain": [
       "     PassengerId  Survived  Pclass  Name     Sex   Age  SibSp  Parch  Ticket  \\\n",
       "61            62         1       1  Miss  female  38.0      0      0  113572   \n",
       "829          830         1       1   Mrs  female  62.0      0      0  113572   \n",
       "\n",
       "     Fare Cabin Embarked  \n",
       "61   80.0   B28      NaN  \n",
       "829  80.0   B28      NaN  "
      ]
     },
     "execution_count": 18,
     "metadata": {},
     "output_type": "execute_result"
    }
   ],
   "source": [
    "train_data[train_data['Embarked'].isna()]"
   ]
  },
  {
   "cell_type": "code",
   "execution_count": 19,
   "id": "7fd74065",
   "metadata": {},
   "outputs": [
    {
     "data": {
      "text/html": [
       "<div>\n",
       "<style scoped>\n",
       "    .dataframe tbody tr th:only-of-type {\n",
       "        vertical-align: middle;\n",
       "    }\n",
       "\n",
       "    .dataframe tbody tr th {\n",
       "        vertical-align: top;\n",
       "    }\n",
       "\n",
       "    .dataframe thead th {\n",
       "        text-align: right;\n",
       "    }\n",
       "</style>\n",
       "<table border=\"1\" class=\"dataframe\">\n",
       "  <thead>\n",
       "    <tr style=\"text-align: right;\">\n",
       "      <th></th>\n",
       "      <th>PassengerId</th>\n",
       "      <th>Pclass</th>\n",
       "      <th>Name</th>\n",
       "      <th>Sex</th>\n",
       "      <th>Age</th>\n",
       "      <th>SibSp</th>\n",
       "      <th>Parch</th>\n",
       "      <th>Ticket</th>\n",
       "      <th>Fare</th>\n",
       "      <th>Cabin</th>\n",
       "      <th>Embarked</th>\n",
       "    </tr>\n",
       "  </thead>\n",
       "  <tbody>\n",
       "  </tbody>\n",
       "</table>\n",
       "</div>"
      ],
      "text/plain": [
       "Empty DataFrame\n",
       "Columns: [PassengerId, Pclass, Name, Sex, Age, SibSp, Parch, Ticket, Fare, Cabin, Embarked]\n",
       "Index: []"
      ]
     },
     "execution_count": 19,
     "metadata": {},
     "output_type": "execute_result"
    }
   ],
   "source": [
    "test_data[test_data['Embarked'].isna()]"
   ]
  },
  {
   "cell_type": "markdown",
   "id": "4d5288d8",
   "metadata": {},
   "source": [
    "У двух женщин с неизвестным портом посадки на борту отсутствовали родственники и восстановить пропуски проблематично. Отбросим эти два объекта (они относятся к тренировочной выборке)."
   ]
  },
  {
   "cell_type": "code",
   "execution_count": 20,
   "id": "1f022628",
   "metadata": {},
   "outputs": [],
   "source": [
    "train_data = train_data[~train_data['Embarked'].isna()]"
   ]
  },
  {
   "cell_type": "markdown",
   "id": "2eb9730a",
   "metadata": {},
   "source": [
    "### Удаление неинформативных признаков признаков"
   ]
  },
  {
   "cell_type": "code",
   "execution_count": 21,
   "id": "334f0ab9",
   "metadata": {},
   "outputs": [
    {
     "data": {
      "text/html": [
       "<div>\n",
       "<style scoped>\n",
       "    .dataframe tbody tr th:only-of-type {\n",
       "        vertical-align: middle;\n",
       "    }\n",
       "\n",
       "    .dataframe tbody tr th {\n",
       "        vertical-align: top;\n",
       "    }\n",
       "\n",
       "    .dataframe thead th {\n",
       "        text-align: right;\n",
       "    }\n",
       "</style>\n",
       "<table border=\"1\" class=\"dataframe\">\n",
       "  <thead>\n",
       "    <tr style=\"text-align: right;\">\n",
       "      <th></th>\n",
       "      <th>PassengerId</th>\n",
       "      <th>Survived</th>\n",
       "      <th>Pclass</th>\n",
       "      <th>Name</th>\n",
       "      <th>Sex</th>\n",
       "      <th>Age</th>\n",
       "      <th>SibSp</th>\n",
       "      <th>Parch</th>\n",
       "      <th>Ticket</th>\n",
       "      <th>Fare</th>\n",
       "      <th>Cabin</th>\n",
       "      <th>Embarked</th>\n",
       "    </tr>\n",
       "  </thead>\n",
       "  <tbody>\n",
       "    <tr>\n",
       "      <th>0</th>\n",
       "      <td>1</td>\n",
       "      <td>0</td>\n",
       "      <td>3</td>\n",
       "      <td>Mr</td>\n",
       "      <td>male</td>\n",
       "      <td>22.0</td>\n",
       "      <td>1</td>\n",
       "      <td>0</td>\n",
       "      <td>A/5 21171</td>\n",
       "      <td>7.2500</td>\n",
       "      <td>NaN</td>\n",
       "      <td>S</td>\n",
       "    </tr>\n",
       "    <tr>\n",
       "      <th>1</th>\n",
       "      <td>2</td>\n",
       "      <td>1</td>\n",
       "      <td>1</td>\n",
       "      <td>Mrs</td>\n",
       "      <td>female</td>\n",
       "      <td>38.0</td>\n",
       "      <td>1</td>\n",
       "      <td>0</td>\n",
       "      <td>PC 17599</td>\n",
       "      <td>71.2833</td>\n",
       "      <td>C85</td>\n",
       "      <td>C</td>\n",
       "    </tr>\n",
       "    <tr>\n",
       "      <th>2</th>\n",
       "      <td>3</td>\n",
       "      <td>1</td>\n",
       "      <td>3</td>\n",
       "      <td>Miss</td>\n",
       "      <td>female</td>\n",
       "      <td>26.0</td>\n",
       "      <td>0</td>\n",
       "      <td>0</td>\n",
       "      <td>STON/O2. 3101282</td>\n",
       "      <td>7.9250</td>\n",
       "      <td>NaN</td>\n",
       "      <td>S</td>\n",
       "    </tr>\n",
       "    <tr>\n",
       "      <th>3</th>\n",
       "      <td>4</td>\n",
       "      <td>1</td>\n",
       "      <td>1</td>\n",
       "      <td>Mrs</td>\n",
       "      <td>female</td>\n",
       "      <td>35.0</td>\n",
       "      <td>1</td>\n",
       "      <td>0</td>\n",
       "      <td>113803</td>\n",
       "      <td>53.1000</td>\n",
       "      <td>C123</td>\n",
       "      <td>S</td>\n",
       "    </tr>\n",
       "    <tr>\n",
       "      <th>4</th>\n",
       "      <td>5</td>\n",
       "      <td>0</td>\n",
       "      <td>3</td>\n",
       "      <td>Mr</td>\n",
       "      <td>male</td>\n",
       "      <td>35.0</td>\n",
       "      <td>0</td>\n",
       "      <td>0</td>\n",
       "      <td>373450</td>\n",
       "      <td>8.0500</td>\n",
       "      <td>NaN</td>\n",
       "      <td>S</td>\n",
       "    </tr>\n",
       "  </tbody>\n",
       "</table>\n",
       "</div>"
      ],
      "text/plain": [
       "   PassengerId  Survived  Pclass  Name     Sex   Age  SibSp  Parch  \\\n",
       "0            1         0       3    Mr    male  22.0      1      0   \n",
       "1            2         1       1   Mrs  female  38.0      1      0   \n",
       "2            3         1       3  Miss  female  26.0      0      0   \n",
       "3            4         1       1   Mrs  female  35.0      1      0   \n",
       "4            5         0       3    Mr    male  35.0      0      0   \n",
       "\n",
       "             Ticket     Fare Cabin Embarked  \n",
       "0         A/5 21171   7.2500   NaN        S  \n",
       "1          PC 17599  71.2833   C85        C  \n",
       "2  STON/O2. 3101282   7.9250   NaN        S  \n",
       "3            113803  53.1000  C123        S  \n",
       "4            373450   8.0500   NaN        S  "
      ]
     },
     "execution_count": 21,
     "metadata": {},
     "output_type": "execute_result"
    }
   ],
   "source": [
    "train_data.head()"
   ]
  },
  {
   "cell_type": "markdown",
   "id": "43978fe5",
   "metadata": {},
   "source": [
    "Часть информации о пассажире явлется избыточной и не несет пользы для модели:\n",
    "- номер билета `Ticket` — просто набор символов;\n",
    "- после заполнения пропусков по возрасту, нет необходимости в поле 'Name';\n",
    "- `Cabin` — большое количество пропусков."
   ]
  },
  {
   "cell_type": "code",
   "execution_count": 22,
   "id": "2f01201d",
   "metadata": {},
   "outputs": [],
   "source": [
    "train_data = train_data.drop(columns=['Name','Ticket','Cabin'])\n",
    "test_data = test_data.drop(columns=['Name','Ticket','Cabin'])"
   ]
  },
  {
   "cell_type": "markdown",
   "id": "338df918",
   "metadata": {},
   "source": [
    "### Категоризация по членам семьи"
   ]
  },
  {
   "cell_type": "markdown",
   "id": "468e3d56",
   "metadata": {},
   "source": [
    "Сейчас два признака хранят информацию о членах семьи на борту — заменим их на один агрегированный признак."
   ]
  },
  {
   "cell_type": "markdown",
   "id": "5b1f5342",
   "metadata": {},
   "source": [
    "Для тренировочных данных:"
   ]
  },
  {
   "cell_type": "code",
   "execution_count": 23,
   "id": "41de8743",
   "metadata": {
    "scrolled": true
   },
   "outputs": [
    {
     "data": {
      "text/plain": [
       "0     535\n",
       "1     161\n",
       "2     102\n",
       "3      29\n",
       "5      22\n",
       "4      15\n",
       "6      12\n",
       "10      7\n",
       "7       6\n",
       "Name: Family, dtype: int64"
      ]
     },
     "execution_count": 23,
     "metadata": {},
     "output_type": "execute_result"
    }
   ],
   "source": [
    "train_data['Family'] = train_data['SibSp'] + train_data['Parch']          # складываем значения в столбцах\n",
    "train_data.drop(columns=['SibSp', 'Parch'], inplace=True)                 # отбрасываем излишние признаки\n",
    "\n",
    "train_data['Family'].value_counts()                                       # смотрим на распределение по признаку"
   ]
  },
  {
   "cell_type": "markdown",
   "id": "2eb9fb1c",
   "metadata": {},
   "source": [
    "Для тестовых данных:"
   ]
  },
  {
   "cell_type": "code",
   "execution_count": 24,
   "id": "19cd4a17",
   "metadata": {},
   "outputs": [
    {
     "data": {
      "text/plain": [
       "0     253\n",
       "1      74\n",
       "2      57\n",
       "3      14\n",
       "4       7\n",
       "6       4\n",
       "10      4\n",
       "5       3\n",
       "7       2\n",
       "Name: Family, dtype: int64"
      ]
     },
     "execution_count": 24,
     "metadata": {},
     "output_type": "execute_result"
    }
   ],
   "source": [
    "test_data['Family'] = test_data['SibSp'] + test_data['Parch']          # складываем значения в столбцах\n",
    "test_data.drop(columns=['SibSp', 'Parch'], inplace=True)               # отбрасываем излишние признаки\n",
    "\n",
    "test_data['Family'].value_counts()                                     # смотрим на распределение по признаку"
   ]
  },
  {
   "cell_type": "markdown",
   "id": "7c8a46a8",
   "metadata": {},
   "source": [
    "Большинство путешествовали в одиночку, а пассажиров с большим количеством родственников на борту вообще почти не было — уменьшим количество групп, установив для всех у кого более 5 родственников на борту значение 5."
   ]
  },
  {
   "cell_type": "code",
   "execution_count": 25,
   "id": "5384fbc4",
   "metadata": {},
   "outputs": [
    {
     "data": {
      "text/plain": [
       "0    535\n",
       "1    161\n",
       "2    102\n",
       "5     47\n",
       "3     29\n",
       "4     15\n",
       "Name: Family, dtype: int64"
      ]
     },
     "execution_count": 25,
     "metadata": {},
     "output_type": "execute_result"
    }
   ],
   "source": [
    "train_data.loc[train_data.Family>4, 'Family'] = 5\n",
    "train_data.Family.value_counts()"
   ]
  },
  {
   "cell_type": "code",
   "execution_count": 26,
   "id": "d30a5d0e",
   "metadata": {},
   "outputs": [
    {
     "data": {
      "text/plain": [
       "0    253\n",
       "1     74\n",
       "2     57\n",
       "3     14\n",
       "5     13\n",
       "4      7\n",
       "Name: Family, dtype: int64"
      ]
     },
     "execution_count": 26,
     "metadata": {},
     "output_type": "execute_result"
    }
   ],
   "source": [
    "test_data.loc[test_data.Family>4, 'Family'] = 5\n",
    "test_data.Family.value_counts()"
   ]
  },
  {
   "cell_type": "code",
   "execution_count": 27,
   "id": "16829a82",
   "metadata": {},
   "outputs": [
    {
     "data": {
      "image/png": "[encoded data removed]",
      "text/plain": [
       "<Figure size 576x360 with 1 Axes>"
      ]
     },
     "metadata": {
      "needs_background": "light"
     },
     "output_type": "display_data"
    }
   ],
   "source": [
    "fig = plt.figure(figsize = (8,5))\n",
    "chart = sns.barplot(x=\"Family\",y=\"Survived\",data = train_data, palette = \"RdYlBu\")\n",
    "chart.set_title('Доля выживших в зависимости от количества членов семьи на борту')\n",
    "plt.show()"
   ]
  },
  {
   "cell_type": "markdown",
   "id": "76b51c00",
   "metadata": {},
   "source": [
    "Cемья небольшого размера увеливала шансы выжить (помощь и взаимовыручка), а вот большая — существенно их снижала."
   ]
  },
  {
   "cell_type": "markdown",
   "id": "db982b2a",
   "metadata": {},
   "source": [
    "### Данные после преобразований"
   ]
  },
  {
   "cell_type": "code",
   "execution_count": 28,
   "id": "ebcaaf78",
   "metadata": {
    "scrolled": true
   },
   "outputs": [
    {
     "data": {
      "text/html": [
       "<div>\n",
       "<style scoped>\n",
       "    .dataframe tbody tr th:only-of-type {\n",
       "        vertical-align: middle;\n",
       "    }\n",
       "\n",
       "    .dataframe tbody tr th {\n",
       "        vertical-align: top;\n",
       "    }\n",
       "\n",
       "    .dataframe thead th {\n",
       "        text-align: right;\n",
       "    }\n",
       "</style>\n",
       "<table border=\"1\" class=\"dataframe\">\n",
       "  <thead>\n",
       "    <tr style=\"text-align: right;\">\n",
       "      <th></th>\n",
       "      <th>PassengerId</th>\n",
       "      <th>Survived</th>\n",
       "      <th>Pclass</th>\n",
       "      <th>Sex</th>\n",
       "      <th>Age</th>\n",
       "      <th>Fare</th>\n",
       "      <th>Embarked</th>\n",
       "      <th>Family</th>\n",
       "    </tr>\n",
       "  </thead>\n",
       "  <tbody>\n",
       "    <tr>\n",
       "      <th>0</th>\n",
       "      <td>1</td>\n",
       "      <td>0</td>\n",
       "      <td>3</td>\n",
       "      <td>male</td>\n",
       "      <td>22.0</td>\n",
       "      <td>7.2500</td>\n",
       "      <td>S</td>\n",
       "      <td>1</td>\n",
       "    </tr>\n",
       "    <tr>\n",
       "      <th>1</th>\n",
       "      <td>2</td>\n",
       "      <td>1</td>\n",
       "      <td>1</td>\n",
       "      <td>female</td>\n",
       "      <td>38.0</td>\n",
       "      <td>71.2833</td>\n",
       "      <td>C</td>\n",
       "      <td>1</td>\n",
       "    </tr>\n",
       "    <tr>\n",
       "      <th>2</th>\n",
       "      <td>3</td>\n",
       "      <td>1</td>\n",
       "      <td>3</td>\n",
       "      <td>female</td>\n",
       "      <td>26.0</td>\n",
       "      <td>7.9250</td>\n",
       "      <td>S</td>\n",
       "      <td>0</td>\n",
       "    </tr>\n",
       "    <tr>\n",
       "      <th>3</th>\n",
       "      <td>4</td>\n",
       "      <td>1</td>\n",
       "      <td>1</td>\n",
       "      <td>female</td>\n",
       "      <td>35.0</td>\n",
       "      <td>53.1000</td>\n",
       "      <td>S</td>\n",
       "      <td>1</td>\n",
       "    </tr>\n",
       "    <tr>\n",
       "      <th>4</th>\n",
       "      <td>5</td>\n",
       "      <td>0</td>\n",
       "      <td>3</td>\n",
       "      <td>male</td>\n",
       "      <td>35.0</td>\n",
       "      <td>8.0500</td>\n",
       "      <td>S</td>\n",
       "      <td>0</td>\n",
       "    </tr>\n",
       "    <tr>\n",
       "      <th>5</th>\n",
       "      <td>6</td>\n",
       "      <td>0</td>\n",
       "      <td>3</td>\n",
       "      <td>male</td>\n",
       "      <td>32.0</td>\n",
       "      <td>8.4583</td>\n",
       "      <td>Q</td>\n",
       "      <td>0</td>\n",
       "    </tr>\n",
       "    <tr>\n",
       "      <th>6</th>\n",
       "      <td>7</td>\n",
       "      <td>0</td>\n",
       "      <td>1</td>\n",
       "      <td>male</td>\n",
       "      <td>54.0</td>\n",
       "      <td>51.8625</td>\n",
       "      <td>S</td>\n",
       "      <td>0</td>\n",
       "    </tr>\n",
       "    <tr>\n",
       "      <th>7</th>\n",
       "      <td>8</td>\n",
       "      <td>0</td>\n",
       "      <td>3</td>\n",
       "      <td>male</td>\n",
       "      <td>2.0</td>\n",
       "      <td>21.0750</td>\n",
       "      <td>S</td>\n",
       "      <td>4</td>\n",
       "    </tr>\n",
       "    <tr>\n",
       "      <th>8</th>\n",
       "      <td>9</td>\n",
       "      <td>1</td>\n",
       "      <td>3</td>\n",
       "      <td>female</td>\n",
       "      <td>27.0</td>\n",
       "      <td>11.1333</td>\n",
       "      <td>S</td>\n",
       "      <td>2</td>\n",
       "    </tr>\n",
       "    <tr>\n",
       "      <th>9</th>\n",
       "      <td>10</td>\n",
       "      <td>1</td>\n",
       "      <td>2</td>\n",
       "      <td>female</td>\n",
       "      <td>14.0</td>\n",
       "      <td>30.0708</td>\n",
       "      <td>C</td>\n",
       "      <td>1</td>\n",
       "    </tr>\n",
       "  </tbody>\n",
       "</table>\n",
       "</div>"
      ],
      "text/plain": [
       "   PassengerId  Survived  Pclass     Sex   Age     Fare Embarked  Family\n",
       "0            1         0       3    male  22.0   7.2500        S       1\n",
       "1            2         1       1  female  38.0  71.2833        C       1\n",
       "2            3         1       3  female  26.0   7.9250        S       0\n",
       "3            4         1       1  female  35.0  53.1000        S       1\n",
       "4            5         0       3    male  35.0   8.0500        S       0\n",
       "5            6         0       3    male  32.0   8.4583        Q       0\n",
       "6            7         0       1    male  54.0  51.8625        S       0\n",
       "7            8         0       3    male   2.0  21.0750        S       4\n",
       "8            9         1       3  female  27.0  11.1333        S       2\n",
       "9           10         1       2  female  14.0  30.0708        C       1"
      ]
     },
     "execution_count": 28,
     "metadata": {},
     "output_type": "execute_result"
    }
   ],
   "source": [
    "train_data.head(10)"
   ]
  },
  {
   "cell_type": "code",
   "execution_count": 29,
   "id": "0d7710c3",
   "metadata": {},
   "outputs": [
    {
     "name": "stdout",
     "output_type": "stream",
     "text": [
      "<class 'pandas.core.frame.DataFrame'>\n",
      "Int64Index: 889 entries, 0 to 890\n",
      "Data columns (total 8 columns):\n",
      " #   Column       Non-Null Count  Dtype  \n",
      "---  ------       --------------  -----  \n",
      " 0   PassengerId  889 non-null    int64  \n",
      " 1   Survived     889 non-null    int64  \n",
      " 2   Pclass       889 non-null    int64  \n",
      " 3   Sex          889 non-null    object \n",
      " 4   Age          889 non-null    float64\n",
      " 5   Fare         889 non-null    float64\n",
      " 6   Embarked     889 non-null    object \n",
      " 7   Family       889 non-null    int64  \n",
      "dtypes: float64(2), int64(4), object(2)\n",
      "memory usage: 94.8+ KB\n"
     ]
    }
   ],
   "source": [
    "train_data.info()"
   ]
  },
  {
   "cell_type": "markdown",
   "id": "0c70abf8",
   "metadata": {},
   "source": [
    "Для тренировки модели у нас осталось 889 объектов."
   ]
  },
  {
   "cell_type": "code",
   "execution_count": 30,
   "id": "1ddf38d2",
   "metadata": {},
   "outputs": [
    {
     "data": {
      "text/html": [
       "<div>\n",
       "<style scoped>\n",
       "    .dataframe tbody tr th:only-of-type {\n",
       "        vertical-align: middle;\n",
       "    }\n",
       "\n",
       "    .dataframe tbody tr th {\n",
       "        vertical-align: top;\n",
       "    }\n",
       "\n",
       "    .dataframe thead th {\n",
       "        text-align: right;\n",
       "    }\n",
       "</style>\n",
       "<table border=\"1\" class=\"dataframe\">\n",
       "  <thead>\n",
       "    <tr style=\"text-align: right;\">\n",
       "      <th></th>\n",
       "      <th>PassengerId</th>\n",
       "      <th>Pclass</th>\n",
       "      <th>Sex</th>\n",
       "      <th>Age</th>\n",
       "      <th>Fare</th>\n",
       "      <th>Embarked</th>\n",
       "      <th>Family</th>\n",
       "    </tr>\n",
       "  </thead>\n",
       "  <tbody>\n",
       "    <tr>\n",
       "      <th>0</th>\n",
       "      <td>892</td>\n",
       "      <td>3</td>\n",
       "      <td>male</td>\n",
       "      <td>34.5</td>\n",
       "      <td>7.8292</td>\n",
       "      <td>Q</td>\n",
       "      <td>0</td>\n",
       "    </tr>\n",
       "    <tr>\n",
       "      <th>1</th>\n",
       "      <td>893</td>\n",
       "      <td>3</td>\n",
       "      <td>female</td>\n",
       "      <td>47.0</td>\n",
       "      <td>7.0000</td>\n",
       "      <td>S</td>\n",
       "      <td>1</td>\n",
       "    </tr>\n",
       "    <tr>\n",
       "      <th>2</th>\n",
       "      <td>894</td>\n",
       "      <td>2</td>\n",
       "      <td>male</td>\n",
       "      <td>62.0</td>\n",
       "      <td>9.6875</td>\n",
       "      <td>Q</td>\n",
       "      <td>0</td>\n",
       "    </tr>\n",
       "    <tr>\n",
       "      <th>3</th>\n",
       "      <td>895</td>\n",
       "      <td>3</td>\n",
       "      <td>male</td>\n",
       "      <td>27.0</td>\n",
       "      <td>8.6625</td>\n",
       "      <td>S</td>\n",
       "      <td>0</td>\n",
       "    </tr>\n",
       "    <tr>\n",
       "      <th>4</th>\n",
       "      <td>896</td>\n",
       "      <td>3</td>\n",
       "      <td>female</td>\n",
       "      <td>22.0</td>\n",
       "      <td>12.2875</td>\n",
       "      <td>S</td>\n",
       "      <td>2</td>\n",
       "    </tr>\n",
       "    <tr>\n",
       "      <th>5</th>\n",
       "      <td>897</td>\n",
       "      <td>3</td>\n",
       "      <td>male</td>\n",
       "      <td>14.0</td>\n",
       "      <td>9.2250</td>\n",
       "      <td>S</td>\n",
       "      <td>0</td>\n",
       "    </tr>\n",
       "    <tr>\n",
       "      <th>6</th>\n",
       "      <td>898</td>\n",
       "      <td>3</td>\n",
       "      <td>female</td>\n",
       "      <td>30.0</td>\n",
       "      <td>7.6292</td>\n",
       "      <td>Q</td>\n",
       "      <td>0</td>\n",
       "    </tr>\n",
       "    <tr>\n",
       "      <th>7</th>\n",
       "      <td>899</td>\n",
       "      <td>2</td>\n",
       "      <td>male</td>\n",
       "      <td>26.0</td>\n",
       "      <td>29.0000</td>\n",
       "      <td>S</td>\n",
       "      <td>2</td>\n",
       "    </tr>\n",
       "    <tr>\n",
       "      <th>8</th>\n",
       "      <td>900</td>\n",
       "      <td>3</td>\n",
       "      <td>female</td>\n",
       "      <td>18.0</td>\n",
       "      <td>7.2292</td>\n",
       "      <td>C</td>\n",
       "      <td>0</td>\n",
       "    </tr>\n",
       "    <tr>\n",
       "      <th>9</th>\n",
       "      <td>901</td>\n",
       "      <td>3</td>\n",
       "      <td>male</td>\n",
       "      <td>21.0</td>\n",
       "      <td>24.1500</td>\n",
       "      <td>S</td>\n",
       "      <td>2</td>\n",
       "    </tr>\n",
       "  </tbody>\n",
       "</table>\n",
       "</div>"
      ],
      "text/plain": [
       "   PassengerId  Pclass     Sex   Age     Fare Embarked  Family\n",
       "0          892       3    male  34.5   7.8292        Q       0\n",
       "1          893       3  female  47.0   7.0000        S       1\n",
       "2          894       2    male  62.0   9.6875        Q       0\n",
       "3          895       3    male  27.0   8.6625        S       0\n",
       "4          896       3  female  22.0  12.2875        S       2\n",
       "5          897       3    male  14.0   9.2250        S       0\n",
       "6          898       3  female  30.0   7.6292        Q       0\n",
       "7          899       2    male  26.0  29.0000        S       2\n",
       "8          900       3  female  18.0   7.2292        C       0\n",
       "9          901       3    male  21.0  24.1500        S       2"
      ]
     },
     "execution_count": 30,
     "metadata": {},
     "output_type": "execute_result"
    }
   ],
   "source": [
    "test_data.head(10)"
   ]
  },
  {
   "cell_type": "code",
   "execution_count": 31,
   "id": "d65e1330",
   "metadata": {},
   "outputs": [
    {
     "name": "stdout",
     "output_type": "stream",
     "text": [
      "<class 'pandas.core.frame.DataFrame'>\n",
      "RangeIndex: 418 entries, 0 to 417\n",
      "Data columns (total 7 columns):\n",
      " #   Column       Non-Null Count  Dtype  \n",
      "---  ------       --------------  -----  \n",
      " 0   PassengerId  418 non-null    int64  \n",
      " 1   Pclass       418 non-null    int64  \n",
      " 2   Sex          418 non-null    object \n",
      " 3   Age          418 non-null    float64\n",
      " 4   Fare         418 non-null    float64\n",
      " 5   Embarked     418 non-null    object \n",
      " 6   Family       418 non-null    int64  \n",
      "dtypes: float64(2), int64(3), object(2)\n",
      "memory usage: 23.0+ KB\n"
     ]
    }
   ],
   "source": [
    "test_data.info()"
   ]
  },
  {
   "cell_type": "markdown",
   "id": "91c4344e",
   "metadata": {},
   "source": [
    "## Обучение модели"
   ]
  },
  {
   "cell_type": "markdown",
   "id": "3ec1b72a",
   "metadata": {},
   "source": [
    "### Зависимость признаков"
   ]
  },
  {
   "cell_type": "code",
   "execution_count": 32,
   "id": "bb2984fd",
   "metadata": {},
   "outputs": [
    {
     "data": {
      "image/png": "[encoded data removed]",
      "text/plain": [
       "<Figure size 720x720 with 2 Axes>"
      ]
     },
     "metadata": {
      "needs_background": "light"
     },
     "output_type": "display_data"
    }
   ],
   "source": [
    "fig = plt.figure(figsize=(10,10))\n",
    "sns.heatmap(train_data.corr(), annot=True, fmt='.2f')\n",
    "plt.show()"
   ]
  },
  {
   "cell_type": "markdown",
   "id": "6bfc4505",
   "metadata": {},
   "source": [
    "### Категориальные признаки"
   ]
  },
  {
   "cell_type": "code",
   "execution_count": 33,
   "id": "c647e48d",
   "metadata": {},
   "outputs": [],
   "source": [
    "ohe = OneHotEncoder(variables=['Sex', 'Embarked'])\n",
    "train_data = ohe.fit_transform(train_data)\n",
    "test_data = ohe.fit_transform(test_data)"
   ]
  },
  {
   "cell_type": "code",
   "execution_count": 34,
   "id": "afc7a936",
   "metadata": {},
   "outputs": [
    {
     "data": {
      "text/html": [
       "<div>\n",
       "<style scoped>\n",
       "    .dataframe tbody tr th:only-of-type {\n",
       "        vertical-align: middle;\n",
       "    }\n",
       "\n",
       "    .dataframe tbody tr th {\n",
       "        vertical-align: top;\n",
       "    }\n",
       "\n",
       "    .dataframe thead th {\n",
       "        text-align: right;\n",
       "    }\n",
       "</style>\n",
       "<table border=\"1\" class=\"dataframe\">\n",
       "  <thead>\n",
       "    <tr style=\"text-align: right;\">\n",
       "      <th></th>\n",
       "      <th>PassengerId</th>\n",
       "      <th>Survived</th>\n",
       "      <th>Pclass</th>\n",
       "      <th>Age</th>\n",
       "      <th>Fare</th>\n",
       "      <th>Family</th>\n",
       "      <th>Sex_male</th>\n",
       "      <th>Sex_female</th>\n",
       "      <th>Embarked_S</th>\n",
       "      <th>Embarked_C</th>\n",
       "      <th>Embarked_Q</th>\n",
       "    </tr>\n",
       "  </thead>\n",
       "  <tbody>\n",
       "    <tr>\n",
       "      <th>0</th>\n",
       "      <td>1</td>\n",
       "      <td>0</td>\n",
       "      <td>3</td>\n",
       "      <td>22.0</td>\n",
       "      <td>7.2500</td>\n",
       "      <td>1</td>\n",
       "      <td>1</td>\n",
       "      <td>0</td>\n",
       "      <td>1</td>\n",
       "      <td>0</td>\n",
       "      <td>0</td>\n",
       "    </tr>\n",
       "    <tr>\n",
       "      <th>1</th>\n",
       "      <td>2</td>\n",
       "      <td>1</td>\n",
       "      <td>1</td>\n",
       "      <td>38.0</td>\n",
       "      <td>71.2833</td>\n",
       "      <td>1</td>\n",
       "      <td>0</td>\n",
       "      <td>1</td>\n",
       "      <td>0</td>\n",
       "      <td>1</td>\n",
       "      <td>0</td>\n",
       "    </tr>\n",
       "    <tr>\n",
       "      <th>2</th>\n",
       "      <td>3</td>\n",
       "      <td>1</td>\n",
       "      <td>3</td>\n",
       "      <td>26.0</td>\n",
       "      <td>7.9250</td>\n",
       "      <td>0</td>\n",
       "      <td>0</td>\n",
       "      <td>1</td>\n",
       "      <td>1</td>\n",
       "      <td>0</td>\n",
       "      <td>0</td>\n",
       "    </tr>\n",
       "    <tr>\n",
       "      <th>3</th>\n",
       "      <td>4</td>\n",
       "      <td>1</td>\n",
       "      <td>1</td>\n",
       "      <td>35.0</td>\n",
       "      <td>53.1000</td>\n",
       "      <td>1</td>\n",
       "      <td>0</td>\n",
       "      <td>1</td>\n",
       "      <td>1</td>\n",
       "      <td>0</td>\n",
       "      <td>0</td>\n",
       "    </tr>\n",
       "    <tr>\n",
       "      <th>4</th>\n",
       "      <td>5</td>\n",
       "      <td>0</td>\n",
       "      <td>3</td>\n",
       "      <td>35.0</td>\n",
       "      <td>8.0500</td>\n",
       "      <td>0</td>\n",
       "      <td>1</td>\n",
       "      <td>0</td>\n",
       "      <td>1</td>\n",
       "      <td>0</td>\n",
       "      <td>0</td>\n",
       "    </tr>\n",
       "  </tbody>\n",
       "</table>\n",
       "</div>"
      ],
      "text/plain": [
       "   PassengerId  Survived  Pclass   Age     Fare  Family  Sex_male  Sex_female  \\\n",
       "0            1         0       3  22.0   7.2500       1         1           0   \n",
       "1            2         1       1  38.0  71.2833       1         0           1   \n",
       "2            3         1       3  26.0   7.9250       0         0           1   \n",
       "3            4         1       1  35.0  53.1000       1         0           1   \n",
       "4            5         0       3  35.0   8.0500       0         1           0   \n",
       "\n",
       "   Embarked_S  Embarked_C  Embarked_Q  \n",
       "0           1           0           0  \n",
       "1           0           1           0  \n",
       "2           1           0           0  \n",
       "3           1           0           0  \n",
       "4           1           0           0  "
      ]
     },
     "execution_count": 34,
     "metadata": {},
     "output_type": "execute_result"
    }
   ],
   "source": [
    "train_data.head()"
   ]
  },
  {
   "cell_type": "markdown",
   "id": "a08a2993",
   "metadata": {},
   "source": [
    "### Нормализация признаков"
   ]
  },
  {
   "cell_type": "markdown",
   "id": "9b37661c",
   "metadata": {},
   "source": [
    "Приведем признаки к новому масштабу, но перед этим отделим целевой признак в обучающей выборке."
   ]
  },
  {
   "cell_type": "code",
   "execution_count": 35,
   "id": "b8c3d41c",
   "metadata": {},
   "outputs": [],
   "source": [
    "features_train = train_data.drop(columns=['Survived', 'PassengerId'])\n",
    "target_train   = train_data['Survived'].astype(int)"
   ]
  },
  {
   "cell_type": "code",
   "execution_count": 36,
   "id": "328539aa",
   "metadata": {},
   "outputs": [],
   "source": [
    "dfps = test_data.PassengerId\n",
    "test_data.drop(['PassengerId'], inplace=True, axis=1)"
   ]
  },
  {
   "cell_type": "code",
   "execution_count": 37,
   "id": "47884072",
   "metadata": {
    "scrolled": true
   },
   "outputs": [
    {
     "data": {
      "text/html": [
       "<div>\n",
       "<style scoped>\n",
       "    .dataframe tbody tr th:only-of-type {\n",
       "        vertical-align: middle;\n",
       "    }\n",
       "\n",
       "    .dataframe tbody tr th {\n",
       "        vertical-align: top;\n",
       "    }\n",
       "\n",
       "    .dataframe thead th {\n",
       "        text-align: right;\n",
       "    }\n",
       "</style>\n",
       "<table border=\"1\" class=\"dataframe\">\n",
       "  <thead>\n",
       "    <tr style=\"text-align: right;\">\n",
       "      <th></th>\n",
       "      <th>Pclass</th>\n",
       "      <th>Age</th>\n",
       "      <th>Fare</th>\n",
       "      <th>Family</th>\n",
       "      <th>Sex_male</th>\n",
       "      <th>Sex_female</th>\n",
       "      <th>Embarked_Q</th>\n",
       "      <th>Embarked_S</th>\n",
       "      <th>Embarked_C</th>\n",
       "    </tr>\n",
       "  </thead>\n",
       "  <tbody>\n",
       "    <tr>\n",
       "      <th>0</th>\n",
       "      <td>3</td>\n",
       "      <td>34.5</td>\n",
       "      <td>7.8292</td>\n",
       "      <td>0</td>\n",
       "      <td>1</td>\n",
       "      <td>0</td>\n",
       "      <td>1</td>\n",
       "      <td>0</td>\n",
       "      <td>0</td>\n",
       "    </tr>\n",
       "    <tr>\n",
       "      <th>1</th>\n",
       "      <td>3</td>\n",
       "      <td>47.0</td>\n",
       "      <td>7.0000</td>\n",
       "      <td>1</td>\n",
       "      <td>0</td>\n",
       "      <td>1</td>\n",
       "      <td>0</td>\n",
       "      <td>1</td>\n",
       "      <td>0</td>\n",
       "    </tr>\n",
       "    <tr>\n",
       "      <th>2</th>\n",
       "      <td>2</td>\n",
       "      <td>62.0</td>\n",
       "      <td>9.6875</td>\n",
       "      <td>0</td>\n",
       "      <td>1</td>\n",
       "      <td>0</td>\n",
       "      <td>1</td>\n",
       "      <td>0</td>\n",
       "      <td>0</td>\n",
       "    </tr>\n",
       "    <tr>\n",
       "      <th>3</th>\n",
       "      <td>3</td>\n",
       "      <td>27.0</td>\n",
       "      <td>8.6625</td>\n",
       "      <td>0</td>\n",
       "      <td>1</td>\n",
       "      <td>0</td>\n",
       "      <td>0</td>\n",
       "      <td>1</td>\n",
       "      <td>0</td>\n",
       "    </tr>\n",
       "    <tr>\n",
       "      <th>4</th>\n",
       "      <td>3</td>\n",
       "      <td>22.0</td>\n",
       "      <td>12.2875</td>\n",
       "      <td>2</td>\n",
       "      <td>0</td>\n",
       "      <td>1</td>\n",
       "      <td>0</td>\n",
       "      <td>1</td>\n",
       "      <td>0</td>\n",
       "    </tr>\n",
       "    <tr>\n",
       "      <th>...</th>\n",
       "      <td>...</td>\n",
       "      <td>...</td>\n",
       "      <td>...</td>\n",
       "      <td>...</td>\n",
       "      <td>...</td>\n",
       "      <td>...</td>\n",
       "      <td>...</td>\n",
       "      <td>...</td>\n",
       "      <td>...</td>\n",
       "    </tr>\n",
       "    <tr>\n",
       "      <th>413</th>\n",
       "      <td>3</td>\n",
       "      <td>32.0</td>\n",
       "      <td>8.0500</td>\n",
       "      <td>0</td>\n",
       "      <td>1</td>\n",
       "      <td>0</td>\n",
       "      <td>0</td>\n",
       "      <td>1</td>\n",
       "      <td>0</td>\n",
       "    </tr>\n",
       "    <tr>\n",
       "      <th>414</th>\n",
       "      <td>1</td>\n",
       "      <td>39.0</td>\n",
       "      <td>108.9000</td>\n",
       "      <td>0</td>\n",
       "      <td>0</td>\n",
       "      <td>1</td>\n",
       "      <td>0</td>\n",
       "      <td>0</td>\n",
       "      <td>1</td>\n",
       "    </tr>\n",
       "    <tr>\n",
       "      <th>415</th>\n",
       "      <td>3</td>\n",
       "      <td>38.5</td>\n",
       "      <td>7.2500</td>\n",
       "      <td>0</td>\n",
       "      <td>1</td>\n",
       "      <td>0</td>\n",
       "      <td>0</td>\n",
       "      <td>1</td>\n",
       "      <td>0</td>\n",
       "    </tr>\n",
       "    <tr>\n",
       "      <th>416</th>\n",
       "      <td>3</td>\n",
       "      <td>32.0</td>\n",
       "      <td>8.0500</td>\n",
       "      <td>0</td>\n",
       "      <td>1</td>\n",
       "      <td>0</td>\n",
       "      <td>0</td>\n",
       "      <td>1</td>\n",
       "      <td>0</td>\n",
       "    </tr>\n",
       "    <tr>\n",
       "      <th>417</th>\n",
       "      <td>3</td>\n",
       "      <td>6.0</td>\n",
       "      <td>22.3583</td>\n",
       "      <td>2</td>\n",
       "      <td>1</td>\n",
       "      <td>0</td>\n",
       "      <td>0</td>\n",
       "      <td>0</td>\n",
       "      <td>1</td>\n",
       "    </tr>\n",
       "  </tbody>\n",
       "</table>\n",
       "<p>418 rows × 9 columns</p>\n",
       "</div>"
      ],
      "text/plain": [
       "     Pclass   Age      Fare  Family  Sex_male  Sex_female  Embarked_Q  \\\n",
       "0         3  34.5    7.8292       0         1           0           1   \n",
       "1         3  47.0    7.0000       1         0           1           0   \n",
       "2         2  62.0    9.6875       0         1           0           1   \n",
       "3         3  27.0    8.6625       0         1           0           0   \n",
       "4         3  22.0   12.2875       2         0           1           0   \n",
       "..      ...   ...       ...     ...       ...         ...         ...   \n",
       "413       3  32.0    8.0500       0         1           0           0   \n",
       "414       1  39.0  108.9000       0         0           1           0   \n",
       "415       3  38.5    7.2500       0         1           0           0   \n",
       "416       3  32.0    8.0500       0         1           0           0   \n",
       "417       3   6.0   22.3583       2         1           0           0   \n",
       "\n",
       "     Embarked_S  Embarked_C  \n",
       "0             0           0  \n",
       "1             1           0  \n",
       "2             0           0  \n",
       "3             1           0  \n",
       "4             1           0  \n",
       "..          ...         ...  \n",
       "413           1           0  \n",
       "414           0           1  \n",
       "415           1           0  \n",
       "416           1           0  \n",
       "417           0           1  \n",
       "\n",
       "[418 rows x 9 columns]"
      ]
     },
     "execution_count": 37,
     "metadata": {},
     "output_type": "execute_result"
    }
   ],
   "source": [
    "test_data"
   ]
  },
  {
   "cell_type": "code",
   "execution_count": 38,
   "id": "f73f9532",
   "metadata": {},
   "outputs": [
    {
     "data": {
      "text/html": [
       "<div>\n",
       "<style scoped>\n",
       "    .dataframe tbody tr th:only-of-type {\n",
       "        vertical-align: middle;\n",
       "    }\n",
       "\n",
       "    .dataframe tbody tr th {\n",
       "        vertical-align: top;\n",
       "    }\n",
       "\n",
       "    .dataframe thead th {\n",
       "        text-align: right;\n",
       "    }\n",
       "</style>\n",
       "<table border=\"1\" class=\"dataframe\">\n",
       "  <thead>\n",
       "    <tr style=\"text-align: right;\">\n",
       "      <th></th>\n",
       "      <th>PassengerId</th>\n",
       "      <th>Survived</th>\n",
       "      <th>Pclass</th>\n",
       "      <th>Age</th>\n",
       "      <th>Fare</th>\n",
       "      <th>Family</th>\n",
       "      <th>Sex_male</th>\n",
       "      <th>Sex_female</th>\n",
       "      <th>Embarked_S</th>\n",
       "      <th>Embarked_C</th>\n",
       "      <th>Embarked_Q</th>\n",
       "    </tr>\n",
       "  </thead>\n",
       "  <tbody>\n",
       "    <tr>\n",
       "      <th>0</th>\n",
       "      <td>1</td>\n",
       "      <td>0</td>\n",
       "      <td>3</td>\n",
       "      <td>22.0</td>\n",
       "      <td>7.2500</td>\n",
       "      <td>1</td>\n",
       "      <td>1</td>\n",
       "      <td>0</td>\n",
       "      <td>1</td>\n",
       "      <td>0</td>\n",
       "      <td>0</td>\n",
       "    </tr>\n",
       "    <tr>\n",
       "      <th>1</th>\n",
       "      <td>2</td>\n",
       "      <td>1</td>\n",
       "      <td>1</td>\n",
       "      <td>38.0</td>\n",
       "      <td>71.2833</td>\n",
       "      <td>1</td>\n",
       "      <td>0</td>\n",
       "      <td>1</td>\n",
       "      <td>0</td>\n",
       "      <td>1</td>\n",
       "      <td>0</td>\n",
       "    </tr>\n",
       "    <tr>\n",
       "      <th>2</th>\n",
       "      <td>3</td>\n",
       "      <td>1</td>\n",
       "      <td>3</td>\n",
       "      <td>26.0</td>\n",
       "      <td>7.9250</td>\n",
       "      <td>0</td>\n",
       "      <td>0</td>\n",
       "      <td>1</td>\n",
       "      <td>1</td>\n",
       "      <td>0</td>\n",
       "      <td>0</td>\n",
       "    </tr>\n",
       "    <tr>\n",
       "      <th>3</th>\n",
       "      <td>4</td>\n",
       "      <td>1</td>\n",
       "      <td>1</td>\n",
       "      <td>35.0</td>\n",
       "      <td>53.1000</td>\n",
       "      <td>1</td>\n",
       "      <td>0</td>\n",
       "      <td>1</td>\n",
       "      <td>1</td>\n",
       "      <td>0</td>\n",
       "      <td>0</td>\n",
       "    </tr>\n",
       "    <tr>\n",
       "      <th>4</th>\n",
       "      <td>5</td>\n",
       "      <td>0</td>\n",
       "      <td>3</td>\n",
       "      <td>35.0</td>\n",
       "      <td>8.0500</td>\n",
       "      <td>0</td>\n",
       "      <td>1</td>\n",
       "      <td>0</td>\n",
       "      <td>1</td>\n",
       "      <td>0</td>\n",
       "      <td>0</td>\n",
       "    </tr>\n",
       "    <tr>\n",
       "      <th>...</th>\n",
       "      <td>...</td>\n",
       "      <td>...</td>\n",
       "      <td>...</td>\n",
       "      <td>...</td>\n",
       "      <td>...</td>\n",
       "      <td>...</td>\n",
       "      <td>...</td>\n",
       "      <td>...</td>\n",
       "      <td>...</td>\n",
       "      <td>...</td>\n",
       "      <td>...</td>\n",
       "    </tr>\n",
       "    <tr>\n",
       "      <th>886</th>\n",
       "      <td>887</td>\n",
       "      <td>0</td>\n",
       "      <td>2</td>\n",
       "      <td>27.0</td>\n",
       "      <td>13.0000</td>\n",
       "      <td>0</td>\n",
       "      <td>1</td>\n",
       "      <td>0</td>\n",
       "      <td>1</td>\n",
       "      <td>0</td>\n",
       "      <td>0</td>\n",
       "    </tr>\n",
       "    <tr>\n",
       "      <th>887</th>\n",
       "      <td>888</td>\n",
       "      <td>1</td>\n",
       "      <td>1</td>\n",
       "      <td>19.0</td>\n",
       "      <td>30.0000</td>\n",
       "      <td>0</td>\n",
       "      <td>0</td>\n",
       "      <td>1</td>\n",
       "      <td>1</td>\n",
       "      <td>0</td>\n",
       "      <td>0</td>\n",
       "    </tr>\n",
       "    <tr>\n",
       "      <th>888</th>\n",
       "      <td>889</td>\n",
       "      <td>0</td>\n",
       "      <td>3</td>\n",
       "      <td>22.0</td>\n",
       "      <td>23.4500</td>\n",
       "      <td>3</td>\n",
       "      <td>0</td>\n",
       "      <td>1</td>\n",
       "      <td>1</td>\n",
       "      <td>0</td>\n",
       "      <td>0</td>\n",
       "    </tr>\n",
       "    <tr>\n",
       "      <th>889</th>\n",
       "      <td>890</td>\n",
       "      <td>1</td>\n",
       "      <td>1</td>\n",
       "      <td>26.0</td>\n",
       "      <td>30.0000</td>\n",
       "      <td>0</td>\n",
       "      <td>1</td>\n",
       "      <td>0</td>\n",
       "      <td>0</td>\n",
       "      <td>1</td>\n",
       "      <td>0</td>\n",
       "    </tr>\n",
       "    <tr>\n",
       "      <th>890</th>\n",
       "      <td>891</td>\n",
       "      <td>0</td>\n",
       "      <td>3</td>\n",
       "      <td>32.0</td>\n",
       "      <td>7.7500</td>\n",
       "      <td>0</td>\n",
       "      <td>1</td>\n",
       "      <td>0</td>\n",
       "      <td>0</td>\n",
       "      <td>0</td>\n",
       "      <td>1</td>\n",
       "    </tr>\n",
       "  </tbody>\n",
       "</table>\n",
       "<p>889 rows × 11 columns</p>\n",
       "</div>"
      ],
      "text/plain": [
       "     PassengerId  Survived  Pclass   Age     Fare  Family  Sex_male  \\\n",
       "0              1         0       3  22.0   7.2500       1         1   \n",
       "1              2         1       1  38.0  71.2833       1         0   \n",
       "2              3         1       3  26.0   7.9250       0         0   \n",
       "3              4         1       1  35.0  53.1000       1         0   \n",
       "4              5         0       3  35.0   8.0500       0         1   \n",
       "..           ...       ...     ...   ...      ...     ...       ...   \n",
       "886          887         0       2  27.0  13.0000       0         1   \n",
       "887          888         1       1  19.0  30.0000       0         0   \n",
       "888          889         0       3  22.0  23.4500       3         0   \n",
       "889          890         1       1  26.0  30.0000       0         1   \n",
       "890          891         0       3  32.0   7.7500       0         1   \n",
       "\n",
       "     Sex_female  Embarked_S  Embarked_C  Embarked_Q  \n",
       "0             0           1           0           0  \n",
       "1             1           0           1           0  \n",
       "2             1           1           0           0  \n",
       "3             1           1           0           0  \n",
       "4             0           1           0           0  \n",
       "..          ...         ...         ...         ...  \n",
       "886           0           1           0           0  \n",
       "887           1           1           0           0  \n",
       "888           1           1           0           0  \n",
       "889           0           0           1           0  \n",
       "890           0           0           0           1  \n",
       "\n",
       "[889 rows x 11 columns]"
      ]
     },
     "execution_count": 38,
     "metadata": {},
     "output_type": "execute_result"
    }
   ],
   "source": [
    "train_data"
   ]
  },
  {
   "cell_type": "code",
   "execution_count": 39,
   "id": "211e1a4e",
   "metadata": {
    "scrolled": true
   },
   "outputs": [
    {
     "name": "stderr",
     "output_type": "stream",
     "text": [
      "C:\\Users\\rizho\\anaconda3\\lib\\site-packages\\sklearn\\base.py:493: FutureWarning: The feature names should match those that were passed during fit. Starting version 1.2, an error will be raised.\n",
      "Feature names must be in the same order as they were in fit.\n",
      "\n",
      "  warnings.warn(message, FutureWarning)\n"
     ]
    }
   ],
   "source": [
    "ss = StandardScaler()\n",
    "\n",
    "features_train = ss.fit_transform(features_train)\n",
    "test_data = ss.transform(test_data)"
   ]
  },
  {
   "cell_type": "markdown",
   "id": "f699e49a",
   "metadata": {},
   "source": [
    "### Архитектура модели TensorFlow"
   ]
  },
  {
   "cell_type": "code",
   "execution_count": 40,
   "id": "f8978430",
   "metadata": {},
   "outputs": [
    {
     "data": {
      "text/plain": [
       "((889, 9), (418, 9))"
      ]
     },
     "execution_count": 40,
     "metadata": {},
     "output_type": "execute_result"
    }
   ],
   "source": [
    "features_train.shape, test_data.shape "
   ]
  },
  {
   "cell_type": "code",
   "execution_count": null,
   "id": "9b5359a6",
   "metadata": {},
   "outputs": [],
   "source": []
  },
  {
   "cell_type": "code",
   "execution_count": 44,
   "id": "24c1f497",
   "metadata": {},
   "outputs": [],
   "source": [
    "model = tf.keras.Sequential([tf.keras.layers.Dense(150, activation='relu', input_shape = (9,)),\n",
    "                             tf.keras.layers.Dropout(0.6),\n",
    "                             tf.keras.layers.Dense(100, activation='relu'),\n",
    "                             tf.keras.layers.Dropout(0.15),\n",
    "                             tf.keras.layers.Dense(50, activation='relu'),\n",
    "                             tf.keras.layers.Dropout(0.15),\n",
    "                             tf.keras.layers.Dense(20, activation='relu'),\n",
    "                             tf.keras.layers.Dropout(0.6),\n",
    "                             tf.keras.layers.Dense(1,activation='sigmoid')])"
   ]
  },
  {
   "cell_type": "code",
   "execution_count": 45,
   "id": "2590cc96",
   "metadata": {},
   "outputs": [
    {
     "name": "stdout",
     "output_type": "stream",
     "text": [
      "Model: \"sequential_1\"\n",
      "_________________________________________________________________\n",
      " Layer (type)                Output Shape              Param #   \n",
      "=================================================================\n",
      " dense_5 (Dense)             (None, 150)               1500      \n",
      "                                                                 \n",
      " dropout_4 (Dropout)         (None, 150)               0         \n",
      "                                                                 \n",
      " dense_6 (Dense)             (None, 100)               15100     \n",
      "                                                                 \n",
      " dropout_5 (Dropout)         (None, 100)               0         \n",
      "                                                                 \n",
      " dense_7 (Dense)             (None, 50)                5050      \n",
      "                                                                 \n",
      " dropout_6 (Dropout)         (None, 50)                0         \n",
      "                                                                 \n",
      " dense_8 (Dense)             (None, 20)                1020      \n",
      "                                                                 \n",
      " dropout_7 (Dropout)         (None, 20)                0         \n",
      "                                                                 \n",
      " dense_9 (Dense)             (None, 1)                 21        \n",
      "                                                                 \n",
      "=================================================================\n",
      "Total params: 22,691\n",
      "Trainable params: 22,691\n",
      "Non-trainable params: 0\n",
      "_________________________________________________________________\n"
     ]
    }
   ],
   "source": [
    "model.summary()"
   ]
  },
  {
   "cell_type": "code",
   "execution_count": 46,
   "id": "93691fdb",
   "metadata": {},
   "outputs": [
    {
     "name": "stdout",
     "output_type": "stream",
     "text": [
      "Epoch 1/150\n",
      "28/28 [==============================] - 1s 3ms/step - loss: 0.6398 - accuracy: 0.6378\n",
      "Epoch 2/150\n",
      "28/28 [==============================] - 0s 2ms/step - loss: 0.5594 - accuracy: 0.7548\n",
      "Epoch 3/150\n",
      "28/28 [==============================] - 0s 2ms/step - loss: 0.5578 - accuracy: 0.7312\n",
      "Epoch 4/150\n",
      "28/28 [==============================] - 0s 2ms/step - loss: 0.5211 - accuracy: 0.7694\n",
      "Epoch 5/150\n",
      "28/28 [==============================] - 0s 3ms/step - loss: 0.5089 - accuracy: 0.7615\n",
      "Epoch 6/150\n",
      "28/28 [==============================] - 0s 2ms/step - loss: 0.5141 - accuracy: 0.7694\n",
      "Epoch 7/150\n",
      "28/28 [==============================] - 0s 2ms/step - loss: 0.4893 - accuracy: 0.7750\n",
      "Epoch 8/150\n",
      "28/28 [==============================] - 0s 3ms/step - loss: 0.5062 - accuracy: 0.7897\n",
      "Epoch 9/150\n",
      "28/28 [==============================] - 0s 2ms/step - loss: 0.4902 - accuracy: 0.7908\n",
      "Epoch 10/150\n",
      "28/28 [==============================] - 0s 3ms/step - loss: 0.4826 - accuracy: 0.7942\n",
      "Epoch 11/150\n",
      "28/28 [==============================] - 0s 3ms/step - loss: 0.4831 - accuracy: 0.7784\n",
      "Epoch 12/150\n",
      "28/28 [==============================] - 0s 2ms/step - loss: 0.4881 - accuracy: 0.7930\n",
      "Epoch 13/150\n",
      "28/28 [==============================] - 0s 3ms/step - loss: 0.4673 - accuracy: 0.8088\n",
      "Epoch 14/150\n",
      "28/28 [==============================] - 0s 2ms/step - loss: 0.4658 - accuracy: 0.8043\n",
      "Epoch 15/150\n",
      "28/28 [==============================] - 0s 3ms/step - loss: 0.4752 - accuracy: 0.8065\n",
      "Epoch 16/150\n",
      "28/28 [==============================] - 0s 2ms/step - loss: 0.4673 - accuracy: 0.8065\n",
      "Epoch 17/150\n",
      "28/28 [==============================] - 0s 2ms/step - loss: 0.4841 - accuracy: 0.7987\n",
      "Epoch 18/150\n",
      "28/28 [==============================] - 0s 2ms/step - loss: 0.4658 - accuracy: 0.7885\n",
      "Epoch 19/150\n",
      "28/28 [==============================] - 0s 2ms/step - loss: 0.4505 - accuracy: 0.8031\n",
      "Epoch 20/150\n",
      "28/28 [==============================] - 0s 2ms/step - loss: 0.4639 - accuracy: 0.8144\n",
      "Epoch 21/150\n",
      "28/28 [==============================] - 0s 3ms/step - loss: 0.4361 - accuracy: 0.8189\n",
      "Epoch 22/150\n",
      "28/28 [==============================] - 0s 3ms/step - loss: 0.4549 - accuracy: 0.8178\n",
      "Epoch 23/150\n",
      "28/28 [==============================] - 0s 2ms/step - loss: 0.4505 - accuracy: 0.8144\n",
      "Epoch 24/150\n",
      "28/28 [==============================] - 0s 2ms/step - loss: 0.4706 - accuracy: 0.8020\n",
      "Epoch 25/150\n",
      "28/28 [==============================] - 0s 3ms/step - loss: 0.4497 - accuracy: 0.8088\n",
      "Epoch 26/150\n",
      "28/28 [==============================] - 0s 3ms/step - loss: 0.4480 - accuracy: 0.8043\n",
      "Epoch 27/150\n",
      "28/28 [==============================] - 0s 3ms/step - loss: 0.4626 - accuracy: 0.8065\n",
      "Epoch 28/150\n",
      "28/28 [==============================] - 0s 3ms/step - loss: 0.4508 - accuracy: 0.8054\n",
      "Epoch 29/150\n",
      "28/28 [==============================] - 0s 4ms/step - loss: 0.4421 - accuracy: 0.8121\n",
      "Epoch 30/150\n",
      "28/28 [==============================] - 0s 3ms/step - loss: 0.4413 - accuracy: 0.8234\n",
      "Epoch 31/150\n",
      "28/28 [==============================] - 0s 3ms/step - loss: 0.4521 - accuracy: 0.8223\n",
      "Epoch 32/150\n",
      "28/28 [==============================] - 0s 3ms/step - loss: 0.4543 - accuracy: 0.8133\n",
      "Epoch 33/150\n",
      "28/28 [==============================] - 0s 3ms/step - loss: 0.4281 - accuracy: 0.8290\n",
      "Epoch 34/150\n",
      "28/28 [==============================] - 0s 2ms/step - loss: 0.4342 - accuracy: 0.8256\n",
      "Epoch 35/150\n",
      "28/28 [==============================] - 0s 3ms/step - loss: 0.4531 - accuracy: 0.8256\n",
      "Epoch 36/150\n",
      "28/28 [==============================] - 0s 3ms/step - loss: 0.4238 - accuracy: 0.8290\n",
      "Epoch 37/150\n",
      "28/28 [==============================] - 0s 3ms/step - loss: 0.4199 - accuracy: 0.8166\n",
      "Epoch 38/150\n",
      "28/28 [==============================] - 0s 3ms/step - loss: 0.4252 - accuracy: 0.8166\n",
      "Epoch 39/150\n",
      "28/28 [==============================] - 0s 2ms/step - loss: 0.4354 - accuracy: 0.8155\n",
      "Epoch 40/150\n",
      "28/28 [==============================] - 0s 2ms/step - loss: 0.4135 - accuracy: 0.8245\n",
      "Epoch 41/150\n",
      "28/28 [==============================] - 0s 3ms/step - loss: 0.4267 - accuracy: 0.8268\n",
      "Epoch 42/150\n",
      "28/28 [==============================] - 0s 3ms/step - loss: 0.4274 - accuracy: 0.8166\n",
      "Epoch 43/150\n",
      "28/28 [==============================] - 0s 2ms/step - loss: 0.4334 - accuracy: 0.8301\n",
      "Epoch 44/150\n",
      "28/28 [==============================] - 0s 2ms/step - loss: 0.4361 - accuracy: 0.8166\n",
      "Epoch 45/150\n",
      "28/28 [==============================] - 0s 3ms/step - loss: 0.4281 - accuracy: 0.8189\n",
      "Epoch 46/150\n",
      "28/28 [==============================] - 0s 3ms/step - loss: 0.4399 - accuracy: 0.8200\n",
      "Epoch 47/150\n",
      "28/28 [==============================] - 0s 2ms/step - loss: 0.4168 - accuracy: 0.8178\n",
      "Epoch 48/150\n",
      "28/28 [==============================] - 0s 2ms/step - loss: 0.4160 - accuracy: 0.8279\n",
      "Epoch 49/150\n",
      "28/28 [==============================] - 0s 3ms/step - loss: 0.4332 - accuracy: 0.8268\n",
      "Epoch 50/150\n",
      "28/28 [==============================] - 0s 3ms/step - loss: 0.4435 - accuracy: 0.8268\n",
      "Epoch 51/150\n",
      "28/28 [==============================] - 0s 3ms/step - loss: 0.4314 - accuracy: 0.8346\n",
      "Epoch 52/150\n",
      "28/28 [==============================] - 0s 2ms/step - loss: 0.4463 - accuracy: 0.8200\n",
      "Epoch 53/150\n",
      "28/28 [==============================] - 0s 3ms/step - loss: 0.4333 - accuracy: 0.8279\n",
      "Epoch 54/150\n",
      "28/28 [==============================] - 0s 2ms/step - loss: 0.4160 - accuracy: 0.8279\n",
      "Epoch 55/150\n",
      "28/28 [==============================] - 0s 2ms/step - loss: 0.4187 - accuracy: 0.8189\n",
      "Epoch 56/150\n",
      "28/28 [==============================] - 0s 3ms/step - loss: 0.4127 - accuracy: 0.8313\n",
      "Epoch 57/150\n",
      "28/28 [==============================] - 0s 2ms/step - loss: 0.4243 - accuracy: 0.8346\n",
      "Epoch 58/150\n",
      "28/28 [==============================] - 0s 2ms/step - loss: 0.4137 - accuracy: 0.8301\n",
      "Epoch 59/150\n",
      "28/28 [==============================] - 0s 2ms/step - loss: 0.4339 - accuracy: 0.8245\n",
      "Epoch 60/150\n",
      "28/28 [==============================] - 0s 2ms/step - loss: 0.4289 - accuracy: 0.8335\n",
      "Epoch 61/150\n",
      "28/28 [==============================] - 0s 3ms/step - loss: 0.4376 - accuracy: 0.8256\n"
     ]
    }
   ],
   "source": [
    "model.compile(optimizer='adam',\n",
    "              loss='binary_crossentropy',\n",
    "              metrics=['accuracy'])\n",
    "\n",
    "es = EarlyStopping(monitor='accuracy',patience=10)\n",
    "\n",
    "history=model.fit(features_train, target_train, callbacks=[es], epochs=150)"
   ]
  },
  {
   "cell_type": "markdown",
   "id": "4c32e38d",
   "metadata": {},
   "source": [
    "### Сохранение предсказаний"
   ]
  },
  {
   "cell_type": "code",
   "execution_count": 47,
   "id": "66eb6c0e",
   "metadata": {},
   "outputs": [
    {
     "name": "stdout",
     "output_type": "stream",
     "text": [
      "14/14 [==============================] - 0s 2ms/step\n"
     ]
    },
    {
     "data": {
      "text/plain": [
       "array([0, 0, 0, 0, 0, 0, 0, 0, 1, 0, 0, 0, 1, 0, 1, 1, 0, 0, 0, 1, 0, 1,\n",
       "       1, 0, 1, 0, 1, 0, 0, 0, 0, 0, 0, 0, 0, 0, 0, 0, 0, 0, 0, 0, 0, 1,\n",
       "       1, 0, 0, 0, 1, 0, 0, 0, 1, 1, 0, 0, 0, 0, 0, 1, 0, 0, 0, 0, 0, 1,\n",
       "       0, 0, 0, 1, 0, 0, 0, 0, 1, 0, 0, 1, 0, 0, 0, 0, 0, 0, 0, 0, 0, 1,\n",
       "       0, 1, 0, 0, 1, 0, 0, 0, 1, 0, 0, 0, 1, 0, 0, 0, 1, 0, 0, 0, 0, 0,\n",
       "       0, 0, 1, 0, 1, 0, 0, 1, 0, 1, 1, 0, 1, 0, 0, 1, 0, 0, 0, 0, 0, 0,\n",
       "       0, 0, 0, 0, 0, 0, 0, 0, 0, 1, 0, 0, 0, 0, 0, 0, 0, 0, 1, 0, 0, 0,\n",
       "       0, 0, 1, 0, 0, 0, 0, 0, 1, 0, 0, 0, 0, 0, 1, 0, 0, 0, 0, 0, 0, 1,\n",
       "       1, 0, 1, 1, 0, 0, 1, 0, 1, 0, 1, 0, 0, 0, 0, 0, 1, 0, 1, 0, 0, 1,\n",
       "       0, 0, 0, 1, 0, 1, 0, 0, 0, 0, 1, 0, 0, 0, 0, 1, 0, 0, 0, 0, 1, 0,\n",
       "       1, 0, 1, 0, 1, 0, 0, 0, 0, 0, 0, 1, 0, 0, 0, 0, 0, 0, 1, 1, 1, 1,\n",
       "       0, 0, 1, 0, 1, 0, 1, 1, 1, 0, 0, 0, 0, 0, 0, 0, 1, 0, 0, 0, 1, 1,\n",
       "       0, 0, 0, 0, 0, 0, 0, 0, 1, 0, 0, 1, 0, 0, 0, 0, 0, 1, 0, 1, 1, 0,\n",
       "       0, 0, 0, 0, 0, 0, 0, 0, 0, 0, 1, 0, 0, 0, 0, 0, 0, 0, 0, 1, 0, 1,\n",
       "       0, 0, 0, 0, 0, 0, 1, 0, 0, 0, 0, 0, 0, 0, 0, 0, 1, 0, 1, 0, 0, 0,\n",
       "       1, 0, 0, 1, 0, 0, 0, 0, 0, 0, 0, 0, 0, 1, 1, 1, 0, 1, 0, 1, 1, 0,\n",
       "       0, 0, 1, 0, 1, 0, 0, 0, 0, 1, 1, 0, 1, 0, 0, 0, 1, 0, 0, 1, 0, 0,\n",
       "       1, 1, 0, 0, 0, 0, 0, 0, 0, 0, 0, 1, 0, 0, 0, 0, 0, 1, 0, 0, 0, 1,\n",
       "       0, 1, 0, 0, 1, 0, 1, 0, 0, 0, 0, 0, 0, 1, 0, 1, 0, 0, 1, 0, 0, 0])"
      ]
     },
     "execution_count": 47,
     "metadata": {},
     "output_type": "execute_result"
    }
   ],
   "source": [
    "results = model.predict(test_data).round()\n",
    "pred=[]\n",
    "for i in results:\n",
    "    pred.append(i[0].astype(int))\n",
    "\n",
    "pred=np.array(pred)\n",
    "pred"
   ]
  },
  {
   "cell_type": "code",
   "execution_count": 48,
   "id": "f57c228e",
   "metadata": {},
   "outputs": [],
   "source": [
    "output = pd.DataFrame({'PassengerId': dfps, 'Survived': pred})\n",
    "output.to_csv('submission.csv', index=False)"
   ]
  },
  {
   "cell_type": "markdown",
   "id": "b4f0e7fc",
   "metadata": {},
   "source": [
    "Сабмишен дает точность 0.79186 на тестовой выборке — результат улучшен на 1,4 п.п. по сравнению с ансамлевой моделью  (0.77751)"
   ]
  }
 ],
 "metadata": {
  "kernelspec": {
   "display_name": "Python 3",
   "language": "python",
   "name": "python3"
  },
  "language_info": {
   "codemirror_mode": {
    "name": "ipython",
    "version": 3
   },
   "file_extension": ".py",
   "mimetype": "text/x-python",
   "name": "python",
   "nbconvert_exporter": "python",
   "pygments_lexer": "ipython3",
   "version": "3.8.8"
  },
  "toc": {
   "base_numbering": 1,
   "nav_menu": {},
   "number_sections": true,
   "sideBar": true,
   "skip_h1_title": true,
   "title_cell": "Table of Contents",
   "title_sidebar": "Contents",
   "toc_cell": false,
   "toc_position": {},
   "toc_section_display": true,
   "toc_window_display": false
  }
 },
 "nbformat": 4,
 "nbformat_minor": 5
}
