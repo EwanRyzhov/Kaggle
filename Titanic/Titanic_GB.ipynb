{
 "cells": [
  {
   "cell_type": "markdown",
   "id": "427048c3",
   "metadata": {},
   "source": [
    "# Titanic - Machine Learning from Disaster: постороение предиктивной модели с использованием градиентного бустинга"
   ]
  },
  {
   "cell_type": "markdown",
   "id": "a10cedbe",
   "metadata": {},
   "source": [
    "Крушение \"Титаника\" — вероятно, самое известное кораблекрушение в истории.\n",
    "\n",
    "15 апреля 1912 года во время своего первого рейса, \"непотопляемый\" Титаник после столкновения с айсбергом пошел ко дну. 1502 человека из 2224 пассижиров корабля (включая команду) погибли. При этом, у определенных групп людей были более высокие шансы выжить.\n",
    "\n",
    "В этой работе мы попробуем построить модель, которая ответит на вопрос: \"кто из пассажиров имел наибольшие шансы на выживание\"."
   ]
  },
  {
   "cell_type": "markdown",
   "id": "67096bfb",
   "metadata": {},
   "source": [
    "**Данный ноутбук выполнен на основе данных из \"легендарного\" конкурса Kaggle**"
   ]
  },
  {
   "cell_type": "markdown",
   "id": "81a6e035",
   "metadata": {},
   "source": [
    "## Обзор данных"
   ]
  },
  {
   "cell_type": "markdown",
   "id": "548299ce",
   "metadata": {},
   "source": [
    "### Импорт библиотек"
   ]
  },
  {
   "cell_type": "code",
   "execution_count": 1,
   "id": "4d03f6ae",
   "metadata": {},
   "outputs": [],
   "source": [
    "import pandas as pd\n",
    "import numpy as np\n",
    "import seaborn as sns\n",
    "import matplotlib.pyplot as plt\n",
    "\n",
    "from catboost import CatBoostClassifier\n",
    "\n",
    "from sklearn.model_selection import cross_val_score\n",
    "from sklearn.model_selection import GridSearchCV\n",
    "from sklearn.metrics import f1_score\n",
    "from sklearn.utils.class_weight import compute_class_weight\n",
    "from sklearn import preprocessing"
   ]
  },
  {
   "cell_type": "markdown",
   "id": "ee682447",
   "metadata": {},
   "source": [
    "### Загрузка данных"
   ]
  },
  {
   "cell_type": "markdown",
   "id": "4d22def8",
   "metadata": {},
   "source": [
    "Датасет состоит из двух частей — тренировчной и тестовой. В тестовой выборке целевой признак скрыт."
   ]
  },
  {
   "cell_type": "code",
   "execution_count": 2,
   "id": "ea792ad4",
   "metadata": {},
   "outputs": [],
   "source": [
    "train = pd.read_csv('train.csv')\n",
    "test = pd.read_csv('test.csv')"
   ]
  },
  {
   "cell_type": "markdown",
   "id": "ae6c3832",
   "metadata": {},
   "source": [
    "Сначала разберем тренировочный датасет"
   ]
  },
  {
   "cell_type": "code",
   "execution_count": 3,
   "id": "a632ae80",
   "metadata": {},
   "outputs": [
    {
     "data": {
      "text/html": [
       "<div>\n",
       "<style scoped>\n",
       "    .dataframe tbody tr th:only-of-type {\n",
       "        vertical-align: middle;\n",
       "    }\n",
       "\n",
       "    .dataframe tbody tr th {\n",
       "        vertical-align: top;\n",
       "    }\n",
       "\n",
       "    .dataframe thead th {\n",
       "        text-align: right;\n",
       "    }\n",
       "</style>\n",
       "<table border=\"1\" class=\"dataframe\">\n",
       "  <thead>\n",
       "    <tr style=\"text-align: right;\">\n",
       "      <th></th>\n",
       "      <th>PassengerId</th>\n",
       "      <th>Survived</th>\n",
       "      <th>Pclass</th>\n",
       "      <th>Name</th>\n",
       "      <th>Sex</th>\n",
       "      <th>Age</th>\n",
       "      <th>SibSp</th>\n",
       "      <th>Parch</th>\n",
       "      <th>Ticket</th>\n",
       "      <th>Fare</th>\n",
       "      <th>Cabin</th>\n",
       "      <th>Embarked</th>\n",
       "    </tr>\n",
       "  </thead>\n",
       "  <tbody>\n",
       "    <tr>\n",
       "      <th>0</th>\n",
       "      <td>1</td>\n",
       "      <td>0</td>\n",
       "      <td>3</td>\n",
       "      <td>Braund, Mr. Owen Harris</td>\n",
       "      <td>male</td>\n",
       "      <td>22.0</td>\n",
       "      <td>1</td>\n",
       "      <td>0</td>\n",
       "      <td>A/5 21171</td>\n",
       "      <td>7.2500</td>\n",
       "      <td>NaN</td>\n",
       "      <td>S</td>\n",
       "    </tr>\n",
       "    <tr>\n",
       "      <th>1</th>\n",
       "      <td>2</td>\n",
       "      <td>1</td>\n",
       "      <td>1</td>\n",
       "      <td>Cumings, Mrs. John Bradley (Florence Briggs Th...</td>\n",
       "      <td>female</td>\n",
       "      <td>38.0</td>\n",
       "      <td>1</td>\n",
       "      <td>0</td>\n",
       "      <td>PC 17599</td>\n",
       "      <td>71.2833</td>\n",
       "      <td>C85</td>\n",
       "      <td>C</td>\n",
       "    </tr>\n",
       "    <tr>\n",
       "      <th>2</th>\n",
       "      <td>3</td>\n",
       "      <td>1</td>\n",
       "      <td>3</td>\n",
       "      <td>Heikkinen, Miss. Laina</td>\n",
       "      <td>female</td>\n",
       "      <td>26.0</td>\n",
       "      <td>0</td>\n",
       "      <td>0</td>\n",
       "      <td>STON/O2. 3101282</td>\n",
       "      <td>7.9250</td>\n",
       "      <td>NaN</td>\n",
       "      <td>S</td>\n",
       "    </tr>\n",
       "    <tr>\n",
       "      <th>3</th>\n",
       "      <td>4</td>\n",
       "      <td>1</td>\n",
       "      <td>1</td>\n",
       "      <td>Futrelle, Mrs. Jacques Heath (Lily May Peel)</td>\n",
       "      <td>female</td>\n",
       "      <td>35.0</td>\n",
       "      <td>1</td>\n",
       "      <td>0</td>\n",
       "      <td>113803</td>\n",
       "      <td>53.1000</td>\n",
       "      <td>C123</td>\n",
       "      <td>S</td>\n",
       "    </tr>\n",
       "    <tr>\n",
       "      <th>4</th>\n",
       "      <td>5</td>\n",
       "      <td>0</td>\n",
       "      <td>3</td>\n",
       "      <td>Allen, Mr. William Henry</td>\n",
       "      <td>male</td>\n",
       "      <td>35.0</td>\n",
       "      <td>0</td>\n",
       "      <td>0</td>\n",
       "      <td>373450</td>\n",
       "      <td>8.0500</td>\n",
       "      <td>NaN</td>\n",
       "      <td>S</td>\n",
       "    </tr>\n",
       "  </tbody>\n",
       "</table>\n",
       "</div>"
      ],
      "text/plain": [
       "   PassengerId  Survived  Pclass  \\\n",
       "0            1         0       3   \n",
       "1            2         1       1   \n",
       "2            3         1       3   \n",
       "3            4         1       1   \n",
       "4            5         0       3   \n",
       "\n",
       "                                                Name     Sex   Age  SibSp  \\\n",
       "0                            Braund, Mr. Owen Harris    male  22.0      1   \n",
       "1  Cumings, Mrs. John Bradley (Florence Briggs Th...  female  38.0      1   \n",
       "2                             Heikkinen, Miss. Laina  female  26.0      0   \n",
       "3       Futrelle, Mrs. Jacques Heath (Lily May Peel)  female  35.0      1   \n",
       "4                           Allen, Mr. William Henry    male  35.0      0   \n",
       "\n",
       "   Parch            Ticket     Fare Cabin Embarked  \n",
       "0      0         A/5 21171   7.2500   NaN        S  \n",
       "1      0          PC 17599  71.2833   C85        C  \n",
       "2      0  STON/O2. 3101282   7.9250   NaN        S  \n",
       "3      0            113803  53.1000  C123        S  \n",
       "4      0            373450   8.0500   NaN        S  "
      ]
     },
     "execution_count": 3,
     "metadata": {},
     "output_type": "execute_result"
    }
   ],
   "source": [
    "train.head()"
   ]
  },
  {
   "cell_type": "code",
   "execution_count": 4,
   "id": "a13b8b24",
   "metadata": {},
   "outputs": [
    {
     "name": "stdout",
     "output_type": "stream",
     "text": [
      "<class 'pandas.core.frame.DataFrame'>\n",
      "RangeIndex: 891 entries, 0 to 890\n",
      "Data columns (total 12 columns):\n",
      " #   Column       Non-Null Count  Dtype  \n",
      "---  ------       --------------  -----  \n",
      " 0   PassengerId  891 non-null    int64  \n",
      " 1   Survived     891 non-null    int64  \n",
      " 2   Pclass       891 non-null    int64  \n",
      " 3   Name         891 non-null    object \n",
      " 4   Sex          891 non-null    object \n",
      " 5   Age          714 non-null    float64\n",
      " 6   SibSp        891 non-null    int64  \n",
      " 7   Parch        891 non-null    int64  \n",
      " 8   Ticket       891 non-null    object \n",
      " 9   Fare         891 non-null    float64\n",
      " 10  Cabin        204 non-null    object \n",
      " 11  Embarked     889 non-null    object \n",
      "dtypes: float64(2), int64(5), object(5)\n",
      "memory usage: 83.7+ KB\n"
     ]
    }
   ],
   "source": [
    "train.info()"
   ]
  },
  {
   "cell_type": "code",
   "execution_count": 5,
   "id": "5a23cc8c",
   "metadata": {},
   "outputs": [
    {
     "data": {
      "text/html": [
       "<div>\n",
       "<style scoped>\n",
       "    .dataframe tbody tr th:only-of-type {\n",
       "        vertical-align: middle;\n",
       "    }\n",
       "\n",
       "    .dataframe tbody tr th {\n",
       "        vertical-align: top;\n",
       "    }\n",
       "\n",
       "    .dataframe thead th {\n",
       "        text-align: right;\n",
       "    }\n",
       "</style>\n",
       "<table border=\"1\" class=\"dataframe\">\n",
       "  <thead>\n",
       "    <tr style=\"text-align: right;\">\n",
       "      <th></th>\n",
       "      <th>PassengerId</th>\n",
       "      <th>Survived</th>\n",
       "      <th>Pclass</th>\n",
       "      <th>Age</th>\n",
       "      <th>SibSp</th>\n",
       "      <th>Parch</th>\n",
       "      <th>Fare</th>\n",
       "    </tr>\n",
       "  </thead>\n",
       "  <tbody>\n",
       "    <tr>\n",
       "      <th>count</th>\n",
       "      <td>891.000000</td>\n",
       "      <td>891.000000</td>\n",
       "      <td>891.000000</td>\n",
       "      <td>714.000000</td>\n",
       "      <td>891.000000</td>\n",
       "      <td>891.000000</td>\n",
       "      <td>891.000000</td>\n",
       "    </tr>\n",
       "    <tr>\n",
       "      <th>mean</th>\n",
       "      <td>446.000000</td>\n",
       "      <td>0.383838</td>\n",
       "      <td>2.308642</td>\n",
       "      <td>29.699118</td>\n",
       "      <td>0.523008</td>\n",
       "      <td>0.381594</td>\n",
       "      <td>32.204208</td>\n",
       "    </tr>\n",
       "    <tr>\n",
       "      <th>std</th>\n",
       "      <td>257.353842</td>\n",
       "      <td>0.486592</td>\n",
       "      <td>0.836071</td>\n",
       "      <td>14.526497</td>\n",
       "      <td>1.102743</td>\n",
       "      <td>0.806057</td>\n",
       "      <td>49.693429</td>\n",
       "    </tr>\n",
       "    <tr>\n",
       "      <th>min</th>\n",
       "      <td>1.000000</td>\n",
       "      <td>0.000000</td>\n",
       "      <td>1.000000</td>\n",
       "      <td>0.420000</td>\n",
       "      <td>0.000000</td>\n",
       "      <td>0.000000</td>\n",
       "      <td>0.000000</td>\n",
       "    </tr>\n",
       "    <tr>\n",
       "      <th>25%</th>\n",
       "      <td>223.500000</td>\n",
       "      <td>0.000000</td>\n",
       "      <td>2.000000</td>\n",
       "      <td>20.125000</td>\n",
       "      <td>0.000000</td>\n",
       "      <td>0.000000</td>\n",
       "      <td>7.910400</td>\n",
       "    </tr>\n",
       "    <tr>\n",
       "      <th>50%</th>\n",
       "      <td>446.000000</td>\n",
       "      <td>0.000000</td>\n",
       "      <td>3.000000</td>\n",
       "      <td>28.000000</td>\n",
       "      <td>0.000000</td>\n",
       "      <td>0.000000</td>\n",
       "      <td>14.454200</td>\n",
       "    </tr>\n",
       "    <tr>\n",
       "      <th>75%</th>\n",
       "      <td>668.500000</td>\n",
       "      <td>1.000000</td>\n",
       "      <td>3.000000</td>\n",
       "      <td>38.000000</td>\n",
       "      <td>1.000000</td>\n",
       "      <td>0.000000</td>\n",
       "      <td>31.000000</td>\n",
       "    </tr>\n",
       "    <tr>\n",
       "      <th>max</th>\n",
       "      <td>891.000000</td>\n",
       "      <td>1.000000</td>\n",
       "      <td>3.000000</td>\n",
       "      <td>80.000000</td>\n",
       "      <td>8.000000</td>\n",
       "      <td>6.000000</td>\n",
       "      <td>512.329200</td>\n",
       "    </tr>\n",
       "  </tbody>\n",
       "</table>\n",
       "</div>"
      ],
      "text/plain": [
       "       PassengerId    Survived      Pclass         Age       SibSp  \\\n",
       "count   891.000000  891.000000  891.000000  714.000000  891.000000   \n",
       "mean    446.000000    0.383838    2.308642   29.699118    0.523008   \n",
       "std     257.353842    0.486592    0.836071   14.526497    1.102743   \n",
       "min       1.000000    0.000000    1.000000    0.420000    0.000000   \n",
       "25%     223.500000    0.000000    2.000000   20.125000    0.000000   \n",
       "50%     446.000000    0.000000    3.000000   28.000000    0.000000   \n",
       "75%     668.500000    1.000000    3.000000   38.000000    1.000000   \n",
       "max     891.000000    1.000000    3.000000   80.000000    8.000000   \n",
       "\n",
       "            Parch        Fare  \n",
       "count  891.000000  891.000000  \n",
       "mean     0.381594   32.204208  \n",
       "std      0.806057   49.693429  \n",
       "min      0.000000    0.000000  \n",
       "25%      0.000000    7.910400  \n",
       "50%      0.000000   14.454200  \n",
       "75%      0.000000   31.000000  \n",
       "max      6.000000  512.329200  "
      ]
     },
     "execution_count": 5,
     "metadata": {},
     "output_type": "execute_result"
    }
   ],
   "source": [
    "train.describe()"
   ]
  },
  {
   "cell_type": "markdown",
   "id": "396d1b0c",
   "metadata": {},
   "source": [
    "В тренирочном датасете 891 объект и 12 признаков (включая целевой):\n",
    "- `PassengerID` — номер пассажира, по сути дублирует индекс;\n",
    "- `Survived` — целевой признак, выжил ли пассажир;\n",
    "- `Pclass` — класс билета, прокси-показатель статуса человека в обществе, имеет значения 1,2,3;\n",
    "- `Name` — имя и фамилия человека;\n",
    "- `Sex` — пол (male или female);\n",
    "- `Age` — возраст, имеются пропуски (891- 714 = 177 значений - примерно 20%), имеются дробные значения (тип float64);\n",
    "- `SibSp` — количество родственников — супругов, братьев или сестер на борту Титаника;\n",
    "- `Parch` — количесвто родителей/детей на борту, при значении 0 у ребенка, он путешествует с няней или непрямыми родственниками;\n",
    "- `Ticket` — номер билета;\n",
    "- `Fare` — транспортные расходы пассажира, косвенно указывают его статус и доход, принаджлежность к соц. классу;\n",
    "- `Cabin` — номер кабины, имеется большое количество пропусков;\n",
    "- `Embarked` — порт посадки, C = Cherbourg, Q = Queenstown, S = Southampton."
   ]
  },
  {
   "cell_type": "markdown",
   "id": "acb0201e",
   "metadata": {},
   "source": [
    "Теперь переходим к тестовой выборке:"
   ]
  },
  {
   "cell_type": "code",
   "execution_count": 6,
   "id": "ed01afe5",
   "metadata": {},
   "outputs": [
    {
     "data": {
      "text/html": [
       "<div>\n",
       "<style scoped>\n",
       "    .dataframe tbody tr th:only-of-type {\n",
       "        vertical-align: middle;\n",
       "    }\n",
       "\n",
       "    .dataframe tbody tr th {\n",
       "        vertical-align: top;\n",
       "    }\n",
       "\n",
       "    .dataframe thead th {\n",
       "        text-align: right;\n",
       "    }\n",
       "</style>\n",
       "<table border=\"1\" class=\"dataframe\">\n",
       "  <thead>\n",
       "    <tr style=\"text-align: right;\">\n",
       "      <th></th>\n",
       "      <th>PassengerId</th>\n",
       "      <th>Pclass</th>\n",
       "      <th>Name</th>\n",
       "      <th>Sex</th>\n",
       "      <th>Age</th>\n",
       "      <th>SibSp</th>\n",
       "      <th>Parch</th>\n",
       "      <th>Ticket</th>\n",
       "      <th>Fare</th>\n",
       "      <th>Cabin</th>\n",
       "      <th>Embarked</th>\n",
       "    </tr>\n",
       "  </thead>\n",
       "  <tbody>\n",
       "    <tr>\n",
       "      <th>0</th>\n",
       "      <td>892</td>\n",
       "      <td>3</td>\n",
       "      <td>Kelly, Mr. James</td>\n",
       "      <td>male</td>\n",
       "      <td>34.5</td>\n",
       "      <td>0</td>\n",
       "      <td>0</td>\n",
       "      <td>330911</td>\n",
       "      <td>7.8292</td>\n",
       "      <td>NaN</td>\n",
       "      <td>Q</td>\n",
       "    </tr>\n",
       "    <tr>\n",
       "      <th>1</th>\n",
       "      <td>893</td>\n",
       "      <td>3</td>\n",
       "      <td>Wilkes, Mrs. James (Ellen Needs)</td>\n",
       "      <td>female</td>\n",
       "      <td>47.0</td>\n",
       "      <td>1</td>\n",
       "      <td>0</td>\n",
       "      <td>363272</td>\n",
       "      <td>7.0000</td>\n",
       "      <td>NaN</td>\n",
       "      <td>S</td>\n",
       "    </tr>\n",
       "    <tr>\n",
       "      <th>2</th>\n",
       "      <td>894</td>\n",
       "      <td>2</td>\n",
       "      <td>Myles, Mr. Thomas Francis</td>\n",
       "      <td>male</td>\n",
       "      <td>62.0</td>\n",
       "      <td>0</td>\n",
       "      <td>0</td>\n",
       "      <td>240276</td>\n",
       "      <td>9.6875</td>\n",
       "      <td>NaN</td>\n",
       "      <td>Q</td>\n",
       "    </tr>\n",
       "    <tr>\n",
       "      <th>3</th>\n",
       "      <td>895</td>\n",
       "      <td>3</td>\n",
       "      <td>Wirz, Mr. Albert</td>\n",
       "      <td>male</td>\n",
       "      <td>27.0</td>\n",
       "      <td>0</td>\n",
       "      <td>0</td>\n",
       "      <td>315154</td>\n",
       "      <td>8.6625</td>\n",
       "      <td>NaN</td>\n",
       "      <td>S</td>\n",
       "    </tr>\n",
       "    <tr>\n",
       "      <th>4</th>\n",
       "      <td>896</td>\n",
       "      <td>3</td>\n",
       "      <td>Hirvonen, Mrs. Alexander (Helga E Lindqvist)</td>\n",
       "      <td>female</td>\n",
       "      <td>22.0</td>\n",
       "      <td>1</td>\n",
       "      <td>1</td>\n",
       "      <td>3101298</td>\n",
       "      <td>12.2875</td>\n",
       "      <td>NaN</td>\n",
       "      <td>S</td>\n",
       "    </tr>\n",
       "  </tbody>\n",
       "</table>\n",
       "</div>"
      ],
      "text/plain": [
       "   PassengerId  Pclass                                          Name     Sex  \\\n",
       "0          892       3                              Kelly, Mr. James    male   \n",
       "1          893       3              Wilkes, Mrs. James (Ellen Needs)  female   \n",
       "2          894       2                     Myles, Mr. Thomas Francis    male   \n",
       "3          895       3                              Wirz, Mr. Albert    male   \n",
       "4          896       3  Hirvonen, Mrs. Alexander (Helga E Lindqvist)  female   \n",
       "\n",
       "    Age  SibSp  Parch   Ticket     Fare Cabin Embarked  \n",
       "0  34.5      0      0   330911   7.8292   NaN        Q  \n",
       "1  47.0      1      0   363272   7.0000   NaN        S  \n",
       "2  62.0      0      0   240276   9.6875   NaN        Q  \n",
       "3  27.0      0      0   315154   8.6625   NaN        S  \n",
       "4  22.0      1      1  3101298  12.2875   NaN        S  "
      ]
     },
     "execution_count": 6,
     "metadata": {},
     "output_type": "execute_result"
    }
   ],
   "source": [
    "test.head()"
   ]
  },
  {
   "cell_type": "code",
   "execution_count": 7,
   "id": "5d909445",
   "metadata": {},
   "outputs": [
    {
     "name": "stdout",
     "output_type": "stream",
     "text": [
      "<class 'pandas.core.frame.DataFrame'>\n",
      "RangeIndex: 418 entries, 0 to 417\n",
      "Data columns (total 11 columns):\n",
      " #   Column       Non-Null Count  Dtype  \n",
      "---  ------       --------------  -----  \n",
      " 0   PassengerId  418 non-null    int64  \n",
      " 1   Pclass       418 non-null    int64  \n",
      " 2   Name         418 non-null    object \n",
      " 3   Sex          418 non-null    object \n",
      " 4   Age          332 non-null    float64\n",
      " 5   SibSp        418 non-null    int64  \n",
      " 6   Parch        418 non-null    int64  \n",
      " 7   Ticket       418 non-null    object \n",
      " 8   Fare         417 non-null    float64\n",
      " 9   Cabin        91 non-null     object \n",
      " 10  Embarked     418 non-null    object \n",
      "dtypes: float64(2), int64(4), object(5)\n",
      "memory usage: 36.0+ KB\n"
     ]
    }
   ],
   "source": [
    "test.info()"
   ]
  },
  {
   "cell_type": "code",
   "execution_count": 8,
   "id": "85ebebd8",
   "metadata": {},
   "outputs": [
    {
     "data": {
      "text/html": [
       "<div>\n",
       "<style scoped>\n",
       "    .dataframe tbody tr th:only-of-type {\n",
       "        vertical-align: middle;\n",
       "    }\n",
       "\n",
       "    .dataframe tbody tr th {\n",
       "        vertical-align: top;\n",
       "    }\n",
       "\n",
       "    .dataframe thead th {\n",
       "        text-align: right;\n",
       "    }\n",
       "</style>\n",
       "<table border=\"1\" class=\"dataframe\">\n",
       "  <thead>\n",
       "    <tr style=\"text-align: right;\">\n",
       "      <th></th>\n",
       "      <th>PassengerId</th>\n",
       "      <th>Pclass</th>\n",
       "      <th>Age</th>\n",
       "      <th>SibSp</th>\n",
       "      <th>Parch</th>\n",
       "      <th>Fare</th>\n",
       "    </tr>\n",
       "  </thead>\n",
       "  <tbody>\n",
       "    <tr>\n",
       "      <th>count</th>\n",
       "      <td>418.000000</td>\n",
       "      <td>418.000000</td>\n",
       "      <td>332.000000</td>\n",
       "      <td>418.000000</td>\n",
       "      <td>418.000000</td>\n",
       "      <td>417.000000</td>\n",
       "    </tr>\n",
       "    <tr>\n",
       "      <th>mean</th>\n",
       "      <td>1100.500000</td>\n",
       "      <td>2.265550</td>\n",
       "      <td>30.272590</td>\n",
       "      <td>0.447368</td>\n",
       "      <td>0.392344</td>\n",
       "      <td>35.627188</td>\n",
       "    </tr>\n",
       "    <tr>\n",
       "      <th>std</th>\n",
       "      <td>120.810458</td>\n",
       "      <td>0.841838</td>\n",
       "      <td>14.181209</td>\n",
       "      <td>0.896760</td>\n",
       "      <td>0.981429</td>\n",
       "      <td>55.907576</td>\n",
       "    </tr>\n",
       "    <tr>\n",
       "      <th>min</th>\n",
       "      <td>892.000000</td>\n",
       "      <td>1.000000</td>\n",
       "      <td>0.170000</td>\n",
       "      <td>0.000000</td>\n",
       "      <td>0.000000</td>\n",
       "      <td>0.000000</td>\n",
       "    </tr>\n",
       "    <tr>\n",
       "      <th>25%</th>\n",
       "      <td>996.250000</td>\n",
       "      <td>1.000000</td>\n",
       "      <td>21.000000</td>\n",
       "      <td>0.000000</td>\n",
       "      <td>0.000000</td>\n",
       "      <td>7.895800</td>\n",
       "    </tr>\n",
       "    <tr>\n",
       "      <th>50%</th>\n",
       "      <td>1100.500000</td>\n",
       "      <td>3.000000</td>\n",
       "      <td>27.000000</td>\n",
       "      <td>0.000000</td>\n",
       "      <td>0.000000</td>\n",
       "      <td>14.454200</td>\n",
       "    </tr>\n",
       "    <tr>\n",
       "      <th>75%</th>\n",
       "      <td>1204.750000</td>\n",
       "      <td>3.000000</td>\n",
       "      <td>39.000000</td>\n",
       "      <td>1.000000</td>\n",
       "      <td>0.000000</td>\n",
       "      <td>31.500000</td>\n",
       "    </tr>\n",
       "    <tr>\n",
       "      <th>max</th>\n",
       "      <td>1309.000000</td>\n",
       "      <td>3.000000</td>\n",
       "      <td>76.000000</td>\n",
       "      <td>8.000000</td>\n",
       "      <td>9.000000</td>\n",
       "      <td>512.329200</td>\n",
       "    </tr>\n",
       "  </tbody>\n",
       "</table>\n",
       "</div>"
      ],
      "text/plain": [
       "       PassengerId      Pclass         Age       SibSp       Parch        Fare\n",
       "count   418.000000  418.000000  332.000000  418.000000  418.000000  417.000000\n",
       "mean   1100.500000    2.265550   30.272590    0.447368    0.392344   35.627188\n",
       "std     120.810458    0.841838   14.181209    0.896760    0.981429   55.907576\n",
       "min     892.000000    1.000000    0.170000    0.000000    0.000000    0.000000\n",
       "25%     996.250000    1.000000   21.000000    0.000000    0.000000    7.895800\n",
       "50%    1100.500000    3.000000   27.000000    0.000000    0.000000   14.454200\n",
       "75%    1204.750000    3.000000   39.000000    1.000000    0.000000   31.500000\n",
       "max    1309.000000    3.000000   76.000000    8.000000    9.000000  512.329200"
      ]
     },
     "execution_count": 8,
     "metadata": {},
     "output_type": "execute_result"
    }
   ],
   "source": [
    "test.describe()"
   ]
  },
  {
   "cell_type": "markdown",
   "id": "f1e6fd87",
   "metadata": {},
   "source": [
    "В тестовой выборке присутствуют все те же признаки за исключением целевой. Агрегированные данные (медианы и средние) в выборках почти не отличаются."
   ]
  },
  {
   "cell_type": "markdown",
   "id": "88a41bc0",
   "metadata": {},
   "source": [
    "## Предобработка данных"
   ]
  },
  {
   "cell_type": "markdown",
   "id": "8a1430f0",
   "metadata": {},
   "source": [
    "Для преобработки данных объеденим тестовую и тренировочные модели."
   ]
  },
  {
   "cell_type": "code",
   "execution_count": 9,
   "id": "5ddfcde8",
   "metadata": {},
   "outputs": [],
   "source": [
    "data = pd.concat([train,test])"
   ]
  },
  {
   "cell_type": "markdown",
   "id": "d2bdd697",
   "metadata": {},
   "source": [
    "### Удаление неинформативных признаков "
   ]
  },
  {
   "cell_type": "markdown",
   "id": "010b7af7",
   "metadata": {},
   "source": [
    "Часть информации о пассажире явлется избыточной и не несет пользы для модели:\n",
    "- номер билета `Ticket`;\n",
    "- ФИО `Name`.\n",
    "\n",
    "Признак `Cabin` имеет слишком много пропущенных значений, чтобы применяться в обучении модели. Кроме того, предположительно не несет смысла признак `Embarked` — порт , в котором пассажир зашел на борт — однако пока мы оставим его, исходя из предположения, что в разных портах преобладали люди разного социального уровня или они размещались рядом в пределах одного класса — и соответственно имели схожие шансы выжить. \n",
    "    "
   ]
  },
  {
   "cell_type": "code",
   "execution_count": 10,
   "id": "896df697",
   "metadata": {},
   "outputs": [],
   "source": [
    "# удаляем избыточные признаки\n",
    "\n",
    "data = data.drop(columns=['Ticket','Name','Cabin'])"
   ]
  },
  {
   "cell_type": "code",
   "execution_count": 11,
   "id": "4a30adb3",
   "metadata": {},
   "outputs": [
    {
     "data": {
      "text/html": [
       "<div>\n",
       "<style scoped>\n",
       "    .dataframe tbody tr th:only-of-type {\n",
       "        vertical-align: middle;\n",
       "    }\n",
       "\n",
       "    .dataframe tbody tr th {\n",
       "        vertical-align: top;\n",
       "    }\n",
       "\n",
       "    .dataframe thead th {\n",
       "        text-align: right;\n",
       "    }\n",
       "</style>\n",
       "<table border=\"1\" class=\"dataframe\">\n",
       "  <thead>\n",
       "    <tr style=\"text-align: right;\">\n",
       "      <th></th>\n",
       "      <th>PassengerId</th>\n",
       "      <th>Survived</th>\n",
       "      <th>Pclass</th>\n",
       "      <th>Sex</th>\n",
       "      <th>Age</th>\n",
       "      <th>SibSp</th>\n",
       "      <th>Parch</th>\n",
       "      <th>Fare</th>\n",
       "      <th>Embarked</th>\n",
       "    </tr>\n",
       "  </thead>\n",
       "  <tbody>\n",
       "    <tr>\n",
       "      <th>0</th>\n",
       "      <td>1</td>\n",
       "      <td>0.0</td>\n",
       "      <td>3</td>\n",
       "      <td>male</td>\n",
       "      <td>22.0</td>\n",
       "      <td>1</td>\n",
       "      <td>0</td>\n",
       "      <td>7.2500</td>\n",
       "      <td>S</td>\n",
       "    </tr>\n",
       "    <tr>\n",
       "      <th>1</th>\n",
       "      <td>2</td>\n",
       "      <td>1.0</td>\n",
       "      <td>1</td>\n",
       "      <td>female</td>\n",
       "      <td>38.0</td>\n",
       "      <td>1</td>\n",
       "      <td>0</td>\n",
       "      <td>71.2833</td>\n",
       "      <td>C</td>\n",
       "    </tr>\n",
       "    <tr>\n",
       "      <th>2</th>\n",
       "      <td>3</td>\n",
       "      <td>1.0</td>\n",
       "      <td>3</td>\n",
       "      <td>female</td>\n",
       "      <td>26.0</td>\n",
       "      <td>0</td>\n",
       "      <td>0</td>\n",
       "      <td>7.9250</td>\n",
       "      <td>S</td>\n",
       "    </tr>\n",
       "    <tr>\n",
       "      <th>3</th>\n",
       "      <td>4</td>\n",
       "      <td>1.0</td>\n",
       "      <td>1</td>\n",
       "      <td>female</td>\n",
       "      <td>35.0</td>\n",
       "      <td>1</td>\n",
       "      <td>0</td>\n",
       "      <td>53.1000</td>\n",
       "      <td>S</td>\n",
       "    </tr>\n",
       "    <tr>\n",
       "      <th>4</th>\n",
       "      <td>5</td>\n",
       "      <td>0.0</td>\n",
       "      <td>3</td>\n",
       "      <td>male</td>\n",
       "      <td>35.0</td>\n",
       "      <td>0</td>\n",
       "      <td>0</td>\n",
       "      <td>8.0500</td>\n",
       "      <td>S</td>\n",
       "    </tr>\n",
       "  </tbody>\n",
       "</table>\n",
       "</div>"
      ],
      "text/plain": [
       "   PassengerId  Survived  Pclass     Sex   Age  SibSp  Parch     Fare Embarked\n",
       "0            1       0.0       3    male  22.0      1      0   7.2500        S\n",
       "1            2       1.0       1  female  38.0      1      0  71.2833        C\n",
       "2            3       1.0       3  female  26.0      0      0   7.9250        S\n",
       "3            4       1.0       1  female  35.0      1      0  53.1000        S\n",
       "4            5       0.0       3    male  35.0      0      0   8.0500        S"
      ]
     },
     "execution_count": 11,
     "metadata": {},
     "output_type": "execute_result"
    }
   ],
   "source": [
    "data.head()"
   ]
  },
  {
   "cell_type": "markdown",
   "id": "c41f34f1",
   "metadata": {},
   "source": [
    "### Работа с пропущенными значениями"
   ]
  },
  {
   "cell_type": "markdown",
   "id": "30a09d52",
   "metadata": {},
   "source": [
    "В признаке `Fare` имеется единственное пропущенное значение — потеря одного объекта вряд ли существенно повлияет на точность модели, но тем не менее мы заполним пропуск медианным значением."
   ]
  },
  {
   "cell_type": "code",
   "execution_count": 12,
   "id": "fd1d9a92",
   "metadata": {},
   "outputs": [],
   "source": [
    "data['Fare'] = data['Fare'].fillna(data['Fare'].median())"
   ]
  },
  {
   "cell_type": "markdown",
   "id": "d5c5e25d",
   "metadata": {},
   "source": [
    "Прежде чем заполнить пропуски в `Embarked`, проверим влияет ли порт посадки на шанс выжить в кораблекрушении"
   ]
  },
  {
   "cell_type": "code",
   "execution_count": 13,
   "id": "53de9c91",
   "metadata": {},
   "outputs": [
    {
     "data": {
      "image/png": "[encoded data removed]",
      "text/plain": [
       "<Figure size 576x360 with 1 Axes>"
      ]
     },
     "metadata": {
      "needs_background": "light"
     },
     "output_type": "display_data"
    }
   ],
   "source": [
    "fig = plt.figure(figsize = (8,5))\n",
    "chart = sns.barplot(x=\"Embarked\",y=\"Survived\",data = data, palette = \"RdYlBu\")\n",
    "chart.set_title('Доля выживших, среди севших в разных портах')\n",
    "plt.show()"
   ]
  },
  {
   "cell_type": "markdown",
   "id": "c2154e77",
   "metadata": {},
   "source": [
    "У поднявшихся на борт в Cherbourg доля выживших сильно выше - более 50%, а вот среди пассажиров из Southampton'a их чуть больше 30%."
   ]
  },
  {
   "cell_type": "code",
   "execution_count": 14,
   "id": "2542434c",
   "metadata": {},
   "outputs": [
    {
     "data": {
      "text/html": [
       "<div>\n",
       "<style scoped>\n",
       "    .dataframe tbody tr th:only-of-type {\n",
       "        vertical-align: middle;\n",
       "    }\n",
       "\n",
       "    .dataframe tbody tr th {\n",
       "        vertical-align: top;\n",
       "    }\n",
       "\n",
       "    .dataframe thead th {\n",
       "        text-align: right;\n",
       "    }\n",
       "</style>\n",
       "<table border=\"1\" class=\"dataframe\">\n",
       "  <thead>\n",
       "    <tr style=\"text-align: right;\">\n",
       "      <th></th>\n",
       "      <th>PassengerId</th>\n",
       "      <th>Survived</th>\n",
       "      <th>Pclass</th>\n",
       "      <th>Sex</th>\n",
       "      <th>Age</th>\n",
       "      <th>SibSp</th>\n",
       "      <th>Parch</th>\n",
       "      <th>Fare</th>\n",
       "      <th>Embarked</th>\n",
       "    </tr>\n",
       "  </thead>\n",
       "  <tbody>\n",
       "    <tr>\n",
       "      <th>61</th>\n",
       "      <td>62</td>\n",
       "      <td>1.0</td>\n",
       "      <td>1</td>\n",
       "      <td>female</td>\n",
       "      <td>38.0</td>\n",
       "      <td>0</td>\n",
       "      <td>0</td>\n",
       "      <td>80.0</td>\n",
       "      <td>NaN</td>\n",
       "    </tr>\n",
       "    <tr>\n",
       "      <th>829</th>\n",
       "      <td>830</td>\n",
       "      <td>1.0</td>\n",
       "      <td>1</td>\n",
       "      <td>female</td>\n",
       "      <td>62.0</td>\n",
       "      <td>0</td>\n",
       "      <td>0</td>\n",
       "      <td>80.0</td>\n",
       "      <td>NaN</td>\n",
       "    </tr>\n",
       "  </tbody>\n",
       "</table>\n",
       "</div>"
      ],
      "text/plain": [
       "     PassengerId  Survived  Pclass     Sex   Age  SibSp  Parch  Fare Embarked\n",
       "61            62       1.0       1  female  38.0      0      0  80.0      NaN\n",
       "829          830       1.0       1  female  62.0      0      0  80.0      NaN"
      ]
     },
     "execution_count": 14,
     "metadata": {},
     "output_type": "execute_result"
    }
   ],
   "source": [
    "data[data['Embarked'].isna()]"
   ]
  },
  {
   "cell_type": "markdown",
   "id": "a3279c78",
   "metadata": {},
   "source": [
    "У двух женщин с неизвестным портом посадки на борту отсутствовали родственники и восстановить пропуски проблематично. Отбросим эти два объекта (они относятся к тренировочной выборке)."
   ]
  },
  {
   "cell_type": "code",
   "execution_count": 15,
   "id": "ff97c44b",
   "metadata": {},
   "outputs": [],
   "source": [
    "data = data[~data['Embarked'].isna()]"
   ]
  },
  {
   "cell_type": "markdown",
   "id": "ea6ab813",
   "metadata": {},
   "source": [
    "У нас остается значительное число пропусков в признаке `Age` — восстановить значения кажется затруднительным: заполним медианным значением, чтобы не терять объекты."
   ]
  },
  {
   "cell_type": "code",
   "execution_count": 16,
   "id": "f600e299",
   "metadata": {},
   "outputs": [],
   "source": [
    "data['Age'] = data['Age'].fillna(data['Age'].median())"
   ]
  },
  {
   "cell_type": "markdown",
   "id": "05865785",
   "metadata": {},
   "source": [
    "### Категоризация по членам семьи"
   ]
  },
  {
   "cell_type": "markdown",
   "id": "b475345f",
   "metadata": {},
   "source": [
    "Сейчас два признака хранят информацию о членах семьи на борту — заменим их на один агрегированный признак."
   ]
  },
  {
   "cell_type": "code",
   "execution_count": 17,
   "id": "6a46a07c",
   "metadata": {},
   "outputs": [
    {
     "data": {
      "text/plain": [
       "0     788\n",
       "1     235\n",
       "2     159\n",
       "3      43\n",
       "5      25\n",
       "4      22\n",
       "6      16\n",
       "10     11\n",
       "7       8\n",
       "Name: Family, dtype: int64"
      ]
     },
     "execution_count": 17,
     "metadata": {},
     "output_type": "execute_result"
    }
   ],
   "source": [
    "data['Family'] = data['SibSp'] + data['Parch']          # складываем значения в столбцах\n",
    "data.drop(columns=['SibSp', 'Parch'], inplace=True)     # отбрасываем излишние признаки\n",
    "\n",
    "data['Family'].value_counts()                      # смотрим на распределение по признаку"
   ]
  },
  {
   "cell_type": "markdown",
   "id": "607a9574",
   "metadata": {},
   "source": [
    "Большинство путешествовали в одиночку, а пассажиров с большим количесвтом родственников на борту вообще почти не было — уменьшим количество групп, установив для всех у кого более 5 родственников на борту значение 5."
   ]
  },
  {
   "cell_type": "code",
   "execution_count": 18,
   "id": "abcaf336",
   "metadata": {},
   "outputs": [
    {
     "data": {
      "text/plain": [
       "0    788\n",
       "1    235\n",
       "2    159\n",
       "5     60\n",
       "3     43\n",
       "4     22\n",
       "Name: Family, dtype: int64"
      ]
     },
     "execution_count": 18,
     "metadata": {},
     "output_type": "execute_result"
    }
   ],
   "source": [
    "data.loc[data.Family>4, 'Family'] = 5\n",
    "data.Family.value_counts()"
   ]
  },
  {
   "cell_type": "code",
   "execution_count": 19,
   "id": "e5b1b4ae",
   "metadata": {},
   "outputs": [
    {
     "data": {
      "image/png": "[encoded data removed]",
      "text/plain": [
       "<Figure size 576x360 with 1 Axes>"
      ]
     },
     "metadata": {
      "needs_background": "light"
     },
     "output_type": "display_data"
    }
   ],
   "source": [
    "fig = plt.figure(figsize = (8,5))\n",
    "chart = sns.barplot(x=\"Family\",y=\"Survived\",data = data, palette = \"RdYlBu\")\n",
    "chart.set_title('Доля выживших в зависимости от количества членов семьи на борту')\n",
    "plt.show()"
   ]
  },
  {
   "cell_type": "markdown",
   "id": "a7a55b6a",
   "metadata": {},
   "source": [
    "Интересная картинка — семья небольшого размера увеливала шансы выжить (вот она помощь и взаимовыручка), а вот большая — существенно их снижала"
   ]
  },
  {
   "cell_type": "code",
   "execution_count": 20,
   "id": "6a667933",
   "metadata": {},
   "outputs": [
    {
     "name": "stdout",
     "output_type": "stream",
     "text": [
      "<class 'pandas.core.frame.DataFrame'>\n",
      "Int64Index: 1307 entries, 0 to 417\n",
      "Data columns (total 8 columns):\n",
      " #   Column       Non-Null Count  Dtype  \n",
      "---  ------       --------------  -----  \n",
      " 0   PassengerId  1307 non-null   int64  \n",
      " 1   Survived     889 non-null    float64\n",
      " 2   Pclass       1307 non-null   int64  \n",
      " 3   Sex          1307 non-null   object \n",
      " 4   Age          1307 non-null   float64\n",
      " 5   Fare         1307 non-null   float64\n",
      " 6   Embarked     1307 non-null   object \n",
      " 7   Family       1307 non-null   int64  \n",
      "dtypes: float64(3), int64(3), object(2)\n",
      "memory usage: 124.2+ KB\n"
     ]
    }
   ],
   "source": [
    "data.info() #датасет после преобразований"
   ]
  },
  {
   "cell_type": "markdown",
   "id": "1c481ee0",
   "metadata": {},
   "source": [
    "### Обратное разделение датасета"
   ]
  },
  {
   "cell_type": "markdown",
   "id": "f4ff6322",
   "metadata": {},
   "source": [
    "После того, как мы произвели предобработку данных, датасет надо разделить обратно на тренировачную и тестовую выборки."
   ]
  },
  {
   "cell_type": "code",
   "execution_count": 21,
   "id": "441e94a8",
   "metadata": {},
   "outputs": [],
   "source": [
    "train = data[data.PassengerId.isin(train.PassengerId)]\n",
    "test = data[data.PassengerId.isin(test.PassengerId)].drop(columns='Survived', axis=1)\n"
   ]
  },
  {
   "cell_type": "code",
   "execution_count": 22,
   "id": "f9f3d5f7",
   "metadata": {},
   "outputs": [],
   "source": [
    "#train = data[~data['Survived'].isna()]"
   ]
  },
  {
   "cell_type": "code",
   "execution_count": 23,
   "id": "fd92c2a8",
   "metadata": {},
   "outputs": [],
   "source": [
    "#test = data[data['Survived'].isna()].drop(columns=['Survived'])"
   ]
  },
  {
   "cell_type": "markdown",
   "id": "6e5f88b2",
   "metadata": {},
   "source": [
    "## Обучение модели"
   ]
  },
  {
   "cell_type": "markdown",
   "id": "5303a560",
   "metadata": {},
   "source": [
    "### Определение категориальных признаков"
   ]
  },
  {
   "cell_type": "markdown",
   "id": "8b9db758",
   "metadata": {},
   "source": [
    "CatboostRegressor умеет напрямую работать с категориальными признаками — их список надо передать как параметр модели."
   ]
  },
  {
   "cell_type": "code",
   "execution_count": 24,
   "id": "555d1d29",
   "metadata": {},
   "outputs": [],
   "source": [
    "c_features = ['Sex','Embarked']"
   ]
  },
  {
   "cell_type": "markdown",
   "id": "2149889a",
   "metadata": {},
   "source": [
    "### Разбиение обучающей выборки"
   ]
  },
  {
   "cell_type": "code",
   "execution_count": 25,
   "id": "f1b1e3b4",
   "metadata": {},
   "outputs": [],
   "source": [
    "features_train = train.drop(columns=['Survived'])\n",
    "target_train   = train['Survived'].astype(int)"
   ]
  },
  {
   "cell_type": "markdown",
   "id": "223e90c1",
   "metadata": {},
   "source": [
    "### Обучение модели CatBoost"
   ]
  },
  {
   "cell_type": "code",
   "execution_count": 26,
   "id": "a3c4bff4",
   "metadata": {},
   "outputs": [],
   "source": [
    "#classes = np.unique(target_train)\n",
    "#weights = compute_class_weight(class_weight='balanced', classes=classes, y=target_train)\n",
    "#class_weights = dict(zip(classes, weights))"
   ]
  },
  {
   "cell_type": "code",
   "execution_count": 27,
   "id": "d9416e33",
   "metadata": {},
   "outputs": [
    {
     "data": {
      "application/vnd.jupyter.widget-view+json": {
       "model_id": "055f7a14642c4e749a78327cf235c88b",
       "version_major": 2,
       "version_minor": 0
      },
      "text/plain": [
       "MetricVisualizer(layout=Layout(align_self='stretch', height='500px'))"
      ]
     },
     "metadata": {},
     "output_type": "display_data"
    },
    {
     "name": "stdout",
     "output_type": "stream",
     "text": [
      "0:\tlearn: 0.6865461\ttest: 0.6870504\tbest: 0.6870504 (0)\ttotal: 460ms\tremaining: 7m 39s\n",
      "100:\tlearn: 0.3927190\ttest: 0.4636862\tbest: 0.4636862 (100)\ttotal: 16.7s\tremaining: 2m 28s\n",
      "200:\tlearn: 0.2918691\ttest: 0.4377338\tbest: 0.4374429 (198)\ttotal: 55.8s\tremaining: 3m 41s\n",
      "300:\tlearn: 0.2309905\ttest: 0.4370012\tbest: 0.4344279 (251)\ttotal: 1m 42s\tremaining: 3m 58s\n",
      "400:\tlearn: 0.1908150\ttest: 0.4417479\tbest: 0.4344279 (251)\ttotal: 2m 29s\tremaining: 3m 43s\n",
      "500:\tlearn: 0.1634328\ttest: 0.4456061\tbest: 0.4344279 (251)\ttotal: 3m 11s\tremaining: 3m 10s\n",
      "600:\tlearn: 0.1402551\ttest: 0.4478284\tbest: 0.4344279 (251)\ttotal: 3m 56s\tremaining: 2m 36s\n",
      "700:\tlearn: 0.1150429\ttest: 0.4519777\tbest: 0.4344279 (251)\ttotal: 5m 1s\tremaining: 2m 8s\n",
      "800:\tlearn: 0.0947325\ttest: 0.4587327\tbest: 0.4344279 (251)\ttotal: 6m 13s\tremaining: 1m 32s\n",
      "900:\tlearn: 0.0787864\ttest: 0.4656041\tbest: 0.4344279 (251)\ttotal: 7m 31s\tremaining: 49.6s\n",
      "999:\tlearn: 0.0656898\ttest: 0.4759201\tbest: 0.4344279 (251)\ttotal: 9m 2s\tremaining: 0us\n",
      "\n",
      "bestTest = 0.434427884\n",
      "bestIteration = 251\n",
      "\n",
      "0:\tloss: 0.4344279\tbest: 0.4344279 (0)\ttotal: 9m 3s\tremaining: 18m 6s\n",
      "0:\tlearn: 0.6736360\ttest: 0.6751224\tbest: 0.6751224 (0)\ttotal: 17.3ms\tremaining: 17.3s\n",
      "100:\tlearn: 0.2243502\ttest: 0.4394000\tbest: 0.4394000 (100)\ttotal: 33.6s\tremaining: 4m 59s\n",
      "200:\tlearn: 0.1329040\ttest: 0.4528366\tbest: 0.4381986 (117)\ttotal: 1m 20s\tremaining: 5m 21s\n",
      "300:\tlearn: 0.0741617\ttest: 0.4758579\tbest: 0.4381986 (117)\ttotal: 2m 36s\tremaining: 6m 3s\n",
      "400:\tlearn: 0.0451081\ttest: 0.5029127\tbest: 0.4381986 (117)\ttotal: 4m 7s\tremaining: 6m 9s\n",
      "500:\tlearn: 0.0319972\ttest: 0.5221683\tbest: 0.4381986 (117)\ttotal: 5m 40s\tremaining: 5m 39s\n",
      "600:\tlearn: 0.0248834\ttest: 0.5414177\tbest: 0.4381986 (117)\ttotal: 7m 9s\tremaining: 4m 44s\n",
      "700:\tlearn: 0.0199412\ttest: 0.5594151\tbest: 0.4381986 (117)\ttotal: 8m 40s\tremaining: 3m 42s\n",
      "800:\tlearn: 0.0165801\ttest: 0.5724175\tbest: 0.4381986 (117)\ttotal: 10m 8s\tremaining: 2m 31s\n",
      "900:\tlearn: 0.0140870\ttest: 0.5832032\tbest: 0.4381986 (117)\ttotal: 11m 42s\tremaining: 1m 17s\n",
      "999:\tlearn: 0.0122017\ttest: 0.5937336\tbest: 0.4381986 (117)\ttotal: 13m 15s\tremaining: 0us\n",
      "\n",
      "bestTest = 0.4381985716\n",
      "bestIteration = 117\n",
      "\n",
      "1:\tloss: 0.4381986\tbest: 0.4344279 (0)\ttotal: 22m 18s\tremaining: 11m 9s\n",
      "0:\tlearn: 0.6315056\ttest: 0.6361506\tbest: 0.6361506 (0)\ttotal: 21.3ms\tremaining: 21.3s\n",
      "100:\tlearn: 0.0651867\ttest: 0.4738744\tbest: 0.4205678 (43)\ttotal: 52.9s\tremaining: 7m 50s\n",
      "200:\tlearn: 0.0224029\ttest: 0.5434259\tbest: 0.4205678 (43)\ttotal: 2m 21s\tremaining: 9m 21s\n",
      "300:\tlearn: 0.0128560\ttest: 0.5849483\tbest: 0.4205678 (43)\ttotal: 3m 49s\tremaining: 8m 53s\n",
      "400:\tlearn: 0.0087640\ttest: 0.6153611\tbest: 0.4205678 (43)\ttotal: 5m 42s\tremaining: 8m 31s\n",
      "500:\tlearn: 0.0065429\ttest: 0.6373594\tbest: 0.4205678 (43)\ttotal: 7m 37s\tremaining: 7m 35s\n",
      "600:\tlearn: 0.0052500\ttest: 0.6556191\tbest: 0.4205678 (43)\ttotal: 9m 28s\tremaining: 6m 17s\n",
      "700:\tlearn: 0.0043497\ttest: 0.6688059\tbest: 0.4205678 (43)\ttotal: 11m 22s\tremaining: 4m 51s\n",
      "800:\tlearn: 0.0037209\ttest: 0.6816396\tbest: 0.4205678 (43)\ttotal: 13m 25s\tremaining: 3m 20s\n",
      "900:\tlearn: 0.0032476\ttest: 0.6931877\tbest: 0.4205678 (43)\ttotal: 15m 28s\tremaining: 1m 42s\n",
      "999:\tlearn: 0.0028844\ttest: 0.7039634\tbest: 0.4205678 (43)\ttotal: 17m 24s\tremaining: 0us\n",
      "\n",
      "bestTest = 0.4205678372\n",
      "bestIteration = 43\n",
      "\n",
      "2:\tloss: 0.4205678\tbest: 0.4205678 (2)\ttotal: 39m 43s\tremaining: 0us\n",
      "Estimating final quality...\n",
      "Training on fold [0/3]\n",
      "0:\tlearn: 0.6339592\ttest: 0.6391066\tbest: 0.6391066 (0)\ttotal: 11.5ms\tremaining: 11.5s\n",
      "100:\tlearn: 0.0533505\ttest: 0.5273943\tbest: 0.4485690 (17)\ttotal: 1m 9s\tremaining: 10m 14s\n",
      "200:\tlearn: 0.0181379\ttest: 0.6058794\tbest: 0.4485690 (17)\ttotal: 3m 4s\tremaining: 12m 14s\n",
      "300:\tlearn: 0.0104579\ttest: 0.6569426\tbest: 0.4485690 (17)\ttotal: 4m 49s\tremaining: 11m 11s\n",
      "400:\tlearn: 0.0073106\ttest: 0.6912110\tbest: 0.4485690 (17)\ttotal: 6m 25s\tremaining: 9m 36s\n",
      "500:\tlearn: 0.0055877\ttest: 0.7172020\tbest: 0.4485690 (17)\ttotal: 8m 1s\tremaining: 7m 59s\n",
      "600:\tlearn: 0.0045291\ttest: 0.7370917\tbest: 0.4485690 (17)\ttotal: 9m 36s\tremaining: 6m 22s\n",
      "700:\tlearn: 0.0038055\ttest: 0.7552212\tbest: 0.4485690 (17)\ttotal: 11m 7s\tremaining: 4m 44s\n",
      "800:\tlearn: 0.0032793\ttest: 0.7695453\tbest: 0.4485690 (17)\ttotal: 12m 40s\tremaining: 3m 9s\n",
      "900:\tlearn: 0.0028862\ttest: 0.7832175\tbest: 0.4485690 (17)\ttotal: 14m 15s\tremaining: 1m 34s\n",
      "999:\tlearn: 0.0025687\ttest: 0.7944724\tbest: 0.4485690 (17)\ttotal: 15m 49s\tremaining: 0us\n",
      "\n",
      "bestTest = 0.4485689531\n",
      "bestIteration = 17\n",
      "\n",
      "Training on fold [1/3]\n",
      "0:\tlearn: 0.6384384\ttest: 0.6362339\tbest: 0.6362339 (0)\ttotal: 6.66ms\tremaining: 6.65s\n",
      "100:\tlearn: 0.0625314\ttest: 0.4256047\tbest: 0.3983976 (26)\ttotal: 55.4s\tremaining: 8m 13s\n",
      "200:\tlearn: 0.0206310\ttest: 0.4588196\tbest: 0.3983976 (26)\ttotal: 2m 31s\tremaining: 10m 3s\n",
      "300:\tlearn: 0.0122071\ttest: 0.4801910\tbest: 0.3983976 (26)\ttotal: 4m 7s\tremaining: 9m 35s\n",
      "400:\tlearn: 0.0085391\ttest: 0.4960620\tbest: 0.3983976 (26)\ttotal: 5m 50s\tremaining: 8m 43s\n",
      "500:\tlearn: 0.0065195\ttest: 0.5088328\tbest: 0.3983976 (26)\ttotal: 7m 37s\tremaining: 7m 35s\n",
      "600:\tlearn: 0.0053055\ttest: 0.5195751\tbest: 0.3983976 (26)\ttotal: 9m 17s\tremaining: 6m 9s\n",
      "700:\tlearn: 0.0044359\ttest: 0.5284003\tbest: 0.3983976 (26)\ttotal: 11m 1s\tremaining: 4m 42s\n",
      "800:\tlearn: 0.0038145\ttest: 0.5359252\tbest: 0.3983976 (26)\ttotal: 12m 42s\tremaining: 3m 9s\n",
      "900:\tlearn: 0.0033474\ttest: 0.5425070\tbest: 0.3983976 (26)\ttotal: 14m 31s\tremaining: 1m 35s\n",
      "999:\tlearn: 0.0029804\ttest: 0.5487703\tbest: 0.3983976 (26)\ttotal: 16m 10s\tremaining: 0us\n",
      "\n",
      "bestTest = 0.3983975725\n",
      "bestIteration = 26\n",
      "\n",
      "Training on fold [2/3]\n",
      "0:\tlearn: 0.6541727\ttest: 0.6526350\tbest: 0.6526350 (0)\ttotal: 7.75ms\tremaining: 7.74s\n",
      "100:\tlearn: 0.0551503\ttest: 0.5031078\tbest: 0.4399146 (25)\ttotal: 59.3s\tremaining: 8m 48s\n",
      "200:\tlearn: 0.0189817\ttest: 0.5740644\tbest: 0.4399146 (25)\ttotal: 2m 31s\tremaining: 10m 3s\n",
      "300:\tlearn: 0.0110046\ttest: 0.6162015\tbest: 0.4399146 (25)\ttotal: 4m 4s\tremaining: 9m 28s\n",
      "400:\tlearn: 0.0076564\ttest: 0.6440132\tbest: 0.4399146 (25)\ttotal: 5m 38s\tremaining: 8m 25s\n",
      "500:\tlearn: 0.0058741\ttest: 0.6673694\tbest: 0.4399146 (25)\ttotal: 7m 10s\tremaining: 7m 8s\n",
      "600:\tlearn: 0.0047310\ttest: 0.6859374\tbest: 0.4399146 (25)\ttotal: 8m 45s\tremaining: 5m 48s\n",
      "700:\tlearn: 0.0039448\ttest: 0.7023708\tbest: 0.4399146 (25)\ttotal: 10m 19s\tremaining: 4m 24s\n",
      "800:\tlearn: 0.0033952\ttest: 0.7159420\tbest: 0.4399146 (25)\ttotal: 12m 7s\tremaining: 3m\n",
      "900:\tlearn: 0.0029754\ttest: 0.7278282\tbest: 0.4399146 (25)\ttotal: 13m 45s\tremaining: 1m 30s\n",
      "999:\tlearn: 0.0026509\ttest: 0.7380029\tbest: 0.4399146 (25)\ttotal: 15m 24s\tremaining: 0us\n",
      "\n",
      "bestTest = 0.4399146015\n",
      "bestIteration = 25\n",
      "\n"
     ]
    }
   ],
   "source": [
    "model = CatBoostClassifier(cat_features=c_features, verbose = 100, random_state = 1008)\n",
    "\n",
    "grid = {'learning_rate': [0.01,0.03, 0.1],\n",
    "        'max_depth': [16]}\n",
    "\n",
    "grid_search_result = model.grid_search(grid, \n",
    "                                       X=features_train, \n",
    "                                       y=target_train,\n",
    "                                       plot=True)"
   ]
  },
  {
   "cell_type": "code",
   "execution_count": 29,
   "id": "ddbf73aa",
   "metadata": {},
   "outputs": [],
   "source": [
    "model = CatBoostClassifier(cat_features=c_features,\n",
    "                           learning_rate = 0.1,\n",
    "                           max_depth = 16,\n",
    "                           verbose = 100,\n",
    "                           random_state = 1008)"
   ]
  },
  {
   "cell_type": "code",
   "execution_count": 30,
   "id": "4e579a6a",
   "metadata": {},
   "outputs": [
    {
     "name": "stdout",
     "output_type": "stream",
     "text": [
      "0:\tlearn: 0.6282177\ttotal: 27.8ms\tremaining: 27.8s\n",
      "100:\tlearn: 0.0915233\ttotal: 45.4s\tremaining: 6m 44s\n",
      "200:\tlearn: 0.0312110\ttotal: 2m 16s\tremaining: 9m 3s\n",
      "300:\tlearn: 0.0153793\ttotal: 3m 54s\tremaining: 9m 3s\n",
      "400:\tlearn: 0.0110494\ttotal: 5m 26s\tremaining: 8m 8s\n",
      "500:\tlearn: 0.0085173\ttotal: 6m 56s\tremaining: 6m 54s\n",
      "600:\tlearn: 0.0068402\ttotal: 8m 27s\tremaining: 5m 36s\n",
      "700:\tlearn: 0.0055689\ttotal: 10m 7s\tremaining: 4m 19s\n",
      "800:\tlearn: 0.0045670\ttotal: 12m 1s\tremaining: 2m 59s\n",
      "900:\tlearn: 0.0038854\ttotal: 13m 53s\tremaining: 1m 31s\n",
      "999:\tlearn: 0.0035439\ttotal: 15m 30s\tremaining: 0us\n"
     ]
    },
    {
     "data": {
      "text/plain": [
       "<catboost.core.CatBoostClassifier at 0x27812099a30>"
      ]
     },
     "execution_count": 30,
     "metadata": {},
     "output_type": "execute_result"
    }
   ],
   "source": [
    "model.fit(features_train, target_train)"
   ]
  },
  {
   "cell_type": "markdown",
   "id": "746258fc",
   "metadata": {},
   "source": [
    "### Предсказания модели и сабмит"
   ]
  },
  {
   "cell_type": "code",
   "execution_count": 31,
   "id": "b6475f34",
   "metadata": {},
   "outputs": [],
   "source": [
    "predictions = model.predict(test)"
   ]
  },
  {
   "cell_type": "code",
   "execution_count": 32,
   "id": "e645f23c",
   "metadata": {},
   "outputs": [],
   "source": [
    "test = pd.read_csv('test.csv')\n",
    "output_1 = pd.DataFrame({'PassengerId': test.PassengerId, 'Survived': predictions})\n",
    "output_1.to_csv('submission.csv', index=False)"
   ]
  },
  {
   "cell_type": "markdown",
   "id": "fdfb4699",
   "metadata": {},
   "source": [
    "Сабмит дает точность 0,74 — такой результат ниже, чем у константной модели, предсказывающей, что все женщины (и девушки) выживут.\n",
    "\n",
    "В следующей части работы мы попробуем применить ансамбль моделей, чтобы увелить точность предсказаний. Сохраним преобработанные данные для продолжения в следующей части."
   ]
  },
  {
   "cell_type": "code",
   "execution_count": 33,
   "id": "754bd7ae",
   "metadata": {},
   "outputs": [],
   "source": [
    "Survived = pd.Series(predictions, name='Survived')\n",
    "Survived = Survived.astype(int)\n",
    "data.to_csv('data.csv')\n",
    "\n"
   ]
  }
 ],
 "metadata": {
  "kernelspec": {
   "display_name": "Python 3",
   "language": "python",
   "name": "python3"
  },
  "language_info": {
   "codemirror_mode": {
    "name": "ipython",
    "version": 3
   },
   "file_extension": ".py",
   "mimetype": "text/x-python",
   "name": "python",
   "nbconvert_exporter": "python",
   "pygments_lexer": "ipython3",
   "version": "3.8.8"
  },
  "toc": {
   "base_numbering": 1,
   "nav_menu": {},
   "number_sections": true,
   "sideBar": true,
   "skip_h1_title": true,
   "title_cell": "Table of Contents",
   "title_sidebar": "Contents",
   "toc_cell": false,
   "toc_position": {},
   "toc_section_display": true,
   "toc_window_display": false
  }
 },
 "nbformat": 4,
 "nbformat_minor": 5
}
